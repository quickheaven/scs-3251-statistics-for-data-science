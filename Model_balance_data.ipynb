{
 "cells": [
  {
   "cell_type": "code",
   "execution_count": 15,
   "id": "6b3d2e99-f314-4644-80a7-5a9e29e1f399",
   "metadata": {},
   "outputs": [],
   "source": [
    "import numpy as np\n",
    "import pandas as pd"
   ]
  },
  {
   "cell_type": "code",
   "execution_count": 16,
   "id": "f55b07af-43cf-4361-99fd-610938fa209e",
   "metadata": {},
   "outputs": [],
   "source": [
    "data = pd.read_csv('./datasets/spambase_balance.csv')"
   ]
  },
  {
   "cell_type": "code",
   "execution_count": 17,
   "id": "7c55d440-5e0f-4e83-85c8-eeb027a29749",
   "metadata": {},
   "outputs": [
    {
     "data": {
      "text/plain": [
       "array([1, 1, 1, ..., 0, 0, 0], dtype=int64)"
      ]
     },
     "execution_count": 17,
     "metadata": {},
     "output_type": "execute_result"
    }
   ],
   "source": [
    "data.iloc[:,0].values"
   ]
  },
  {
   "cell_type": "code",
   "execution_count": 18,
   "id": "b2093293-0155-4430-a4b6-736435c2fdd2",
   "metadata": {},
   "outputs": [],
   "source": [
    "from sklearn.model_selection import train_test_split\n",
    "\n",
    "x_train, x_test, y_train, y_test = train_test_split(data.iloc[:,1:], data.iloc[:,0].values, test_size = 0.2)\n"
   ]
  },
  {
   "cell_type": "code",
   "execution_count": 19,
   "id": "01c23ef7-c486-4758-b14a-ee621622b657",
   "metadata": {},
   "outputs": [],
   "source": [
    "from sklearn.linear_model import LogisticRegression\n",
    "from sklearn.metrics import accuracy_score\n",
    "list_scores=[]\n",
    "list_models=[]\n",
    "lr=LogisticRegression(max_iter=10000)\n",
    "lr.fit(x_train,y_train)\n",
    "\n",
    "\n",
    "pred_1=lr.predict(x_test)\n",
    "score_1=accuracy_score(y_test,pred_1)\n",
    "list_scores.append(score_1)\n",
    "list_models.append('logisticRegression')"
   ]
  },
  {
   "cell_type": "code",
   "execution_count": 20,
   "id": "a5dd3a6b-40f6-47d7-997a-ea48e0370358",
   "metadata": {},
   "outputs": [
    {
     "data": {
      "text/plain": [
       "[0.9201101928374655]"
      ]
     },
     "execution_count": 20,
     "metadata": {},
     "output_type": "execute_result"
    }
   ],
   "source": [
    "list_scores"
   ]
  },
  {
   "cell_type": "code",
   "execution_count": 21,
   "id": "0a27e83e-a7b9-4cc3-9225-f0c3c8bd4d70",
   "metadata": {},
   "outputs": [
    {
     "data": {
      "text/plain": [
       "(3626, 58)"
      ]
     },
     "execution_count": 21,
     "metadata": {},
     "output_type": "execute_result"
    }
   ],
   "source": [
    "data.shape"
   ]
  },
  {
   "cell_type": "code",
   "execution_count": null,
   "id": "bdd2c6eb-75ea-4f6a-9848-0f33af688457",
   "metadata": {},
   "outputs": [],
   "source": []
  }
 ],
 "metadata": {
  "kernelspec": {
   "display_name": "Python 3",
   "language": "python",
   "name": "python3"
  },
  "language_info": {
   "codemirror_mode": {
    "name": "ipython",
    "version": 3
   },
   "file_extension": ".py",
   "mimetype": "text/x-python",
   "name": "python",
   "nbconvert_exporter": "python",
   "pygments_lexer": "ipython3",
   "version": "3.8.8"
  }
 },
 "nbformat": 4,
 "nbformat_minor": 5
}
