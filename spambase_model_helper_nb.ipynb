{
 "cells": [
  {
   "cell_type": "markdown",
   "id": "5a4469f7-2d5d-4a05-a791-38540c269dc5",
   "metadata": {},
   "source": [
    "# Spambase Model Helper"
   ]
  },
  {
   "cell_type": "code",
   "execution_count": 1,
   "id": "9e0a1513-2989-4412-b4cf-ed1a83bbec45",
   "metadata": {},
   "outputs": [
    {
     "name": "stdout",
     "output_type": "stream",
     "text": [
      "Defaulting to user installation because normal site-packages is not writeable\n",
      "Requirement already satisfied: ipynb in c:\\users\\acristobal\\appdata\\roaming\\python\\python311\\site-packages (0.5.1)\n",
      "Defaulting to user installation because normal site-packages is not writeable\n",
      "Requirement already satisfied: nbimporter in c:\\users\\acristobal\\appdata\\roaming\\python\\python311\\site-packages (0.3.4)\n"
     ]
    }
   ],
   "source": [
    "# Importing an ipynb file from another ipynb file\n",
    "!pip install ipynb\n",
    "\n",
    "# Importing functions from another jupyter notebook\n",
    "!pip install nbimporter"
   ]
  },
  {
   "cell_type": "code",
   "execution_count": 2,
   "id": "4f80bba3-281c-4c70-b2b0-e1ea80d25f80",
   "metadata": {},
   "outputs": [],
   "source": [
    "import numpy as np\n",
    "import pandas as pd\n",
    "import matplotlib\n",
    "import matplotlib.pyplot as plt\n",
    "import seaborn as sns\n",
    "%matplotlib inline\n",
    "\n",
    "import warnings\n",
    "warnings.filterwarnings('ignore')\n",
    "\n",
    "import statsmodels.api as sm\n",
    "\n",
    "from sklearn.linear_model import LogisticRegression\n",
    "from sklearn.model_selection import train_test_split\n",
    "from sklearn.metrics import confusion_matrix\n",
    "from sklearn.metrics import classification_report\n",
    "from sklearn.metrics import accuracy_score\n",
    "from sklearn.metrics import precision_score\n",
    "from sklearn.metrics import recall_score\n",
    "from sklearn.metrics import f1_score\n",
    "\n",
    "import nbimporter\n",
    "import spambase_dataset_loader_nb\n",
    "\n",
    "class SpambaseModelHelper():\n",
    "    \n",
    "    def __init__(self):\n",
    "        print('init Model Helper notebook')\n",
    "    \n",
    "    def run_statsmodels_logit(self, data, feature_selection_type=None, verbose=False):        \n",
    "        '''\n",
    "        \n",
    "        This function runs logistic regression based on stats models.\n",
    "        \n",
    "        (DataFrame, boolean, boolean) --> DataFrame\n",
    "        \n",
    "        Parameters\n",
    "        ----------\n",
    "        data: Dataframe that will be used in running the model.\n",
    "        \n",
    "        feature_selection_type: Type of Feature Selection to use. Available options are stepwise_back, pearson and chi2.\n",
    "        verbose: True to display statsmodels summary, confusion matrix and its heatmap otherwise false.\n",
    "        \n",
    "        Returns\n",
    "        ----------        \n",
    "        DataFrame : The DataFrame of statsmodels scores.        \n",
    "        '''\n",
    "        X = data.iloc[:,1:].values\n",
    "        y = data.iloc[:,0].values\n",
    "        \n",
    "        if feature_selection_type != None:\n",
    "            \n",
    "            loader = spambase_dataset_loader_nb.SpambaseDatasetLoader()\n",
    "            \n",
    "            result = loader.perform_feature_selection(data, feature_selection_type)\n",
    "\n",
    "            X = result[0]\n",
    "            y = result[1]\n",
    "\n",
    "        X = sm.add_constant(X)\n",
    "            \n",
    "        # split the dataset\n",
    "        X_train, X_test, y_train, y_test = train_test_split(X, y, test_size = 0.2, random_state=101)\n",
    "        \n",
    "        # building the model and fit the model using the training data\n",
    "        statsmodels_lr = sm.Logit(y_train, X_train).fit()\n",
    "\n",
    "        if verbose == True:\n",
    "            print(statsmodels_lr.summary2())\n",
    "        \n",
    "        # performing predictions on the test dataset\n",
    "        yhat = statsmodels_lr.predict(X_test)\n",
    "\n",
    "        y_pred_statsmodels = list(map(round, yhat))\n",
    "\n",
    "        cf_matrix = confusion_matrix(y_test, y_pred_statsmodels) \n",
    "        \n",
    "        TP = cf_matrix[0][0]\n",
    "        TN = cf_matrix[1][1]\n",
    "        FP = cf_matrix[0][1]\n",
    "        FN = cf_matrix[1][0]\n",
    "        if verbose == True:\n",
    "            print('Confusion Matrix')\n",
    "            print(cf_matrix)\n",
    "            path = ('./images/cf_matrix_TP{}_TN{}_FP{}_FN{}.png'.format(TP, TN, FP, FN))\n",
    "            \n",
    "            sns.set(rc={\"figure.figsize\":(6, 5)})\n",
    "            sns_plot = sns.heatmap(cf_matrix, annot=True,  fmt='d', cmap='Blues')\n",
    "            plt.savefig(path)\n",
    "\n",
    "        acc = (TP + TN) / np.sum(cf_matrix)\n",
    "        precision = TP / (TP + FP)\n",
    "        recall = TP / (TP + FN)\n",
    "        f1_score = (2 * (precision * recall)) / (precision + recall)\n",
    "\n",
    "        statsmodels_scores_df = pd.DataFrame([[acc, precision, recall, f1_score]], ['Score'], ['Accuracy', 'Precision', 'Recall', 'F1-Score'])\n",
    "        \n",
    "        return statsmodels_scores_df\n",
    "\n",
    "    \n",
    "    def run_sklearn_log_reg(self, data, feature_selection_type=None):        \n",
    "        '''\n",
    "        \n",
    "        This function runs logistic regression based on sklearn models.\n",
    "        \n",
    "        (DataFrame, boolean, boolean) --> DataFrame\n",
    "        \n",
    "        Parameters\n",
    "        ----------\n",
    "        data: Dataframe that will be used in running the model.\n",
    "        \n",
    "        feature_selection_type: Type of Feature Selection to use. Available options are stepwise_back, pearson and chi2.\n",
    "       \n",
    "        Returns\n",
    "        ----------        \n",
    "        DataFrame : The DataFrame of statsmodels scores.\n",
    "        '''\n",
    "        X = data.iloc[:,1:].values\n",
    "        y = data.iloc[:,0].values\n",
    "        \n",
    "        if feature_selection_type!=None:\n",
    "            \n",
    "            loader = spambase_dataset_loader_nb.SpambaseDatasetLoader()\n",
    "            \n",
    "            result = loader.perform_feature_selection(data, feature_selection_type)\n",
    "\n",
    "            X = result[0]\n",
    "            y = result[1]\n",
    "        \n",
    "        # split the dataset\n",
    "        X_train, X_test, y_train, y_test = train_test_split(X, y, test_size = 0.2, random_state=101)\n",
    "\n",
    "        # instantiate the model\n",
    "        sklearn_lr = LogisticRegression(max_iter=10000)\n",
    "\n",
    "        # fit the model using the training data\n",
    "        sklearn_lr.fit(X_train, y_train)\n",
    "\n",
    "        # use model to make predictions on test data\n",
    "        y_pred_sklearn = sklearn_lr.predict(X_test)\n",
    "\n",
    "        # calculate the accuracy, precision, recall and f1-score\n",
    "        acc = accuracy_score(y_test, y_pred_sklearn)\n",
    "        precision = precision_score(y_test, y_pred_sklearn)\n",
    "        recall = recall_score(y_test, y_pred_sklearn)\n",
    "        f1 = f1_score(y_test, y_pred_sklearn)\n",
    "        \n",
    "        sklearn_scores_df = pd.DataFrame([[acc, precision, recall, f1]], ['Score'], ['Accuracy', 'Precision', 'Recall', 'F1-Score'])\n",
    "        \n",
    "        return sklearn_scores_df\n",
    "\n"
   ]
  },
  {
   "cell_type": "code",
   "execution_count": 3,
   "id": "0a1d8875-ca7a-456a-a4d0-88f5a27fc875",
   "metadata": {},
   "outputs": [
    {
     "name": "stdout",
     "output_type": "stream",
     "text": [
      "init Model Helper notebook\n"
     ]
    }
   ],
   "source": [
    "import nbimporter\n",
    "import spambase_model_helper_nb\n",
    "\n",
    "model_helper = spambase_model_helper_nb.SpambaseModelHelper()"
   ]
  },
  {
   "cell_type": "code",
   "execution_count": 4,
   "id": "75ee7381-a89b-408a-acf9-24541badeccc",
   "metadata": {},
   "outputs": [
    {
     "name": "stdout",
     "output_type": "stream",
     "text": [
      "Help on method run_statsmodels_logit in module spambase_model_helper_nb:\n",
      "\n",
      "run_statsmodels_logit(data, feature_selection_type=None, verbose=False) method of spambase_model_helper_nb.SpambaseModelHelper instance\n",
      "    This function runs logistic regression based on stats models.\n",
      "    \n",
      "    (DataFrame, boolean, boolean) --> DataFrame\n",
      "    \n",
      "    Parameters\n",
      "    ----------\n",
      "    data: Dataframe that will be used in running the model.\n",
      "    \n",
      "    feature_selection_type: Type of Feature Selection to use. Available options are stepwise_back, pearson and chi2.\n",
      "    verbose: True to display statsmodels summary, confusion matrix and its heatmap otherwise false.\n",
      "    \n",
      "    Returns\n",
      "    ----------        \n",
      "    DataFrame : The DataFrame of statsmodels scores.\n",
      "\n"
     ]
    }
   ],
   "source": [
    "help(model_helper.run_statsmodels_logit)"
   ]
  },
  {
   "cell_type": "code",
   "execution_count": 5,
   "id": "fe9eddd7-2fed-4c9d-87e9-207ec2de8c2b",
   "metadata": {},
   "outputs": [
    {
     "name": "stdout",
     "output_type": "stream",
     "text": [
      "Help on method run_sklearn_log_reg in module spambase_model_helper_nb:\n",
      "\n",
      "run_sklearn_log_reg(data, feature_selection_type=None) method of spambase_model_helper_nb.SpambaseModelHelper instance\n",
      "    This function runs logistic regression based on sklearn models.\n",
      "    \n",
      "    (DataFrame, boolean, boolean) --> DataFrame\n",
      "    \n",
      "    Parameters\n",
      "    ----------\n",
      "    data: Dataframe that will be used in running the model.\n",
      "    \n",
      "    feature_selection_type: Type of Feature Selection to use. Available options are stepwise_back, pearson and chi2.\n",
      "    \n",
      "    Returns\n",
      "    ----------        \n",
      "    DataFrame : The DataFrame of statsmodels scores.\n",
      "\n"
     ]
    }
   ],
   "source": [
    "help(model_helper.run_sklearn_log_reg)"
   ]
  },
  {
   "cell_type": "code",
   "execution_count": null,
   "id": "f8a3dcb0-bfc1-4574-b049-de8d402d277c",
   "metadata": {},
   "outputs": [],
   "source": []
  }
 ],
 "metadata": {
  "kernelspec": {
   "display_name": "Python 3 (ipykernel)",
   "language": "python",
   "name": "python3"
  },
  "language_info": {
   "codemirror_mode": {
    "name": "ipython",
    "version": 3
   },
   "file_extension": ".py",
   "mimetype": "text/x-python",
   "name": "python",
   "nbconvert_exporter": "python",
   "pygments_lexer": "ipython3",
   "version": "3.11.3"
  }
 },
 "nbformat": 4,
 "nbformat_minor": 5
}
