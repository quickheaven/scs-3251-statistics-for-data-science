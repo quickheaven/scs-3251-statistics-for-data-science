{
 "cells": [
  {
   "cell_type": "code",
   "execution_count": 1,
   "id": "603b7850-28f8-4598-af96-8503f16803f6",
   "metadata": {},
   "outputs": [
    {
     "name": "stdout",
     "output_type": "stream",
     "text": [
      "Requirement already satisfied: ipynb in d:\\x-20a\\anaconda3\\lib\\site-packages (0.5.1)\n",
      "Requirement already satisfied: nbimporter in d:\\x-20a\\anaconda3\\lib\\site-packages (0.3.4)\n"
     ]
    }
   ],
   "source": [
    "# Importing an ipynb file from another ipynb file\n",
    "!pip install ipynb\n",
    "\n",
    "# Importing functions from another jupyter notebook\n",
    "!pip install nbimporter"
   ]
  },
  {
   "cell_type": "code",
   "execution_count": 2,
   "id": "1aa4ff81-8ac6-4e57-8653-28f84bc570ce",
   "metadata": {},
   "outputs": [],
   "source": [
    "import numpy as np\n",
    "import pandas as pd\n",
    "import matplotlib\n",
    "import matplotlib.pyplot as plt\n",
    "import seaborn as sns\n",
    "%matplotlib inline\n",
    "\n",
    "import statsmodels.api as sm\n",
    "\n",
    "class SpambaseDatasetLoader():\n",
    "    \n",
    "    def __init__(self):\n",
    "        print('init Loader notebook')\n",
    "    \n",
    "    def load_dataset(self, url='https://archive.ics.uci.edu/ml/machine-learning-databases/spambase/spambase.data'):\n",
    "        print('Loading dataset.')\n",
    "        \n",
    "        columns = [\n",
    "            'word_freq_make',\n",
    "            'word_freq_address',\n",
    "            'word_freq_all',\n",
    "            'word_freq_3d',\n",
    "            'word_freq_our',\n",
    "            'word_freq_over',\n",
    "            'word_freq_remove',\n",
    "            'word_freq_internet',\n",
    "            'word_freq_order',\n",
    "            'word_freq_mail',\n",
    "            'word_freq_receive',\n",
    "            'word_freq_will',\n",
    "            'word_freq_people',\n",
    "            'word_freq_report',\n",
    "            'word_freq_addresses',\n",
    "            'word_freq_free',\n",
    "            'word_freq_business',\n",
    "            'word_freq_email',\n",
    "            'word_freq_you',\n",
    "            'word_freq_credit',\n",
    "            'word_freq_your',\n",
    "            'word_freq_font',\n",
    "            'word_freq_000',\n",
    "            'word_freq_money',\n",
    "            'word_freq_hp',\n",
    "            'word_freq_hpl',\n",
    "            'word_freq_george',\n",
    "            'word_freq_650',\n",
    "            'word_freq_lab',\n",
    "            'word_freq_labs',\n",
    "            'word_freq_telnet',\n",
    "            'word_freq_857',\n",
    "            'word_freq_data',\n",
    "            'word_freq_415',\n",
    "            'word_freq_85',\n",
    "            'word_freq_technology',\n",
    "            'word_freq_1999',\n",
    "            'word_freq_parts',\n",
    "            'word_freq_pm',\n",
    "            'word_freq_direct',\n",
    "            'word_freq_cs',\n",
    "            'word_freq_meeting',\n",
    "            'word_freq_original',\n",
    "            'word_freq_project',\n",
    "            'word_freq_re',\n",
    "            'word_freq_edu',\n",
    "            'word_freq_table',\n",
    "            'word_freq_conference',\n",
    "            'char_freq_;',\n",
    "            'char_freq_(',\n",
    "            'char_freq_[',\n",
    "            'char_freq_!',\n",
    "            'char_freq_$',\n",
    "            'char_freq_#',\n",
    "            'capital_run_length_average',\n",
    "            'capital_run_length_longest',\n",
    "            'capital_run_length_total',\n",
    "            'spam_nonspam']\n",
    "        \n",
    "        # retrieve the spam data from icu.\n",
    "        spam_data = pd.read_csv('https://archive.ics.uci.edu/ml/machine-learning-databases/spambase/spambase.data', header=None, names=columns, index_col=False)\n",
    "\n",
    "        # make the label the first feature.\n",
    "        spam_data.insert(0, 'target_spam_nonspam', spam_data['spam_nonspam'])\n",
    "        spam_data = spam_data.drop('spam_nonspam', axis = 1)\n",
    "\n",
    "        # save the data to new csv.\n",
    "        spam_data.to_csv('./datasets/spambase_all.csv', index = False)\n",
    "        print('Loading spambase_all.csv completed.')\n",
    "            \n",
    "        spam = spam_data[spam_data['target_spam_nonspam']==1]\n",
    "        non_spam = spam_data[spam_data['target_spam_nonspam']==0]\n",
    "        non_spam = non_spam.sample(n=len(spam), random_state=101)\n",
    "        spam_data_balance = pd.concat([spam,non_spam],axis=0)            \n",
    "        print('Loading spambase_balance.csv completed.')\n",
    "    \n",
    "    def get_full_dataset(self):\n",
    "        print('get_balance_all')\n",
    "        return pd.read_csv('./datasets/spambase_all.csv')        \n",
    "    \n",
    "    def get_balance_dataset(self): \n",
    "        print('get_balance_data')\n",
    "        return pd.read_csv('./datasets/spambase_balance.csv')\n",
    "\n",
    "    def backward_elimitation(self, x, Y, sl, columns):\n",
    "        numVars = len(x[0])\n",
    "        for i in range(0, numVars):\n",
    "            regressor_OLS = sm.OLS(Y, x).fit()\n",
    "            maxVar = max(regressor_OLS.pvalues).astype(float)\n",
    "            if maxVar > sl:\n",
    "                for j in range(0, numVars - i):\n",
    "                    if (regressor_OLS.pvalues[j].astype(float) == maxVar):\n",
    "                        x = np.delete(x, j, 1)\n",
    "                        columns = np.delete(columns, j)\n",
    "        regressor_OLS.summary()\n",
    "        return x, columns    \n",
    "    \n",
    "    \n",
    "    def perform_feature_selection(self, data, SL=0.05):        \n",
    "        print('The shape before feature selection: {}'.format(data.shape))\n",
    "        selected_columns = data.columns\n",
    "        selected_columns = selected_columns[1:].values\n",
    "        \n",
    "        data_modeled, selected_columns = self.backwardElimination(data.iloc[:,1:].values, data.iloc[:,0].values, SL, selected_columns)\n",
    "        \n",
    "        result = pd.DataFrame()\n",
    "        result['target_spam_nonspam'] = data.iloc[:,0]\n",
    "        \n",
    "        new_data = pd.DataFrame(data = data_modeled, columns = selected_columns)\n",
    "        print('The shape after feature selection: {}'.format(new_data.shape))\n",
    "        return new_data        "
   ]
  },
  {
   "cell_type": "code",
   "execution_count": 3,
   "id": "35f97743-f46a-4945-bdcb-c58f8cb30821",
   "metadata": {},
   "outputs": [
    {
     "name": "stdout",
     "output_type": "stream",
     "text": [
      "init Loader notebook\n"
     ]
    }
   ],
   "source": [
    "import nbimporter\n",
    "import spambase_dataset_loader_nb\n",
    "\n",
    "loader = spambase_dataset_loader_nb.SpambaseDatasetLoader()"
   ]
  },
  {
   "cell_type": "code",
   "execution_count": 4,
   "id": "ebb1f362-7771-470e-ab33-fd0ff5aae686",
   "metadata": {},
   "outputs": [
    {
     "name": "stdout",
     "output_type": "stream",
     "text": [
      "Loading dataset.\n",
      "Loading spambase_all.csv completed.\n",
      "Loading spambase_balance.csv completed.\n"
     ]
    }
   ],
   "source": [
    "loader.load_dataset()"
   ]
  },
  {
   "cell_type": "code",
   "execution_count": 5,
   "id": "a242f623-8794-4a02-9be1-4bb1df920bb6",
   "metadata": {},
   "outputs": [
    {
     "name": "stdout",
     "output_type": "stream",
     "text": [
      "get_balance_all\n"
     ]
    },
    {
     "data": {
      "text/plain": [
       "<AxesSubplot:xlabel='target_spam_nonspam', ylabel='count'>"
      ]
     },
     "execution_count": 5,
     "metadata": {},
     "output_type": "execute_result"
    },
    {
     "data": {
      "image/png": "[encoded data removed]",
      "text/plain": [
       "<Figure size 432x360 with 1 Axes>"
      ]
     },
     "metadata": {},
     "output_type": "display_data"
    }
   ],
   "source": [
    "import seaborn as sns\n",
    "sns.set(rc={\"figure.figsize\":(6, 5)})\n",
    "\n",
    "full_dataset = loader.get_full_dataset()  \n",
    "sns.countplot(x='target_spam_nonspam', data=full_dataset) "
   ]
  },
  {
   "cell_type": "code",
   "execution_count": 6,
   "id": "3184c42c-cd7b-471e-bdac-cb93410c16c3",
   "metadata": {},
   "outputs": [
    {
     "name": "stdout",
     "output_type": "stream",
     "text": [
      "get_balance_data\n"
     ]
    },
    {
     "data": {
      "text/plain": [
       "<AxesSubplot:xlabel='target_spam_nonspam', ylabel='count'>"
      ]
     },
     "execution_count": 6,
     "metadata": {},
     "output_type": "execute_result"
    },
    {
     "data": {
      "image/png": "[encoded data removed]",
      "text/plain": [
       "<Figure size 432x360 with 1 Axes>"
      ]
     },
     "metadata": {},
     "output_type": "display_data"
    }
   ],
   "source": [
    "balance_dataset = loader.get_balance_dataset()\n",
    "sns.countplot(x='target_spam_nonspam', data=balance_dataset) "
   ]
  },
  {
   "cell_type": "code",
   "execution_count": 7,
   "id": "23564199-2f8d-4be7-848a-c637def67186",
   "metadata": {},
   "outputs": [
    {
     "name": "stdout",
     "output_type": "stream",
     "text": [
      "The shape before feature selection: (3626, 58)\n"
     ]
    },
    {
     "ename": "AttributeError",
     "evalue": "'SpambaseDatasetLoader' object has no attribute 'backwardElimination'",
     "output_type": "error",
     "traceback": [
      "\u001b[1;31m---------------------------------------------------------------------------\u001b[0m",
      "\u001b[1;31mAttributeError\u001b[0m                            Traceback (most recent call last)",
      "\u001b[1;32m<ipython-input-7-07e67113e4a6>\u001b[0m in \u001b[0;36m<module>\u001b[1;34m\u001b[0m\n\u001b[1;32m----> 1\u001b[1;33m \u001b[0mnew_balance_dataset\u001b[0m \u001b[1;33m=\u001b[0m \u001b[0mloader\u001b[0m\u001b[1;33m.\u001b[0m\u001b[0mperform_feature_selection\u001b[0m\u001b[1;33m(\u001b[0m\u001b[0mbalance_dataset\u001b[0m\u001b[1;33m)\u001b[0m\u001b[1;33m\u001b[0m\u001b[1;33m\u001b[0m\u001b[0m\n\u001b[0m",
      "\u001b[1;32mD:\\x-20a\\Colab Notebooks\\SCS_3251_056_Statistics_For_Data_Science_Notebooks\\scs-3251-statistics-for-data-science\\spambase_dataset_loader_nb.ipynb\u001b[0m in \u001b[0;36mperform_feature_selection\u001b[1;34m(self, data, SL)\u001b[0m\n\u001b[0;32m    120\u001b[0m     \u001b[1;34m\"            \\n\"\u001b[0m\u001b[1;33m,\u001b[0m\u001b[1;33m\u001b[0m\u001b[1;33m\u001b[0m\u001b[0m\n\u001b[0;32m    121\u001b[0m     \u001b[1;34m\"        spam = spam_data[spam_data['target_spam_nonspam']==1]\\n\"\u001b[0m\u001b[1;33m,\u001b[0m\u001b[1;33m\u001b[0m\u001b[1;33m\u001b[0m\u001b[0m\n\u001b[1;32m--> 122\u001b[1;33m     \u001b[1;34m\"        non_spam = spam_data[spam_data['target_spam_nonspam']==0]\\n\"\u001b[0m\u001b[1;33m,\u001b[0m\u001b[1;33m\u001b[0m\u001b[1;33m\u001b[0m\u001b[0m\n\u001b[0m\u001b[0;32m    123\u001b[0m     \u001b[1;34m\"        non_spam = non_spam.sample(n=len(spam), random_state=101)\\n\"\u001b[0m\u001b[1;33m,\u001b[0m\u001b[1;33m\u001b[0m\u001b[1;33m\u001b[0m\u001b[0m\n\u001b[0;32m    124\u001b[0m     \u001b[1;34m\"        spam_data_balance = pd.concat([spam,non_spam],axis=0)            \\n\"\u001b[0m\u001b[1;33m,\u001b[0m\u001b[1;33m\u001b[0m\u001b[1;33m\u001b[0m\u001b[0m\n",
      "\u001b[1;31mAttributeError\u001b[0m: 'SpambaseDatasetLoader' object has no attribute 'backwardElimination'"
     ]
    }
   ],
   "source": [
    "new_balance_dataset = loader.perform_feature_selection(balance_dataset)"
   ]
  },
  {
   "cell_type": "code",
   "execution_count": null,
   "id": "46119bed-7e8b-40fe-89ed-23e9d33f500a",
   "metadata": {},
   "outputs": [],
   "source": []
  }
 ],
 "metadata": {
  "kernelspec": {
   "display_name": "Python 3",
   "language": "python",
   "name": "python3"
  },
  "language_info": {
   "codemirror_mode": {
    "name": "ipython",
    "version": 3
   },
   "file_extension": ".py",
   "mimetype": "text/x-python",
   "name": "python",
   "nbconvert_exporter": "python",
   "pygments_lexer": "ipython3",
   "version": "3.8.8"
  }
 },
 "nbformat": 4,
 "nbformat_minor": 5
}
