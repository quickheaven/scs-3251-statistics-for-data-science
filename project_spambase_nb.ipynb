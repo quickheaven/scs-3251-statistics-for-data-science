{
 "cells": [
  {
   "cell_type": "markdown",
   "id": "dd86f395-7a74-4184-b4ff-dc5350bb1f0a",
   "metadata": {},
   "source": [
    "# Spam Email Classification"
   ]
  },
  {
   "cell_type": "markdown",
   "id": "cca0f62e-3599-4eb7-a394-f642f65cf966",
   "metadata": {},
   "source": [
    "Submitted by Arjie Cristobal"
   ]
  },
  {
   "cell_type": "code",
   "execution_count": 1,
   "id": "290c8bb2-7740-4a0d-9085-0e4e211fb5ef",
   "metadata": {},
   "outputs": [
    {
     "name": "stdout",
     "output_type": "stream",
     "text": [
      "Defaulting to user installation because normal site-packages is not writeable\n",
      "Requirement already satisfied: ipynb in c:\\users\\acristobal\\appdata\\roaming\\python\\python311\\site-packages (0.5.1)\n",
      "Defaulting to user installation because normal site-packages is not writeable\n",
      "Requirement already satisfied: nbimporter in c:\\users\\acristobal\\appdata\\roaming\\python\\python311\\site-packages (0.3.4)\n"
     ]
    }
   ],
   "source": [
    "# Importing an ipynb file from another ipynb file\n",
    "!pip install ipynb\n",
    "\n",
    "# Importing functions from another jupyter notebook\n",
    "!pip install nbimporter"
   ]
  },
  {
   "cell_type": "code",
   "execution_count": 2,
   "id": "d49edc60-917d-4ab7-be7c-71181b92ca6b",
   "metadata": {},
   "outputs": [],
   "source": [
    "import numpy as np\n",
    "import pandas as pd\n",
    "import matplotlib.pyplot as plt\n",
    "%matplotlib inline\n",
    "\n",
    "import seaborn as sns\n",
    "\n",
    "import warnings\n",
    "warnings.filterwarnings('ignore')\n",
    "\n",
    "import nbimporter\n",
    "import spambase_dataset_loader_nb\n",
    "import spambase_model_helper_nb"
   ]
  },
  {
   "cell_type": "markdown",
   "id": "f054fc12-09b5-40f9-a40f-32c60724b5a4",
   "metadata": {},
   "source": [
    "## Data Preparation:"
   ]
  },
  {
   "cell_type": "markdown",
   "id": "65e65633-ed95-4cf1-87aa-101403691576",
   "metadata": {},
   "source": [
    "### Load the datasets:"
   ]
  },
  {
   "cell_type": "code",
   "execution_count": 3,
   "id": "03635cd0-e3ef-4deb-87f0-4de7ec23db33",
   "metadata": {},
   "outputs": [
    {
     "name": "stdout",
     "output_type": "stream",
     "text": [
      "init Loader notebook\n"
     ]
    }
   ],
   "source": [
    "loader = spambase_dataset_loader_nb.SpambaseDatasetLoader()"
   ]
  },
  {
   "cell_type": "code",
   "execution_count": 4,
   "id": "a1ac5d7d-572c-41f8-ae5c-489def335664",
   "metadata": {},
   "outputs": [
    {
     "name": "stdout",
     "output_type": "stream",
     "text": [
      "Help on method load_dataset in module spambase_dataset_loader_nb:\n",
      "\n",
      "load_dataset(url='https://archive.ics.uci.edu/ml/machine-learning-databases/spambase/spambase.data') method of spambase_dataset_loader_nb.SpambaseDatasetLoader instance\n",
      "    (string) --> None\n",
      "    \n",
      "    This function retrieves the spambase.data from University of California Irvine (UCI) - Dataset Repository\n",
      "    and save into two files:\n",
      "    \n",
      "    1. spambase_all.csv - The CSV file that contains all the rows from spambase.data.\n",
      "    2. spambase_balance.csv - The CSV file that rows balance between spam and not spam records.\n",
      "\n"
     ]
    }
   ],
   "source": [
    "help(loader.load_dataset)"
   ]
  },
  {
   "cell_type": "code",
   "execution_count": 5,
   "id": "e74fa363-c80b-48a9-a61c-e217a3127195",
   "metadata": {},
   "outputs": [
    {
     "name": "stdout",
     "output_type": "stream",
     "text": [
      "Loading dataset.\n",
      "Loading spambase_all.csv completed.\n",
      "Loading spambase_balance.csv completed.\n"
     ]
    }
   ],
   "source": [
    "loader.load_dataset()"
   ]
  },
  {
   "cell_type": "code",
   "execution_count": 6,
   "id": "e366c64c-afd0-4d59-a1c6-68f2ebcdca1f",
   "metadata": {},
   "outputs": [
    {
     "name": "stdout",
     "output_type": "stream",
     "text": [
      "get_full_dataset\n"
     ]
    }
   ],
   "source": [
    "spambase_all = loader.get_full_dataset()"
   ]
  },
  {
   "cell_type": "markdown",
   "id": "9d69e135-6fa9-4f75-ac93-fb6d9e940bb6",
   "metadata": {},
   "source": [
    "### Data Exploration\n",
    "\n",
    "#### Explore the data using info() and describe() and head()"
   ]
  },
  {
   "cell_type": "code",
   "execution_count": 7,
   "id": "732bab3e-f50b-4c7e-aab8-445bc728640c",
   "metadata": {},
   "outputs": [
    {
     "name": "stdout",
     "output_type": "stream",
     "text": [
      "<class 'pandas.core.frame.DataFrame'>\n",
      "RangeIndex: 4601 entries, 0 to 4600\n",
      "Data columns (total 58 columns):\n",
      " #   Column                      Non-Null Count  Dtype  \n",
      "---  ------                      --------------  -----  \n",
      " 0   target_spam_nonspam         4601 non-null   int64  \n",
      " 1   word_freq_make              4601 non-null   float64\n",
      " 2   word_freq_address           4601 non-null   float64\n",
      " 3   word_freq_all               4601 non-null   float64\n",
      " 4   word_freq_3d                4601 non-null   float64\n",
      " 5   word_freq_our               4601 non-null   float64\n",
      " 6   word_freq_over              4601 non-null   float64\n",
      " 7   word_freq_remove            4601 non-null   float64\n",
      " 8   word_freq_internet          4601 non-null   float64\n",
      " 9   word_freq_order             4601 non-null   float64\n",
      " 10  word_freq_mail              4601 non-null   float64\n",
      " 11  word_freq_receive           4601 non-null   float64\n",
      " 12  word_freq_will              4601 non-null   float64\n",
      " 13  word_freq_people            4601 non-null   float64\n",
      " 14  word_freq_report            4601 non-null   float64\n",
      " 15  word_freq_addresses         4601 non-null   float64\n",
      " 16  word_freq_free              4601 non-null   float64\n",
      " 17  word_freq_business          4601 non-null   float64\n",
      " 18  word_freq_email             4601 non-null   float64\n",
      " 19  word_freq_you               4601 non-null   float64\n",
      " 20  word_freq_credit            4601 non-null   float64\n",
      " 21  word_freq_your              4601 non-null   float64\n",
      " 22  word_freq_font              4601 non-null   float64\n",
      " 23  word_freq_000               4601 non-null   float64\n",
      " 24  word_freq_money             4601 non-null   float64\n",
      " 25  word_freq_hp                4601 non-null   float64\n",
      " 26  word_freq_hpl               4601 non-null   float64\n",
      " 27  word_freq_george            4601 non-null   float64\n",
      " 28  word_freq_650               4601 non-null   float64\n",
      " 29  word_freq_lab               4601 non-null   float64\n",
      " 30  word_freq_labs              4601 non-null   float64\n",
      " 31  word_freq_telnet            4601 non-null   float64\n",
      " 32  word_freq_857               4601 non-null   float64\n",
      " 33  word_freq_data              4601 non-null   float64\n",
      " 34  word_freq_415               4601 non-null   float64\n",
      " 35  word_freq_85                4601 non-null   float64\n",
      " 36  word_freq_technology        4601 non-null   float64\n",
      " 37  word_freq_1999              4601 non-null   float64\n",
      " 38  word_freq_parts             4601 non-null   float64\n",
      " 39  word_freq_pm                4601 non-null   float64\n",
      " 40  word_freq_direct            4601 non-null   float64\n",
      " 41  word_freq_cs                4601 non-null   float64\n",
      " 42  word_freq_meeting           4601 non-null   float64\n",
      " 43  word_freq_original          4601 non-null   float64\n",
      " 44  word_freq_project           4601 non-null   float64\n",
      " 45  word_freq_re                4601 non-null   float64\n",
      " 46  word_freq_edu               4601 non-null   float64\n",
      " 47  word_freq_table             4601 non-null   float64\n",
      " 48  word_freq_conference        4601 non-null   float64\n",
      " 49  char_freq_;                 4601 non-null   float64\n",
      " 50  char_freq_(                 4601 non-null   float64\n",
      " 51  char_freq_[                 4601 non-null   float64\n",
      " 52  char_freq_!                 4601 non-null   float64\n",
      " 53  char_freq_$                 4601 non-null   float64\n",
      " 54  char_freq_#                 4601 non-null   float64\n",
      " 55  capital_run_length_average  4601 non-null   float64\n",
      " 56  capital_run_length_longest  4601 non-null   int64  \n",
      " 57  capital_run_length_total    4601 non-null   int64  \n",
      "dtypes: float64(55), int64(3)\n",
      "memory usage: 2.0 MB\n"
     ]
    }
   ],
   "source": [
    "spambase_all.info()"
   ]
  },
  {
   "cell_type": "code",
   "execution_count": 8,
   "id": "6e5557b9-3646-46d0-bc69-e4a9217b8933",
   "metadata": {},
   "outputs": [
    {
     "data": {
      "text/html": [
       "<div>\n",
       "<style scoped>\n",
       "    .dataframe tbody tr th:only-of-type {\n",
       "        vertical-align: middle;\n",
       "    }\n",
       "\n",
       "    .dataframe tbody tr th {\n",
       "        vertical-align: top;\n",
       "    }\n",
       "\n",
       "    .dataframe thead th {\n",
       "        text-align: right;\n",
       "    }\n",
       "</style>\n",
       "<table border=\"1\" class=\"dataframe\">\n",
       "  <thead>\n",
       "    <tr style=\"text-align: right;\">\n",
       "      <th></th>\n",
       "      <th>target_spam_nonspam</th>\n",
       "      <th>word_freq_make</th>\n",
       "      <th>word_freq_address</th>\n",
       "      <th>word_freq_all</th>\n",
       "      <th>word_freq_3d</th>\n",
       "      <th>word_freq_our</th>\n",
       "      <th>word_freq_over</th>\n",
       "      <th>word_freq_remove</th>\n",
       "      <th>word_freq_internet</th>\n",
       "      <th>word_freq_order</th>\n",
       "      <th>...</th>\n",
       "      <th>word_freq_conference</th>\n",
       "      <th>char_freq_;</th>\n",
       "      <th>char_freq_(</th>\n",
       "      <th>char_freq_[</th>\n",
       "      <th>char_freq_!</th>\n",
       "      <th>char_freq_$</th>\n",
       "      <th>char_freq_#</th>\n",
       "      <th>capital_run_length_average</th>\n",
       "      <th>capital_run_length_longest</th>\n",
       "      <th>capital_run_length_total</th>\n",
       "    </tr>\n",
       "  </thead>\n",
       "  <tbody>\n",
       "    <tr>\n",
       "      <th>count</th>\n",
       "      <td>4601.000000</td>\n",
       "      <td>4601.000000</td>\n",
       "      <td>4601.000000</td>\n",
       "      <td>4601.000000</td>\n",
       "      <td>4601.000000</td>\n",
       "      <td>4601.000000</td>\n",
       "      <td>4601.000000</td>\n",
       "      <td>4601.000000</td>\n",
       "      <td>4601.000000</td>\n",
       "      <td>4601.000000</td>\n",
       "      <td>...</td>\n",
       "      <td>4601.000000</td>\n",
       "      <td>4601.000000</td>\n",
       "      <td>4601.000000</td>\n",
       "      <td>4601.000000</td>\n",
       "      <td>4601.000000</td>\n",
       "      <td>4601.000000</td>\n",
       "      <td>4601.000000</td>\n",
       "      <td>4601.000000</td>\n",
       "      <td>4601.000000</td>\n",
       "      <td>4601.000000</td>\n",
       "    </tr>\n",
       "    <tr>\n",
       "      <th>mean</th>\n",
       "      <td>0.394045</td>\n",
       "      <td>0.104553</td>\n",
       "      <td>0.213015</td>\n",
       "      <td>0.280656</td>\n",
       "      <td>0.065425</td>\n",
       "      <td>0.312223</td>\n",
       "      <td>0.095901</td>\n",
       "      <td>0.114208</td>\n",
       "      <td>0.105295</td>\n",
       "      <td>0.090067</td>\n",
       "      <td>...</td>\n",
       "      <td>0.031869</td>\n",
       "      <td>0.038575</td>\n",
       "      <td>0.139030</td>\n",
       "      <td>0.016976</td>\n",
       "      <td>0.269071</td>\n",
       "      <td>0.075811</td>\n",
       "      <td>0.044238</td>\n",
       "      <td>5.191515</td>\n",
       "      <td>52.172789</td>\n",
       "      <td>283.289285</td>\n",
       "    </tr>\n",
       "    <tr>\n",
       "      <th>std</th>\n",
       "      <td>0.488698</td>\n",
       "      <td>0.305358</td>\n",
       "      <td>1.290575</td>\n",
       "      <td>0.504143</td>\n",
       "      <td>1.395151</td>\n",
       "      <td>0.672513</td>\n",
       "      <td>0.273824</td>\n",
       "      <td>0.391441</td>\n",
       "      <td>0.401071</td>\n",
       "      <td>0.278616</td>\n",
       "      <td>...</td>\n",
       "      <td>0.285735</td>\n",
       "      <td>0.243471</td>\n",
       "      <td>0.270355</td>\n",
       "      <td>0.109394</td>\n",
       "      <td>0.815672</td>\n",
       "      <td>0.245882</td>\n",
       "      <td>0.429342</td>\n",
       "      <td>31.729449</td>\n",
       "      <td>194.891310</td>\n",
       "      <td>606.347851</td>\n",
       "    </tr>\n",
       "    <tr>\n",
       "      <th>min</th>\n",
       "      <td>0.000000</td>\n",
       "      <td>0.000000</td>\n",
       "      <td>0.000000</td>\n",
       "      <td>0.000000</td>\n",
       "      <td>0.000000</td>\n",
       "      <td>0.000000</td>\n",
       "      <td>0.000000</td>\n",
       "      <td>0.000000</td>\n",
       "      <td>0.000000</td>\n",
       "      <td>0.000000</td>\n",
       "      <td>...</td>\n",
       "      <td>0.000000</td>\n",
       "      <td>0.000000</td>\n",
       "      <td>0.000000</td>\n",
       "      <td>0.000000</td>\n",
       "      <td>0.000000</td>\n",
       "      <td>0.000000</td>\n",
       "      <td>0.000000</td>\n",
       "      <td>1.000000</td>\n",
       "      <td>1.000000</td>\n",
       "      <td>1.000000</td>\n",
       "    </tr>\n",
       "    <tr>\n",
       "      <th>25%</th>\n",
       "      <td>0.000000</td>\n",
       "      <td>0.000000</td>\n",
       "      <td>0.000000</td>\n",
       "      <td>0.000000</td>\n",
       "      <td>0.000000</td>\n",
       "      <td>0.000000</td>\n",
       "      <td>0.000000</td>\n",
       "      <td>0.000000</td>\n",
       "      <td>0.000000</td>\n",
       "      <td>0.000000</td>\n",
       "      <td>...</td>\n",
       "      <td>0.000000</td>\n",
       "      <td>0.000000</td>\n",
       "      <td>0.000000</td>\n",
       "      <td>0.000000</td>\n",
       "      <td>0.000000</td>\n",
       "      <td>0.000000</td>\n",
       "      <td>0.000000</td>\n",
       "      <td>1.588000</td>\n",
       "      <td>6.000000</td>\n",
       "      <td>35.000000</td>\n",
       "    </tr>\n",
       "    <tr>\n",
       "      <th>50%</th>\n",
       "      <td>0.000000</td>\n",
       "      <td>0.000000</td>\n",
       "      <td>0.000000</td>\n",
       "      <td>0.000000</td>\n",
       "      <td>0.000000</td>\n",
       "      <td>0.000000</td>\n",
       "      <td>0.000000</td>\n",
       "      <td>0.000000</td>\n",
       "      <td>0.000000</td>\n",
       "      <td>0.000000</td>\n",
       "      <td>...</td>\n",
       "      <td>0.000000</td>\n",
       "      <td>0.000000</td>\n",
       "      <td>0.065000</td>\n",
       "      <td>0.000000</td>\n",
       "      <td>0.000000</td>\n",
       "      <td>0.000000</td>\n",
       "      <td>0.000000</td>\n",
       "      <td>2.276000</td>\n",
       "      <td>15.000000</td>\n",
       "      <td>95.000000</td>\n",
       "    </tr>\n",
       "    <tr>\n",
       "      <th>75%</th>\n",
       "      <td>1.000000</td>\n",
       "      <td>0.000000</td>\n",
       "      <td>0.000000</td>\n",
       "      <td>0.420000</td>\n",
       "      <td>0.000000</td>\n",
       "      <td>0.380000</td>\n",
       "      <td>0.000000</td>\n",
       "      <td>0.000000</td>\n",
       "      <td>0.000000</td>\n",
       "      <td>0.000000</td>\n",
       "      <td>...</td>\n",
       "      <td>0.000000</td>\n",
       "      <td>0.000000</td>\n",
       "      <td>0.188000</td>\n",
       "      <td>0.000000</td>\n",
       "      <td>0.315000</td>\n",
       "      <td>0.052000</td>\n",
       "      <td>0.000000</td>\n",
       "      <td>3.706000</td>\n",
       "      <td>43.000000</td>\n",
       "      <td>266.000000</td>\n",
       "    </tr>\n",
       "    <tr>\n",
       "      <th>max</th>\n",
       "      <td>1.000000</td>\n",
       "      <td>4.540000</td>\n",
       "      <td>14.280000</td>\n",
       "      <td>5.100000</td>\n",
       "      <td>42.810000</td>\n",
       "      <td>10.000000</td>\n",
       "      <td>5.880000</td>\n",
       "      <td>7.270000</td>\n",
       "      <td>11.110000</td>\n",
       "      <td>5.260000</td>\n",
       "      <td>...</td>\n",
       "      <td>10.000000</td>\n",
       "      <td>4.385000</td>\n",
       "      <td>9.752000</td>\n",
       "      <td>4.081000</td>\n",
       "      <td>32.478000</td>\n",
       "      <td>6.003000</td>\n",
       "      <td>19.829000</td>\n",
       "      <td>1102.500000</td>\n",
       "      <td>9989.000000</td>\n",
       "      <td>15841.000000</td>\n",
       "    </tr>\n",
       "  </tbody>\n",
       "</table>\n",
       "<p>8 rows × 58 columns</p>\n",
       "</div>"
      ],
      "text/plain": [
       "       target_spam_nonspam  word_freq_make  word_freq_address  word_freq_all  \\\n",
       "count          4601.000000     4601.000000        4601.000000    4601.000000   \n",
       "mean              0.394045        0.104553           0.213015       0.280656   \n",
       "std               0.488698        0.305358           1.290575       0.504143   \n",
       "min               0.000000        0.000000           0.000000       0.000000   \n",
       "25%               0.000000        0.000000           0.000000       0.000000   \n",
       "50%               0.000000        0.000000           0.000000       0.000000   \n",
       "75%               1.000000        0.000000           0.000000       0.420000   \n",
       "max               1.000000        4.540000          14.280000       5.100000   \n",
       "\n",
       "       word_freq_3d  word_freq_our  word_freq_over  word_freq_remove  \\\n",
       "count   4601.000000    4601.000000     4601.000000       4601.000000   \n",
       "mean       0.065425       0.312223        0.095901          0.114208   \n",
       "std        1.395151       0.672513        0.273824          0.391441   \n",
       "min        0.000000       0.000000        0.000000          0.000000   \n",
       "25%        0.000000       0.000000        0.000000          0.000000   \n",
       "50%        0.000000       0.000000        0.000000          0.000000   \n",
       "75%        0.000000       0.380000        0.000000          0.000000   \n",
       "max       42.810000      10.000000        5.880000          7.270000   \n",
       "\n",
       "       word_freq_internet  word_freq_order  ...  word_freq_conference  \\\n",
       "count         4601.000000      4601.000000  ...           4601.000000   \n",
       "mean             0.105295         0.090067  ...              0.031869   \n",
       "std              0.401071         0.278616  ...              0.285735   \n",
       "min              0.000000         0.000000  ...              0.000000   \n",
       "25%              0.000000         0.000000  ...              0.000000   \n",
       "50%              0.000000         0.000000  ...              0.000000   \n",
       "75%              0.000000         0.000000  ...              0.000000   \n",
       "max             11.110000         5.260000  ...             10.000000   \n",
       "\n",
       "       char_freq_;  char_freq_(  char_freq_[  char_freq_!  char_freq_$  \\\n",
       "count  4601.000000  4601.000000  4601.000000  4601.000000  4601.000000   \n",
       "mean      0.038575     0.139030     0.016976     0.269071     0.075811   \n",
       "std       0.243471     0.270355     0.109394     0.815672     0.245882   \n",
       "min       0.000000     0.000000     0.000000     0.000000     0.000000   \n",
       "25%       0.000000     0.000000     0.000000     0.000000     0.000000   \n",
       "50%       0.000000     0.065000     0.000000     0.000000     0.000000   \n",
       "75%       0.000000     0.188000     0.000000     0.315000     0.052000   \n",
       "max       4.385000     9.752000     4.081000    32.478000     6.003000   \n",
       "\n",
       "       char_freq_#  capital_run_length_average  capital_run_length_longest  \\\n",
       "count  4601.000000                 4601.000000                 4601.000000   \n",
       "mean      0.044238                    5.191515                   52.172789   \n",
       "std       0.429342                   31.729449                  194.891310   \n",
       "min       0.000000                    1.000000                    1.000000   \n",
       "25%       0.000000                    1.588000                    6.000000   \n",
       "50%       0.000000                    2.276000                   15.000000   \n",
       "75%       0.000000                    3.706000                   43.000000   \n",
       "max      19.829000                 1102.500000                 9989.000000   \n",
       "\n",
       "       capital_run_length_total  \n",
       "count               4601.000000  \n",
       "mean                 283.289285  \n",
       "std                  606.347851  \n",
       "min                    1.000000  \n",
       "25%                   35.000000  \n",
       "50%                   95.000000  \n",
       "75%                  266.000000  \n",
       "max                15841.000000  \n",
       "\n",
       "[8 rows x 58 columns]"
      ]
     },
     "execution_count": 8,
     "metadata": {},
     "output_type": "execute_result"
    }
   ],
   "source": [
    "spambase_all.describe()"
   ]
  },
  {
   "cell_type": "code",
   "execution_count": 9,
   "id": "4fd5d235-2696-4089-a086-fb95bd554f64",
   "metadata": {},
   "outputs": [
    {
     "data": {
      "text/html": [
       "<div>\n",
       "<style scoped>\n",
       "    .dataframe tbody tr th:only-of-type {\n",
       "        vertical-align: middle;\n",
       "    }\n",
       "\n",
       "    .dataframe tbody tr th {\n",
       "        vertical-align: top;\n",
       "    }\n",
       "\n",
       "    .dataframe thead th {\n",
       "        text-align: right;\n",
       "    }\n",
       "</style>\n",
       "<table border=\"1\" class=\"dataframe\">\n",
       "  <thead>\n",
       "    <tr style=\"text-align: right;\">\n",
       "      <th></th>\n",
       "      <th>target_spam_nonspam</th>\n",
       "      <th>word_freq_make</th>\n",
       "      <th>word_freq_address</th>\n",
       "      <th>word_freq_all</th>\n",
       "      <th>word_freq_3d</th>\n",
       "      <th>word_freq_our</th>\n",
       "      <th>word_freq_over</th>\n",
       "      <th>word_freq_remove</th>\n",
       "      <th>word_freq_internet</th>\n",
       "      <th>word_freq_order</th>\n",
       "      <th>...</th>\n",
       "      <th>word_freq_conference</th>\n",
       "      <th>char_freq_;</th>\n",
       "      <th>char_freq_(</th>\n",
       "      <th>char_freq_[</th>\n",
       "      <th>char_freq_!</th>\n",
       "      <th>char_freq_$</th>\n",
       "      <th>char_freq_#</th>\n",
       "      <th>capital_run_length_average</th>\n",
       "      <th>capital_run_length_longest</th>\n",
       "      <th>capital_run_length_total</th>\n",
       "    </tr>\n",
       "  </thead>\n",
       "  <tbody>\n",
       "    <tr>\n",
       "      <th>0</th>\n",
       "      <td>1</td>\n",
       "      <td>0.00</td>\n",
       "      <td>0.64</td>\n",
       "      <td>0.64</td>\n",
       "      <td>0.0</td>\n",
       "      <td>0.32</td>\n",
       "      <td>0.00</td>\n",
       "      <td>0.00</td>\n",
       "      <td>0.00</td>\n",
       "      <td>0.00</td>\n",
       "      <td>...</td>\n",
       "      <td>0.0</td>\n",
       "      <td>0.00</td>\n",
       "      <td>0.000</td>\n",
       "      <td>0.0</td>\n",
       "      <td>0.778</td>\n",
       "      <td>0.000</td>\n",
       "      <td>0.000</td>\n",
       "      <td>3.756</td>\n",
       "      <td>61</td>\n",
       "      <td>278</td>\n",
       "    </tr>\n",
       "    <tr>\n",
       "      <th>1</th>\n",
       "      <td>1</td>\n",
       "      <td>0.21</td>\n",
       "      <td>0.28</td>\n",
       "      <td>0.50</td>\n",
       "      <td>0.0</td>\n",
       "      <td>0.14</td>\n",
       "      <td>0.28</td>\n",
       "      <td>0.21</td>\n",
       "      <td>0.07</td>\n",
       "      <td>0.00</td>\n",
       "      <td>...</td>\n",
       "      <td>0.0</td>\n",
       "      <td>0.00</td>\n",
       "      <td>0.132</td>\n",
       "      <td>0.0</td>\n",
       "      <td>0.372</td>\n",
       "      <td>0.180</td>\n",
       "      <td>0.048</td>\n",
       "      <td>5.114</td>\n",
       "      <td>101</td>\n",
       "      <td>1028</td>\n",
       "    </tr>\n",
       "    <tr>\n",
       "      <th>2</th>\n",
       "      <td>1</td>\n",
       "      <td>0.06</td>\n",
       "      <td>0.00</td>\n",
       "      <td>0.71</td>\n",
       "      <td>0.0</td>\n",
       "      <td>1.23</td>\n",
       "      <td>0.19</td>\n",
       "      <td>0.19</td>\n",
       "      <td>0.12</td>\n",
       "      <td>0.64</td>\n",
       "      <td>...</td>\n",
       "      <td>0.0</td>\n",
       "      <td>0.01</td>\n",
       "      <td>0.143</td>\n",
       "      <td>0.0</td>\n",
       "      <td>0.276</td>\n",
       "      <td>0.184</td>\n",
       "      <td>0.010</td>\n",
       "      <td>9.821</td>\n",
       "      <td>485</td>\n",
       "      <td>2259</td>\n",
       "    </tr>\n",
       "    <tr>\n",
       "      <th>3</th>\n",
       "      <td>1</td>\n",
       "      <td>0.00</td>\n",
       "      <td>0.00</td>\n",
       "      <td>0.00</td>\n",
       "      <td>0.0</td>\n",
       "      <td>0.63</td>\n",
       "      <td>0.00</td>\n",
       "      <td>0.31</td>\n",
       "      <td>0.63</td>\n",
       "      <td>0.31</td>\n",
       "      <td>...</td>\n",
       "      <td>0.0</td>\n",
       "      <td>0.00</td>\n",
       "      <td>0.137</td>\n",
       "      <td>0.0</td>\n",
       "      <td>0.137</td>\n",
       "      <td>0.000</td>\n",
       "      <td>0.000</td>\n",
       "      <td>3.537</td>\n",
       "      <td>40</td>\n",
       "      <td>191</td>\n",
       "    </tr>\n",
       "    <tr>\n",
       "      <th>4</th>\n",
       "      <td>1</td>\n",
       "      <td>0.00</td>\n",
       "      <td>0.00</td>\n",
       "      <td>0.00</td>\n",
       "      <td>0.0</td>\n",
       "      <td>0.63</td>\n",
       "      <td>0.00</td>\n",
       "      <td>0.31</td>\n",
       "      <td>0.63</td>\n",
       "      <td>0.31</td>\n",
       "      <td>...</td>\n",
       "      <td>0.0</td>\n",
       "      <td>0.00</td>\n",
       "      <td>0.135</td>\n",
       "      <td>0.0</td>\n",
       "      <td>0.135</td>\n",
       "      <td>0.000</td>\n",
       "      <td>0.000</td>\n",
       "      <td>3.537</td>\n",
       "      <td>40</td>\n",
       "      <td>191</td>\n",
       "    </tr>\n",
       "  </tbody>\n",
       "</table>\n",
       "<p>5 rows × 58 columns</p>\n",
       "</div>"
      ],
      "text/plain": [
       "   target_spam_nonspam  word_freq_make  word_freq_address  word_freq_all  \\\n",
       "0                    1            0.00               0.64           0.64   \n",
       "1                    1            0.21               0.28           0.50   \n",
       "2                    1            0.06               0.00           0.71   \n",
       "3                    1            0.00               0.00           0.00   \n",
       "4                    1            0.00               0.00           0.00   \n",
       "\n",
       "   word_freq_3d  word_freq_our  word_freq_over  word_freq_remove  \\\n",
       "0           0.0           0.32            0.00              0.00   \n",
       "1           0.0           0.14            0.28              0.21   \n",
       "2           0.0           1.23            0.19              0.19   \n",
       "3           0.0           0.63            0.00              0.31   \n",
       "4           0.0           0.63            0.00              0.31   \n",
       "\n",
       "   word_freq_internet  word_freq_order  ...  word_freq_conference  \\\n",
       "0                0.00             0.00  ...                   0.0   \n",
       "1                0.07             0.00  ...                   0.0   \n",
       "2                0.12             0.64  ...                   0.0   \n",
       "3                0.63             0.31  ...                   0.0   \n",
       "4                0.63             0.31  ...                   0.0   \n",
       "\n",
       "   char_freq_;  char_freq_(  char_freq_[  char_freq_!  char_freq_$  \\\n",
       "0         0.00        0.000          0.0        0.778        0.000   \n",
       "1         0.00        0.132          0.0        0.372        0.180   \n",
       "2         0.01        0.143          0.0        0.276        0.184   \n",
       "3         0.00        0.137          0.0        0.137        0.000   \n",
       "4         0.00        0.135          0.0        0.135        0.000   \n",
       "\n",
       "   char_freq_#  capital_run_length_average  capital_run_length_longest  \\\n",
       "0        0.000                       3.756                          61   \n",
       "1        0.048                       5.114                         101   \n",
       "2        0.010                       9.821                         485   \n",
       "3        0.000                       3.537                          40   \n",
       "4        0.000                       3.537                          40   \n",
       "\n",
       "   capital_run_length_total  \n",
       "0                       278  \n",
       "1                      1028  \n",
       "2                      2259  \n",
       "3                       191  \n",
       "4                       191  \n",
       "\n",
       "[5 rows x 58 columns]"
      ]
     },
     "execution_count": 9,
     "metadata": {},
     "output_type": "execute_result"
    }
   ],
   "source": [
    "spambase_all.head(5)"
   ]
  },
  {
   "cell_type": "markdown",
   "id": "2e12377f-69d9-4852-b937-907cca4dd578",
   "metadata": {},
   "source": [
    "#### Check for null values."
   ]
  },
  {
   "cell_type": "code",
   "execution_count": 10,
   "id": "e766e561-f7a6-47d5-9033-c74b325c1041",
   "metadata": {},
   "outputs": [
    {
     "data": {
      "image/png": "[encoded data removed]",
      "text/plain": [
       "<Figure size 1000x800 with 1 Axes>"
      ]
     },
     "metadata": {},
     "output_type": "display_data"
    }
   ],
   "source": [
    "plt.figure(figsize=(10, 8))\n",
    "\n",
    "ax = plt.axes()\n",
    "sns.heatmap(spambase_all.isnull(), ax=ax, yticklabels=False, cbar=False, cmap=\"cividis\")\n",
    "plt.savefig('./images/null_check.png')"
   ]
  },
  {
   "cell_type": "markdown",
   "id": "62cd69ae-5ac0-4c2d-94ff-1bdf027f253f",
   "metadata": {},
   "source": [
    "#### Check for na"
   ]
  },
  {
   "cell_type": "code",
   "execution_count": 11,
   "id": "32586cd3-8526-4c50-8c0c-bf9b4dab9a98",
   "metadata": {},
   "outputs": [
    {
     "data": {
      "text/plain": [
       "target_spam_nonspam           False\n",
       "word_freq_make                False\n",
       "word_freq_address             False\n",
       "word_freq_all                 False\n",
       "word_freq_3d                  False\n",
       "word_freq_our                 False\n",
       "word_freq_over                False\n",
       "word_freq_remove              False\n",
       "word_freq_internet            False\n",
       "word_freq_order               False\n",
       "word_freq_mail                False\n",
       "word_freq_receive             False\n",
       "word_freq_will                False\n",
       "word_freq_people              False\n",
       "word_freq_report              False\n",
       "word_freq_addresses           False\n",
       "word_freq_free                False\n",
       "word_freq_business            False\n",
       "word_freq_email               False\n",
       "word_freq_you                 False\n",
       "word_freq_credit              False\n",
       "word_freq_your                False\n",
       "word_freq_font                False\n",
       "word_freq_000                 False\n",
       "word_freq_money               False\n",
       "word_freq_hp                  False\n",
       "word_freq_hpl                 False\n",
       "word_freq_george              False\n",
       "word_freq_650                 False\n",
       "word_freq_lab                 False\n",
       "word_freq_labs                False\n",
       "word_freq_telnet              False\n",
       "word_freq_857                 False\n",
       "word_freq_data                False\n",
       "word_freq_415                 False\n",
       "word_freq_85                  False\n",
       "word_freq_technology          False\n",
       "word_freq_1999                False\n",
       "word_freq_parts               False\n",
       "word_freq_pm                  False\n",
       "word_freq_direct              False\n",
       "word_freq_cs                  False\n",
       "word_freq_meeting             False\n",
       "word_freq_original            False\n",
       "word_freq_project             False\n",
       "word_freq_re                  False\n",
       "word_freq_edu                 False\n",
       "word_freq_table               False\n",
       "word_freq_conference          False\n",
       "char_freq_;                   False\n",
       "char_freq_(                   False\n",
       "char_freq_[                   False\n",
       "char_freq_!                   False\n",
       "char_freq_$                   False\n",
       "char_freq_#                   False\n",
       "capital_run_length_average    False\n",
       "capital_run_length_longest    False\n",
       "capital_run_length_total      False\n",
       "dtype: bool"
      ]
     },
     "execution_count": 11,
     "metadata": {},
     "output_type": "execute_result"
    }
   ],
   "source": [
    "spambase_all.isna().any()"
   ]
  },
  {
   "cell_type": "markdown",
   "id": "74b9ce96-36e2-45e0-9b06-ad6f4c61b81f",
   "metadata": {},
   "source": [
    "#### Check for data imbalance"
   ]
  },
  {
   "cell_type": "code",
   "execution_count": 12,
   "id": "ea52ff96-200d-4f11-8a4f-c7e85d28abe6",
   "metadata": {},
   "outputs": [
    {
     "data": {
      "image/png": "[encoded data removed]",
      "text/plain": [
       "<Figure size 600x500 with 1 Axes>"
      ]
     },
     "metadata": {},
     "output_type": "display_data"
    }
   ],
   "source": [
    "sns.set(rc={\"figure.figsize\":(6, 5)})\n",
    "sns.set_style('white')\n",
    "\n",
    "spambase_all_exp = spambase_all.copy()\n",
    "spambase_all_exp[\"target_spam_nonspam\"] = spambase_all_exp[\"target_spam_nonspam\"].astype(bool)\n",
    "\n",
    "ax = sns.countplot(x='target_spam_nonspam', data=spambase_all_exp) \n",
    "ax.set(xlabel='Spam or not')\n",
    "\n",
    "plt.bar_label(ax.containers[0], label_type='center')\n",
    "plt.savefig('./images/imbalance_dataset.png')"
   ]
  },
  {
   "cell_type": "markdown",
   "id": "c4905585-c236-45bc-be3b-4f279e2f367d",
   "metadata": {},
   "source": [
    "#### Explore for Correlations\n",
    "The large number of features makes it difficult to determine the correlations."
   ]
  },
  {
   "cell_type": "code",
   "execution_count": 13,
   "id": "cad2ff48-347b-448d-9e34-ee717d3f51d8",
   "metadata": {},
   "outputs": [
    {
     "data": {
      "image/png": "[encoded data removed]",
      "text/plain": [
       "<Figure size 1000x800 with 2 Axes>"
      ]
     },
     "metadata": {},
     "output_type": "display_data"
    }
   ],
   "source": [
    "sns.set(rc={\"figure.figsize\":(10, 8)})\n",
    "sns.heatmap(spambase_all_exp.corr(), cmap='viridis')\n",
    "plt.savefig('./images/correlation_heatmap.png')"
   ]
  },
  {
   "cell_type": "markdown",
   "id": "afa0faf1-cd25-45ed-a8c0-ba3d87ca99db",
   "metadata": {},
   "source": [
    "### Challenges\n",
    "* Imbalance Binary Classification\n",
    "* Large number of features"
   ]
  },
  {
   "cell_type": "markdown",
   "id": "bc58c53e-2ebd-45c2-97b3-0e6950942cda",
   "metadata": {},
   "source": [
    "### Solutions"
   ]
  },
  {
   "cell_type": "markdown",
   "id": "349bf3f4-b023-4210-87a4-2643c4310bc8",
   "metadata": {},
   "source": [
    "#### Pandas Undersampling for Imbalanced Binary Classification"
   ]
  },
  {
   "cell_type": "code",
   "execution_count": 14,
   "id": "11047aad-593f-42db-8b8c-1539a502e735",
   "metadata": {},
   "outputs": [
    {
     "name": "stdout",
     "output_type": "stream",
     "text": [
      "get_balance_data\n"
     ]
    }
   ],
   "source": [
    "spam = spambase_all[spambase_all['target_spam_nonspam']==1]\n",
    "non_spam = spambase_all[spambase_all['target_spam_nonspam']==0]\n",
    "non_spam = non_spam.sample(n=len(spam), random_state=101)\n",
    "spambase_balance = pd.concat([spam, non_spam],axis=0)  \n",
    "\n",
    "# an alternative is simply use the loader.get_balance_dataset()\n",
    "# since SpambaseDatasetLoader already handled the undersampling during load.\n",
    "\n",
    "spambase_balance = loader.get_balance_dataset()"
   ]
  },
  {
   "cell_type": "code",
   "execution_count": 15,
   "id": "e6dd524b-bb2a-41b0-a1f3-d16f439a98be",
   "metadata": {},
   "outputs": [
    {
     "data": {
      "image/png": "[encoded data removed]",
      "text/plain": [
       "<Figure size 600x500 with 1 Axes>"
      ]
     },
     "metadata": {},
     "output_type": "display_data"
    }
   ],
   "source": [
    "spambase_balance_exp = spambase_balance.copy()\n",
    "spambase_balance_exp[\"target_spam_nonspam\"] = spambase_balance_exp[\"target_spam_nonspam\"].astype(bool)\n",
    "\n",
    "sns.set(rc={\"figure.figsize\":(6, 5)})\n",
    "sns.set_style('white')\n",
    "ax = sns.countplot(x='target_spam_nonspam', data=spambase_balance_exp) \n",
    "ax.set(xlabel='Spam or not')\n",
    "plt.bar_label(ax.containers[0], label_type='center')\n",
    "\n",
    "plt.savefig('./images/balance_dataset.png')"
   ]
  },
  {
   "cell_type": "markdown",
   "id": "89e360ec-65d6-484c-8575-5bcaf86c487a",
   "metadata": {},
   "source": [
    "#### Feature Selection"
   ]
  },
  {
   "cell_type": "code",
   "execution_count": 16,
   "id": "0e4fbec8-3992-48ec-ab6e-48b1c4242928",
   "metadata": {},
   "outputs": [
    {
     "name": "stdout",
     "output_type": "stream",
     "text": [
      "Help on method perform_feature_selection in module spambase_dataset_loader_nb:\n",
      "\n",
      "perform_feature_selection(data, feature_selection_type) method of spambase_dataset_loader_nb.SpambaseDatasetLoader instance\n",
      "    (DataFrame, float) --> Dataframe\n",
      "    \n",
      "    \n",
      "    This function performs feature selection based on the provided feature selection type.  \n",
      "    \n",
      "    Parameters\n",
      "    ----------\n",
      "    data: Dataframe that will be used in feature selection.\n",
      "    \n",
      "    feature_selection_type: The type of feature selection to be performed.\n",
      "    1. stepwise_back - use stepwise backward elimination technique in feature selection..\n",
      "    2. pearson - perform the feature selection using pearson correlation.\n",
      "    3. chi2 - perform the feature selection using chi-squared.\n",
      "    \n",
      "    Returns\n",
      "    ----------        \n",
      "    DataFrame : The DataFrame after performing feature selection.\n",
      "\n"
     ]
    }
   ],
   "source": [
    "help(loader.perform_feature_selection)"
   ]
  },
  {
   "cell_type": "code",
   "execution_count": 17,
   "id": "cbf7f2f4-af31-4d19-a8fa-2e4de812d5e8",
   "metadata": {},
   "outputs": [
    {
     "name": "stdout",
     "output_type": "stream",
     "text": [
      "The shape before feature selection: (3626, 58)\n",
      "Feature Selection using Backward Elimination\n",
      "Optimization terminated successfully.\n",
      "         Current function value: 0.198765\n",
      "         Iterations 15\n",
      "Optimization terminated successfully.\n",
      "         Current function value: 0.200934\n",
      "         Iterations 16\n",
      "Optimization terminated successfully.\n",
      "         Current function value: 0.200936\n",
      "         Iterations 16\n",
      "Optimization terminated successfully.\n",
      "         Current function value: 0.200939\n",
      "         Iterations 16\n",
      "Optimization terminated successfully.\n",
      "         Current function value: 0.200946\n",
      "         Iterations 16\n",
      "Optimization terminated successfully.\n",
      "         Current function value: 0.200953\n",
      "         Iterations 16\n",
      "Optimization terminated successfully.\n",
      "         Current function value: 0.200964\n",
      "         Iterations 16\n",
      "Optimization terminated successfully.\n",
      "         Current function value: 0.200981\n",
      "         Iterations 16\n",
      "Optimization terminated successfully.\n",
      "         Current function value: 0.201007\n",
      "         Iterations 16\n",
      "Optimization terminated successfully.\n",
      "         Current function value: 0.201046\n",
      "         Iterations 16\n",
      "Optimization terminated successfully.\n",
      "         Current function value: 0.201083\n",
      "         Iterations 16\n",
      "Optimization terminated successfully.\n",
      "         Current function value: 0.201128\n",
      "         Iterations 16\n",
      "Optimization terminated successfully.\n",
      "         Current function value: 0.201181\n",
      "         Iterations 16\n",
      "Optimization terminated successfully.\n",
      "         Current function value: 0.201260\n",
      "         Iterations 16\n",
      "Optimization terminated successfully.\n",
      "         Current function value: 0.201376\n",
      "         Iterations 16\n",
      "Optimization terminated successfully.\n",
      "         Current function value: 0.201630\n",
      "         Iterations 16\n",
      "Optimization terminated successfully.\n",
      "         Current function value: 0.203659\n",
      "         Iterations 15\n",
      "Optimization terminated successfully.\n",
      "         Current function value: 0.203808\n",
      "         Iterations 13\n",
      "Optimization terminated successfully.\n",
      "         Current function value: 0.203999\n",
      "         Iterations 13\n",
      "Optimization terminated successfully.\n",
      "         Current function value: 0.204877\n",
      "         Iterations 13\n",
      "Optimization terminated successfully.\n",
      "         Current function value: 0.205651\n",
      "         Iterations 13\n",
      "Optimization terminated successfully.\n",
      "         Current function value: 0.205951\n",
      "         Iterations 13\n",
      "Optimization terminated successfully.\n",
      "         Current function value: 0.206650\n",
      "         Iterations 13\n",
      "Optimization terminated successfully.\n",
      "         Current function value: 0.207035\n",
      "         Iterations 13\n",
      "Optimization terminated successfully.\n",
      "         Current function value: 0.208347\n",
      "         Iterations 13\n",
      "The shape after feature selection: (3626, 34)\n"
     ]
    }
   ],
   "source": [
    "stepwise_result = loader.perform_feature_selection(data=spambase_balance, feature_selection_type='stepwise_back')"
   ]
  },
  {
   "cell_type": "code",
   "execution_count": 18,
   "id": "d8a3fa10-7968-44fe-bf8e-dfdc8c3630ae",
   "metadata": {},
   "outputs": [
    {
     "name": "stdout",
     "output_type": "stream",
     "text": [
      "The shape before feature selection: (3626, 58)\n",
      "Feature Selection using Pearson Correlation\n",
      "The shape after feature selection: (3626, 19)\n"
     ]
    }
   ],
   "source": [
    "pearson_result = loader.perform_feature_selection(data=spambase_balance, feature_selection_type='pearson')"
   ]
  },
  {
   "cell_type": "code",
   "execution_count": 19,
   "id": "8302564d-4ccf-4c5d-bbb3-2b4a80e03824",
   "metadata": {},
   "outputs": [
    {
     "name": "stdout",
     "output_type": "stream",
     "text": [
      "The shape before feature selection: (3626, 58)\n",
      "Feature Selection using Chi-squared\n",
      "The shape after feature selection: (3626, 19)\n"
     ]
    }
   ],
   "source": [
    "chi2_result = loader.perform_feature_selection(data=spambase_balance, feature_selection_type='chi2')"
   ]
  },
  {
   "cell_type": "code",
   "execution_count": 20,
   "id": "da957ab4-9dc0-431f-8976-f1901528dabe",
   "metadata": {},
   "outputs": [
    {
     "name": "stdout",
     "output_type": "stream",
     "text": [
      "Index(['word_freq_make', 'word_freq_address', 'word_freq_our',\n",
      "       'word_freq_over', 'word_freq_remove', 'word_freq_internet',\n",
      "       'word_freq_order', 'word_freq_will', 'word_freq_addresses',\n",
      "       'word_freq_free', 'word_freq_business', 'word_freq_credit',\n",
      "       'word_freq_your', 'word_freq_000', 'word_freq_money', 'word_freq_hp',\n",
      "       'word_freq_hpl', 'word_freq_george', 'word_freq_650', 'word_freq_data',\n",
      "       'word_freq_85', 'word_freq_technology', 'word_freq_pm',\n",
      "       'word_freq_meeting', 'word_freq_project', 'word_freq_re',\n",
      "       'word_freq_edu', 'word_freq_conference', 'char_freq_;', 'char_freq_!',\n",
      "       'char_freq_$', 'char_freq_#', 'capital_run_length_longest',\n",
      "       'capital_run_length_total'],\n",
      "      dtype='object')\n"
     ]
    }
   ],
   "source": [
    "print(stepwise_result[0].columns)"
   ]
  },
  {
   "cell_type": "code",
   "execution_count": 21,
   "id": "a5e3d5fc-8593-4c56-b46f-ec082d587a10",
   "metadata": {},
   "outputs": [
    {
     "name": "stdout",
     "output_type": "stream",
     "text": [
      "Index(['word_freq_all', 'word_freq_our', 'word_freq_over', 'word_freq_remove',\n",
      "       'word_freq_order', 'word_freq_receive', 'word_freq_free',\n",
      "       'word_freq_business', 'word_freq_email', 'word_freq_you',\n",
      "       'word_freq_your', 'word_freq_000', 'word_freq_money', 'word_freq_hp',\n",
      "       'word_freq_hpl', 'word_freq_george', 'char_freq_!', 'char_freq_$',\n",
      "       'capital_run_length_total'],\n",
      "      dtype='object')\n"
     ]
    }
   ],
   "source": [
    "print(pearson_result[0].columns)"
   ]
  },
  {
   "cell_type": "code",
   "execution_count": 22,
   "id": "56c1a7bd-b84b-4dfe-a30b-6f3b3e186c05",
   "metadata": {},
   "outputs": [
    {
     "name": "stdout",
     "output_type": "stream",
     "text": [
      "Index(['word_freq_our', 'word_freq_remove', 'word_freq_free',\n",
      "       'word_freq_business', 'word_freq_you', 'word_freq_credit',\n",
      "       'word_freq_your', 'word_freq_000', 'word_freq_money', 'word_freq_hp',\n",
      "       'word_freq_hpl', 'word_freq_george', 'word_freq_lab',\n",
      "       'word_freq_meeting', 'word_freq_edu', 'char_freq_!',\n",
      "       'capital_run_length_average', 'capital_run_length_longest',\n",
      "       'capital_run_length_total'],\n",
      "      dtype='object')\n"
     ]
    }
   ],
   "source": [
    "print(chi2_result[0].columns)"
   ]
  },
  {
   "cell_type": "markdown",
   "id": "c1d4f6c5-1284-4e87-9bca-27c733e04bbe",
   "metadata": {},
   "source": [
    "## Model"
   ]
  },
  {
   "cell_type": "markdown",
   "id": "423e102c-176d-40ff-9c28-e14baa04192e",
   "metadata": {},
   "source": [
    "### Statsmodels\n",
    "The study introduced a model helper for running the test."
   ]
  },
  {
   "cell_type": "code",
   "execution_count": 23,
   "id": "4a624c2d-c7c9-4da9-a1d7-d6c7fa565cf2",
   "metadata": {},
   "outputs": [
    {
     "name": "stdout",
     "output_type": "stream",
     "text": [
      "init Model Helper notebook\n"
     ]
    }
   ],
   "source": [
    "model_helper = spambase_model_helper_nb.SpambaseModelHelper()"
   ]
  },
  {
   "cell_type": "code",
   "execution_count": 24,
   "id": "e16b0e58-e453-4eb5-bda9-d6478d35469f",
   "metadata": {},
   "outputs": [
    {
     "name": "stdout",
     "output_type": "stream",
     "text": [
      "Help on method run_statsmodels_logit in module spambase_model_helper_nb:\n",
      "\n",
      "run_statsmodels_logit(data, feature_selection_type=None, verbose=False) method of spambase_model_helper_nb.SpambaseModelHelper instance\n",
      "    This function runs logistic regression based on stats models.\n",
      "    \n",
      "    (DataFrame, boolean, boolean) --> DataFrame\n",
      "    \n",
      "    Parameters\n",
      "    ----------\n",
      "    data: Dataframe that will be used in running the model.\n",
      "    \n",
      "    feature_selection_type: Type of Feature Selection to use. Available options are stepwise_back, pearson and chi2.\n",
      "    verbose: True to display statsmodels summary, confusion matrix and its heatmap otherwise false.\n",
      "    \n",
      "    Returns\n",
      "    ----------        \n",
      "    DataFrame : The DataFrame of statsmodels scores.\n",
      "\n"
     ]
    }
   ],
   "source": [
    "help(model_helper.run_statsmodels_logit)"
   ]
  },
  {
   "cell_type": "markdown",
   "id": "6cd1f63a-6a54-4401-9619-ad8876648b10",
   "metadata": {},
   "source": [
    "#### Balance Dataset and Backward Elimination Technique"
   ]
  },
  {
   "cell_type": "code",
   "execution_count": 25,
   "id": "98384d76-62e2-4168-96a6-40c87f34633c",
   "metadata": {},
   "outputs": [
    {
     "name": "stdout",
     "output_type": "stream",
     "text": [
      "get_balance_data\n",
      "init Loader notebook\n",
      "The shape before feature selection: (3626, 58)\n",
      "Feature Selection using Backward Elimination\n",
      "Optimization terminated successfully.\n",
      "         Current function value: 0.198765\n",
      "         Iterations 15\n",
      "Optimization terminated successfully.\n",
      "         Current function value: 0.200934\n",
      "         Iterations 16\n",
      "Optimization terminated successfully.\n",
      "         Current function value: 0.200936\n",
      "         Iterations 16\n",
      "Optimization terminated successfully.\n",
      "         Current function value: 0.200939\n",
      "         Iterations 16\n",
      "Optimization terminated successfully.\n",
      "         Current function value: 0.200946\n",
      "         Iterations 16\n",
      "Optimization terminated successfully.\n",
      "         Current function value: 0.200953\n",
      "         Iterations 16\n",
      "Optimization terminated successfully.\n",
      "         Current function value: 0.200964\n",
      "         Iterations 16\n",
      "Optimization terminated successfully.\n",
      "         Current function value: 0.200981\n",
      "         Iterations 16\n",
      "Optimization terminated successfully.\n",
      "         Current function value: 0.201007\n",
      "         Iterations 16\n",
      "Optimization terminated successfully.\n",
      "         Current function value: 0.201046\n",
      "         Iterations 16\n",
      "Optimization terminated successfully.\n",
      "         Current function value: 0.201083\n",
      "         Iterations 16\n",
      "Optimization terminated successfully.\n",
      "         Current function value: 0.201128\n",
      "         Iterations 16\n",
      "Optimization terminated successfully.\n",
      "         Current function value: 0.201181\n",
      "         Iterations 16\n",
      "Optimization terminated successfully.\n",
      "         Current function value: 0.201260\n",
      "         Iterations 16\n",
      "Optimization terminated successfully.\n",
      "         Current function value: 0.201376\n",
      "         Iterations 16\n",
      "Optimization terminated successfully.\n",
      "         Current function value: 0.201630\n",
      "         Iterations 16\n",
      "Optimization terminated successfully.\n",
      "         Current function value: 0.203659\n",
      "         Iterations 15\n",
      "Optimization terminated successfully.\n",
      "         Current function value: 0.203808\n",
      "         Iterations 13\n",
      "Optimization terminated successfully.\n",
      "         Current function value: 0.203999\n",
      "         Iterations 13\n",
      "Optimization terminated successfully.\n",
      "         Current function value: 0.204877\n",
      "         Iterations 13\n",
      "Optimization terminated successfully.\n",
      "         Current function value: 0.205651\n",
      "         Iterations 13\n",
      "Optimization terminated successfully.\n",
      "         Current function value: 0.205951\n",
      "         Iterations 13\n",
      "Optimization terminated successfully.\n",
      "         Current function value: 0.206650\n",
      "         Iterations 13\n",
      "Optimization terminated successfully.\n",
      "         Current function value: 0.207035\n",
      "         Iterations 13\n",
      "Optimization terminated successfully.\n",
      "         Current function value: 0.208347\n",
      "         Iterations 13\n",
      "The shape after feature selection: (3626, 34)\n",
      "Optimization terminated successfully.\n",
      "         Current function value: 0.211650\n",
      "         Iterations 14\n",
      "                               Results: Logit\n",
      "=============================================================================\n",
      "Model:                  Logit                  Pseudo R-squared:    0.695    \n",
      "Dependent Variable:     target_spam_nonspam    AIC:                 1297.5680\n",
      "Date:                   2023-07-30 23:30       BIC:                 1506.6043\n",
      "No. Observations:       2900                   Log-Likelihood:      -613.78  \n",
      "Df Model:               34                     LL-Null:             -2010.1  \n",
      "Df Residuals:           2865                   LLR p-value:         0.0000   \n",
      "Converged:              1.0000                 Scale:               1.0000   \n",
      "No. Iterations:         14.0000                                              \n",
      "-----------------------------------------------------------------------------\n",
      "                            Coef.   Std.Err.    z    P>|z|   [0.025   0.975] \n",
      "-----------------------------------------------------------------------------\n",
      "const                       -1.1334   0.1382 -8.2002 0.0000  -1.4043  -0.8625\n",
      "word_freq_make              -0.6895   0.2807 -2.4562 0.0140  -1.2397  -0.1393\n",
      "word_freq_address           -0.1362   0.0711 -1.9162 0.0553  -0.2755   0.0031\n",
      "word_freq_our                0.7089   0.1440  4.9236 0.0000   0.4267   0.9910\n",
      "word_freq_over               1.1924   0.3294  3.6199 0.0003   0.5468   1.8380\n",
      "word_freq_remove             2.1662   0.3974  5.4512 0.0000   1.3874   2.9451\n",
      "word_freq_internet           0.3860   0.1591  2.4264 0.0152   0.0742   0.6979\n",
      "word_freq_order              1.1309   0.4254  2.6585 0.0078   0.2972   1.9646\n",
      "word_freq_will              -0.1952   0.0899 -2.1702 0.0300  -0.3714  -0.0189\n",
      "word_freq_addresses          1.7607   1.0987  1.6026 0.1090  -0.3926   3.9141\n",
      "word_freq_free               1.0159   0.1817  5.5924 0.0000   0.6599   1.3720\n",
      "word_freq_business           0.9559   0.2544  3.7567 0.0002   0.4572   1.4545\n",
      "word_freq_credit             1.8183   0.7640  2.3798 0.0173   0.3208   3.3157\n",
      "word_freq_your               0.3062   0.0617  4.9629 0.0000   0.1852   0.4271\n",
      "word_freq_000                2.0768   0.5421  3.8307 0.0001   1.0142   3.1393\n",
      "word_freq_money              0.5631   0.2708  2.0795 0.0376   0.0324   1.0938\n",
      "word_freq_hp                -1.6858   0.3045 -5.5367 0.0000  -2.2825  -1.0890\n",
      "word_freq_hpl               -1.2124   0.4897 -2.4761 0.0133  -2.1722  -0.2527\n",
      "word_freq_george           -16.0712   2.3997 -6.6972 0.0000 -20.7745 -11.3679\n",
      "word_freq_650                0.6702   0.3002  2.2329 0.0256   0.0819   1.2586\n",
      "word_freq_data              -0.8431   0.3263 -2.5842 0.0098  -1.4826  -0.2037\n",
      "word_freq_85                -2.4049   0.8758 -2.7458 0.0060  -4.1215  -0.6883\n",
      "word_freq_technology         0.7379   0.3737  1.9744 0.0483   0.0054   1.4704\n",
      "word_freq_pm                -0.8429   0.4824 -1.7473 0.0806  -1.7883   0.1026\n",
      "word_freq_meeting           -2.9390   0.9369 -3.1369 0.0017  -4.7753  -1.1027\n",
      "word_freq_project           -2.4142   0.7127 -3.3875 0.0007  -3.8110  -1.0174\n",
      "word_freq_re                -0.7563   0.1769 -4.2756 0.0000  -1.1030  -0.4096\n",
      "word_freq_edu               -1.4416   0.3019 -4.7742 0.0000  -2.0334  -0.8498\n",
      "word_freq_conference        -4.3789   1.8943 -2.3116 0.0208  -8.0918  -0.6661\n",
      "char_freq_;                 -0.6352   0.3304 -1.9228 0.0545  -1.2827   0.0123\n",
      "char_freq_!                  0.2405   0.0650  3.7016 0.0002   0.1132   0.3679\n",
      "char_freq_$                  5.7986   0.9568  6.0603 0.0000   3.9233   7.6739\n",
      "char_freq_#                  2.8186   0.7155  3.9392 0.0001   1.4162   4.2210\n",
      "capital_run_length_longest   0.0140   0.0024  5.8951 0.0000   0.0094   0.0187\n",
      "capital_run_length_total     0.0005   0.0002  2.2815 0.0225   0.0001   0.0010\n",
      "=============================================================================\n",
      "\n",
      "Confusion Matrix\n",
      "[[353  14]\n",
      " [ 31 328]]\n"
     ]
    },
    {
     "data": {
      "image/png": "[encoded data removed]",
      "text/plain": [
       "<Figure size 600x500 with 2 Axes>"
      ]
     },
     "metadata": {},
     "output_type": "display_data"
    }
   ],
   "source": [
    "spambase_balance = loader.get_balance_dataset()\n",
    "\n",
    "df_sm_stepwise_back = model_helper.run_statsmodels_logit(spambase_balance, \n",
    "                    feature_selection_type='stepwise_back', verbose=True)"
   ]
  },
  {
   "cell_type": "code",
   "execution_count": 26,
   "id": "fcf39a36-f60b-43b1-b356-23f251525cc6",
   "metadata": {},
   "outputs": [
    {
     "data": {
      "text/html": [
       "<div>\n",
       "<style scoped>\n",
       "    .dataframe tbody tr th:only-of-type {\n",
       "        vertical-align: middle;\n",
       "    }\n",
       "\n",
       "    .dataframe tbody tr th {\n",
       "        vertical-align: top;\n",
       "    }\n",
       "\n",
       "    .dataframe thead th {\n",
       "        text-align: right;\n",
       "    }\n",
       "</style>\n",
       "<table border=\"1\" class=\"dataframe\">\n",
       "  <thead>\n",
       "    <tr style=\"text-align: right;\">\n",
       "      <th></th>\n",
       "      <th>Accuracy</th>\n",
       "      <th>Precision</th>\n",
       "      <th>Recall</th>\n",
       "      <th>F1-Score</th>\n",
       "    </tr>\n",
       "  </thead>\n",
       "  <tbody>\n",
       "    <tr>\n",
       "      <th>Score</th>\n",
       "      <td>0.938017</td>\n",
       "      <td>0.961853</td>\n",
       "      <td>0.919271</td>\n",
       "      <td>0.94008</td>\n",
       "    </tr>\n",
       "  </tbody>\n",
       "</table>\n",
       "</div>"
      ],
      "text/plain": [
       "       Accuracy  Precision    Recall  F1-Score\n",
       "Score  0.938017   0.961853  0.919271   0.94008"
      ]
     },
     "execution_count": 26,
     "metadata": {},
     "output_type": "execute_result"
    }
   ],
   "source": [
    "df_sm_stepwise_back"
   ]
  },
  {
   "cell_type": "markdown",
   "id": "f756f813-e1f8-48b6-b3af-bffe1b2dbc73",
   "metadata": {},
   "source": [
    "#### Balance Dataset and Pearson Correlation"
   ]
  },
  {
   "cell_type": "code",
   "execution_count": 27,
   "id": "44c562b6-df2f-40ef-9323-3d8e794aa95d",
   "metadata": {},
   "outputs": [
    {
     "name": "stdout",
     "output_type": "stream",
     "text": [
      "get_balance_data\n",
      "init Loader notebook\n",
      "The shape before feature selection: (3626, 58)\n",
      "Feature Selection using Pearson Correlation\n",
      "The shape after feature selection: (3626, 19)\n",
      "Optimization terminated successfully.\n",
      "         Current function value: 0.270555\n",
      "         Iterations 14\n",
      "                              Results: Logit\n",
      "===========================================================================\n",
      "Model:                  Logit                 Pseudo R-squared:   0.610    \n",
      "Dependent Variable:     target_spam_nonspam   AIC:                1609.2204\n",
      "Date:                   2023-07-30 23:30      BIC:                1728.6697\n",
      "No. Observations:       2900                  Log-Likelihood:     -784.61  \n",
      "Df Model:               19                    LL-Null:            -2010.1  \n",
      "Df Residuals:           2880                  LLR p-value:        0.0000   \n",
      "Converged:              1.0000                Scale:              1.0000   \n",
      "No. Iterations:         14.0000                                            \n",
      "---------------------------------------------------------------------------\n",
      "                          Coef.   Std.Err.    z     P>|z|   [0.025   0.975]\n",
      "---------------------------------------------------------------------------\n",
      "const                     -1.8312   0.1209 -15.1454 0.0000  -2.0682 -1.5942\n",
      "word_freq_all              0.1417   0.1256   1.1283 0.2592  -0.1044  0.3877\n",
      "word_freq_our              0.5874   0.1010   5.8140 0.0000   0.3894  0.7854\n",
      "word_freq_over             1.3171   0.2837   4.6431 0.0000   0.7611  1.8731\n",
      "word_freq_remove           3.0495   0.4520   6.7461 0.0000   2.1635  3.9355\n",
      "word_freq_order            1.8773   0.3999   4.6940 0.0000   1.0934  2.6612\n",
      "word_freq_receive          0.1043   0.3502   0.2979 0.7658  -0.5820  0.7907\n",
      "word_freq_free             1.2005   0.1687   7.1153 0.0000   0.8698  1.5312\n",
      "word_freq_business         1.1723   0.2480   4.7261 0.0000   0.6861  1.6584\n",
      "word_freq_email            0.3444   0.1296   2.6566 0.0079   0.0903  0.5985\n",
      "word_freq_you              0.0098   0.0368   0.2676 0.7890  -0.0622  0.0819\n",
      "word_freq_your             0.3478   0.0579   6.0046 0.0000   0.2343  0.4614\n",
      "word_freq_000              2.9013   0.5702   5.0887 0.0000   1.7838  4.0188\n",
      "word_freq_money            0.7718   0.2713   2.8453 0.0044   0.2402  1.3035\n",
      "word_freq_hp              -1.4906   0.2988  -4.9891 0.0000  -2.0762 -0.9050\n",
      "word_freq_hpl             -1.5563   0.4946  -3.1464 0.0017  -2.5258 -0.5869\n",
      "word_freq_george         -14.6271   3.2712  -4.4715 0.0000 -21.0386 -8.2157\n",
      "char_freq_!                0.3693   0.0929   3.9752 0.0001   0.1872  0.5513\n",
      "char_freq_$                5.3150   0.8136   6.5330 0.0000   3.7205  6.9096\n",
      "capital_run_length_total   0.0012   0.0002   6.2442 0.0000   0.0008  0.0016\n",
      "===========================================================================\n",
      "\n",
      "Confusion Matrix\n",
      "[[342  25]\n",
      " [ 43 316]]\n"
     ]
    },
    {
     "data": {
      "image/png": "[encoded data removed]",
      "text/plain": [
       "<Figure size 600x500 with 2 Axes>"
      ]
     },
     "metadata": {},
     "output_type": "display_data"
    }
   ],
   "source": [
    "spambase_balance = loader.get_balance_dataset()\n",
    "\n",
    "df_sm_pearson = model_helper.run_statsmodels_logit(spambase_balance, \n",
    "                    feature_selection_type='pearson', verbose=True)"
   ]
  },
  {
   "cell_type": "code",
   "execution_count": 28,
   "id": "47d3f228-2b34-49a8-9b31-46489e1a27fc",
   "metadata": {},
   "outputs": [
    {
     "data": {
      "text/html": [
       "<div>\n",
       "<style scoped>\n",
       "    .dataframe tbody tr th:only-of-type {\n",
       "        vertical-align: middle;\n",
       "    }\n",
       "\n",
       "    .dataframe tbody tr th {\n",
       "        vertical-align: top;\n",
       "    }\n",
       "\n",
       "    .dataframe thead th {\n",
       "        text-align: right;\n",
       "    }\n",
       "</style>\n",
       "<table border=\"1\" class=\"dataframe\">\n",
       "  <thead>\n",
       "    <tr style=\"text-align: right;\">\n",
       "      <th></th>\n",
       "      <th>Accuracy</th>\n",
       "      <th>Precision</th>\n",
       "      <th>Recall</th>\n",
       "      <th>F1-Score</th>\n",
       "    </tr>\n",
       "  </thead>\n",
       "  <tbody>\n",
       "    <tr>\n",
       "      <th>Score</th>\n",
       "      <td>0.906336</td>\n",
       "      <td>0.93188</td>\n",
       "      <td>0.888312</td>\n",
       "      <td>0.909574</td>\n",
       "    </tr>\n",
       "  </tbody>\n",
       "</table>\n",
       "</div>"
      ],
      "text/plain": [
       "       Accuracy  Precision    Recall  F1-Score\n",
       "Score  0.906336    0.93188  0.888312  0.909574"
      ]
     },
     "execution_count": 28,
     "metadata": {},
     "output_type": "execute_result"
    }
   ],
   "source": [
    "df_sm_pearson"
   ]
  },
  {
   "cell_type": "markdown",
   "id": "263f9206-abdc-481b-bab4-aac51e713c7d",
   "metadata": {},
   "source": [
    "#### Balance Dataset and Chi-squared"
   ]
  },
  {
   "cell_type": "code",
   "execution_count": 29,
   "id": "feb39a68-bcff-427f-942a-5101e1019306",
   "metadata": {},
   "outputs": [
    {
     "name": "stdout",
     "output_type": "stream",
     "text": [
      "get_balance_data\n",
      "init Loader notebook\n",
      "The shape before feature selection: (3626, 58)\n",
      "Feature Selection using Chi-squared\n",
      "The shape after feature selection: (3626, 19)\n",
      "Optimization terminated successfully.\n",
      "         Current function value: 0.254574\n",
      "         Iterations 14\n",
      "                                Results: Logit\n",
      "==============================================================================\n",
      "Model:                   Logit                  Pseudo R-squared:    0.633    \n",
      "Dependent Variable:      target_spam_nonspam    AIC:                 1516.5313\n",
      "Date:                    2023-07-30 23:30       BIC:                 1635.9806\n",
      "No. Observations:        2900                   Log-Likelihood:      -738.27  \n",
      "Df Model:                19                     LL-Null:             -2010.1  \n",
      "Df Residuals:            2880                   LLR p-value:         0.0000   \n",
      "Converged:               1.0000                 Scale:               1.0000   \n",
      "No. Iterations:          14.0000                                              \n",
      "------------------------------------------------------------------------------\n",
      "                            Coef.   Std.Err.    z     P>|z|   [0.025   0.975] \n",
      "------------------------------------------------------------------------------\n",
      "const                       -1.3129   0.1230 -10.6749 0.0000  -1.5540  -1.0719\n",
      "word_freq_our                0.6396   0.1297   4.9312 0.0000   0.3854   0.8937\n",
      "word_freq_remove             2.6880   0.4336   6.1994 0.0000   1.8382   3.5378\n",
      "word_freq_free               1.0940   0.1728   6.3326 0.0000   0.7554   1.4326\n",
      "word_freq_business           1.1303   0.2526   4.4752 0.0000   0.6353   1.6253\n",
      "word_freq_you               -0.0031   0.0361  -0.0860 0.9315  -0.0739   0.0677\n",
      "word_freq_credit             1.1573   0.6101   1.8969 0.0578  -0.0385   2.3531\n",
      "word_freq_your               0.3264   0.0598   5.4606 0.0000   0.2092   0.4435\n",
      "word_freq_000                3.2666   0.5681   5.7495 0.0000   2.1530   4.3801\n",
      "word_freq_money              1.0977   0.3079   3.5651 0.0004   0.4942   1.7012\n",
      "word_freq_hp                -1.5544   0.2755  -5.6425 0.0000  -2.0944  -1.0145\n",
      "word_freq_hpl               -1.2441   0.4491  -2.7703 0.0056  -2.1243  -0.3639\n",
      "word_freq_george           -18.3510   2.7401  -6.6973 0.0000 -23.7214 -12.9806\n",
      "word_freq_lab               -3.2725   1.6146  -2.0268 0.0427  -6.4370  -0.1080\n",
      "word_freq_meeting           -3.0557   0.9612  -3.1791 0.0015  -4.9396  -1.1718\n",
      "word_freq_edu               -1.6748   0.3228  -5.1878 0.0000  -2.3075  -1.0420\n",
      "char_freq_!                  0.3087   0.0871   3.5446 0.0004   0.1380   0.4795\n",
      "capital_run_length_average   0.0070   0.0202   0.3459 0.7294  -0.0326   0.0466\n",
      "capital_run_length_longest   0.0167   0.0029   5.7848 0.0000   0.0111   0.0224\n",
      "capital_run_length_total     0.0006   0.0002   2.6890 0.0072   0.0002   0.0010\n",
      "==============================================================================\n",
      "\n",
      "Confusion Matrix\n",
      "[[347  20]\n",
      " [ 41 318]]\n"
     ]
    },
    {
     "data": {
      "image/png": "[encoded data removed]",
      "text/plain": [
       "<Figure size 600x500 with 2 Axes>"
      ]
     },
     "metadata": {},
     "output_type": "display_data"
    }
   ],
   "source": [
    "spambase_balance = loader.get_balance_dataset()\n",
    "\n",
    "df_sm_chi2 = model_helper.run_statsmodels_logit(spambase_balance, \n",
    "                    feature_selection_type='chi2', verbose=True)"
   ]
  },
  {
   "cell_type": "code",
   "execution_count": 30,
   "id": "590cd5af-a324-4ac5-a6f6-49efd879d75d",
   "metadata": {},
   "outputs": [
    {
     "data": {
      "text/html": [
       "<div>\n",
       "<style scoped>\n",
       "    .dataframe tbody tr th:only-of-type {\n",
       "        vertical-align: middle;\n",
       "    }\n",
       "\n",
       "    .dataframe tbody tr th {\n",
       "        vertical-align: top;\n",
       "    }\n",
       "\n",
       "    .dataframe thead th {\n",
       "        text-align: right;\n",
       "    }\n",
       "</style>\n",
       "<table border=\"1\" class=\"dataframe\">\n",
       "  <thead>\n",
       "    <tr style=\"text-align: right;\">\n",
       "      <th></th>\n",
       "      <th>Accuracy</th>\n",
       "      <th>Precision</th>\n",
       "      <th>Recall</th>\n",
       "      <th>F1-Score</th>\n",
       "    </tr>\n",
       "  </thead>\n",
       "  <tbody>\n",
       "    <tr>\n",
       "      <th>Score</th>\n",
       "      <td>0.915978</td>\n",
       "      <td>0.945504</td>\n",
       "      <td>0.89433</td>\n",
       "      <td>0.919205</td>\n",
       "    </tr>\n",
       "  </tbody>\n",
       "</table>\n",
       "</div>"
      ],
      "text/plain": [
       "       Accuracy  Precision   Recall  F1-Score\n",
       "Score  0.915978   0.945504  0.89433  0.919205"
      ]
     },
     "execution_count": 30,
     "metadata": {},
     "output_type": "execute_result"
    }
   ],
   "source": [
    "df_sm_chi2"
   ]
  },
  {
   "cell_type": "markdown",
   "id": "bfe8fa0c-62b6-4858-88c0-7ae4dd94d95f",
   "metadata": {},
   "source": [
    "#### Balance Dataset without Feature Selection"
   ]
  },
  {
   "cell_type": "code",
   "execution_count": 31,
   "id": "0ce2990b-8373-459e-8953-4cfe20d5bfe3",
   "metadata": {},
   "outputs": [
    {
     "name": "stdout",
     "output_type": "stream",
     "text": [
      "get_balance_data\n",
      "Optimization terminated successfully.\n",
      "         Current function value: 0.200946\n",
      "         Iterations 15\n",
      "                         Results: Logit\n",
      "================================================================\n",
      "Model:              Logit            Pseudo R-squared: 0.710    \n",
      "Dependent Variable: y                AIC:              1281.4857\n",
      "Date:               2023-07-30 23:30 BIC:              1627.8887\n",
      "No. Observations:   2900             Log-Likelihood:   -582.74  \n",
      "Df Model:           57               LL-Null:          -2010.1  \n",
      "Df Residuals:       2842             LLR p-value:      0.0000   \n",
      "Converged:          1.0000           Scale:            1.0000   \n",
      "No. Iterations:     15.0000                                     \n",
      "-----------------------------------------------------------------\n",
      "          Coef.    Std.Err.     z     P>|z|     [0.025    0.975] \n",
      "-----------------------------------------------------------------\n",
      "const     -1.2212    0.1767  -6.9123  0.0000    -1.5675   -0.8749\n",
      "x1        -0.6867    0.3051  -2.2507  0.0244    -1.2847   -0.0887\n",
      "x2        -0.1454    0.0774  -1.8798  0.0601    -0.2970    0.0062\n",
      "x3         0.0306    0.1440   0.2126  0.8316    -0.2516    0.3129\n",
      "x4         1.6498    1.3623   1.2111  0.2259    -1.0202    4.3199\n",
      "x5         0.6578    0.1446   4.5498  0.0000     0.3744    0.9411\n",
      "x6         1.2704    0.3491   3.6386  0.0003     0.5861    1.9546\n",
      "x7         2.0182    0.3902   5.1723  0.0000     1.2534    2.7830\n",
      "x8         0.4023    0.1657   2.4285  0.0152     0.0776    0.7271\n",
      "x9         1.3133    0.4665   2.8152  0.0049     0.3990    2.2277\n",
      "x10        0.1112    0.0969   1.1474  0.2512    -0.0788    0.3012\n",
      "x11       -0.0780    0.3828  -0.2037  0.8386    -0.8282    0.6723\n",
      "x12       -0.2336    0.0941  -2.4839  0.0130    -0.4180   -0.0493\n",
      "x13       -0.1332    0.2973  -0.4479  0.6542    -0.7159    0.4496\n",
      "x14        0.0572    0.1439   0.3977  0.6908    -0.2248    0.3393\n",
      "x15        2.2060    1.4018   1.5737  0.1155    -0.5414    4.9534\n",
      "x16        0.9560    0.1846   5.1779  0.0000     0.5941    1.3178\n",
      "x17        1.0764    0.2835   3.7974  0.0001     0.5209    1.6320\n",
      "x18        0.0750    0.1381   0.5432  0.5870    -0.1956    0.3456\n",
      "x19        0.0612    0.0442   1.3845  0.1662    -0.0255    0.1479\n",
      "x20        1.6784    0.8010   2.0955  0.0361     0.1085    3.2483\n",
      "x21        0.3265    0.0691   4.7218  0.0000     0.1909    0.4620\n",
      "x22        0.1395    0.1858   0.7507  0.4528    -0.2247    0.5038\n",
      "x23        2.1051    0.5702   3.6919  0.0002     0.9875    3.2227\n",
      "x24        0.3488    0.2335   1.4934  0.1353    -0.1090    0.8065\n",
      "x25       -1.5649    0.3462  -4.5199  0.0000    -2.2434   -0.8863\n",
      "x26       -1.1597    0.5169  -2.2436  0.0249    -2.1729   -0.1466\n",
      "x27      -17.2049    2.7380  -6.2837  0.0000   -22.5714  -11.8385\n",
      "x28        0.5492    0.2849   1.9277  0.0539    -0.0092    1.1076\n",
      "x29       -2.1617    1.4833  -1.4573  0.1450    -5.0690    0.7457\n",
      "x30       -0.9228    0.4703  -1.9621  0.0497    -1.8446   -0.0010\n",
      "x31        0.6337    1.2400   0.5110  0.6093    -1.7968    3.0641\n",
      "x32        1.3374    3.7459   0.3570  0.7211    -6.0045    8.6793\n",
      "x33       -0.7775    0.3389  -2.2938  0.0218    -1.4418   -0.1132\n",
      "x34      -18.7836    5.7273  -3.2797  0.0010   -30.0089   -7.5583\n",
      "x35       -2.4404    0.9378  -2.6024  0.0093    -4.2784   -0.6024\n",
      "x36        0.7722    0.3678   2.0997  0.0358     0.0514    1.4930\n",
      "x37        0.0366    0.2210   0.1657  0.8684    -0.3965    0.4697\n",
      "x38        0.5716    1.2825   0.4457  0.6558    -1.9420    3.0852\n",
      "x39       -0.6771    0.4841  -1.3987  0.1619    -1.6259    0.2717\n",
      "x40        0.3589    1.1178   0.3211  0.7481    -1.8319    2.5498\n",
      "x41      -42.8453   40.1180  -1.0680  0.2855  -121.4751   35.7846\n",
      "x42       -2.7829    0.9420  -2.9542  0.0031    -4.6292   -0.9366\n",
      "x43       -1.7003    1.0850  -1.5671  0.1171    -3.8268    0.4262\n",
      "x44       -2.1665    0.7323  -2.9587  0.0031    -3.6017   -0.7313\n",
      "x45       -0.8614    0.1823  -4.7257  0.0000    -1.2186   -0.5041\n",
      "x46       -1.1842    0.2882  -4.1091  0.0000    -1.7491   -0.6194\n",
      "x47       -3.7920    2.5850  -1.4669  0.1424    -8.8585    1.2745\n",
      "x48       -3.9483    1.9609  -2.0136  0.0441    -7.7916   -0.1051\n",
      "x49       -1.0017    0.5313  -1.8854  0.0594    -2.0431    0.0396\n",
      "x50        0.1509    0.3486   0.4328  0.6651    -0.5323    0.8340\n",
      "x51       -1.8605    1.4796  -1.2574  0.2086    -4.7603    1.0394\n",
      "x52        0.2281    0.0601   3.7972  0.0001     0.1104    0.3458\n",
      "x53        5.9557    0.9628   6.1859  0.0000     4.0686    7.8427\n",
      "x54        2.3343    1.6080   1.4516  0.1466    -0.8174    5.4859\n",
      "x55        0.0204    0.0252   0.8115  0.4171    -0.0289    0.0698\n",
      "x56        0.0119    0.0035   3.3758  0.0007     0.0050    0.0188\n",
      "x57        0.0007    0.0003   2.5250  0.0116     0.0002    0.0012\n",
      "================================================================\n",
      "\n",
      "Confusion Matrix\n",
      "[[348  19]\n",
      " [ 32 327]]\n"
     ]
    },
    {
     "data": {
      "image/png": "[encoded data removed]",
      "text/plain": [
       "<Figure size 600x500 with 2 Axes>"
      ]
     },
     "metadata": {},
     "output_type": "display_data"
    }
   ],
   "source": [
    "spambase_balance = loader.get_balance_dataset()\n",
    "\n",
    "df_sm_none = model_helper.run_statsmodels_logit(spambase_balance, \n",
    "                    feature_selection_type=None, verbose=True)"
   ]
  },
  {
   "cell_type": "code",
   "execution_count": 32,
   "id": "e9dc24bd-9472-4b4c-8587-fec13bd2f557",
   "metadata": {},
   "outputs": [
    {
     "data": {
      "text/html": [
       "<div>\n",
       "<style scoped>\n",
       "    .dataframe tbody tr th:only-of-type {\n",
       "        vertical-align: middle;\n",
       "    }\n",
       "\n",
       "    .dataframe tbody tr th {\n",
       "        vertical-align: top;\n",
       "    }\n",
       "\n",
       "    .dataframe thead th {\n",
       "        text-align: right;\n",
       "    }\n",
       "</style>\n",
       "<table border=\"1\" class=\"dataframe\">\n",
       "  <thead>\n",
       "    <tr style=\"text-align: right;\">\n",
       "      <th></th>\n",
       "      <th>Accuracy</th>\n",
       "      <th>Precision</th>\n",
       "      <th>Recall</th>\n",
       "      <th>F1-Score</th>\n",
       "    </tr>\n",
       "  </thead>\n",
       "  <tbody>\n",
       "    <tr>\n",
       "      <th>Score</th>\n",
       "      <td>0.929752</td>\n",
       "      <td>0.948229</td>\n",
       "      <td>0.915789</td>\n",
       "      <td>0.931727</td>\n",
       "    </tr>\n",
       "  </tbody>\n",
       "</table>\n",
       "</div>"
      ],
      "text/plain": [
       "       Accuracy  Precision    Recall  F1-Score\n",
       "Score  0.929752   0.948229  0.915789  0.931727"
      ]
     },
     "execution_count": 32,
     "metadata": {},
     "output_type": "execute_result"
    }
   ],
   "source": [
    "df_sm_none"
   ]
  },
  {
   "cell_type": "markdown",
   "id": "b5b64d86-88f7-48fe-af8e-9971304c422e",
   "metadata": {},
   "source": [
    "#### Full Dataset and Backward Elimination Technique"
   ]
  },
  {
   "cell_type": "code",
   "execution_count": 33,
   "id": "03a88ee3-265f-4fac-ab75-af48788b1fdb",
   "metadata": {},
   "outputs": [
    {
     "name": "stdout",
     "output_type": "stream",
     "text": [
      "get_full_dataset\n",
      "init Loader notebook\n",
      "The shape before feature selection: (4601, 58)\n",
      "Feature Selection using Backward Elimination\n",
      "Optimization terminated successfully.\n",
      "         Current function value: 0.197323\n",
      "         Iterations 15\n",
      "Optimization terminated successfully.\n",
      "         Current function value: 0.199514\n",
      "         Iterations 16\n",
      "Optimization terminated successfully.\n",
      "         Current function value: 0.199528\n",
      "         Iterations 16\n",
      "Optimization terminated successfully.\n",
      "         Current function value: 0.199542\n",
      "         Iterations 16\n",
      "Optimization terminated successfully.\n",
      "         Current function value: 0.199576\n",
      "         Iterations 16\n",
      "Optimization terminated successfully.\n",
      "         Current function value: 0.199597\n",
      "         Iterations 16\n",
      "Optimization terminated successfully.\n",
      "         Current function value: 0.199624\n",
      "         Iterations 16\n",
      "Optimization terminated successfully.\n",
      "         Current function value: 0.199674\n",
      "         Iterations 16\n",
      "Optimization terminated successfully.\n",
      "         Current function value: 0.199758\n",
      "         Iterations 16\n",
      "Optimization terminated successfully.\n",
      "         Current function value: 0.199829\n",
      "         Iterations 16\n",
      "Optimization terminated successfully.\n",
      "         Current function value: 0.199902\n",
      "         Iterations 16\n",
      "Optimization terminated successfully.\n",
      "         Current function value: 0.199997\n",
      "         Iterations 16\n",
      "Optimization terminated successfully.\n",
      "         Current function value: 0.200100\n",
      "         Iterations 16\n",
      "Optimization terminated successfully.\n",
      "         Current function value: 0.200192\n",
      "         Iterations 16\n",
      "Optimization terminated successfully.\n",
      "         Current function value: 0.200324\n",
      "         Iterations 16\n",
      "Optimization terminated successfully.\n",
      "         Current function value: 0.202340\n",
      "         Iterations 14\n",
      "Optimization terminated successfully.\n",
      "         Current function value: 0.202761\n",
      "         Iterations 14\n",
      "Optimization terminated successfully.\n",
      "         Current function value: 0.202999\n",
      "         Iterations 14\n",
      "Optimization terminated successfully.\n",
      "         Current function value: 0.203271\n",
      "         Iterations 14\n",
      "Optimization terminated successfully.\n",
      "         Current function value: 0.203670\n",
      "         Iterations 14\n",
      "Optimization terminated successfully.\n",
      "         Current function value: 0.204720\n",
      "         Iterations 13\n",
      "Optimization terminated successfully.\n",
      "         Current function value: 0.205019\n",
      "         Iterations 13\n",
      "Optimization terminated successfully.\n",
      "         Current function value: 0.205606\n",
      "         Iterations 13\n",
      "Optimization terminated successfully.\n",
      "         Current function value: 0.206639\n",
      "         Iterations 13\n",
      "Optimization terminated successfully.\n",
      "         Current function value: 0.207128\n",
      "         Iterations 13\n",
      "Optimization terminated successfully.\n",
      "         Current function value: 0.207569\n",
      "         Iterations 13\n",
      "The shape after feature selection: (4601, 33)\n",
      "Optimization terminated successfully.\n",
      "         Current function value: 0.201443\n",
      "         Iterations 14\n"
     ]
    },
    {
     "data": {
      "text/html": [
       "<div>\n",
       "<style scoped>\n",
       "    .dataframe tbody tr th:only-of-type {\n",
       "        vertical-align: middle;\n",
       "    }\n",
       "\n",
       "    .dataframe tbody tr th {\n",
       "        vertical-align: top;\n",
       "    }\n",
       "\n",
       "    .dataframe thead th {\n",
       "        text-align: right;\n",
       "    }\n",
       "</style>\n",
       "<table border=\"1\" class=\"dataframe\">\n",
       "  <thead>\n",
       "    <tr style=\"text-align: right;\">\n",
       "      <th></th>\n",
       "      <th>Accuracy</th>\n",
       "      <th>Precision</th>\n",
       "      <th>Recall</th>\n",
       "      <th>F1-Score</th>\n",
       "    </tr>\n",
       "  </thead>\n",
       "  <tbody>\n",
       "    <tr>\n",
       "      <th>Score</th>\n",
       "      <td>0.932682</td>\n",
       "      <td>0.955437</td>\n",
       "      <td>0.935428</td>\n",
       "      <td>0.945326</td>\n",
       "    </tr>\n",
       "  </tbody>\n",
       "</table>\n",
       "</div>"
      ],
      "text/plain": [
       "       Accuracy  Precision    Recall  F1-Score\n",
       "Score  0.932682   0.955437  0.935428  0.945326"
      ]
     },
     "execution_count": 33,
     "metadata": {},
     "output_type": "execute_result"
    }
   ],
   "source": [
    "spambase_full = loader.get_full_dataset()\n",
    "\n",
    "df_sm_full_stepwise = model_helper.run_statsmodels_logit(spambase_full, \n",
    "                    feature_selection_type='stepwise_back', verbose=False)\n",
    "df_sm_full_stepwise"
   ]
  },
  {
   "cell_type": "markdown",
   "id": "30029940-e7fc-4535-8bbb-57c08b1cd9fe",
   "metadata": {},
   "source": [
    "#### Full Dataset and Pearson Correlation"
   ]
  },
  {
   "cell_type": "code",
   "execution_count": 34,
   "id": "85450534-f9e0-4079-a6de-599e1e8bbc4c",
   "metadata": {},
   "outputs": [
    {
     "name": "stdout",
     "output_type": "stream",
     "text": [
      "get_full_dataset\n",
      "init Loader notebook\n",
      "The shape before feature selection: (4601, 58)\n",
      "Feature Selection using Pearson Correlation\n",
      "The shape after feature selection: (4601, 19)\n",
      "Optimization terminated successfully.\n",
      "         Current function value: 0.279534\n",
      "         Iterations 10\n"
     ]
    },
    {
     "data": {
      "text/html": [
       "<div>\n",
       "<style scoped>\n",
       "    .dataframe tbody tr th:only-of-type {\n",
       "        vertical-align: middle;\n",
       "    }\n",
       "\n",
       "    .dataframe tbody tr th {\n",
       "        vertical-align: top;\n",
       "    }\n",
       "\n",
       "    .dataframe thead th {\n",
       "        text-align: right;\n",
       "    }\n",
       "</style>\n",
       "<table border=\"1\" class=\"dataframe\">\n",
       "  <thead>\n",
       "    <tr style=\"text-align: right;\">\n",
       "      <th></th>\n",
       "      <th>Accuracy</th>\n",
       "      <th>Precision</th>\n",
       "      <th>Recall</th>\n",
       "      <th>F1-Score</th>\n",
       "    </tr>\n",
       "  </thead>\n",
       "  <tbody>\n",
       "    <tr>\n",
       "      <th>Score</th>\n",
       "      <td>0.892508</td>\n",
       "      <td>0.948307</td>\n",
       "      <td>0.883721</td>\n",
       "      <td>0.914875</td>\n",
       "    </tr>\n",
       "  </tbody>\n",
       "</table>\n",
       "</div>"
      ],
      "text/plain": [
       "       Accuracy  Precision    Recall  F1-Score\n",
       "Score  0.892508   0.948307  0.883721  0.914875"
      ]
     },
     "execution_count": 34,
     "metadata": {},
     "output_type": "execute_result"
    }
   ],
   "source": [
    "spambase_full = loader.get_full_dataset()\n",
    "\n",
    "df_sm_full_pearson = model_helper.run_statsmodels_logit(spambase_full, \n",
    "                    feature_selection_type='pearson', verbose=False)\n",
    "df_sm_full_pearson"
   ]
  },
  {
   "cell_type": "markdown",
   "id": "4f872afd-253d-46d7-b897-d1266aa2bf55",
   "metadata": {},
   "source": [
    "#### Full Dataset and Chi-squared"
   ]
  },
  {
   "cell_type": "code",
   "execution_count": 35,
   "id": "f1691762-f711-4a05-8718-a2071e44d974",
   "metadata": {},
   "outputs": [
    {
     "name": "stdout",
     "output_type": "stream",
     "text": [
      "get_full_dataset\n",
      "init Loader notebook\n",
      "The shape before feature selection: (4601, 58)\n",
      "Feature Selection using Chi-squared\n",
      "The shape after feature selection: (4601, 19)\n",
      "Optimization terminated successfully.\n",
      "         Current function value: 0.237301\n",
      "         Iterations 15\n"
     ]
    },
    {
     "data": {
      "text/html": [
       "<div>\n",
       "<style scoped>\n",
       "    .dataframe tbody tr th:only-of-type {\n",
       "        vertical-align: middle;\n",
       "    }\n",
       "\n",
       "    .dataframe tbody tr th {\n",
       "        vertical-align: top;\n",
       "    }\n",
       "\n",
       "    .dataframe thead th {\n",
       "        text-align: right;\n",
       "    }\n",
       "</style>\n",
       "<table border=\"1\" class=\"dataframe\">\n",
       "  <thead>\n",
       "    <tr style=\"text-align: right;\">\n",
       "      <th></th>\n",
       "      <th>Accuracy</th>\n",
       "      <th>Precision</th>\n",
       "      <th>Recall</th>\n",
       "      <th>F1-Score</th>\n",
       "    </tr>\n",
       "  </thead>\n",
       "  <tbody>\n",
       "    <tr>\n",
       "      <th>Score</th>\n",
       "      <td>0.919653</td>\n",
       "      <td>0.948307</td>\n",
       "      <td>0.92201</td>\n",
       "      <td>0.934974</td>\n",
       "    </tr>\n",
       "  </tbody>\n",
       "</table>\n",
       "</div>"
      ],
      "text/plain": [
       "       Accuracy  Precision   Recall  F1-Score\n",
       "Score  0.919653   0.948307  0.92201  0.934974"
      ]
     },
     "execution_count": 35,
     "metadata": {},
     "output_type": "execute_result"
    }
   ],
   "source": [
    "spambase_full = loader.get_full_dataset()\n",
    "\n",
    "df_sm_full_chi2 = model_helper.run_statsmodels_logit(spambase_full, \n",
    "                    feature_selection_type='chi2', verbose=False)\n",
    "df_sm_full_chi2"
   ]
  },
  {
   "cell_type": "markdown",
   "id": "c794b072-9e83-4dd4-813e-91b3179a5fe1",
   "metadata": {},
   "source": [
    "#### Full Dataset without Feature Selection"
   ]
  },
  {
   "cell_type": "code",
   "execution_count": 36,
   "id": "74a7788d-56d1-4a7b-a930-29e9e7f4a22c",
   "metadata": {},
   "outputs": [
    {
     "name": "stdout",
     "output_type": "stream",
     "text": [
      "get_full_dataset\n",
      "Warning: Maximum number of iterations has been exceeded.\n",
      "         Current function value: 0.191737\n",
      "         Iterations: 35\n"
     ]
    },
    {
     "name": "stderr",
     "output_type": "stream",
     "text": [
      "D:\\x-20a\\anaconda3\\Lib\\site-packages\\statsmodels\\base\\model.py:604: ConvergenceWarning: Maximum Likelihood optimization failed to converge. Check mle_retvals\n",
      "  warnings.warn(\"Maximum Likelihood optimization failed to \"\n"
     ]
    },
    {
     "data": {
      "text/html": [
       "<div>\n",
       "<style scoped>\n",
       "    .dataframe tbody tr th:only-of-type {\n",
       "        vertical-align: middle;\n",
       "    }\n",
       "\n",
       "    .dataframe tbody tr th {\n",
       "        vertical-align: top;\n",
       "    }\n",
       "\n",
       "    .dataframe thead th {\n",
       "        text-align: right;\n",
       "    }\n",
       "</style>\n",
       "<table border=\"1\" class=\"dataframe\">\n",
       "  <thead>\n",
       "    <tr style=\"text-align: right;\">\n",
       "      <th></th>\n",
       "      <th>Accuracy</th>\n",
       "      <th>Precision</th>\n",
       "      <th>Recall</th>\n",
       "      <th>F1-Score</th>\n",
       "    </tr>\n",
       "  </thead>\n",
       "  <tbody>\n",
       "    <tr>\n",
       "      <th>Score</th>\n",
       "      <td>0.926167</td>\n",
       "      <td>0.942959</td>\n",
       "      <td>0.936283</td>\n",
       "      <td>0.939609</td>\n",
       "    </tr>\n",
       "  </tbody>\n",
       "</table>\n",
       "</div>"
      ],
      "text/plain": [
       "       Accuracy  Precision    Recall  F1-Score\n",
       "Score  0.926167   0.942959  0.936283  0.939609"
      ]
     },
     "execution_count": 36,
     "metadata": {},
     "output_type": "execute_result"
    }
   ],
   "source": [
    "spambase_full = loader.get_full_dataset()\n",
    "\n",
    "df_sm_full_none = model_helper.run_statsmodels_logit(spambase_full, \n",
    "                    feature_selection_type=None, verbose=False)\n",
    "df_sm_full_none"
   ]
  },
  {
   "cell_type": "markdown",
   "id": "f8ae8dba-0f79-4492-8214-7c7153f74560",
   "metadata": {},
   "source": [
    "### Result"
   ]
  },
  {
   "cell_type": "markdown",
   "id": "2c649276-2556-418e-8a0f-f7a21ae76717",
   "metadata": {},
   "source": [
    "#### Balance Dataset"
   ]
  },
  {
   "cell_type": "code",
   "execution_count": 37,
   "id": "7f597888-37e1-46e6-91fd-6ada10b3331a",
   "metadata": {},
   "outputs": [
    {
     "data": {
      "text/html": [
       "<div>\n",
       "<style scoped>\n",
       "    .dataframe tbody tr th:only-of-type {\n",
       "        vertical-align: middle;\n",
       "    }\n",
       "\n",
       "    .dataframe tbody tr th {\n",
       "        vertical-align: top;\n",
       "    }\n",
       "\n",
       "    .dataframe thead th {\n",
       "        text-align: right;\n",
       "    }\n",
       "</style>\n",
       "<table border=\"1\" class=\"dataframe\">\n",
       "  <thead>\n",
       "    <tr style=\"text-align: right;\">\n",
       "      <th></th>\n",
       "      <th>Models</th>\n",
       "      <th>Accuracy</th>\n",
       "      <th>Precision</th>\n",
       "      <th>Recall</th>\n",
       "      <th>F1-Score</th>\n",
       "    </tr>\n",
       "  </thead>\n",
       "  <tbody>\n",
       "    <tr>\n",
       "      <th>0</th>\n",
       "      <td>Balance dataset and Backward Elimination</td>\n",
       "      <td>0.938017</td>\n",
       "      <td>0.961853</td>\n",
       "      <td>0.919271</td>\n",
       "      <td>0.940080</td>\n",
       "    </tr>\n",
       "    <tr>\n",
       "      <th>3</th>\n",
       "      <td>Balance dataset without Feature Selection</td>\n",
       "      <td>0.929752</td>\n",
       "      <td>0.948229</td>\n",
       "      <td>0.915789</td>\n",
       "      <td>0.931727</td>\n",
       "    </tr>\n",
       "    <tr>\n",
       "      <th>2</th>\n",
       "      <td>Balance dataset and Chi-squared</td>\n",
       "      <td>0.915978</td>\n",
       "      <td>0.945504</td>\n",
       "      <td>0.894330</td>\n",
       "      <td>0.919205</td>\n",
       "    </tr>\n",
       "    <tr>\n",
       "      <th>1</th>\n",
       "      <td>Balance dataset and Pearson Correlation</td>\n",
       "      <td>0.906336</td>\n",
       "      <td>0.931880</td>\n",
       "      <td>0.888312</td>\n",
       "      <td>0.909574</td>\n",
       "    </tr>\n",
       "  </tbody>\n",
       "</table>\n",
       "</div>"
      ],
      "text/plain": [
       "                                      Models  Accuracy  Precision    Recall  \\\n",
       "0   Balance dataset and Backward Elimination  0.938017   0.961853  0.919271   \n",
       "3  Balance dataset without Feature Selection  0.929752   0.948229  0.915789   \n",
       "2            Balance dataset and Chi-squared  0.915978   0.945504  0.894330   \n",
       "1    Balance dataset and Pearson Correlation  0.906336   0.931880  0.888312   \n",
       "\n",
       "   F1-Score  \n",
       "0  0.940080  \n",
       "3  0.931727  \n",
       "2  0.919205  \n",
       "1  0.909574  "
      ]
     },
     "execution_count": 37,
     "metadata": {},
     "output_type": "execute_result"
    }
   ],
   "source": [
    "df_bal_sm_merged = pd.concat([df_sm_stepwise_back, df_sm_pearson, df_sm_chi2, df_sm_none])\n",
    "\n",
    "as_bal_list = df_bal_sm_merged.index.tolist()\n",
    "\n",
    "as_bal_list[0] = 'Balance dataset and Backward Elimination'\n",
    "as_bal_list[1] = 'Balance dataset and Pearson Correlation'\n",
    "as_bal_list[2] = 'Balance dataset and Chi-squared'\n",
    "as_bal_list[3] = 'Balance dataset without Feature Selection'\n",
    "df_bal_sm_merged.index = as_bal_list\n",
    "\n",
    "df_bal_sm_merged = df_bal_sm_merged.reset_index()\n",
    "df_bal_sm_merged.rename(columns={'index': 'Models'}, inplace=True)\n",
    "\n",
    "df_bal_sm_merged = df_bal_sm_merged.sort_values('F1-Score', ascending=False)\n",
    "\n",
    "df_bal_sm_merged"
   ]
  },
  {
   "cell_type": "code",
   "execution_count": 38,
   "id": "f8932b74-b361-4bef-8af3-d60ed33be195",
   "metadata": {
    "tags": []
   },
   "outputs": [
    {
     "data": {
      "image/png": "[encoded data removed]",
      "text/plain": [
       "<Figure size 800x400 with 1 Axes>"
      ]
     },
     "metadata": {},
     "output_type": "display_data"
    }
   ],
   "source": [
    "sns.set(rc={\"figure.figsize\":(8, 4)})\n",
    "sns.set_style('white')\n",
    "\n",
    "df_bal_sm_merged_plot = df_bal_sm_merged.copy()\n",
    "df_bal_sm_merged_plot['Accuracy'] = df_bal_sm_merged_plot['Accuracy'].transform(lambda x: x * 100)\n",
    "df_bal_sm_merged_plot['Precision'] = df_bal_sm_merged_plot['Precision'].transform(lambda x: x * 100)\n",
    "df_bal_sm_merged_plot['Recall'] = df_bal_sm_merged_plot['Recall'].transform(lambda x: x * 100)\n",
    "df_bal_sm_merged_plot['F1-Score'] = df_bal_sm_merged_plot['F1-Score'].transform(lambda x: x * 100)\n",
    "\n",
    "ax = sns.barplot(data=df_bal_sm_merged_plot, x=df_bal_sm_merged_plot['Accuracy'], y=df_bal_sm_merged_plot['Models'], orient='h')\n",
    "ax.set_ylabel('')\n",
    "\n",
    "plt.bar_label(ax.containers[0], fmt='%.4f%%', label_type='center')\n",
    "plt.savefig('./images/result_balance.png', bbox_inches='tight')"
   ]
  },
  {
   "cell_type": "code",
   "execution_count": 39,
   "id": "069468e5-ae2f-4c9b-b5db-4b1fffcd15fd",
   "metadata": {
    "tags": []
   },
   "outputs": [
    {
     "data": {
      "text/html": [
       "<div>\n",
       "<style scoped>\n",
       "    .dataframe tbody tr th:only-of-type {\n",
       "        vertical-align: middle;\n",
       "    }\n",
       "\n",
       "    .dataframe tbody tr th {\n",
       "        vertical-align: top;\n",
       "    }\n",
       "\n",
       "    .dataframe thead th {\n",
       "        text-align: right;\n",
       "    }\n",
       "</style>\n",
       "<table border=\"1\" class=\"dataframe\">\n",
       "  <thead>\n",
       "    <tr style=\"text-align: right;\">\n",
       "      <th></th>\n",
       "      <th>Models</th>\n",
       "      <th>Accuracy</th>\n",
       "      <th>Precision</th>\n",
       "      <th>Recall</th>\n",
       "      <th>F1-Score</th>\n",
       "    </tr>\n",
       "  </thead>\n",
       "  <tbody>\n",
       "    <tr>\n",
       "      <th>0</th>\n",
       "      <td>Balance dataset and Backward Elimination</td>\n",
       "      <td>93.801653</td>\n",
       "      <td>96.185286</td>\n",
       "      <td>91.927083</td>\n",
       "      <td>94.007989</td>\n",
       "    </tr>\n",
       "    <tr>\n",
       "      <th>3</th>\n",
       "      <td>Balance dataset without Feature Selection</td>\n",
       "      <td>92.975207</td>\n",
       "      <td>94.822888</td>\n",
       "      <td>91.578947</td>\n",
       "      <td>93.172691</td>\n",
       "    </tr>\n",
       "    <tr>\n",
       "      <th>2</th>\n",
       "      <td>Balance dataset and Chi-squared</td>\n",
       "      <td>91.597796</td>\n",
       "      <td>94.550409</td>\n",
       "      <td>89.432990</td>\n",
       "      <td>91.920530</td>\n",
       "    </tr>\n",
       "    <tr>\n",
       "      <th>1</th>\n",
       "      <td>Balance dataset and Pearson Correlation</td>\n",
       "      <td>90.633609</td>\n",
       "      <td>93.188011</td>\n",
       "      <td>88.831169</td>\n",
       "      <td>90.957447</td>\n",
       "    </tr>\n",
       "  </tbody>\n",
       "</table>\n",
       "</div>"
      ],
      "text/plain": [
       "                                      Models   Accuracy  Precision     Recall  \\\n",
       "0   Balance dataset and Backward Elimination  93.801653  96.185286  91.927083   \n",
       "3  Balance dataset without Feature Selection  92.975207  94.822888  91.578947   \n",
       "2            Balance dataset and Chi-squared  91.597796  94.550409  89.432990   \n",
       "1    Balance dataset and Pearson Correlation  90.633609  93.188011  88.831169   \n",
       "\n",
       "    F1-Score  \n",
       "0  94.007989  \n",
       "3  93.172691  \n",
       "2  91.920530  \n",
       "1  90.957447  "
      ]
     },
     "execution_count": 39,
     "metadata": {},
     "output_type": "execute_result"
    }
   ],
   "source": [
    "df_bal_sm_merged_plot"
   ]
  },
  {
   "cell_type": "markdown",
   "id": "75ffc10d-1546-4783-8e89-75056a69454d",
   "metadata": {},
   "source": [
    "##### Balance Dataset Pseudo R-squared"
   ]
  },
  {
   "cell_type": "code",
   "execution_count": 40,
   "id": "c0a47a34-46c8-4d69-8c62-6ee0cb995a32",
   "metadata": {},
   "outputs": [
    {
     "data": {
      "text/html": [
       "<div>\n",
       "<style scoped>\n",
       "    .dataframe tbody tr th:only-of-type {\n",
       "        vertical-align: middle;\n",
       "    }\n",
       "\n",
       "    .dataframe tbody tr th {\n",
       "        vertical-align: top;\n",
       "    }\n",
       "\n",
       "    .dataframe thead th {\n",
       "        text-align: right;\n",
       "    }\n",
       "</style>\n",
       "<table border=\"1\" class=\"dataframe\">\n",
       "  <thead>\n",
       "    <tr style=\"text-align: right;\">\n",
       "      <th></th>\n",
       "      <th>Models</th>\n",
       "      <th>Pseudo R-squared</th>\n",
       "    </tr>\n",
       "  </thead>\n",
       "  <tbody>\n",
       "    <tr>\n",
       "      <th>3</th>\n",
       "      <td>Balance dataset without Feature Selection</td>\n",
       "      <td>0.710</td>\n",
       "    </tr>\n",
       "    <tr>\n",
       "      <th>0</th>\n",
       "      <td>Balance dataset and Backward Elimination</td>\n",
       "      <td>0.695</td>\n",
       "    </tr>\n",
       "    <tr>\n",
       "      <th>2</th>\n",
       "      <td>Balance dataset and Chi-squared</td>\n",
       "      <td>0.633</td>\n",
       "    </tr>\n",
       "    <tr>\n",
       "      <th>1</th>\n",
       "      <td>Balance dataset and Pearson Correlation</td>\n",
       "      <td>0.610</td>\n",
       "    </tr>\n",
       "  </tbody>\n",
       "</table>\n",
       "</div>"
      ],
      "text/plain": [
       "                                      Models  Pseudo R-squared\n",
       "3  Balance dataset without Feature Selection             0.710\n",
       "0   Balance dataset and Backward Elimination             0.695\n",
       "2            Balance dataset and Chi-squared             0.633\n",
       "1    Balance dataset and Pearson Correlation             0.610"
      ]
     },
     "execution_count": 40,
     "metadata": {},
     "output_type": "execute_result"
    }
   ],
   "source": [
    "pseudo_r2_rec = {'Models': as_bal_list,\n",
    "       'Pseudo R-squared': [0.695,0.610,0.633,0.710]}\n",
    "pseudo_r2_df = pd.DataFrame(pseudo_r2_rec)\n",
    "\n",
    "pseudo_r2_df = pseudo_r2_df.sort_values('Pseudo R-squared', ascending=False)\n",
    "pseudo_r2_df"
   ]
  },
  {
   "cell_type": "code",
   "execution_count": 41,
   "id": "953c370f-f4dd-4027-b673-96357318e4f4",
   "metadata": {},
   "outputs": [
    {
     "data": {
      "image/png": "[encoded data removed]",
      "text/plain": [
       "<Figure size 800x400 with 1 Axes>"
      ]
     },
     "metadata": {},
     "output_type": "display_data"
    }
   ],
   "source": [
    "sns.set(rc={\"figure.figsize\":(8, 4)})\n",
    "sns.set_style('white')\n",
    "\n",
    "ax = sns.barplot(data=pseudo_r2_df, x=pseudo_r2_df['Pseudo R-squared'], y=pseudo_r2_df['Models'], orient='h')\n",
    "ax.set_ylabel('')\n",
    "\n",
    "plt.bar_label(ax.containers[0], fmt='%.4f', label_type='center') \n",
    "plt.savefig('./images/pseudo_r_squared.png', bbox_inches='tight')"
   ]
  },
  {
   "cell_type": "markdown",
   "id": "ddc767f8-8144-42fe-b5d9-0ee15bea8dc5",
   "metadata": {},
   "source": [
    "#### Full Dataset"
   ]
  },
  {
   "cell_type": "code",
   "execution_count": 42,
   "id": "88742a8b-0ec3-4bfc-93cd-4cf548e6ebf0",
   "metadata": {},
   "outputs": [
    {
     "data": {
      "text/html": [
       "<div>\n",
       "<style scoped>\n",
       "    .dataframe tbody tr th:only-of-type {\n",
       "        vertical-align: middle;\n",
       "    }\n",
       "\n",
       "    .dataframe tbody tr th {\n",
       "        vertical-align: top;\n",
       "    }\n",
       "\n",
       "    .dataframe thead th {\n",
       "        text-align: right;\n",
       "    }\n",
       "</style>\n",
       "<table border=\"1\" class=\"dataframe\">\n",
       "  <thead>\n",
       "    <tr style=\"text-align: right;\">\n",
       "      <th></th>\n",
       "      <th>Models</th>\n",
       "      <th>Accuracy</th>\n",
       "      <th>Precision</th>\n",
       "      <th>Recall</th>\n",
       "      <th>F1-Score</th>\n",
       "    </tr>\n",
       "  </thead>\n",
       "  <tbody>\n",
       "    <tr>\n",
       "      <th>0</th>\n",
       "      <td>Full dataset and Backward Elimination</td>\n",
       "      <td>0.932682</td>\n",
       "      <td>0.955437</td>\n",
       "      <td>0.935428</td>\n",
       "      <td>0.945326</td>\n",
       "    </tr>\n",
       "    <tr>\n",
       "      <th>3</th>\n",
       "      <td>Full dataset without Feature Selection</td>\n",
       "      <td>0.926167</td>\n",
       "      <td>0.942959</td>\n",
       "      <td>0.936283</td>\n",
       "      <td>0.939609</td>\n",
       "    </tr>\n",
       "    <tr>\n",
       "      <th>2</th>\n",
       "      <td>Full dataset and Chi-squared</td>\n",
       "      <td>0.919653</td>\n",
       "      <td>0.948307</td>\n",
       "      <td>0.922010</td>\n",
       "      <td>0.934974</td>\n",
       "    </tr>\n",
       "    <tr>\n",
       "      <th>1</th>\n",
       "      <td>Full dataset and Pearson Correlation</td>\n",
       "      <td>0.892508</td>\n",
       "      <td>0.948307</td>\n",
       "      <td>0.883721</td>\n",
       "      <td>0.914875</td>\n",
       "    </tr>\n",
       "  </tbody>\n",
       "</table>\n",
       "</div>"
      ],
      "text/plain": [
       "                                   Models  Accuracy  Precision    Recall  \\\n",
       "0   Full dataset and Backward Elimination  0.932682   0.955437  0.935428   \n",
       "3  Full dataset without Feature Selection  0.926167   0.942959  0.936283   \n",
       "2            Full dataset and Chi-squared  0.919653   0.948307  0.922010   \n",
       "1    Full dataset and Pearson Correlation  0.892508   0.948307  0.883721   \n",
       "\n",
       "   F1-Score  \n",
       "0  0.945326  \n",
       "3  0.939609  \n",
       "2  0.934974  \n",
       "1  0.914875  "
      ]
     },
     "execution_count": 42,
     "metadata": {},
     "output_type": "execute_result"
    }
   ],
   "source": [
    "df_full_sm_merged = pd.concat([df_sm_full_stepwise, df_sm_full_pearson, df_sm_full_chi2, df_sm_full_none])\n",
    "\n",
    "as_full_list = df_full_sm_merged.index.tolist()\n",
    "\n",
    "as_full_list[0] = 'Full dataset and Backward Elimination'\n",
    "as_full_list[1] = 'Full dataset and Pearson Correlation'\n",
    "as_full_list[2] = 'Full dataset and Chi-squared'\n",
    "as_full_list[3] = 'Full dataset without Feature Selection'\n",
    "df_full_sm_merged.index = as_full_list\n",
    "\n",
    "df_full_sm_merged = df_full_sm_merged.reset_index()\n",
    "df_full_sm_merged.rename(columns={'index': 'Models'}, inplace=True)\n",
    "\n",
    "df_full_sm_merged = df_full_sm_merged.sort_values('F1-Score', ascending=False)\n",
    "\n",
    "df_full_sm_merged"
   ]
  },
  {
   "cell_type": "code",
   "execution_count": 43,
   "id": "93cdcaba-3590-4ded-91de-da008a8fb6ed",
   "metadata": {
    "tags": []
   },
   "outputs": [
    {
     "data": {
      "image/png": "[encoded data removed]",
      "text/plain": [
       "<Figure size 800x400 with 1 Axes>"
      ]
     },
     "metadata": {},
     "output_type": "display_data"
    }
   ],
   "source": [
    "sns.set(rc={\"figure.figsize\":(8, 4)})\n",
    "sns.set_style('white')\n",
    "\n",
    "df_full_sm_merged_plot = df_full_sm_merged.copy()\n",
    "df_full_sm_merged_plot['Accuracy'] = df_full_sm_merged_plot['Accuracy'].transform(lambda x: x * 100)\n",
    "df_full_sm_merged_plot['Precision'] = df_full_sm_merged_plot['Precision'].transform(lambda x: x * 100)\n",
    "df_full_sm_merged_plot['Recall'] = df_full_sm_merged_plot['Recall'].transform(lambda x: x * 100)\n",
    "df_full_sm_merged_plot['F1-Score'] = df_full_sm_merged_plot['F1-Score'].transform(lambda x: x * 100)\n",
    "\n",
    "ax = sns.barplot(data=df_full_sm_merged_plot, x=df_full_sm_merged_plot['F1-Score'], y=df_full_sm_merged_plot['Models'], orient='h')\n",
    "ax.set_ylabel('')\n",
    "\n",
    "plt.bar_label(ax.containers[0], fmt='%.4f%%', label_type='center')\n",
    "plt.savefig('./images/result_imbalance.png', bbox_inches='tight')"
   ]
  },
  {
   "cell_type": "markdown",
   "id": "b5706eeb-99f8-40ca-b41f-ddcdfd55c59d",
   "metadata": {},
   "source": [
    "## Conclusion"
   ]
  },
  {
   "cell_type": "markdown",
   "id": "3ce7b6b0-1cdc-45c8-8146-c656bc0becc7",
   "metadata": {},
   "source": [
    "The balance dataset and Backward Elimitation Technique produce better results compared to other models."
   ]
  },
  {
   "cell_type": "code",
   "execution_count": null,
   "id": "9e3137bf-7a1b-44f7-9303-4dc5041ab920",
   "metadata": {},
   "outputs": [],
   "source": []
  },
  {
   "cell_type": "code",
   "execution_count": null,
   "id": "b8935751-2cc2-41e8-b03f-7d1105d183a6",
   "metadata": {},
   "outputs": [],
   "source": []
  }
 ],
 "metadata": {
  "kernelspec": {
   "display_name": "Python 3 (ipykernel)",
   "language": "python",
   "name": "python3"
  },
  "language_info": {
   "codemirror_mode": {
    "name": "ipython",
    "version": 3
   },
   "file_extension": ".py",
   "mimetype": "text/x-python",
   "name": "python",
   "nbconvert_exporter": "python",
   "pygments_lexer": "ipython3",
   "version": "3.11.3"
  }
 },
 "nbformat": 4,
 "nbformat_minor": 5
}
