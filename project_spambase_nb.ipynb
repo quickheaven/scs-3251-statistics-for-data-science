{
 "cells": [
  {
   "cell_type": "markdown",
   "id": "dd86f395-7a74-4184-b4ff-dc5350bb1f0a",
   "metadata": {},
   "source": [
    "# Spam Email Classification"
   ]
  },
  {
   "cell_type": "code",
   "execution_count": null,
   "id": "66433742-5b72-4787-9b4d-a337ab9c9842",
   "metadata": {},
   "outputs": [],
   "source": []
  },
  {
   "cell_type": "code",
   "execution_count": 1,
   "id": "290c8bb2-7740-4a0d-9085-0e4e211fb5ef",
   "metadata": {},
   "outputs": [
    {
     "name": "stdout",
     "output_type": "stream",
     "text": [
      "Requirement already satisfied: ipynb in d:\\x-20a\\anaconda3\\lib\\site-packages (0.5.1)\n",
      "Requirement already satisfied: nbimporter in d:\\x-20a\\anaconda3\\lib\\site-packages (0.3.4)\n"
     ]
    }
   ],
   "source": [
    "# Importing an ipynb file from another ipynb file\n",
    "!pip install ipynb\n",
    "\n",
    "# Importing functions from another jupyter notebook\n",
    "!pip install nbimporter"
   ]
  },
  {
   "cell_type": "code",
   "execution_count": 2,
   "id": "d49edc60-917d-4ab7-be7c-71181b92ca6b",
   "metadata": {},
   "outputs": [],
   "source": [
    "import numpy as np\n",
    "import pandas as pd\n",
    "import matplotlib.pyplot as plt\n",
    "%matplotlib inline\n",
    "\n",
    "import seaborn as sns\n",
    "\n",
    "import warnings\n",
    "warnings.filterwarnings('ignore')"
   ]
  },
  {
   "cell_type": "markdown",
   "id": "f054fc12-09b5-40f9-a40f-32c60724b5a4",
   "metadata": {},
   "source": [
    "## Data Preparation:"
   ]
  },
  {
   "cell_type": "markdown",
   "id": "65e65633-ed95-4cf1-87aa-101403691576",
   "metadata": {},
   "source": [
    "### Load the datasets:"
   ]
  },
  {
   "cell_type": "code",
   "execution_count": 3,
   "id": "03635cd0-e3ef-4deb-87f0-4de7ec23db33",
   "metadata": {},
   "outputs": [
    {
     "name": "stdout",
     "output_type": "stream",
     "text": [
      "init Loader notebook\n"
     ]
    }
   ],
   "source": [
    "import nbimporter\n",
    "import spambase_dataset_loader_nb\n",
    "\n",
    "loader = spambase_dataset_loader_nb.SpambaseDatasetLoader()"
   ]
  },
  {
   "cell_type": "code",
   "execution_count": 4,
   "id": "a1ac5d7d-572c-41f8-ae5c-489def335664",
   "metadata": {},
   "outputs": [
    {
     "name": "stdout",
     "output_type": "stream",
     "text": [
      "Help on method load_dataset in module spambase_dataset_loader_nb:\n",
      "\n",
      "load_dataset(url='https://archive.ics.uci.edu/ml/machine-learning-databases/spambase/spambase.data') method of spambase_dataset_loader_nb.SpambaseDatasetLoader instance\n",
      "    (string) --> None\n",
      "    \n",
      "    This function retrieves the spambase.data from University of California Irvine (UCI) - Dataset Repository\n",
      "    and save into two files:\n",
      "    \n",
      "    1. spambase_all.csv - The CSV file that contain all the rows from spambase.data.\n",
      "    2. spambase_balance.csv - The CSV file that rows balance between spam and not spam records.\n",
      "\n"
     ]
    }
   ],
   "source": [
    "help(loader.load_dataset)"
   ]
  },
  {
   "cell_type": "code",
   "execution_count": 5,
   "id": "e74fa363-c80b-48a9-a61c-e217a3127195",
   "metadata": {},
   "outputs": [
    {
     "name": "stdout",
     "output_type": "stream",
     "text": [
      "Loading dataset.\n",
      "Loading spambase_all.csv completed.\n",
      "Loading spambase_balance.csv completed.\n"
     ]
    }
   ],
   "source": [
    "loader.load_dataset()"
   ]
  },
  {
   "cell_type": "code",
   "execution_count": 6,
   "id": "e366c64c-afd0-4d59-a1c6-68f2ebcdca1f",
   "metadata": {},
   "outputs": [
    {
     "name": "stdout",
     "output_type": "stream",
     "text": [
      "get_full_dataset\n"
     ]
    }
   ],
   "source": [
    "spambase_all = loader.get_full_dataset()\n",
    "spambase_all_bak = spambase_all.copy()"
   ]
  },
  {
   "cell_type": "markdown",
   "id": "9d69e135-6fa9-4f75-ac93-fb6d9e940bb6",
   "metadata": {},
   "source": [
    "### Data Exploration\n",
    "\n",
    "#### Explore the data using info() and describe() and head()"
   ]
  },
  {
   "cell_type": "code",
   "execution_count": 7,
   "id": "732bab3e-f50b-4c7e-aab8-445bc728640c",
   "metadata": {},
   "outputs": [
    {
     "name": "stdout",
     "output_type": "stream",
     "text": [
      "<class 'pandas.core.frame.DataFrame'>\n",
      "RangeIndex: 4601 entries, 0 to 4600\n",
      "Data columns (total 58 columns):\n",
      " #   Column                      Non-Null Count  Dtype  \n",
      "---  ------                      --------------  -----  \n",
      " 0   target_spam_nonspam         4601 non-null   int64  \n",
      " 1   word_freq_make              4601 non-null   float64\n",
      " 2   word_freq_address           4601 non-null   float64\n",
      " 3   word_freq_all               4601 non-null   float64\n",
      " 4   word_freq_3d                4601 non-null   float64\n",
      " 5   word_freq_our               4601 non-null   float64\n",
      " 6   word_freq_over              4601 non-null   float64\n",
      " 7   word_freq_remove            4601 non-null   float64\n",
      " 8   word_freq_internet          4601 non-null   float64\n",
      " 9   word_freq_order             4601 non-null   float64\n",
      " 10  word_freq_mail              4601 non-null   float64\n",
      " 11  word_freq_receive           4601 non-null   float64\n",
      " 12  word_freq_will              4601 non-null   float64\n",
      " 13  word_freq_people            4601 non-null   float64\n",
      " 14  word_freq_report            4601 non-null   float64\n",
      " 15  word_freq_addresses         4601 non-null   float64\n",
      " 16  word_freq_free              4601 non-null   float64\n",
      " 17  word_freq_business          4601 non-null   float64\n",
      " 18  word_freq_email             4601 non-null   float64\n",
      " 19  word_freq_you               4601 non-null   float64\n",
      " 20  word_freq_credit            4601 non-null   float64\n",
      " 21  word_freq_your              4601 non-null   float64\n",
      " 22  word_freq_font              4601 non-null   float64\n",
      " 23  word_freq_000               4601 non-null   float64\n",
      " 24  word_freq_money             4601 non-null   float64\n",
      " 25  word_freq_hp                4601 non-null   float64\n",
      " 26  word_freq_hpl               4601 non-null   float64\n",
      " 27  word_freq_george            4601 non-null   float64\n",
      " 28  word_freq_650               4601 non-null   float64\n",
      " 29  word_freq_lab               4601 non-null   float64\n",
      " 30  word_freq_labs              4601 non-null   float64\n",
      " 31  word_freq_telnet            4601 non-null   float64\n",
      " 32  word_freq_857               4601 non-null   float64\n",
      " 33  word_freq_data              4601 non-null   float64\n",
      " 34  word_freq_415               4601 non-null   float64\n",
      " 35  word_freq_85                4601 non-null   float64\n",
      " 36  word_freq_technology        4601 non-null   float64\n",
      " 37  word_freq_1999              4601 non-null   float64\n",
      " 38  word_freq_parts             4601 non-null   float64\n",
      " 39  word_freq_pm                4601 non-null   float64\n",
      " 40  word_freq_direct            4601 non-null   float64\n",
      " 41  word_freq_cs                4601 non-null   float64\n",
      " 42  word_freq_meeting           4601 non-null   float64\n",
      " 43  word_freq_original          4601 non-null   float64\n",
      " 44  word_freq_project           4601 non-null   float64\n",
      " 45  word_freq_re                4601 non-null   float64\n",
      " 46  word_freq_edu               4601 non-null   float64\n",
      " 47  word_freq_table             4601 non-null   float64\n",
      " 48  word_freq_conference        4601 non-null   float64\n",
      " 49  char_freq_;                 4601 non-null   float64\n",
      " 50  char_freq_(                 4601 non-null   float64\n",
      " 51  char_freq_[                 4601 non-null   float64\n",
      " 52  char_freq_!                 4601 non-null   float64\n",
      " 53  char_freq_$                 4601 non-null   float64\n",
      " 54  char_freq_#                 4601 non-null   float64\n",
      " 55  capital_run_length_average  4601 non-null   float64\n",
      " 56  capital_run_length_longest  4601 non-null   int64  \n",
      " 57  capital_run_length_total    4601 non-null   int64  \n",
      "dtypes: float64(55), int64(3)\n",
      "memory usage: 2.0 MB\n"
     ]
    }
   ],
   "source": [
    "spambase_all.info()"
   ]
  },
  {
   "cell_type": "code",
   "execution_count": 8,
   "id": "6e5557b9-3646-46d0-bc69-e4a9217b8933",
   "metadata": {},
   "outputs": [
    {
     "data": {
      "text/html": [
       "<div>\n",
       "<style scoped>\n",
       "    .dataframe tbody tr th:only-of-type {\n",
       "        vertical-align: middle;\n",
       "    }\n",
       "\n",
       "    .dataframe tbody tr th {\n",
       "        vertical-align: top;\n",
       "    }\n",
       "\n",
       "    .dataframe thead th {\n",
       "        text-align: right;\n",
       "    }\n",
       "</style>\n",
       "<table border=\"1\" class=\"dataframe\">\n",
       "  <thead>\n",
       "    <tr style=\"text-align: right;\">\n",
       "      <th></th>\n",
       "      <th>target_spam_nonspam</th>\n",
       "      <th>word_freq_make</th>\n",
       "      <th>word_freq_address</th>\n",
       "      <th>word_freq_all</th>\n",
       "      <th>word_freq_3d</th>\n",
       "      <th>word_freq_our</th>\n",
       "      <th>word_freq_over</th>\n",
       "      <th>word_freq_remove</th>\n",
       "      <th>word_freq_internet</th>\n",
       "      <th>word_freq_order</th>\n",
       "      <th>...</th>\n",
       "      <th>word_freq_conference</th>\n",
       "      <th>char_freq_;</th>\n",
       "      <th>char_freq_(</th>\n",
       "      <th>char_freq_[</th>\n",
       "      <th>char_freq_!</th>\n",
       "      <th>char_freq_$</th>\n",
       "      <th>char_freq_#</th>\n",
       "      <th>capital_run_length_average</th>\n",
       "      <th>capital_run_length_longest</th>\n",
       "      <th>capital_run_length_total</th>\n",
       "    </tr>\n",
       "  </thead>\n",
       "  <tbody>\n",
       "    <tr>\n",
       "      <th>count</th>\n",
       "      <td>4601.000000</td>\n",
       "      <td>4601.000000</td>\n",
       "      <td>4601.000000</td>\n",
       "      <td>4601.000000</td>\n",
       "      <td>4601.000000</td>\n",
       "      <td>4601.000000</td>\n",
       "      <td>4601.000000</td>\n",
       "      <td>4601.000000</td>\n",
       "      <td>4601.000000</td>\n",
       "      <td>4601.000000</td>\n",
       "      <td>...</td>\n",
       "      <td>4601.000000</td>\n",
       "      <td>4601.000000</td>\n",
       "      <td>4601.000000</td>\n",
       "      <td>4601.000000</td>\n",
       "      <td>4601.000000</td>\n",
       "      <td>4601.000000</td>\n",
       "      <td>4601.000000</td>\n",
       "      <td>4601.000000</td>\n",
       "      <td>4601.000000</td>\n",
       "      <td>4601.000000</td>\n",
       "    </tr>\n",
       "    <tr>\n",
       "      <th>mean</th>\n",
       "      <td>0.394045</td>\n",
       "      <td>0.104553</td>\n",
       "      <td>0.213015</td>\n",
       "      <td>0.280656</td>\n",
       "      <td>0.065425</td>\n",
       "      <td>0.312223</td>\n",
       "      <td>0.095901</td>\n",
       "      <td>0.114208</td>\n",
       "      <td>0.105295</td>\n",
       "      <td>0.090067</td>\n",
       "      <td>...</td>\n",
       "      <td>0.031869</td>\n",
       "      <td>0.038575</td>\n",
       "      <td>0.139030</td>\n",
       "      <td>0.016976</td>\n",
       "      <td>0.269071</td>\n",
       "      <td>0.075811</td>\n",
       "      <td>0.044238</td>\n",
       "      <td>5.191515</td>\n",
       "      <td>52.172789</td>\n",
       "      <td>283.289285</td>\n",
       "    </tr>\n",
       "    <tr>\n",
       "      <th>std</th>\n",
       "      <td>0.488698</td>\n",
       "      <td>0.305358</td>\n",
       "      <td>1.290575</td>\n",
       "      <td>0.504143</td>\n",
       "      <td>1.395151</td>\n",
       "      <td>0.672513</td>\n",
       "      <td>0.273824</td>\n",
       "      <td>0.391441</td>\n",
       "      <td>0.401071</td>\n",
       "      <td>0.278616</td>\n",
       "      <td>...</td>\n",
       "      <td>0.285735</td>\n",
       "      <td>0.243471</td>\n",
       "      <td>0.270355</td>\n",
       "      <td>0.109394</td>\n",
       "      <td>0.815672</td>\n",
       "      <td>0.245882</td>\n",
       "      <td>0.429342</td>\n",
       "      <td>31.729449</td>\n",
       "      <td>194.891310</td>\n",
       "      <td>606.347851</td>\n",
       "    </tr>\n",
       "    <tr>\n",
       "      <th>min</th>\n",
       "      <td>0.000000</td>\n",
       "      <td>0.000000</td>\n",
       "      <td>0.000000</td>\n",
       "      <td>0.000000</td>\n",
       "      <td>0.000000</td>\n",
       "      <td>0.000000</td>\n",
       "      <td>0.000000</td>\n",
       "      <td>0.000000</td>\n",
       "      <td>0.000000</td>\n",
       "      <td>0.000000</td>\n",
       "      <td>...</td>\n",
       "      <td>0.000000</td>\n",
       "      <td>0.000000</td>\n",
       "      <td>0.000000</td>\n",
       "      <td>0.000000</td>\n",
       "      <td>0.000000</td>\n",
       "      <td>0.000000</td>\n",
       "      <td>0.000000</td>\n",
       "      <td>1.000000</td>\n",
       "      <td>1.000000</td>\n",
       "      <td>1.000000</td>\n",
       "    </tr>\n",
       "    <tr>\n",
       "      <th>25%</th>\n",
       "      <td>0.000000</td>\n",
       "      <td>0.000000</td>\n",
       "      <td>0.000000</td>\n",
       "      <td>0.000000</td>\n",
       "      <td>0.000000</td>\n",
       "      <td>0.000000</td>\n",
       "      <td>0.000000</td>\n",
       "      <td>0.000000</td>\n",
       "      <td>0.000000</td>\n",
       "      <td>0.000000</td>\n",
       "      <td>...</td>\n",
       "      <td>0.000000</td>\n",
       "      <td>0.000000</td>\n",
       "      <td>0.000000</td>\n",
       "      <td>0.000000</td>\n",
       "      <td>0.000000</td>\n",
       "      <td>0.000000</td>\n",
       "      <td>0.000000</td>\n",
       "      <td>1.588000</td>\n",
       "      <td>6.000000</td>\n",
       "      <td>35.000000</td>\n",
       "    </tr>\n",
       "    <tr>\n",
       "      <th>50%</th>\n",
       "      <td>0.000000</td>\n",
       "      <td>0.000000</td>\n",
       "      <td>0.000000</td>\n",
       "      <td>0.000000</td>\n",
       "      <td>0.000000</td>\n",
       "      <td>0.000000</td>\n",
       "      <td>0.000000</td>\n",
       "      <td>0.000000</td>\n",
       "      <td>0.000000</td>\n",
       "      <td>0.000000</td>\n",
       "      <td>...</td>\n",
       "      <td>0.000000</td>\n",
       "      <td>0.000000</td>\n",
       "      <td>0.065000</td>\n",
       "      <td>0.000000</td>\n",
       "      <td>0.000000</td>\n",
       "      <td>0.000000</td>\n",
       "      <td>0.000000</td>\n",
       "      <td>2.276000</td>\n",
       "      <td>15.000000</td>\n",
       "      <td>95.000000</td>\n",
       "    </tr>\n",
       "    <tr>\n",
       "      <th>75%</th>\n",
       "      <td>1.000000</td>\n",
       "      <td>0.000000</td>\n",
       "      <td>0.000000</td>\n",
       "      <td>0.420000</td>\n",
       "      <td>0.000000</td>\n",
       "      <td>0.380000</td>\n",
       "      <td>0.000000</td>\n",
       "      <td>0.000000</td>\n",
       "      <td>0.000000</td>\n",
       "      <td>0.000000</td>\n",
       "      <td>...</td>\n",
       "      <td>0.000000</td>\n",
       "      <td>0.000000</td>\n",
       "      <td>0.188000</td>\n",
       "      <td>0.000000</td>\n",
       "      <td>0.315000</td>\n",
       "      <td>0.052000</td>\n",
       "      <td>0.000000</td>\n",
       "      <td>3.706000</td>\n",
       "      <td>43.000000</td>\n",
       "      <td>266.000000</td>\n",
       "    </tr>\n",
       "    <tr>\n",
       "      <th>max</th>\n",
       "      <td>1.000000</td>\n",
       "      <td>4.540000</td>\n",
       "      <td>14.280000</td>\n",
       "      <td>5.100000</td>\n",
       "      <td>42.810000</td>\n",
       "      <td>10.000000</td>\n",
       "      <td>5.880000</td>\n",
       "      <td>7.270000</td>\n",
       "      <td>11.110000</td>\n",
       "      <td>5.260000</td>\n",
       "      <td>...</td>\n",
       "      <td>10.000000</td>\n",
       "      <td>4.385000</td>\n",
       "      <td>9.752000</td>\n",
       "      <td>4.081000</td>\n",
       "      <td>32.478000</td>\n",
       "      <td>6.003000</td>\n",
       "      <td>19.829000</td>\n",
       "      <td>1102.500000</td>\n",
       "      <td>9989.000000</td>\n",
       "      <td>15841.000000</td>\n",
       "    </tr>\n",
       "  </tbody>\n",
       "</table>\n",
       "<p>8 rows × 58 columns</p>\n",
       "</div>"
      ],
      "text/plain": [
       "       target_spam_nonspam  word_freq_make  word_freq_address  word_freq_all  \\\n",
       "count          4601.000000     4601.000000        4601.000000    4601.000000   \n",
       "mean              0.394045        0.104553           0.213015       0.280656   \n",
       "std               0.488698        0.305358           1.290575       0.504143   \n",
       "min               0.000000        0.000000           0.000000       0.000000   \n",
       "25%               0.000000        0.000000           0.000000       0.000000   \n",
       "50%               0.000000        0.000000           0.000000       0.000000   \n",
       "75%               1.000000        0.000000           0.000000       0.420000   \n",
       "max               1.000000        4.540000          14.280000       5.100000   \n",
       "\n",
       "       word_freq_3d  word_freq_our  word_freq_over  word_freq_remove  \\\n",
       "count   4601.000000    4601.000000     4601.000000       4601.000000   \n",
       "mean       0.065425       0.312223        0.095901          0.114208   \n",
       "std        1.395151       0.672513        0.273824          0.391441   \n",
       "min        0.000000       0.000000        0.000000          0.000000   \n",
       "25%        0.000000       0.000000        0.000000          0.000000   \n",
       "50%        0.000000       0.000000        0.000000          0.000000   \n",
       "75%        0.000000       0.380000        0.000000          0.000000   \n",
       "max       42.810000      10.000000        5.880000          7.270000   \n",
       "\n",
       "       word_freq_internet  word_freq_order  ...  word_freq_conference  \\\n",
       "count         4601.000000      4601.000000  ...           4601.000000   \n",
       "mean             0.105295         0.090067  ...              0.031869   \n",
       "std              0.401071         0.278616  ...              0.285735   \n",
       "min              0.000000         0.000000  ...              0.000000   \n",
       "25%              0.000000         0.000000  ...              0.000000   \n",
       "50%              0.000000         0.000000  ...              0.000000   \n",
       "75%              0.000000         0.000000  ...              0.000000   \n",
       "max             11.110000         5.260000  ...             10.000000   \n",
       "\n",
       "       char_freq_;  char_freq_(  char_freq_[  char_freq_!  char_freq_$  \\\n",
       "count  4601.000000  4601.000000  4601.000000  4601.000000  4601.000000   \n",
       "mean      0.038575     0.139030     0.016976     0.269071     0.075811   \n",
       "std       0.243471     0.270355     0.109394     0.815672     0.245882   \n",
       "min       0.000000     0.000000     0.000000     0.000000     0.000000   \n",
       "25%       0.000000     0.000000     0.000000     0.000000     0.000000   \n",
       "50%       0.000000     0.065000     0.000000     0.000000     0.000000   \n",
       "75%       0.000000     0.188000     0.000000     0.315000     0.052000   \n",
       "max       4.385000     9.752000     4.081000    32.478000     6.003000   \n",
       "\n",
       "       char_freq_#  capital_run_length_average  capital_run_length_longest  \\\n",
       "count  4601.000000                 4601.000000                 4601.000000   \n",
       "mean      0.044238                    5.191515                   52.172789   \n",
       "std       0.429342                   31.729449                  194.891310   \n",
       "min       0.000000                    1.000000                    1.000000   \n",
       "25%       0.000000                    1.588000                    6.000000   \n",
       "50%       0.000000                    2.276000                   15.000000   \n",
       "75%       0.000000                    3.706000                   43.000000   \n",
       "max      19.829000                 1102.500000                 9989.000000   \n",
       "\n",
       "       capital_run_length_total  \n",
       "count               4601.000000  \n",
       "mean                 283.289285  \n",
       "std                  606.347851  \n",
       "min                    1.000000  \n",
       "25%                   35.000000  \n",
       "50%                   95.000000  \n",
       "75%                  266.000000  \n",
       "max                15841.000000  \n",
       "\n",
       "[8 rows x 58 columns]"
      ]
     },
     "execution_count": 8,
     "metadata": {},
     "output_type": "execute_result"
    }
   ],
   "source": [
    "spambase_all.describe()"
   ]
  },
  {
   "cell_type": "code",
   "execution_count": 9,
   "id": "4fd5d235-2696-4089-a086-fb95bd554f64",
   "metadata": {},
   "outputs": [
    {
     "data": {
      "text/html": [
       "<div>\n",
       "<style scoped>\n",
       "    .dataframe tbody tr th:only-of-type {\n",
       "        vertical-align: middle;\n",
       "    }\n",
       "\n",
       "    .dataframe tbody tr th {\n",
       "        vertical-align: top;\n",
       "    }\n",
       "\n",
       "    .dataframe thead th {\n",
       "        text-align: right;\n",
       "    }\n",
       "</style>\n",
       "<table border=\"1\" class=\"dataframe\">\n",
       "  <thead>\n",
       "    <tr style=\"text-align: right;\">\n",
       "      <th></th>\n",
       "      <th>target_spam_nonspam</th>\n",
       "      <th>word_freq_make</th>\n",
       "      <th>word_freq_address</th>\n",
       "      <th>word_freq_all</th>\n",
       "      <th>word_freq_3d</th>\n",
       "      <th>word_freq_our</th>\n",
       "      <th>word_freq_over</th>\n",
       "      <th>word_freq_remove</th>\n",
       "      <th>word_freq_internet</th>\n",
       "      <th>word_freq_order</th>\n",
       "      <th>...</th>\n",
       "      <th>word_freq_conference</th>\n",
       "      <th>char_freq_;</th>\n",
       "      <th>char_freq_(</th>\n",
       "      <th>char_freq_[</th>\n",
       "      <th>char_freq_!</th>\n",
       "      <th>char_freq_$</th>\n",
       "      <th>char_freq_#</th>\n",
       "      <th>capital_run_length_average</th>\n",
       "      <th>capital_run_length_longest</th>\n",
       "      <th>capital_run_length_total</th>\n",
       "    </tr>\n",
       "  </thead>\n",
       "  <tbody>\n",
       "    <tr>\n",
       "      <th>0</th>\n",
       "      <td>1</td>\n",
       "      <td>0.00</td>\n",
       "      <td>0.64</td>\n",
       "      <td>0.64</td>\n",
       "      <td>0.0</td>\n",
       "      <td>0.32</td>\n",
       "      <td>0.00</td>\n",
       "      <td>0.00</td>\n",
       "      <td>0.00</td>\n",
       "      <td>0.00</td>\n",
       "      <td>...</td>\n",
       "      <td>0.0</td>\n",
       "      <td>0.00</td>\n",
       "      <td>0.000</td>\n",
       "      <td>0.0</td>\n",
       "      <td>0.778</td>\n",
       "      <td>0.000</td>\n",
       "      <td>0.000</td>\n",
       "      <td>3.756</td>\n",
       "      <td>61</td>\n",
       "      <td>278</td>\n",
       "    </tr>\n",
       "    <tr>\n",
       "      <th>1</th>\n",
       "      <td>1</td>\n",
       "      <td>0.21</td>\n",
       "      <td>0.28</td>\n",
       "      <td>0.50</td>\n",
       "      <td>0.0</td>\n",
       "      <td>0.14</td>\n",
       "      <td>0.28</td>\n",
       "      <td>0.21</td>\n",
       "      <td>0.07</td>\n",
       "      <td>0.00</td>\n",
       "      <td>...</td>\n",
       "      <td>0.0</td>\n",
       "      <td>0.00</td>\n",
       "      <td>0.132</td>\n",
       "      <td>0.0</td>\n",
       "      <td>0.372</td>\n",
       "      <td>0.180</td>\n",
       "      <td>0.048</td>\n",
       "      <td>5.114</td>\n",
       "      <td>101</td>\n",
       "      <td>1028</td>\n",
       "    </tr>\n",
       "    <tr>\n",
       "      <th>2</th>\n",
       "      <td>1</td>\n",
       "      <td>0.06</td>\n",
       "      <td>0.00</td>\n",
       "      <td>0.71</td>\n",
       "      <td>0.0</td>\n",
       "      <td>1.23</td>\n",
       "      <td>0.19</td>\n",
       "      <td>0.19</td>\n",
       "      <td>0.12</td>\n",
       "      <td>0.64</td>\n",
       "      <td>...</td>\n",
       "      <td>0.0</td>\n",
       "      <td>0.01</td>\n",
       "      <td>0.143</td>\n",
       "      <td>0.0</td>\n",
       "      <td>0.276</td>\n",
       "      <td>0.184</td>\n",
       "      <td>0.010</td>\n",
       "      <td>9.821</td>\n",
       "      <td>485</td>\n",
       "      <td>2259</td>\n",
       "    </tr>\n",
       "    <tr>\n",
       "      <th>3</th>\n",
       "      <td>1</td>\n",
       "      <td>0.00</td>\n",
       "      <td>0.00</td>\n",
       "      <td>0.00</td>\n",
       "      <td>0.0</td>\n",
       "      <td>0.63</td>\n",
       "      <td>0.00</td>\n",
       "      <td>0.31</td>\n",
       "      <td>0.63</td>\n",
       "      <td>0.31</td>\n",
       "      <td>...</td>\n",
       "      <td>0.0</td>\n",
       "      <td>0.00</td>\n",
       "      <td>0.137</td>\n",
       "      <td>0.0</td>\n",
       "      <td>0.137</td>\n",
       "      <td>0.000</td>\n",
       "      <td>0.000</td>\n",
       "      <td>3.537</td>\n",
       "      <td>40</td>\n",
       "      <td>191</td>\n",
       "    </tr>\n",
       "    <tr>\n",
       "      <th>4</th>\n",
       "      <td>1</td>\n",
       "      <td>0.00</td>\n",
       "      <td>0.00</td>\n",
       "      <td>0.00</td>\n",
       "      <td>0.0</td>\n",
       "      <td>0.63</td>\n",
       "      <td>0.00</td>\n",
       "      <td>0.31</td>\n",
       "      <td>0.63</td>\n",
       "      <td>0.31</td>\n",
       "      <td>...</td>\n",
       "      <td>0.0</td>\n",
       "      <td>0.00</td>\n",
       "      <td>0.135</td>\n",
       "      <td>0.0</td>\n",
       "      <td>0.135</td>\n",
       "      <td>0.000</td>\n",
       "      <td>0.000</td>\n",
       "      <td>3.537</td>\n",
       "      <td>40</td>\n",
       "      <td>191</td>\n",
       "    </tr>\n",
       "  </tbody>\n",
       "</table>\n",
       "<p>5 rows × 58 columns</p>\n",
       "</div>"
      ],
      "text/plain": [
       "   target_spam_nonspam  word_freq_make  word_freq_address  word_freq_all  \\\n",
       "0                    1            0.00               0.64           0.64   \n",
       "1                    1            0.21               0.28           0.50   \n",
       "2                    1            0.06               0.00           0.71   \n",
       "3                    1            0.00               0.00           0.00   \n",
       "4                    1            0.00               0.00           0.00   \n",
       "\n",
       "   word_freq_3d  word_freq_our  word_freq_over  word_freq_remove  \\\n",
       "0           0.0           0.32            0.00              0.00   \n",
       "1           0.0           0.14            0.28              0.21   \n",
       "2           0.0           1.23            0.19              0.19   \n",
       "3           0.0           0.63            0.00              0.31   \n",
       "4           0.0           0.63            0.00              0.31   \n",
       "\n",
       "   word_freq_internet  word_freq_order  ...  word_freq_conference  \\\n",
       "0                0.00             0.00  ...                   0.0   \n",
       "1                0.07             0.00  ...                   0.0   \n",
       "2                0.12             0.64  ...                   0.0   \n",
       "3                0.63             0.31  ...                   0.0   \n",
       "4                0.63             0.31  ...                   0.0   \n",
       "\n",
       "   char_freq_;  char_freq_(  char_freq_[  char_freq_!  char_freq_$  \\\n",
       "0         0.00        0.000          0.0        0.778        0.000   \n",
       "1         0.00        0.132          0.0        0.372        0.180   \n",
       "2         0.01        0.143          0.0        0.276        0.184   \n",
       "3         0.00        0.137          0.0        0.137        0.000   \n",
       "4         0.00        0.135          0.0        0.135        0.000   \n",
       "\n",
       "   char_freq_#  capital_run_length_average  capital_run_length_longest  \\\n",
       "0        0.000                       3.756                          61   \n",
       "1        0.048                       5.114                         101   \n",
       "2        0.010                       9.821                         485   \n",
       "3        0.000                       3.537                          40   \n",
       "4        0.000                       3.537                          40   \n",
       "\n",
       "   capital_run_length_total  \n",
       "0                       278  \n",
       "1                      1028  \n",
       "2                      2259  \n",
       "3                       191  \n",
       "4                       191  \n",
       "\n",
       "[5 rows x 58 columns]"
      ]
     },
     "execution_count": 9,
     "metadata": {},
     "output_type": "execute_result"
    }
   ],
   "source": [
    "spambase_all.head(5)"
   ]
  },
  {
   "cell_type": "markdown",
   "id": "2e12377f-69d9-4852-b937-907cca4dd578",
   "metadata": {},
   "source": [
    "#### Check for null values."
   ]
  },
  {
   "cell_type": "code",
   "execution_count": 10,
   "id": "e766e561-f7a6-47d5-9033-c74b325c1041",
   "metadata": {},
   "outputs": [
    {
     "data": {
      "text/plain": [
       "<AxesSubplot:>"
      ]
     },
     "execution_count": 10,
     "metadata": {},
     "output_type": "execute_result"
    },
    {
     "data": {
      "image/png": "[encoded data removed]",
      "text/plain": [
       "<Figure size 720x576 with 1 Axes>"
      ]
     },
     "metadata": {
      "needs_background": "light"
     },
     "output_type": "display_data"
    }
   ],
   "source": [
    "plt.figure(figsize=(10, 8))\n",
    "\n",
    "ax = plt.axes()\n",
    "sns.heatmap(spambase_all.isnull(), ax=ax, yticklabels=False, cbar=False, cmap=\"cividis\")\n"
   ]
  },
  {
   "cell_type": "markdown",
   "id": "62cd69ae-5ac0-4c2d-94ff-1bdf027f253f",
   "metadata": {},
   "source": [
    "#### Check for na"
   ]
  },
  {
   "cell_type": "code",
   "execution_count": 11,
   "id": "32586cd3-8526-4c50-8c0c-bf9b4dab9a98",
   "metadata": {},
   "outputs": [
    {
     "data": {
      "text/plain": [
       "target_spam_nonspam           False\n",
       "word_freq_make                False\n",
       "word_freq_address             False\n",
       "word_freq_all                 False\n",
       "word_freq_3d                  False\n",
       "word_freq_our                 False\n",
       "word_freq_over                False\n",
       "word_freq_remove              False\n",
       "word_freq_internet            False\n",
       "word_freq_order               False\n",
       "word_freq_mail                False\n",
       "word_freq_receive             False\n",
       "word_freq_will                False\n",
       "word_freq_people              False\n",
       "word_freq_report              False\n",
       "word_freq_addresses           False\n",
       "word_freq_free                False\n",
       "word_freq_business            False\n",
       "word_freq_email               False\n",
       "word_freq_you                 False\n",
       "word_freq_credit              False\n",
       "word_freq_your                False\n",
       "word_freq_font                False\n",
       "word_freq_000                 False\n",
       "word_freq_money               False\n",
       "word_freq_hp                  False\n",
       "word_freq_hpl                 False\n",
       "word_freq_george              False\n",
       "word_freq_650                 False\n",
       "word_freq_lab                 False\n",
       "word_freq_labs                False\n",
       "word_freq_telnet              False\n",
       "word_freq_857                 False\n",
       "word_freq_data                False\n",
       "word_freq_415                 False\n",
       "word_freq_85                  False\n",
       "word_freq_technology          False\n",
       "word_freq_1999                False\n",
       "word_freq_parts               False\n",
       "word_freq_pm                  False\n",
       "word_freq_direct              False\n",
       "word_freq_cs                  False\n",
       "word_freq_meeting             False\n",
       "word_freq_original            False\n",
       "word_freq_project             False\n",
       "word_freq_re                  False\n",
       "word_freq_edu                 False\n",
       "word_freq_table               False\n",
       "word_freq_conference          False\n",
       "char_freq_;                   False\n",
       "char_freq_(                   False\n",
       "char_freq_[                   False\n",
       "char_freq_!                   False\n",
       "char_freq_$                   False\n",
       "char_freq_#                   False\n",
       "capital_run_length_average    False\n",
       "capital_run_length_longest    False\n",
       "capital_run_length_total      False\n",
       "dtype: bool"
      ]
     },
     "execution_count": 11,
     "metadata": {},
     "output_type": "execute_result"
    }
   ],
   "source": [
    "spambase_all.isna().any()"
   ]
  },
  {
   "cell_type": "markdown",
   "id": "74b9ce96-36e2-45e0-9b06-ad6f4c61b81f",
   "metadata": {},
   "source": [
    "#### Check for data imbalance"
   ]
  },
  {
   "cell_type": "code",
   "execution_count": 12,
   "id": "ea52ff96-200d-4f11-8a4f-c7e85d28abe6",
   "metadata": {},
   "outputs": [
    {
     "data": {
      "text/plain": [
       "[Text(0.5, 0, 'Spam or not')]"
      ]
     },
     "execution_count": 12,
     "metadata": {},
     "output_type": "execute_result"
    },
    {
     "data": {
      "image/png": "[encoded data removed]",
      "text/plain": [
       "<Figure size 432x360 with 1 Axes>"
      ]
     },
     "metadata": {},
     "output_type": "display_data"
    }
   ],
   "source": [
    "sns.set(rc={\"figure.figsize\":(6, 5)})\n",
    "sns.set_style('white')\n",
    "\n",
    "spambase_all_exp = spambase_all.copy()\n",
    "spambase_all_exp[\"target_spam_nonspam\"] = spambase_all_exp[\"target_spam_nonspam\"].astype(bool)\n",
    "\n",
    "ax = sns.countplot(x='target_spam_nonspam', data=spambase_all_exp) \n",
    "ax.set(xlabel='Spam or not')"
   ]
  },
  {
   "cell_type": "markdown",
   "id": "c4905585-c236-45bc-be3b-4f279e2f367d",
   "metadata": {},
   "source": [
    "#### Explore for Correlations\n",
    "The large number of features makes it difficult to determine the correlations."
   ]
  },
  {
   "cell_type": "code",
   "execution_count": 13,
   "id": "cad2ff48-347b-448d-9e34-ee717d3f51d8",
   "metadata": {},
   "outputs": [
    {
     "data": {
      "text/plain": [
       "<AxesSubplot:>"
      ]
     },
     "execution_count": 13,
     "metadata": {},
     "output_type": "execute_result"
    },
    {
     "data": {
      "image/png": "[encoded data removed]",
      "text/plain": [
       "<Figure size 720x576 with 2 Axes>"
      ]
     },
     "metadata": {},
     "output_type": "display_data"
    }
   ],
   "source": [
    "sns.set(rc={\"figure.figsize\":(10, 8)})\n",
    "sns.heatmap(spambase_all_exp.corr(), cmap='viridis')"
   ]
  },
  {
   "cell_type": "markdown",
   "id": "afa0faf1-cd25-45ed-a8c0-ba3d87ca99db",
   "metadata": {},
   "source": [
    "### Challenges\n",
    "* Imbalance Binary Classification\n",
    "* Large number of features"
   ]
  },
  {
   "cell_type": "markdown",
   "id": "bc58c53e-2ebd-45c2-97b3-0e6950942cda",
   "metadata": {},
   "source": [
    "### Solutions"
   ]
  },
  {
   "cell_type": "markdown",
   "id": "349bf3f4-b023-4210-87a4-2643c4310bc8",
   "metadata": {},
   "source": [
    "#### Pandas Undersampling for Imbalanced Binary Classification"
   ]
  },
  {
   "cell_type": "code",
   "execution_count": 14,
   "id": "11047aad-593f-42db-8b8c-1539a502e735",
   "metadata": {},
   "outputs": [
    {
     "name": "stdout",
     "output_type": "stream",
     "text": [
      "get_balance_data\n"
     ]
    }
   ],
   "source": [
    "spam = spambase_all[spambase_all['target_spam_nonspam']==1]\n",
    "non_spam = spambase_all[spambase_all['target_spam_nonspam']==0]\n",
    "non_spam = non_spam.sample(n=len(spam), random_state=101)\n",
    "spambase_balance = pd.concat([spam, non_spam],axis=0)  \n",
    "\n",
    "# an alternative is simply use the loader.get_balance_dataset()\n",
    "# since SpambaseDatasetLoader already handled the undersampling during load.\n",
    "\n",
    "spambase_balance = loader.get_balance_dataset()"
   ]
  },
  {
   "cell_type": "code",
   "execution_count": 15,
   "id": "e6dd524b-bb2a-41b0-a1f3-d16f439a98be",
   "metadata": {},
   "outputs": [
    {
     "data": {
      "text/plain": [
       "[Text(0.5, 0, 'Spam or not')]"
      ]
     },
     "execution_count": 15,
     "metadata": {},
     "output_type": "execute_result"
    },
    {
     "data": {
      "image/png": "[encoded data removed]",
      "text/plain": [
       "<Figure size 432x360 with 1 Axes>"
      ]
     },
     "metadata": {},
     "output_type": "display_data"
    }
   ],
   "source": [
    "spambase_balance_exp = spambase_balance.copy()\n",
    "spambase_balance_exp[\"target_spam_nonspam\"] = spambase_balance_exp[\"target_spam_nonspam\"].astype(bool)\n",
    "\n",
    "sns.set(rc={\"figure.figsize\":(6, 5)})\n",
    "sns.set_style('white')\n",
    "ax = sns.countplot(x='target_spam_nonspam', data=spambase_balance_exp) \n",
    "ax.set(xlabel='Spam or not')"
   ]
  },
  {
   "cell_type": "markdown",
   "id": "89e360ec-65d6-484c-8575-5bcaf86c487a",
   "metadata": {},
   "source": [
    "#### Feature Selection using P value"
   ]
  },
  {
   "cell_type": "code",
   "execution_count": 16,
   "id": "0e4fbec8-3992-48ec-ab6e-48b1c4242928",
   "metadata": {},
   "outputs": [
    {
     "name": "stdout",
     "output_type": "stream",
     "text": [
      "Help on method perform_feature_selection in module spambase_dataset_loader_nb:\n",
      "\n",
      "perform_feature_selection(data, threshold=0.05) method of spambase_dataset_loader_nb.SpambaseDatasetLoader instance\n",
      "    (DataFrame, float) --> Dataframe\n",
      "    \n",
      "    \n",
      "    This function performs feature selection using backward elimination technique.        \n",
      "            \n",
      "    Parameters\n",
      "    ----------\n",
      "    data: Dataframe that will be use in feature selection.\n",
      "    \n",
      "    threshold: If the p-value is higher than the threshold, we discard the combinations of features.\n",
      "    \n",
      "    Returns\n",
      "    ----------        \n",
      "    DataFrame : The DataFrame without after performing feature selection.\n",
      "\n"
     ]
    }
   ],
   "source": [
    "help(loader.perform_feature_selection)"
   ]
  },
  {
   "cell_type": "code",
   "execution_count": 17,
   "id": "5129bf75-142d-4dfa-a2a9-643696613cdd",
   "metadata": {},
   "outputs": [],
   "source": [
    "# uncomment in case we want to run the full dataset\n",
    "# spambase_balance = loader.get_full_dataset()"
   ]
  },
  {
   "cell_type": "code",
   "execution_count": 18,
   "id": "cbf7f2f4-af31-4d19-a8fa-2e4de812d5e8",
   "metadata": {},
   "outputs": [
    {
     "name": "stdout",
     "output_type": "stream",
     "text": [
      "The shape before feature selection: (3626, 58)\n",
      "The shape after feature selection: (3626, 37)\n"
     ]
    }
   ],
   "source": [
    "result = loader.perform_feature_selection(data=spambase_balance, threshold=0.05)"
   ]
  },
  {
   "cell_type": "code",
   "execution_count": 19,
   "id": "50c5980b-b2aa-4d8f-bbe5-3dc161176e1b",
   "metadata": {},
   "outputs": [],
   "source": [
    "# defining the dependent and independent variables\n",
    "X = result[0]\n",
    "y = result[1]"
   ]
  },
  {
   "cell_type": "markdown",
   "id": "c1d4f6c5-1284-4e87-9bca-27c733e04bbe",
   "metadata": {},
   "source": [
    "## Model"
   ]
  },
  {
   "cell_type": "markdown",
   "id": "48a7a0ed-f657-4e1f-abba-3317e2b26d04",
   "metadata": {},
   "source": [
    "### Split the data"
   ]
  },
  {
   "cell_type": "code",
   "execution_count": 20,
   "id": "961856db-640f-43a5-a943-e10722eded4c",
   "metadata": {},
   "outputs": [
    {
     "name": "stdout",
     "output_type": "stream",
     "text": [
      "The X_train: (2900, 37), y_train shape: (2900, 1)\n",
      "The X_test:  (726, 37), y_test  shape: (726, 1)\n"
     ]
    }
   ],
   "source": [
    "from sklearn.model_selection import train_test_split\n",
    "\n",
    "X_train, X_test, y_train, y_test = train_test_split(X, y, test_size = 0.2, random_state=101)\n",
    "\n",
    "print('The X_train: {}, y_train shape: {}'.format(X_train.shape, y_train.shape))\n",
    "print('The X_test:  {}, y_test  shape: {}'.format(X_test.shape, y_test.shape))"
   ]
  },
  {
   "cell_type": "markdown",
   "id": "423e102c-176d-40ff-9c28-e14baa04192e",
   "metadata": {},
   "source": [
    "### Statsmodels"
   ]
  },
  {
   "cell_type": "code",
   "execution_count": 21,
   "id": "af172fa1-588e-4b32-bce7-296e5d841a5c",
   "metadata": {},
   "outputs": [
    {
     "name": "stdout",
     "output_type": "stream",
     "text": [
      "Optimization terminated successfully.\n",
      "         Current function value: 0.281660\n",
      "         Iterations 12\n",
      "                            Logit Regression Results                           \n",
      "===============================================================================\n",
      "Dep. Variable:     target_spam_nonspam   No. Observations:                 2900\n",
      "Model:                           Logit   Df Residuals:                     2863\n",
      "Method:                            MLE   Df Model:                           36\n",
      "Date:                 Fri, 21 Jul 2023   Pseudo R-squ.:                  0.5936\n",
      "Time:                         20:02:58   Log-Likelihood:                -816.81\n",
      "converged:                        True   LL-Null:                       -2010.1\n",
      "Covariance Type:             nonrobust   LLR p-value:                     0.000\n",
      "==============================================================================================\n",
      "                                 coef    std err          z      P>|z|      [0.025      0.975]\n",
      "----------------------------------------------------------------------------------------------\n",
      "word_freq_make                -0.7245      0.243     -2.987      0.003      -1.200      -0.249\n",
      "word_freq_all                 -0.1770      0.123     -1.442      0.149      -0.417       0.064\n",
      "word_freq_3d                   1.6219      1.306      1.241      0.214      -0.939       4.182\n",
      "word_freq_our                  0.5516      0.132      4.191      0.000       0.294       0.810\n",
      "word_freq_over                 0.6387      0.288      2.220      0.026       0.075       1.203\n",
      "word_freq_remove               2.1860      0.387      5.650      0.000       1.428       2.944\n",
      "word_freq_internet             0.3060      0.141      2.178      0.029       0.031       0.581\n",
      "word_freq_order                0.7552      0.329      2.295      0.022       0.110       1.400\n",
      "word_freq_mail                 0.0018      0.078      0.023      0.982      -0.150       0.154\n",
      "word_freq_people              -0.3204      0.226     -1.420      0.156      -0.763       0.122\n",
      "word_freq_free                 1.0005      0.179      5.580      0.000       0.649       1.352\n",
      "word_freq_business             0.6923      0.234      2.954      0.003       0.233       1.152\n",
      "word_freq_email                0.0720      0.125      0.576      0.564      -0.173       0.317\n",
      "word_freq_you                 -0.1251      0.036     -3.429      0.001      -0.197      -0.054\n",
      "word_freq_credit               2.5712      0.772      3.331      0.001       1.058       4.084\n",
      "word_freq_your                 0.1891      0.057      3.322      0.001       0.078       0.301\n",
      "word_freq_font                 0.3975      0.182      2.188      0.029       0.041       0.754\n",
      "word_freq_000                  2.3639      0.591      4.002      0.000       1.206       3.521\n",
      "word_freq_money                0.6746      0.308      2.192      0.028       0.071       1.278\n",
      "word_freq_hp                  -1.7100      0.306     -5.587      0.000      -2.310      -1.110\n",
      "word_freq_hpl                 -1.7390      0.499     -3.482      0.000      -2.718      -0.760\n",
      "word_freq_labs                -1.1186      0.574     -1.948      0.051      -2.244       0.007\n",
      "word_freq_85                  -2.6742      0.782     -3.419      0.001      -4.207      -1.141\n",
      "word_freq_technology           0.4471      0.357      1.251      0.211      -0.253       1.147\n",
      "word_freq_pm                  -1.1640      0.416     -2.800      0.005      -1.979      -0.349\n",
      "word_freq_meeting             -3.0444      0.862     -3.531      0.000      -4.734      -1.354\n",
      "word_freq_project             -3.2420      0.754     -4.298      0.000      -4.720      -1.764\n",
      "word_freq_re                  -0.9546      0.155     -6.147      0.000      -1.259      -0.650\n",
      "word_freq_edu                 -1.5982      0.299     -5.343      0.000      -2.185      -1.012\n",
      "word_freq_table               -4.4683      2.409     -1.855      0.064      -9.189       0.253\n",
      "char_freq_;                   -1.6124      0.603     -2.672      0.008      -2.795      -0.430\n",
      "char_freq_(                   -1.0116      0.333     -3.042      0.002      -1.663      -0.360\n",
      "char_freq_!                    0.2304      0.056      4.107      0.000       0.120       0.340\n",
      "char_freq_$                    6.1477      0.940      6.540      0.000       4.305       7.990\n",
      "capital_run_length_average    -0.0068      0.004     -1.525      0.127      -0.015       0.002\n",
      "capital_run_length_longest     0.0021      0.001      1.545      0.122      -0.001       0.005\n",
      "capital_run_length_total       0.0002      0.000      1.555      0.120   -5.67e-05       0.000\n",
      "==============================================================================================\n",
      "\n",
      "Possibly complete quasi-separation: A fraction 0.12 of observations can be\n",
      "perfectly predicted. This might indicate that there is complete\n",
      "quasi-separation. In this case some parameters will not be identified.\n"
     ]
    }
   ],
   "source": [
    "import statsmodels.api as sm\n",
    "\n",
    "# building the model and fit the model using the training data\n",
    "statsmodels_lr = sm.Logit(y_train, X_train).fit()\n",
    "\n",
    "print(statsmodels_lr.summary())"
   ]
  },
  {
   "cell_type": "code",
   "execution_count": 22,
   "id": "f8560d1a-783d-438e-9ce5-16eef7bddd6e",
   "metadata": {},
   "outputs": [
    {
     "name": "stdout",
     "output_type": "stream",
     "text": [
      "Confusion Matrix\n",
      "[[325  42]\n",
      " [ 25 334]]\n"
     ]
    }
   ],
   "source": [
    "# performing predictions on the test dataset\n",
    "yhat = statsmodels_lr.predict(X_test)\n",
    "\n",
    "y_pred_statsmodels = list(map(round, yhat))\n",
    "\n",
    "from sklearn.metrics import confusion_matrix\n",
    "cf_matrix = confusion_matrix(y_test, y_pred_statsmodels) \n",
    "print('Confusion Matrix')\n",
    "print(cf_matrix)"
   ]
  },
  {
   "cell_type": "code",
   "execution_count": 23,
   "id": "75087427-812f-4d0a-b108-b474dea9cab9",
   "metadata": {},
   "outputs": [
    {
     "data": {
      "text/plain": [
       "<AxesSubplot:>"
      ]
     },
     "execution_count": 23,
     "metadata": {},
     "output_type": "execute_result"
    },
    {
     "data": {
      "image/png": "[encoded data removed]",
      "text/plain": [
       "<Figure size 432x360 with 2 Axes>"
      ]
     },
     "metadata": {},
     "output_type": "display_data"
    }
   ],
   "source": [
    "sns.heatmap(cf_matrix / np.sum(cf_matrix), annot=True, fmt='.2%', cmap='Blues')"
   ]
  },
  {
   "cell_type": "code",
   "execution_count": 24,
   "id": "ef3a3259-cce6-4cfc-89c5-c8b76190cb37",
   "metadata": {},
   "outputs": [
    {
     "name": "stdout",
     "output_type": "stream",
     "text": [
      "Confusion Matrix result - TP: 325, TN:334, FP:42, FN: 25\n"
     ]
    },
    {
     "data": {
      "text/html": [
       "<div>\n",
       "<style scoped>\n",
       "    .dataframe tbody tr th:only-of-type {\n",
       "        vertical-align: middle;\n",
       "    }\n",
       "\n",
       "    .dataframe tbody tr th {\n",
       "        vertical-align: top;\n",
       "    }\n",
       "\n",
       "    .dataframe thead th {\n",
       "        text-align: right;\n",
       "    }\n",
       "</style>\n",
       "<table border=\"1\" class=\"dataframe\">\n",
       "  <thead>\n",
       "    <tr style=\"text-align: right;\">\n",
       "      <th></th>\n",
       "      <th>Score</th>\n",
       "    </tr>\n",
       "  </thead>\n",
       "  <tbody>\n",
       "    <tr>\n",
       "      <th>Accuracy</th>\n",
       "      <td>0.907713</td>\n",
       "    </tr>\n",
       "    <tr>\n",
       "      <th>Precision</th>\n",
       "      <td>0.885559</td>\n",
       "    </tr>\n",
       "    <tr>\n",
       "      <th>Recall</th>\n",
       "      <td>0.928571</td>\n",
       "    </tr>\n",
       "    <tr>\n",
       "      <th>F1-Score</th>\n",
       "      <td>0.906555</td>\n",
       "    </tr>\n",
       "  </tbody>\n",
       "</table>\n",
       "</div>"
      ],
      "text/plain": [
       "              Score\n",
       "Accuracy   0.907713\n",
       "Precision  0.885559\n",
       "Recall     0.928571\n",
       "F1-Score   0.906555"
      ]
     },
     "execution_count": 24,
     "metadata": {},
     "output_type": "execute_result"
    }
   ],
   "source": [
    "TP = cf_matrix[0][0]\n",
    "TN = cf_matrix[1][1]\n",
    "FP = cf_matrix[0][1]\n",
    "FN = cf_matrix[1][0]\n",
    "\n",
    "print('Confusion Matrix result - TP: {}, TN:{}, FP:{}, FN: {}'\n",
    "      .format(TP, TN, FP, FN))\n",
    "\n",
    "acc = (TP + TN) / np.sum(cf_matrix)\n",
    "precision = TP / (TP + FP)\n",
    "recall = TP / (TP + FN)\n",
    "f1_score = (2 * (precision * recall)) / (precision + recall)\n",
    "\n",
    "statsmodels_scores_df = pd.DataFrame([acc, precision, recall, f1_score], ['Accuracy', 'Precision', 'Recall', 'F1-Score'], ['Score'])\n",
    "statsmodels_scores_df"
   ]
  },
  {
   "cell_type": "code",
   "execution_count": null,
   "id": "efdc5d0d-ea7d-4395-a562-fddb92976f66",
   "metadata": {},
   "outputs": [],
   "source": []
  },
  {
   "cell_type": "markdown",
   "id": "35d0e2ed-80c4-4665-8b70-c15951abae38",
   "metadata": {},
   "source": [
    "### Sklearn"
   ]
  },
  {
   "cell_type": "code",
   "execution_count": 25,
   "id": "90b72a65-d44c-40f0-8b7c-8e0fed0f46fe",
   "metadata": {},
   "outputs": [
    {
     "data": {
      "text/html": [
       "<div>\n",
       "<style scoped>\n",
       "    .dataframe tbody tr th:only-of-type {\n",
       "        vertical-align: middle;\n",
       "    }\n",
       "\n",
       "    .dataframe tbody tr th {\n",
       "        vertical-align: top;\n",
       "    }\n",
       "\n",
       "    .dataframe thead th {\n",
       "        text-align: right;\n",
       "    }\n",
       "</style>\n",
       "<table border=\"1\" class=\"dataframe\">\n",
       "  <thead>\n",
       "    <tr style=\"text-align: right;\">\n",
       "      <th></th>\n",
       "      <th>Score</th>\n",
       "    </tr>\n",
       "  </thead>\n",
       "  <tbody>\n",
       "    <tr>\n",
       "      <th>Accuracy</th>\n",
       "      <td>0.917355</td>\n",
       "    </tr>\n",
       "    <tr>\n",
       "      <th>Precision</th>\n",
       "      <td>0.938416</td>\n",
       "    </tr>\n",
       "    <tr>\n",
       "      <th>Recall</th>\n",
       "      <td>0.891365</td>\n",
       "    </tr>\n",
       "    <tr>\n",
       "      <th>F1-Score</th>\n",
       "      <td>0.914286</td>\n",
       "    </tr>\n",
       "  </tbody>\n",
       "</table>\n",
       "</div>"
      ],
      "text/plain": [
       "              Score\n",
       "Accuracy   0.917355\n",
       "Precision  0.938416\n",
       "Recall     0.891365\n",
       "F1-Score   0.914286"
      ]
     },
     "execution_count": 25,
     "metadata": {},
     "output_type": "execute_result"
    }
   ],
   "source": [
    "from sklearn.linear_model import LogisticRegression\n",
    "from sklearn.metrics import accuracy_score, classification_report, f1_score, precision_score, recall_score\n",
    "\n",
    "# instantiate the model\n",
    "sklearn_lr = LogisticRegression(max_iter=10000)\n",
    "\n",
    "# fit the model using the training data\n",
    "sklearn_lr.fit(X_train, y_train)\n",
    "\n",
    "# use model to make predictions on test data\n",
    "y_pred_sklearn = sklearn_lr.predict(X_test)\n",
    "\n",
    "# calculate the accuracy, precision, recall and f1-score\n",
    "acc = accuracy_score(y_test, y_pred_sklearn)\n",
    "precision = precision_score(y_test, y_pred_sklearn)\n",
    "recall = recall_score(y_test, y_pred_sklearn)\n",
    "f1 = f1_score(y_test, y_pred_sklearn)\n",
    "\n",
    "sklearn_scores_df = pd.DataFrame([acc, precision, recall, f1], ['Accuracy', 'Precision', 'Recall', 'F1-Score'], ['Score'])\n",
    "sklearn_scores_df"
   ]
  },
  {
   "cell_type": "code",
   "execution_count": 26,
   "id": "98384d76-62e2-4168-96a6-40c87f34633c",
   "metadata": {},
   "outputs": [
    {
     "name": "stdout",
     "output_type": "stream",
     "text": [
      "              precision    recall  f1-score   support\n",
      "\n",
      "           0       0.90      0.94      0.92       367\n",
      "           1       0.94      0.89      0.91       359\n",
      "\n",
      "    accuracy                           0.92       726\n",
      "   macro avg       0.92      0.92      0.92       726\n",
      "weighted avg       0.92      0.92      0.92       726\n",
      "\n"
     ]
    }
   ],
   "source": [
    "# print classification report for model\n",
    "print(classification_report(y_test, y_pred_sklearn))"
   ]
  },
  {
   "cell_type": "markdown",
   "id": "b5706eeb-99f8-40ca-b41f-ddcdfd55c59d",
   "metadata": {},
   "source": [
    "## Conclusion"
   ]
  },
  {
   "cell_type": "code",
   "execution_count": null,
   "id": "afa10370-1018-4333-a68a-f2f850cd26cd",
   "metadata": {},
   "outputs": [],
   "source": []
  },
  {
   "cell_type": "code",
   "execution_count": null,
   "id": "9e3137bf-7a1b-44f7-9303-4dc5041ab920",
   "metadata": {},
   "outputs": [],
   "source": []
  }
 ],
 "metadata": {
  "kernelspec": {
   "display_name": "Python 3",
   "language": "python",
   "name": "python3"
  },
  "language_info": {
   "codemirror_mode": {
    "name": "ipython",
    "version": 3
   },
   "file_extension": ".py",
   "mimetype": "text/x-python",
   "name": "python",
   "nbconvert_exporter": "python",
   "pygments_lexer": "ipython3",
   "version": "3.8.8"
  }
 },
 "nbformat": 4,
 "nbformat_minor": 5
}
