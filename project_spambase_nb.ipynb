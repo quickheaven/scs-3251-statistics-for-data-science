{
 "cells": [
  {
   "cell_type": "markdown",
   "id": "dd86f395-7a74-4184-b4ff-dc5350bb1f0a",
   "metadata": {},
   "source": [
    "# Spam Email Classification"
   ]
  },
  {
   "cell_type": "code",
   "execution_count": null,
   "id": "66433742-5b72-4787-9b4d-a337ab9c9842",
   "metadata": {},
   "outputs": [],
   "source": []
  },
  {
   "cell_type": "code",
   "execution_count": 1,
   "id": "290c8bb2-7740-4a0d-9085-0e4e211fb5ef",
   "metadata": {},
   "outputs": [
    {
     "name": "stdout",
     "output_type": "stream",
     "text": [
      "Requirement already satisfied: ipynb in d:\\x-20a\\anaconda3\\lib\\site-packages (0.5.1)\n",
      "Requirement already satisfied: nbimporter in d:\\x-20a\\anaconda3\\lib\\site-packages (0.3.4)\n"
     ]
    }
   ],
   "source": [
    "# Importing an ipynb file from another ipynb file\n",
    "!pip install ipynb\n",
    "\n",
    "# Importing functions from another jupyter notebook\n",
    "!pip install nbimporter"
   ]
  },
  {
   "cell_type": "code",
   "execution_count": 2,
   "id": "d49edc60-917d-4ab7-be7c-71181b92ca6b",
   "metadata": {},
   "outputs": [],
   "source": [
    "import numpy as np\n",
    "import pandas as pd\n",
    "import matplotlib.pyplot as plt\n",
    "%matplotlib inline\n",
    "\n",
    "import seaborn as sns\n",
    "\n",
    "import warnings\n",
    "warnings.filterwarnings('ignore')\n",
    "\n",
    "import nbimporter\n",
    "import spambase_dataset_loader_nb\n",
    "import spambase_model_helper_nb"
   ]
  },
  {
   "cell_type": "markdown",
   "id": "f054fc12-09b5-40f9-a40f-32c60724b5a4",
   "metadata": {},
   "source": [
    "## Data Preparation:"
   ]
  },
  {
   "cell_type": "markdown",
   "id": "65e65633-ed95-4cf1-87aa-101403691576",
   "metadata": {},
   "source": [
    "### Load the datasets:"
   ]
  },
  {
   "cell_type": "code",
   "execution_count": 3,
   "id": "03635cd0-e3ef-4deb-87f0-4de7ec23db33",
   "metadata": {},
   "outputs": [
    {
     "name": "stdout",
     "output_type": "stream",
     "text": [
      "init Loader notebook\n"
     ]
    }
   ],
   "source": [
    "loader = spambase_dataset_loader_nb.SpambaseDatasetLoader()"
   ]
  },
  {
   "cell_type": "code",
   "execution_count": 4,
   "id": "a1ac5d7d-572c-41f8-ae5c-489def335664",
   "metadata": {},
   "outputs": [
    {
     "name": "stdout",
     "output_type": "stream",
     "text": [
      "Help on method load_dataset in module spambase_dataset_loader_nb:\n",
      "\n",
      "load_dataset(url='https://archive.ics.uci.edu/ml/machine-learning-databases/spambase/spambase.data') method of spambase_dataset_loader_nb.SpambaseDatasetLoader instance\n",
      "    (string) --> None\n",
      "    \n",
      "    This function retrieves the spambase.data from University of California Irvine (UCI) - Dataset Repository\n",
      "    and save into two files:\n",
      "    \n",
      "    1. spambase_all.csv - The CSV file that contain all the rows from spambase.data.\n",
      "    2. spambase_balance.csv - The CSV file that rows balance between spam and not spam records.\n",
      "\n"
     ]
    }
   ],
   "source": [
    "help(loader.load_dataset)"
   ]
  },
  {
   "cell_type": "code",
   "execution_count": 5,
   "id": "e74fa363-c80b-48a9-a61c-e217a3127195",
   "metadata": {},
   "outputs": [
    {
     "name": "stdout",
     "output_type": "stream",
     "text": [
      "Loading dataset.\n",
      "Loading spambase_all.csv completed.\n",
      "Loading spambase_balance.csv completed.\n"
     ]
    }
   ],
   "source": [
    "loader.load_dataset()"
   ]
  },
  {
   "cell_type": "code",
   "execution_count": 6,
   "id": "e366c64c-afd0-4d59-a1c6-68f2ebcdca1f",
   "metadata": {},
   "outputs": [
    {
     "name": "stdout",
     "output_type": "stream",
     "text": [
      "get_full_dataset\n"
     ]
    }
   ],
   "source": [
    "spambase_all = loader.get_full_dataset()"
   ]
  },
  {
   "cell_type": "markdown",
   "id": "9d69e135-6fa9-4f75-ac93-fb6d9e940bb6",
   "metadata": {},
   "source": [
    "### Data Exploration\n",
    "\n",
    "#### Explore the data using info() and describe() and head()"
   ]
  },
  {
   "cell_type": "code",
   "execution_count": 7,
   "id": "732bab3e-f50b-4c7e-aab8-445bc728640c",
   "metadata": {},
   "outputs": [
    {
     "name": "stdout",
     "output_type": "stream",
     "text": [
      "<class 'pandas.core.frame.DataFrame'>\n",
      "RangeIndex: 4601 entries, 0 to 4600\n",
      "Data columns (total 58 columns):\n",
      " #   Column                      Non-Null Count  Dtype  \n",
      "---  ------                      --------------  -----  \n",
      " 0   target_spam_nonspam         4601 non-null   int64  \n",
      " 1   word_freq_make              4601 non-null   float64\n",
      " 2   word_freq_address           4601 non-null   float64\n",
      " 3   word_freq_all               4601 non-null   float64\n",
      " 4   word_freq_3d                4601 non-null   float64\n",
      " 5   word_freq_our               4601 non-null   float64\n",
      " 6   word_freq_over              4601 non-null   float64\n",
      " 7   word_freq_remove            4601 non-null   float64\n",
      " 8   word_freq_internet          4601 non-null   float64\n",
      " 9   word_freq_order             4601 non-null   float64\n",
      " 10  word_freq_mail              4601 non-null   float64\n",
      " 11  word_freq_receive           4601 non-null   float64\n",
      " 12  word_freq_will              4601 non-null   float64\n",
      " 13  word_freq_people            4601 non-null   float64\n",
      " 14  word_freq_report            4601 non-null   float64\n",
      " 15  word_freq_addresses         4601 non-null   float64\n",
      " 16  word_freq_free              4601 non-null   float64\n",
      " 17  word_freq_business          4601 non-null   float64\n",
      " 18  word_freq_email             4601 non-null   float64\n",
      " 19  word_freq_you               4601 non-null   float64\n",
      " 20  word_freq_credit            4601 non-null   float64\n",
      " 21  word_freq_your              4601 non-null   float64\n",
      " 22  word_freq_font              4601 non-null   float64\n",
      " 23  word_freq_000               4601 non-null   float64\n",
      " 24  word_freq_money             4601 non-null   float64\n",
      " 25  word_freq_hp                4601 non-null   float64\n",
      " 26  word_freq_hpl               4601 non-null   float64\n",
      " 27  word_freq_george            4601 non-null   float64\n",
      " 28  word_freq_650               4601 non-null   float64\n",
      " 29  word_freq_lab               4601 non-null   float64\n",
      " 30  word_freq_labs              4601 non-null   float64\n",
      " 31  word_freq_telnet            4601 non-null   float64\n",
      " 32  word_freq_857               4601 non-null   float64\n",
      " 33  word_freq_data              4601 non-null   float64\n",
      " 34  word_freq_415               4601 non-null   float64\n",
      " 35  word_freq_85                4601 non-null   float64\n",
      " 36  word_freq_technology        4601 non-null   float64\n",
      " 37  word_freq_1999              4601 non-null   float64\n",
      " 38  word_freq_parts             4601 non-null   float64\n",
      " 39  word_freq_pm                4601 non-null   float64\n",
      " 40  word_freq_direct            4601 non-null   float64\n",
      " 41  word_freq_cs                4601 non-null   float64\n",
      " 42  word_freq_meeting           4601 non-null   float64\n",
      " 43  word_freq_original          4601 non-null   float64\n",
      " 44  word_freq_project           4601 non-null   float64\n",
      " 45  word_freq_re                4601 non-null   float64\n",
      " 46  word_freq_edu               4601 non-null   float64\n",
      " 47  word_freq_table             4601 non-null   float64\n",
      " 48  word_freq_conference        4601 non-null   float64\n",
      " 49  char_freq_;                 4601 non-null   float64\n",
      " 50  char_freq_(                 4601 non-null   float64\n",
      " 51  char_freq_[                 4601 non-null   float64\n",
      " 52  char_freq_!                 4601 non-null   float64\n",
      " 53  char_freq_$                 4601 non-null   float64\n",
      " 54  char_freq_#                 4601 non-null   float64\n",
      " 55  capital_run_length_average  4601 non-null   float64\n",
      " 56  capital_run_length_longest  4601 non-null   int64  \n",
      " 57  capital_run_length_total    4601 non-null   int64  \n",
      "dtypes: float64(55), int64(3)\n",
      "memory usage: 2.0 MB\n"
     ]
    }
   ],
   "source": [
    "spambase_all.info()"
   ]
  },
  {
   "cell_type": "code",
   "execution_count": 8,
   "id": "6e5557b9-3646-46d0-bc69-e4a9217b8933",
   "metadata": {},
   "outputs": [
    {
     "data": {
      "text/html": [
       "<div>\n",
       "<style scoped>\n",
       "    .dataframe tbody tr th:only-of-type {\n",
       "        vertical-align: middle;\n",
       "    }\n",
       "\n",
       "    .dataframe tbody tr th {\n",
       "        vertical-align: top;\n",
       "    }\n",
       "\n",
       "    .dataframe thead th {\n",
       "        text-align: right;\n",
       "    }\n",
       "</style>\n",
       "<table border=\"1\" class=\"dataframe\">\n",
       "  <thead>\n",
       "    <tr style=\"text-align: right;\">\n",
       "      <th></th>\n",
       "      <th>target_spam_nonspam</th>\n",
       "      <th>word_freq_make</th>\n",
       "      <th>word_freq_address</th>\n",
       "      <th>word_freq_all</th>\n",
       "      <th>word_freq_3d</th>\n",
       "      <th>word_freq_our</th>\n",
       "      <th>word_freq_over</th>\n",
       "      <th>word_freq_remove</th>\n",
       "      <th>word_freq_internet</th>\n",
       "      <th>word_freq_order</th>\n",
       "      <th>...</th>\n",
       "      <th>word_freq_conference</th>\n",
       "      <th>char_freq_;</th>\n",
       "      <th>char_freq_(</th>\n",
       "      <th>char_freq_[</th>\n",
       "      <th>char_freq_!</th>\n",
       "      <th>char_freq_$</th>\n",
       "      <th>char_freq_#</th>\n",
       "      <th>capital_run_length_average</th>\n",
       "      <th>capital_run_length_longest</th>\n",
       "      <th>capital_run_length_total</th>\n",
       "    </tr>\n",
       "  </thead>\n",
       "  <tbody>\n",
       "    <tr>\n",
       "      <th>count</th>\n",
       "      <td>4601.000000</td>\n",
       "      <td>4601.000000</td>\n",
       "      <td>4601.000000</td>\n",
       "      <td>4601.000000</td>\n",
       "      <td>4601.000000</td>\n",
       "      <td>4601.000000</td>\n",
       "      <td>4601.000000</td>\n",
       "      <td>4601.000000</td>\n",
       "      <td>4601.000000</td>\n",
       "      <td>4601.000000</td>\n",
       "      <td>...</td>\n",
       "      <td>4601.000000</td>\n",
       "      <td>4601.000000</td>\n",
       "      <td>4601.000000</td>\n",
       "      <td>4601.000000</td>\n",
       "      <td>4601.000000</td>\n",
       "      <td>4601.000000</td>\n",
       "      <td>4601.000000</td>\n",
       "      <td>4601.000000</td>\n",
       "      <td>4601.000000</td>\n",
       "      <td>4601.000000</td>\n",
       "    </tr>\n",
       "    <tr>\n",
       "      <th>mean</th>\n",
       "      <td>0.394045</td>\n",
       "      <td>0.104553</td>\n",
       "      <td>0.213015</td>\n",
       "      <td>0.280656</td>\n",
       "      <td>0.065425</td>\n",
       "      <td>0.312223</td>\n",
       "      <td>0.095901</td>\n",
       "      <td>0.114208</td>\n",
       "      <td>0.105295</td>\n",
       "      <td>0.090067</td>\n",
       "      <td>...</td>\n",
       "      <td>0.031869</td>\n",
       "      <td>0.038575</td>\n",
       "      <td>0.139030</td>\n",
       "      <td>0.016976</td>\n",
       "      <td>0.269071</td>\n",
       "      <td>0.075811</td>\n",
       "      <td>0.044238</td>\n",
       "      <td>5.191515</td>\n",
       "      <td>52.172789</td>\n",
       "      <td>283.289285</td>\n",
       "    </tr>\n",
       "    <tr>\n",
       "      <th>std</th>\n",
       "      <td>0.488698</td>\n",
       "      <td>0.305358</td>\n",
       "      <td>1.290575</td>\n",
       "      <td>0.504143</td>\n",
       "      <td>1.395151</td>\n",
       "      <td>0.672513</td>\n",
       "      <td>0.273824</td>\n",
       "      <td>0.391441</td>\n",
       "      <td>0.401071</td>\n",
       "      <td>0.278616</td>\n",
       "      <td>...</td>\n",
       "      <td>0.285735</td>\n",
       "      <td>0.243471</td>\n",
       "      <td>0.270355</td>\n",
       "      <td>0.109394</td>\n",
       "      <td>0.815672</td>\n",
       "      <td>0.245882</td>\n",
       "      <td>0.429342</td>\n",
       "      <td>31.729449</td>\n",
       "      <td>194.891310</td>\n",
       "      <td>606.347851</td>\n",
       "    </tr>\n",
       "    <tr>\n",
       "      <th>min</th>\n",
       "      <td>0.000000</td>\n",
       "      <td>0.000000</td>\n",
       "      <td>0.000000</td>\n",
       "      <td>0.000000</td>\n",
       "      <td>0.000000</td>\n",
       "      <td>0.000000</td>\n",
       "      <td>0.000000</td>\n",
       "      <td>0.000000</td>\n",
       "      <td>0.000000</td>\n",
       "      <td>0.000000</td>\n",
       "      <td>...</td>\n",
       "      <td>0.000000</td>\n",
       "      <td>0.000000</td>\n",
       "      <td>0.000000</td>\n",
       "      <td>0.000000</td>\n",
       "      <td>0.000000</td>\n",
       "      <td>0.000000</td>\n",
       "      <td>0.000000</td>\n",
       "      <td>1.000000</td>\n",
       "      <td>1.000000</td>\n",
       "      <td>1.000000</td>\n",
       "    </tr>\n",
       "    <tr>\n",
       "      <th>25%</th>\n",
       "      <td>0.000000</td>\n",
       "      <td>0.000000</td>\n",
       "      <td>0.000000</td>\n",
       "      <td>0.000000</td>\n",
       "      <td>0.000000</td>\n",
       "      <td>0.000000</td>\n",
       "      <td>0.000000</td>\n",
       "      <td>0.000000</td>\n",
       "      <td>0.000000</td>\n",
       "      <td>0.000000</td>\n",
       "      <td>...</td>\n",
       "      <td>0.000000</td>\n",
       "      <td>0.000000</td>\n",
       "      <td>0.000000</td>\n",
       "      <td>0.000000</td>\n",
       "      <td>0.000000</td>\n",
       "      <td>0.000000</td>\n",
       "      <td>0.000000</td>\n",
       "      <td>1.588000</td>\n",
       "      <td>6.000000</td>\n",
       "      <td>35.000000</td>\n",
       "    </tr>\n",
       "    <tr>\n",
       "      <th>50%</th>\n",
       "      <td>0.000000</td>\n",
       "      <td>0.000000</td>\n",
       "      <td>0.000000</td>\n",
       "      <td>0.000000</td>\n",
       "      <td>0.000000</td>\n",
       "      <td>0.000000</td>\n",
       "      <td>0.000000</td>\n",
       "      <td>0.000000</td>\n",
       "      <td>0.000000</td>\n",
       "      <td>0.000000</td>\n",
       "      <td>...</td>\n",
       "      <td>0.000000</td>\n",
       "      <td>0.000000</td>\n",
       "      <td>0.065000</td>\n",
       "      <td>0.000000</td>\n",
       "      <td>0.000000</td>\n",
       "      <td>0.000000</td>\n",
       "      <td>0.000000</td>\n",
       "      <td>2.276000</td>\n",
       "      <td>15.000000</td>\n",
       "      <td>95.000000</td>\n",
       "    </tr>\n",
       "    <tr>\n",
       "      <th>75%</th>\n",
       "      <td>1.000000</td>\n",
       "      <td>0.000000</td>\n",
       "      <td>0.000000</td>\n",
       "      <td>0.420000</td>\n",
       "      <td>0.000000</td>\n",
       "      <td>0.380000</td>\n",
       "      <td>0.000000</td>\n",
       "      <td>0.000000</td>\n",
       "      <td>0.000000</td>\n",
       "      <td>0.000000</td>\n",
       "      <td>...</td>\n",
       "      <td>0.000000</td>\n",
       "      <td>0.000000</td>\n",
       "      <td>0.188000</td>\n",
       "      <td>0.000000</td>\n",
       "      <td>0.315000</td>\n",
       "      <td>0.052000</td>\n",
       "      <td>0.000000</td>\n",
       "      <td>3.706000</td>\n",
       "      <td>43.000000</td>\n",
       "      <td>266.000000</td>\n",
       "    </tr>\n",
       "    <tr>\n",
       "      <th>max</th>\n",
       "      <td>1.000000</td>\n",
       "      <td>4.540000</td>\n",
       "      <td>14.280000</td>\n",
       "      <td>5.100000</td>\n",
       "      <td>42.810000</td>\n",
       "      <td>10.000000</td>\n",
       "      <td>5.880000</td>\n",
       "      <td>7.270000</td>\n",
       "      <td>11.110000</td>\n",
       "      <td>5.260000</td>\n",
       "      <td>...</td>\n",
       "      <td>10.000000</td>\n",
       "      <td>4.385000</td>\n",
       "      <td>9.752000</td>\n",
       "      <td>4.081000</td>\n",
       "      <td>32.478000</td>\n",
       "      <td>6.003000</td>\n",
       "      <td>19.829000</td>\n",
       "      <td>1102.500000</td>\n",
       "      <td>9989.000000</td>\n",
       "      <td>15841.000000</td>\n",
       "    </tr>\n",
       "  </tbody>\n",
       "</table>\n",
       "<p>8 rows × 58 columns</p>\n",
       "</div>"
      ],
      "text/plain": [
       "       target_spam_nonspam  word_freq_make  word_freq_address  word_freq_all  \\\n",
       "count          4601.000000     4601.000000        4601.000000    4601.000000   \n",
       "mean              0.394045        0.104553           0.213015       0.280656   \n",
       "std               0.488698        0.305358           1.290575       0.504143   \n",
       "min               0.000000        0.000000           0.000000       0.000000   \n",
       "25%               0.000000        0.000000           0.000000       0.000000   \n",
       "50%               0.000000        0.000000           0.000000       0.000000   \n",
       "75%               1.000000        0.000000           0.000000       0.420000   \n",
       "max               1.000000        4.540000          14.280000       5.100000   \n",
       "\n",
       "       word_freq_3d  word_freq_our  word_freq_over  word_freq_remove  \\\n",
       "count   4601.000000    4601.000000     4601.000000       4601.000000   \n",
       "mean       0.065425       0.312223        0.095901          0.114208   \n",
       "std        1.395151       0.672513        0.273824          0.391441   \n",
       "min        0.000000       0.000000        0.000000          0.000000   \n",
       "25%        0.000000       0.000000        0.000000          0.000000   \n",
       "50%        0.000000       0.000000        0.000000          0.000000   \n",
       "75%        0.000000       0.380000        0.000000          0.000000   \n",
       "max       42.810000      10.000000        5.880000          7.270000   \n",
       "\n",
       "       word_freq_internet  word_freq_order  ...  word_freq_conference  \\\n",
       "count         4601.000000      4601.000000  ...           4601.000000   \n",
       "mean             0.105295         0.090067  ...              0.031869   \n",
       "std              0.401071         0.278616  ...              0.285735   \n",
       "min              0.000000         0.000000  ...              0.000000   \n",
       "25%              0.000000         0.000000  ...              0.000000   \n",
       "50%              0.000000         0.000000  ...              0.000000   \n",
       "75%              0.000000         0.000000  ...              0.000000   \n",
       "max             11.110000         5.260000  ...             10.000000   \n",
       "\n",
       "       char_freq_;  char_freq_(  char_freq_[  char_freq_!  char_freq_$  \\\n",
       "count  4601.000000  4601.000000  4601.000000  4601.000000  4601.000000   \n",
       "mean      0.038575     0.139030     0.016976     0.269071     0.075811   \n",
       "std       0.243471     0.270355     0.109394     0.815672     0.245882   \n",
       "min       0.000000     0.000000     0.000000     0.000000     0.000000   \n",
       "25%       0.000000     0.000000     0.000000     0.000000     0.000000   \n",
       "50%       0.000000     0.065000     0.000000     0.000000     0.000000   \n",
       "75%       0.000000     0.188000     0.000000     0.315000     0.052000   \n",
       "max       4.385000     9.752000     4.081000    32.478000     6.003000   \n",
       "\n",
       "       char_freq_#  capital_run_length_average  capital_run_length_longest  \\\n",
       "count  4601.000000                 4601.000000                 4601.000000   \n",
       "mean      0.044238                    5.191515                   52.172789   \n",
       "std       0.429342                   31.729449                  194.891310   \n",
       "min       0.000000                    1.000000                    1.000000   \n",
       "25%       0.000000                    1.588000                    6.000000   \n",
       "50%       0.000000                    2.276000                   15.000000   \n",
       "75%       0.000000                    3.706000                   43.000000   \n",
       "max      19.829000                 1102.500000                 9989.000000   \n",
       "\n",
       "       capital_run_length_total  \n",
       "count               4601.000000  \n",
       "mean                 283.289285  \n",
       "std                  606.347851  \n",
       "min                    1.000000  \n",
       "25%                   35.000000  \n",
       "50%                   95.000000  \n",
       "75%                  266.000000  \n",
       "max                15841.000000  \n",
       "\n",
       "[8 rows x 58 columns]"
      ]
     },
     "execution_count": 8,
     "metadata": {},
     "output_type": "execute_result"
    }
   ],
   "source": [
    "spambase_all.describe()"
   ]
  },
  {
   "cell_type": "code",
   "execution_count": 9,
   "id": "4fd5d235-2696-4089-a086-fb95bd554f64",
   "metadata": {},
   "outputs": [
    {
     "data": {
      "text/html": [
       "<div>\n",
       "<style scoped>\n",
       "    .dataframe tbody tr th:only-of-type {\n",
       "        vertical-align: middle;\n",
       "    }\n",
       "\n",
       "    .dataframe tbody tr th {\n",
       "        vertical-align: top;\n",
       "    }\n",
       "\n",
       "    .dataframe thead th {\n",
       "        text-align: right;\n",
       "    }\n",
       "</style>\n",
       "<table border=\"1\" class=\"dataframe\">\n",
       "  <thead>\n",
       "    <tr style=\"text-align: right;\">\n",
       "      <th></th>\n",
       "      <th>target_spam_nonspam</th>\n",
       "      <th>word_freq_make</th>\n",
       "      <th>word_freq_address</th>\n",
       "      <th>word_freq_all</th>\n",
       "      <th>word_freq_3d</th>\n",
       "      <th>word_freq_our</th>\n",
       "      <th>word_freq_over</th>\n",
       "      <th>word_freq_remove</th>\n",
       "      <th>word_freq_internet</th>\n",
       "      <th>word_freq_order</th>\n",
       "      <th>...</th>\n",
       "      <th>word_freq_conference</th>\n",
       "      <th>char_freq_;</th>\n",
       "      <th>char_freq_(</th>\n",
       "      <th>char_freq_[</th>\n",
       "      <th>char_freq_!</th>\n",
       "      <th>char_freq_$</th>\n",
       "      <th>char_freq_#</th>\n",
       "      <th>capital_run_length_average</th>\n",
       "      <th>capital_run_length_longest</th>\n",
       "      <th>capital_run_length_total</th>\n",
       "    </tr>\n",
       "  </thead>\n",
       "  <tbody>\n",
       "    <tr>\n",
       "      <th>0</th>\n",
       "      <td>1</td>\n",
       "      <td>0.00</td>\n",
       "      <td>0.64</td>\n",
       "      <td>0.64</td>\n",
       "      <td>0.0</td>\n",
       "      <td>0.32</td>\n",
       "      <td>0.00</td>\n",
       "      <td>0.00</td>\n",
       "      <td>0.00</td>\n",
       "      <td>0.00</td>\n",
       "      <td>...</td>\n",
       "      <td>0.0</td>\n",
       "      <td>0.00</td>\n",
       "      <td>0.000</td>\n",
       "      <td>0.0</td>\n",
       "      <td>0.778</td>\n",
       "      <td>0.000</td>\n",
       "      <td>0.000</td>\n",
       "      <td>3.756</td>\n",
       "      <td>61</td>\n",
       "      <td>278</td>\n",
       "    </tr>\n",
       "    <tr>\n",
       "      <th>1</th>\n",
       "      <td>1</td>\n",
       "      <td>0.21</td>\n",
       "      <td>0.28</td>\n",
       "      <td>0.50</td>\n",
       "      <td>0.0</td>\n",
       "      <td>0.14</td>\n",
       "      <td>0.28</td>\n",
       "      <td>0.21</td>\n",
       "      <td>0.07</td>\n",
       "      <td>0.00</td>\n",
       "      <td>...</td>\n",
       "      <td>0.0</td>\n",
       "      <td>0.00</td>\n",
       "      <td>0.132</td>\n",
       "      <td>0.0</td>\n",
       "      <td>0.372</td>\n",
       "      <td>0.180</td>\n",
       "      <td>0.048</td>\n",
       "      <td>5.114</td>\n",
       "      <td>101</td>\n",
       "      <td>1028</td>\n",
       "    </tr>\n",
       "    <tr>\n",
       "      <th>2</th>\n",
       "      <td>1</td>\n",
       "      <td>0.06</td>\n",
       "      <td>0.00</td>\n",
       "      <td>0.71</td>\n",
       "      <td>0.0</td>\n",
       "      <td>1.23</td>\n",
       "      <td>0.19</td>\n",
       "      <td>0.19</td>\n",
       "      <td>0.12</td>\n",
       "      <td>0.64</td>\n",
       "      <td>...</td>\n",
       "      <td>0.0</td>\n",
       "      <td>0.01</td>\n",
       "      <td>0.143</td>\n",
       "      <td>0.0</td>\n",
       "      <td>0.276</td>\n",
       "      <td>0.184</td>\n",
       "      <td>0.010</td>\n",
       "      <td>9.821</td>\n",
       "      <td>485</td>\n",
       "      <td>2259</td>\n",
       "    </tr>\n",
       "    <tr>\n",
       "      <th>3</th>\n",
       "      <td>1</td>\n",
       "      <td>0.00</td>\n",
       "      <td>0.00</td>\n",
       "      <td>0.00</td>\n",
       "      <td>0.0</td>\n",
       "      <td>0.63</td>\n",
       "      <td>0.00</td>\n",
       "      <td>0.31</td>\n",
       "      <td>0.63</td>\n",
       "      <td>0.31</td>\n",
       "      <td>...</td>\n",
       "      <td>0.0</td>\n",
       "      <td>0.00</td>\n",
       "      <td>0.137</td>\n",
       "      <td>0.0</td>\n",
       "      <td>0.137</td>\n",
       "      <td>0.000</td>\n",
       "      <td>0.000</td>\n",
       "      <td>3.537</td>\n",
       "      <td>40</td>\n",
       "      <td>191</td>\n",
       "    </tr>\n",
       "    <tr>\n",
       "      <th>4</th>\n",
       "      <td>1</td>\n",
       "      <td>0.00</td>\n",
       "      <td>0.00</td>\n",
       "      <td>0.00</td>\n",
       "      <td>0.0</td>\n",
       "      <td>0.63</td>\n",
       "      <td>0.00</td>\n",
       "      <td>0.31</td>\n",
       "      <td>0.63</td>\n",
       "      <td>0.31</td>\n",
       "      <td>...</td>\n",
       "      <td>0.0</td>\n",
       "      <td>0.00</td>\n",
       "      <td>0.135</td>\n",
       "      <td>0.0</td>\n",
       "      <td>0.135</td>\n",
       "      <td>0.000</td>\n",
       "      <td>0.000</td>\n",
       "      <td>3.537</td>\n",
       "      <td>40</td>\n",
       "      <td>191</td>\n",
       "    </tr>\n",
       "  </tbody>\n",
       "</table>\n",
       "<p>5 rows × 58 columns</p>\n",
       "</div>"
      ],
      "text/plain": [
       "   target_spam_nonspam  word_freq_make  word_freq_address  word_freq_all  \\\n",
       "0                    1            0.00               0.64           0.64   \n",
       "1                    1            0.21               0.28           0.50   \n",
       "2                    1            0.06               0.00           0.71   \n",
       "3                    1            0.00               0.00           0.00   \n",
       "4                    1            0.00               0.00           0.00   \n",
       "\n",
       "   word_freq_3d  word_freq_our  word_freq_over  word_freq_remove  \\\n",
       "0           0.0           0.32            0.00              0.00   \n",
       "1           0.0           0.14            0.28              0.21   \n",
       "2           0.0           1.23            0.19              0.19   \n",
       "3           0.0           0.63            0.00              0.31   \n",
       "4           0.0           0.63            0.00              0.31   \n",
       "\n",
       "   word_freq_internet  word_freq_order  ...  word_freq_conference  \\\n",
       "0                0.00             0.00  ...                   0.0   \n",
       "1                0.07             0.00  ...                   0.0   \n",
       "2                0.12             0.64  ...                   0.0   \n",
       "3                0.63             0.31  ...                   0.0   \n",
       "4                0.63             0.31  ...                   0.0   \n",
       "\n",
       "   char_freq_;  char_freq_(  char_freq_[  char_freq_!  char_freq_$  \\\n",
       "0         0.00        0.000          0.0        0.778        0.000   \n",
       "1         0.00        0.132          0.0        0.372        0.180   \n",
       "2         0.01        0.143          0.0        0.276        0.184   \n",
       "3         0.00        0.137          0.0        0.137        0.000   \n",
       "4         0.00        0.135          0.0        0.135        0.000   \n",
       "\n",
       "   char_freq_#  capital_run_length_average  capital_run_length_longest  \\\n",
       "0        0.000                       3.756                          61   \n",
       "1        0.048                       5.114                         101   \n",
       "2        0.010                       9.821                         485   \n",
       "3        0.000                       3.537                          40   \n",
       "4        0.000                       3.537                          40   \n",
       "\n",
       "   capital_run_length_total  \n",
       "0                       278  \n",
       "1                      1028  \n",
       "2                      2259  \n",
       "3                       191  \n",
       "4                       191  \n",
       "\n",
       "[5 rows x 58 columns]"
      ]
     },
     "execution_count": 9,
     "metadata": {},
     "output_type": "execute_result"
    }
   ],
   "source": [
    "spambase_all.head(5)"
   ]
  },
  {
   "cell_type": "markdown",
   "id": "2e12377f-69d9-4852-b937-907cca4dd578",
   "metadata": {},
   "source": [
    "#### Check for null values."
   ]
  },
  {
   "cell_type": "code",
   "execution_count": 10,
   "id": "e766e561-f7a6-47d5-9033-c74b325c1041",
   "metadata": {},
   "outputs": [
    {
     "data": {
      "text/plain": [
       "<AxesSubplot:>"
      ]
     },
     "execution_count": 10,
     "metadata": {},
     "output_type": "execute_result"
    },
    {
     "data": {
      "image/png": "[encoded data removed]",
      "text/plain": [
       "<Figure size 720x576 with 1 Axes>"
      ]
     },
     "metadata": {
      "needs_background": "light"
     },
     "output_type": "display_data"
    }
   ],
   "source": [
    "plt.figure(figsize=(10, 8))\n",
    "\n",
    "ax = plt.axes()\n",
    "sns.heatmap(spambase_all.isnull(), ax=ax, yticklabels=False, cbar=False, cmap=\"cividis\")\n"
   ]
  },
  {
   "cell_type": "markdown",
   "id": "62cd69ae-5ac0-4c2d-94ff-1bdf027f253f",
   "metadata": {},
   "source": [
    "#### Check for na"
   ]
  },
  {
   "cell_type": "code",
   "execution_count": 11,
   "id": "32586cd3-8526-4c50-8c0c-bf9b4dab9a98",
   "metadata": {},
   "outputs": [
    {
     "data": {
      "text/plain": [
       "target_spam_nonspam           False\n",
       "word_freq_make                False\n",
       "word_freq_address             False\n",
       "word_freq_all                 False\n",
       "word_freq_3d                  False\n",
       "word_freq_our                 False\n",
       "word_freq_over                False\n",
       "word_freq_remove              False\n",
       "word_freq_internet            False\n",
       "word_freq_order               False\n",
       "word_freq_mail                False\n",
       "word_freq_receive             False\n",
       "word_freq_will                False\n",
       "word_freq_people              False\n",
       "word_freq_report              False\n",
       "word_freq_addresses           False\n",
       "word_freq_free                False\n",
       "word_freq_business            False\n",
       "word_freq_email               False\n",
       "word_freq_you                 False\n",
       "word_freq_credit              False\n",
       "word_freq_your                False\n",
       "word_freq_font                False\n",
       "word_freq_000                 False\n",
       "word_freq_money               False\n",
       "word_freq_hp                  False\n",
       "word_freq_hpl                 False\n",
       "word_freq_george              False\n",
       "word_freq_650                 False\n",
       "word_freq_lab                 False\n",
       "word_freq_labs                False\n",
       "word_freq_telnet              False\n",
       "word_freq_857                 False\n",
       "word_freq_data                False\n",
       "word_freq_415                 False\n",
       "word_freq_85                  False\n",
       "word_freq_technology          False\n",
       "word_freq_1999                False\n",
       "word_freq_parts               False\n",
       "word_freq_pm                  False\n",
       "word_freq_direct              False\n",
       "word_freq_cs                  False\n",
       "word_freq_meeting             False\n",
       "word_freq_original            False\n",
       "word_freq_project             False\n",
       "word_freq_re                  False\n",
       "word_freq_edu                 False\n",
       "word_freq_table               False\n",
       "word_freq_conference          False\n",
       "char_freq_;                   False\n",
       "char_freq_(                   False\n",
       "char_freq_[                   False\n",
       "char_freq_!                   False\n",
       "char_freq_$                   False\n",
       "char_freq_#                   False\n",
       "capital_run_length_average    False\n",
       "capital_run_length_longest    False\n",
       "capital_run_length_total      False\n",
       "dtype: bool"
      ]
     },
     "execution_count": 11,
     "metadata": {},
     "output_type": "execute_result"
    }
   ],
   "source": [
    "spambase_all.isna().any()"
   ]
  },
  {
   "cell_type": "markdown",
   "id": "74b9ce96-36e2-45e0-9b06-ad6f4c61b81f",
   "metadata": {},
   "source": [
    "#### Check for data imbalance"
   ]
  },
  {
   "cell_type": "code",
   "execution_count": 12,
   "id": "ea52ff96-200d-4f11-8a4f-c7e85d28abe6",
   "metadata": {},
   "outputs": [
    {
     "data": {
      "text/plain": [
       "[Text(0.5, 0, 'Spam or not')]"
      ]
     },
     "execution_count": 12,
     "metadata": {},
     "output_type": "execute_result"
    },
    {
     "data": {
      "image/png": "[encoded data removed]",
      "text/plain": [
       "<Figure size 432x360 with 1 Axes>"
      ]
     },
     "metadata": {},
     "output_type": "display_data"
    }
   ],
   "source": [
    "sns.set(rc={\"figure.figsize\":(6, 5)})\n",
    "sns.set_style('white')\n",
    "\n",
    "spambase_all_exp = spambase_all.copy()\n",
    "spambase_all_exp[\"target_spam_nonspam\"] = spambase_all_exp[\"target_spam_nonspam\"].astype(bool)\n",
    "\n",
    "ax = sns.countplot(x='target_spam_nonspam', data=spambase_all_exp) \n",
    "ax.set(xlabel='Spam or not')"
   ]
  },
  {
   "cell_type": "markdown",
   "id": "c4905585-c236-45bc-be3b-4f279e2f367d",
   "metadata": {},
   "source": [
    "#### Explore for Correlations\n",
    "The large number of features makes it difficult to determine the correlations."
   ]
  },
  {
   "cell_type": "code",
   "execution_count": 13,
   "id": "cad2ff48-347b-448d-9e34-ee717d3f51d8",
   "metadata": {},
   "outputs": [
    {
     "data": {
      "text/plain": [
       "<AxesSubplot:>"
      ]
     },
     "execution_count": 13,
     "metadata": {},
     "output_type": "execute_result"
    },
    {
     "data": {
      "image/png": "[encoded data removed]",
      "text/plain": [
       "<Figure size 720x576 with 2 Axes>"
      ]
     },
     "metadata": {},
     "output_type": "display_data"
    }
   ],
   "source": [
    "sns.set(rc={\"figure.figsize\":(10, 8)})\n",
    "sns.heatmap(spambase_all_exp.corr(), cmap='viridis')"
   ]
  },
  {
   "cell_type": "markdown",
   "id": "afa0faf1-cd25-45ed-a8c0-ba3d87ca99db",
   "metadata": {},
   "source": [
    "### Challenges\n",
    "* Imbalance Binary Classification\n",
    "* Large number of features"
   ]
  },
  {
   "cell_type": "markdown",
   "id": "bc58c53e-2ebd-45c2-97b3-0e6950942cda",
   "metadata": {},
   "source": [
    "### Solutions"
   ]
  },
  {
   "cell_type": "markdown",
   "id": "349bf3f4-b023-4210-87a4-2643c4310bc8",
   "metadata": {},
   "source": [
    "#### Pandas Undersampling for Imbalanced Binary Classification"
   ]
  },
  {
   "cell_type": "code",
   "execution_count": 14,
   "id": "11047aad-593f-42db-8b8c-1539a502e735",
   "metadata": {},
   "outputs": [
    {
     "name": "stdout",
     "output_type": "stream",
     "text": [
      "get_balance_data\n"
     ]
    }
   ],
   "source": [
    "spam = spambase_all[spambase_all['target_spam_nonspam']==1]\n",
    "non_spam = spambase_all[spambase_all['target_spam_nonspam']==0]\n",
    "non_spam = non_spam.sample(n=len(spam), random_state=101)\n",
    "spambase_balance = pd.concat([spam, non_spam],axis=0)  \n",
    "\n",
    "# an alternative is simply use the loader.get_balance_dataset()\n",
    "# since SpambaseDatasetLoader already handled the undersampling during load.\n",
    "\n",
    "spambase_balance = loader.get_balance_dataset()"
   ]
  },
  {
   "cell_type": "code",
   "execution_count": 15,
   "id": "e6dd524b-bb2a-41b0-a1f3-d16f439a98be",
   "metadata": {},
   "outputs": [
    {
     "data": {
      "text/plain": [
       "[Text(0.5, 0, 'Spam or not')]"
      ]
     },
     "execution_count": 15,
     "metadata": {},
     "output_type": "execute_result"
    },
    {
     "data": {
      "image/png": "[encoded data removed]",
      "text/plain": [
       "<Figure size 432x360 with 1 Axes>"
      ]
     },
     "metadata": {},
     "output_type": "display_data"
    }
   ],
   "source": [
    "spambase_balance_exp = spambase_balance.copy()\n",
    "spambase_balance_exp[\"target_spam_nonspam\"] = spambase_balance_exp[\"target_spam_nonspam\"].astype(bool)\n",
    "\n",
    "sns.set(rc={\"figure.figsize\":(6, 5)})\n",
    "sns.set_style('white')\n",
    "ax = sns.countplot(x='target_spam_nonspam', data=spambase_balance_exp) \n",
    "ax.set(xlabel='Spam or not')"
   ]
  },
  {
   "cell_type": "markdown",
   "id": "89e360ec-65d6-484c-8575-5bcaf86c487a",
   "metadata": {},
   "source": [
    "#### Feature Selection"
   ]
  },
  {
   "cell_type": "code",
   "execution_count": 16,
   "id": "0e4fbec8-3992-48ec-ab6e-48b1c4242928",
   "metadata": {},
   "outputs": [
    {
     "name": "stdout",
     "output_type": "stream",
     "text": [
      "Help on method perform_feature_selection in module spambase_dataset_loader_nb:\n",
      "\n",
      "perform_feature_selection(data, feature_selection_type) method of spambase_dataset_loader_nb.SpambaseDatasetLoader instance\n",
      "    (DataFrame, float) --> Dataframe\n",
      "    \n",
      "    \n",
      "    This function performs feature selection based on provided feature selection type.        \n",
      "            \n",
      "    Parameters\n",
      "    ----------\n",
      "    data: Dataframe that will be use in feature selection.\n",
      "    \n",
      "    threshold: If the p-value is higher than the threshold, we discard the combinations of features.\n",
      "    \n",
      "    Returns\n",
      "    ----------        \n",
      "    DataFrame : The DataFrame after performing feature selection.\n",
      "\n"
     ]
    }
   ],
   "source": [
    "help(loader.perform_feature_selection)"
   ]
  },
  {
   "cell_type": "code",
   "execution_count": 17,
   "id": "cbf7f2f4-af31-4d19-a8fa-2e4de812d5e8",
   "metadata": {},
   "outputs": [
    {
     "name": "stdout",
     "output_type": "stream",
     "text": [
      "The shape before feature selection: (3626, 58)\n",
      "Feature Selection using Backward Elimination\n",
      "Optimization terminated successfully.\n",
      "         Current function value: 0.198765\n",
      "         Iterations 15\n",
      "Optimization terminated successfully.\n",
      "         Current function value: 0.200934\n",
      "         Iterations 16\n",
      "Optimization terminated successfully.\n",
      "         Current function value: 0.200936\n",
      "         Iterations 16\n",
      "Optimization terminated successfully.\n",
      "         Current function value: 0.200939\n",
      "         Iterations 16\n",
      "Optimization terminated successfully.\n",
      "         Current function value: 0.200946\n",
      "         Iterations 16\n",
      "Optimization terminated successfully.\n",
      "         Current function value: 0.200953\n",
      "         Iterations 16\n",
      "Optimization terminated successfully.\n",
      "         Current function value: 0.200964\n",
      "         Iterations 16\n",
      "Optimization terminated successfully.\n",
      "         Current function value: 0.200981\n",
      "         Iterations 16\n",
      "Optimization terminated successfully.\n",
      "         Current function value: 0.201007\n",
      "         Iterations 16\n",
      "Optimization terminated successfully.\n",
      "         Current function value: 0.201046\n",
      "         Iterations 16\n",
      "Optimization terminated successfully.\n",
      "         Current function value: 0.201083\n",
      "         Iterations 16\n",
      "Optimization terminated successfully.\n",
      "         Current function value: 0.201128\n",
      "         Iterations 16\n",
      "Optimization terminated successfully.\n",
      "         Current function value: 0.201181\n",
      "         Iterations 16\n",
      "Optimization terminated successfully.\n",
      "         Current function value: 0.201260\n",
      "         Iterations 16\n",
      "Optimization terminated successfully.\n",
      "         Current function value: 0.201376\n",
      "         Iterations 16\n",
      "Optimization terminated successfully.\n",
      "         Current function value: 0.201630\n",
      "         Iterations 16\n",
      "Optimization terminated successfully.\n",
      "         Current function value: 0.203659\n",
      "         Iterations 15\n",
      "Optimization terminated successfully.\n",
      "         Current function value: 0.203808\n",
      "         Iterations 13\n",
      "Optimization terminated successfully.\n",
      "         Current function value: 0.203999\n",
      "         Iterations 13\n",
      "Optimization terminated successfully.\n",
      "         Current function value: 0.204877\n",
      "         Iterations 13\n",
      "Optimization terminated successfully.\n",
      "         Current function value: 0.205651\n",
      "         Iterations 13\n",
      "Optimization terminated successfully.\n",
      "         Current function value: 0.205951\n",
      "         Iterations 13\n",
      "Optimization terminated successfully.\n",
      "         Current function value: 0.206650\n",
      "         Iterations 13\n",
      "Optimization terminated successfully.\n",
      "         Current function value: 0.207035\n",
      "         Iterations 13\n",
      "Optimization terminated successfully.\n",
      "         Current function value: 0.208347\n",
      "         Iterations 13\n",
      "The shape after feature selection: (3626, 34)\n"
     ]
    }
   ],
   "source": [
    "stepwise_result = loader.perform_feature_selection(data=spambase_balance, feature_selection_type='stepwise_back')"
   ]
  },
  {
   "cell_type": "code",
   "execution_count": null,
   "id": "b01a8d00-9557-4c13-808f-5d8474b889ac",
   "metadata": {},
   "outputs": [],
   "source": []
  },
  {
   "cell_type": "code",
   "execution_count": 18,
   "id": "d8a3fa10-7968-44fe-bf8e-dfdc8c3630ae",
   "metadata": {},
   "outputs": [
    {
     "name": "stdout",
     "output_type": "stream",
     "text": [
      "The shape before feature selection: (3626, 58)\n",
      "Feature Selection using Person Correlation\n",
      "The shape after feature selection: (3626, 19)\n"
     ]
    }
   ],
   "source": [
    "pearson_result = loader.perform_feature_selection(data=spambase_balance, feature_selection_type='pearson')"
   ]
  },
  {
   "cell_type": "code",
   "execution_count": 19,
   "id": "8302564d-4ccf-4c5d-bbb3-2b4a80e03824",
   "metadata": {},
   "outputs": [
    {
     "name": "stdout",
     "output_type": "stream",
     "text": [
      "The shape before feature selection: (3626, 58)\n",
      "Feature Selection using Chi-squared\n",
      "The shape after feature selection: (3626, 19)\n"
     ]
    }
   ],
   "source": [
    "chi2_result = loader.perform_feature_selection(data=spambase_balance, feature_selection_type='chi2')"
   ]
  },
  {
   "cell_type": "code",
   "execution_count": 20,
   "id": "da957ab4-9dc0-431f-8976-f1901528dabe",
   "metadata": {},
   "outputs": [
    {
     "name": "stdout",
     "output_type": "stream",
     "text": [
      "Index(['word_freq_make', 'word_freq_address', 'word_freq_our',\n",
      "       'word_freq_over', 'word_freq_remove', 'word_freq_internet',\n",
      "       'word_freq_order', 'word_freq_will', 'word_freq_addresses',\n",
      "       'word_freq_free', 'word_freq_business', 'word_freq_credit',\n",
      "       'word_freq_your', 'word_freq_000', 'word_freq_money', 'word_freq_hp',\n",
      "       'word_freq_hpl', 'word_freq_george', 'word_freq_650', 'word_freq_data',\n",
      "       'word_freq_85', 'word_freq_technology', 'word_freq_pm',\n",
      "       'word_freq_meeting', 'word_freq_project', 'word_freq_re',\n",
      "       'word_freq_edu', 'word_freq_conference', 'char_freq_;', 'char_freq_!',\n",
      "       'char_freq_$', 'char_freq_#', 'capital_run_length_longest',\n",
      "       'capital_run_length_total'],\n",
      "      dtype='object')\n"
     ]
    }
   ],
   "source": [
    "print(stepwise_result[0].columns)"
   ]
  },
  {
   "cell_type": "code",
   "execution_count": 21,
   "id": "a5e3d5fc-8593-4c56-b46f-ec082d587a10",
   "metadata": {},
   "outputs": [
    {
     "name": "stdout",
     "output_type": "stream",
     "text": [
      "Index(['word_freq_all', 'word_freq_our', 'word_freq_over', 'word_freq_remove',\n",
      "       'word_freq_order', 'word_freq_receive', 'word_freq_free',\n",
      "       'word_freq_business', 'word_freq_email', 'word_freq_you',\n",
      "       'word_freq_your', 'word_freq_000', 'word_freq_money', 'word_freq_hp',\n",
      "       'word_freq_hpl', 'word_freq_george', 'char_freq_!', 'char_freq_$',\n",
      "       'capital_run_length_total'],\n",
      "      dtype='object')\n"
     ]
    }
   ],
   "source": [
    "print(pearson_result[0].columns)"
   ]
  },
  {
   "cell_type": "code",
   "execution_count": 22,
   "id": "56c1a7bd-b84b-4dfe-a30b-6f3b3e186c05",
   "metadata": {},
   "outputs": [
    {
     "name": "stdout",
     "output_type": "stream",
     "text": [
      "Index(['word_freq_our', 'word_freq_remove', 'word_freq_free',\n",
      "       'word_freq_business', 'word_freq_you', 'word_freq_credit',\n",
      "       'word_freq_your', 'word_freq_000', 'word_freq_money', 'word_freq_hp',\n",
      "       'word_freq_hpl', 'word_freq_george', 'word_freq_lab',\n",
      "       'word_freq_meeting', 'word_freq_edu', 'char_freq_!',\n",
      "       'capital_run_length_average', 'capital_run_length_longest',\n",
      "       'capital_run_length_total'],\n",
      "      dtype='object')\n"
     ]
    }
   ],
   "source": [
    "print(chi2_result[0].columns)"
   ]
  },
  {
   "cell_type": "markdown",
   "id": "c1d4f6c5-1284-4e87-9bca-27c733e04bbe",
   "metadata": {},
   "source": [
    "## Model"
   ]
  },
  {
   "cell_type": "markdown",
   "id": "423e102c-176d-40ff-9c28-e14baa04192e",
   "metadata": {},
   "source": [
    "### Statsmodels\n",
    "The study introduced a model helper for running the test."
   ]
  },
  {
   "cell_type": "code",
   "execution_count": 23,
   "id": "4a624c2d-c7c9-4da9-a1d7-d6c7fa565cf2",
   "metadata": {},
   "outputs": [
    {
     "name": "stdout",
     "output_type": "stream",
     "text": [
      "init Model Helper notebook\n"
     ]
    }
   ],
   "source": [
    "model_helper = spambase_model_helper_nb.SpambaseModelHelper()"
   ]
  },
  {
   "cell_type": "code",
   "execution_count": 24,
   "id": "e16b0e58-e453-4eb5-bda9-d6478d35469f",
   "metadata": {},
   "outputs": [
    {
     "name": "stdout",
     "output_type": "stream",
     "text": [
      "Help on method run_statsmodels_logit in module spambase_model_helper_nb:\n",
      "\n",
      "run_statsmodels_logit(data, feature_selection_type=None, verbose=False) method of spambase_model_helper_nb.SpambaseModelHelper instance\n",
      "    This function run logistic regression based from stats models.\n",
      "    \n",
      "    (DataFrame, boolean, boolean) --> DataFrame\n",
      "    \n",
      "    Parameters\n",
      "    ----------\n",
      "    data: Dataframe that will be use in running the model.\n",
      "    \n",
      "    feature_selection_type: Type of Feature Selection to use. Available options are stepwise_back, pearson and chi2.\n",
      "    verbose: True to display statsmodels summary, confusion matrix and its heatmap otherwise false.\n",
      "    \n",
      "    Returns\n",
      "    ----------        \n",
      "    DataFrame : The DataFrame of statsmodels scores.\n",
      "\n"
     ]
    }
   ],
   "source": [
    "help(model_helper.run_statsmodels_logit)"
   ]
  },
  {
   "cell_type": "markdown",
   "id": "6cd1f63a-6a54-4401-9619-ad8876648b10",
   "metadata": {},
   "source": [
    "#### Balance Dataset and Backward Elimination Technique"
   ]
  },
  {
   "cell_type": "code",
   "execution_count": 25,
   "id": "98384d76-62e2-4168-96a6-40c87f34633c",
   "metadata": {},
   "outputs": [
    {
     "name": "stdout",
     "output_type": "stream",
     "text": [
      "get_balance_data\n",
      "init Loader notebook\n",
      "The shape before feature selection: (3626, 58)\n",
      "Feature Selection using Backward Elimination\n",
      "Optimization terminated successfully.\n",
      "         Current function value: 0.198765\n",
      "         Iterations 15\n",
      "Optimization terminated successfully.\n",
      "         Current function value: 0.200934\n",
      "         Iterations 16\n",
      "Optimization terminated successfully.\n",
      "         Current function value: 0.200936\n",
      "         Iterations 16\n",
      "Optimization terminated successfully.\n",
      "         Current function value: 0.200939\n",
      "         Iterations 16\n",
      "Optimization terminated successfully.\n",
      "         Current function value: 0.200946\n",
      "         Iterations 16\n",
      "Optimization terminated successfully.\n",
      "         Current function value: 0.200953\n",
      "         Iterations 16\n",
      "Optimization terminated successfully.\n",
      "         Current function value: 0.200964\n",
      "         Iterations 16\n",
      "Optimization terminated successfully.\n",
      "         Current function value: 0.200981\n",
      "         Iterations 16\n",
      "Optimization terminated successfully.\n",
      "         Current function value: 0.201007\n",
      "         Iterations 16\n",
      "Optimization terminated successfully.\n",
      "         Current function value: 0.201046\n",
      "         Iterations 16\n",
      "Optimization terminated successfully.\n",
      "         Current function value: 0.201083\n",
      "         Iterations 16\n",
      "Optimization terminated successfully.\n",
      "         Current function value: 0.201128\n",
      "         Iterations 16\n",
      "Optimization terminated successfully.\n",
      "         Current function value: 0.201181\n",
      "         Iterations 16\n",
      "Optimization terminated successfully.\n",
      "         Current function value: 0.201260\n",
      "         Iterations 16\n",
      "Optimization terminated successfully.\n",
      "         Current function value: 0.201376\n",
      "         Iterations 16\n",
      "Optimization terminated successfully.\n",
      "         Current function value: 0.201630\n",
      "         Iterations 16\n",
      "Optimization terminated successfully.\n",
      "         Current function value: 0.203659\n",
      "         Iterations 15\n",
      "Optimization terminated successfully.\n",
      "         Current function value: 0.203808\n",
      "         Iterations 13\n",
      "Optimization terminated successfully.\n",
      "         Current function value: 0.203999\n",
      "         Iterations 13\n",
      "Optimization terminated successfully.\n",
      "         Current function value: 0.204877\n",
      "         Iterations 13\n",
      "Optimization terminated successfully.\n",
      "         Current function value: 0.205651\n",
      "         Iterations 13\n",
      "Optimization terminated successfully.\n",
      "         Current function value: 0.205951\n",
      "         Iterations 13\n",
      "Optimization terminated successfully.\n",
      "         Current function value: 0.206650\n",
      "         Iterations 13\n",
      "Optimization terminated successfully.\n",
      "         Current function value: 0.207035\n",
      "         Iterations 13\n",
      "Optimization terminated successfully.\n",
      "         Current function value: 0.208347\n",
      "         Iterations 13\n",
      "The shape after feature selection: (3626, 34)\n",
      "Optimization terminated successfully.\n",
      "         Current function value: 0.224523\n",
      "         Iterations 15\n",
      "                            Logit Regression Results                           \n",
      "===============================================================================\n",
      "Dep. Variable:     target_spam_nonspam   No. Observations:                 2900\n",
      "Model:                           Logit   Df Residuals:                     2866\n",
      "Method:                            MLE   Df Model:                           33\n",
      "Date:                 Thu, 27 Jul 2023   Pseudo R-squ.:                  0.6761\n",
      "Time:                         23:53:57   Log-Likelihood:                -651.12\n",
      "converged:                        True   LL-Null:                       -2010.1\n",
      "Covariance Type:             nonrobust   LLR p-value:                     0.000\n",
      "==============================================================================================\n",
      "                                 coef    std err          z      P>|z|      [0.025      0.975]\n",
      "----------------------------------------------------------------------------------------------\n",
      "word_freq_make                -0.7742      0.256     -3.029      0.002      -1.275      -0.273\n",
      "word_freq_address             -0.2181      0.072     -3.031      0.002      -0.359      -0.077\n",
      "word_freq_our                  0.4398      0.133      3.319      0.001       0.180       0.700\n",
      "word_freq_over                 0.6555      0.310      2.117      0.034       0.049       1.262\n",
      "word_freq_remove               1.8246      0.377      4.835      0.000       1.085       2.564\n",
      "word_freq_internet             0.3199      0.145      2.212      0.027       0.036       0.603\n",
      "word_freq_order                0.8242      0.413      1.996      0.046       0.015       1.634\n",
      "word_freq_will                -0.4142      0.087     -4.766      0.000      -0.585      -0.244\n",
      "word_freq_addresses            1.5048      1.013      1.485      0.137      -0.481       3.491\n",
      "word_freq_free                 0.7905      0.176      4.480      0.000       0.445       1.136\n",
      "word_freq_business             0.8054      0.251      3.209      0.001       0.313       1.297\n",
      "word_freq_credit               1.8909      0.782      2.417      0.016       0.357       3.424\n",
      "word_freq_your                 0.1835      0.058      3.140      0.002       0.069       0.298\n",
      "word_freq_000                  1.8235      0.524      3.479      0.001       0.796       2.851\n",
      "word_freq_money                0.4383      0.261      1.676      0.094      -0.074       0.951\n",
      "word_freq_hp                  -1.8560      0.307     -6.036      0.000      -2.459      -1.253\n",
      "word_freq_hpl                 -1.3349      0.480     -2.780      0.005      -2.276      -0.394\n",
      "word_freq_george             -13.4721      2.625     -5.132      0.000     -18.618      -8.326\n",
      "word_freq_650                  0.4979      0.309      1.612      0.107      -0.107       1.103\n",
      "word_freq_data                -1.0551      0.318     -3.317      0.001      -1.679      -0.432\n",
      "word_freq_85                  -2.4609      0.835     -2.949      0.003      -4.097      -0.825\n",
      "word_freq_technology           0.3153      0.363      0.868      0.385      -0.396       1.027\n",
      "word_freq_pm                  -1.1126      0.466     -2.386      0.017      -2.026      -0.199\n",
      "word_freq_meeting             -3.2161      0.965     -3.332      0.001      -5.108      -1.324\n",
      "word_freq_project             -2.7002      0.698     -3.868      0.000      -4.068      -1.332\n",
      "word_freq_re                  -0.9948      0.167     -5.953      0.000      -1.322      -0.667\n",
      "word_freq_edu                 -1.9067      0.317     -6.021      0.000      -2.527      -1.286\n",
      "word_freq_conference          -4.1104      1.485     -2.769      0.006      -7.020      -1.200\n",
      "char_freq_;                   -1.0453      0.420     -2.491      0.013      -1.868      -0.223\n",
      "char_freq_!                    0.1670      0.060      2.791      0.005       0.050       0.284\n",
      "char_freq_$                    5.1094      0.938      5.447      0.000       3.271       6.948\n",
      "char_freq_#                    2.8334      0.882      3.213      0.001       1.105       4.562\n",
      "capital_run_length_longest     0.0092      0.002      4.032      0.000       0.005       0.014\n",
      "capital_run_length_total       0.0003      0.000      1.325      0.185      -0.000       0.001\n",
      "==============================================================================================\n",
      "\n",
      "Possibly complete quasi-separation: A fraction 0.22 of observations can be\n",
      "perfectly predicted. This might indicate that there is complete\n",
      "quasi-separation. In this case some parameters will not be identified.\n",
      "Confusion Matrix\n",
      "[[318  49]\n",
      " [ 15 344]]\n",
      "Confusion Matrix result - TP: 318, TN:344, FP:49, FN: 15\n"
     ]
    },
    {
     "data": {
      "image/png": "[encoded data removed]",
      "text/plain": [
       "<Figure size 432x360 with 2 Axes>"
      ]
     },
     "metadata": {},
     "output_type": "display_data"
    }
   ],
   "source": [
    "spambase_balance = loader.get_balance_dataset()\n",
    "\n",
    "df_sm_stepwise_back = model_helper.run_statsmodels_logit(spambase_balance, \n",
    "                    feature_selection_type='stepwise_back', verbose=True)"
   ]
  },
  {
   "cell_type": "code",
   "execution_count": 26,
   "id": "fcf39a36-f60b-43b1-b356-23f251525cc6",
   "metadata": {},
   "outputs": [
    {
     "data": {
      "text/html": [
       "<div>\n",
       "<style scoped>\n",
       "    .dataframe tbody tr th:only-of-type {\n",
       "        vertical-align: middle;\n",
       "    }\n",
       "\n",
       "    .dataframe tbody tr th {\n",
       "        vertical-align: top;\n",
       "    }\n",
       "\n",
       "    .dataframe thead th {\n",
       "        text-align: right;\n",
       "    }\n",
       "</style>\n",
       "<table border=\"1\" class=\"dataframe\">\n",
       "  <thead>\n",
       "    <tr style=\"text-align: right;\">\n",
       "      <th></th>\n",
       "      <th>Accuracy</th>\n",
       "      <th>Precision</th>\n",
       "      <th>Recall</th>\n",
       "      <th>F1-Score</th>\n",
       "    </tr>\n",
       "  </thead>\n",
       "  <tbody>\n",
       "    <tr>\n",
       "      <th>Score</th>\n",
       "      <td>0.911846</td>\n",
       "      <td>0.866485</td>\n",
       "      <td>0.954955</td>\n",
       "      <td>0.908571</td>\n",
       "    </tr>\n",
       "  </tbody>\n",
       "</table>\n",
       "</div>"
      ],
      "text/plain": [
       "       Accuracy  Precision    Recall  F1-Score\n",
       "Score  0.911846   0.866485  0.954955  0.908571"
      ]
     },
     "execution_count": 26,
     "metadata": {},
     "output_type": "execute_result"
    }
   ],
   "source": [
    "df_sm_stepwise_back"
   ]
  },
  {
   "cell_type": "markdown",
   "id": "f756f813-e1f8-48b6-b3af-bffe1b2dbc73",
   "metadata": {},
   "source": [
    "#### Balance Dataset and Pearson Correlation"
   ]
  },
  {
   "cell_type": "code",
   "execution_count": 27,
   "id": "44c562b6-df2f-40ef-9323-3d8e794aa95d",
   "metadata": {},
   "outputs": [
    {
     "name": "stdout",
     "output_type": "stream",
     "text": [
      "get_balance_data\n",
      "init Loader notebook\n",
      "The shape before feature selection: (3626, 58)\n",
      "Feature Selection using Person Correlation\n",
      "The shape after feature selection: (3626, 19)\n",
      "Optimization terminated successfully.\n",
      "         Current function value: 0.320513\n",
      "         Iterations 14\n",
      "                            Logit Regression Results                           \n",
      "===============================================================================\n",
      "Dep. Variable:     target_spam_nonspam   No. Observations:                 2900\n",
      "Model:                           Logit   Df Residuals:                     2881\n",
      "Method:                            MLE   Df Model:                           18\n",
      "Date:                 Thu, 27 Jul 2023   Pseudo R-squ.:                  0.5376\n",
      "Time:                         23:53:58   Log-Likelihood:                -929.49\n",
      "converged:                        True   LL-Null:                       -2010.1\n",
      "Covariance Type:             nonrobust   LLR p-value:                     0.000\n",
      "============================================================================================\n",
      "                               coef    std err          z      P>|z|      [0.025      0.975]\n",
      "--------------------------------------------------------------------------------------------\n",
      "word_freq_all               -0.2297      0.115     -1.994      0.046      -0.455      -0.004\n",
      "word_freq_our                0.2442      0.093      2.620      0.009       0.061       0.427\n",
      "word_freq_over               0.7252      0.258      2.815      0.005       0.220       1.230\n",
      "word_freq_remove             2.7703      0.443      6.247      0.000       1.901       3.639\n",
      "word_freq_order              1.6511      0.381      4.328      0.000       0.903       2.399\n",
      "word_freq_receive            0.1530      0.353      0.433      0.665      -0.539       0.845\n",
      "word_freq_free               0.9019      0.158      5.711      0.000       0.592       1.211\n",
      "word_freq_business           0.8503      0.223      3.807      0.000       0.412       1.288\n",
      "word_freq_email              0.1734      0.118      1.469      0.142      -0.058       0.405\n",
      "word_freq_you               -0.2592      0.034     -7.671      0.000      -0.325      -0.193\n",
      "word_freq_your               0.2498      0.057      4.396      0.000       0.138       0.361\n",
      "word_freq_000                2.7988      0.554      5.056      0.000       1.714       3.884\n",
      "word_freq_money              0.7464      0.261      2.861      0.004       0.235       1.258\n",
      "word_freq_hp                -2.0590      0.306     -6.720      0.000      -2.660      -1.458\n",
      "word_freq_hpl               -2.0999      0.493     -4.258      0.000      -3.066      -1.133\n",
      "word_freq_george           -13.2686      2.872     -4.620      0.000     -18.898      -7.639\n",
      "char_freq_!                  0.1420      0.066      2.148      0.032       0.012       0.272\n",
      "char_freq_$                  3.6332      0.702      5.173      0.000       2.257       5.010\n",
      "capital_run_length_total     0.0003      0.000      2.366      0.018    5.62e-05       0.001\n",
      "============================================================================================\n",
      "\n",
      "Possibly complete quasi-separation: A fraction 0.14 of observations can be\n",
      "perfectly predicted. This might indicate that there is complete\n",
      "quasi-separation. In this case some parameters will not be identified.\n",
      "Confusion Matrix\n",
      "[[268  99]\n",
      " [ 22 337]]\n",
      "Confusion Matrix result - TP: 268, TN:337, FP:99, FN: 22\n"
     ]
    },
    {
     "data": {
      "image/png": "[encoded data removed]",
      "text/plain": [
       "<Figure size 432x360 with 2 Axes>"
      ]
     },
     "metadata": {},
     "output_type": "display_data"
    }
   ],
   "source": [
    "spambase_balance = loader.get_balance_dataset()\n",
    "\n",
    "df_sm_pearson = model_helper.run_statsmodels_logit(spambase_balance, \n",
    "                    feature_selection_type='pearson', verbose=True)"
   ]
  },
  {
   "cell_type": "code",
   "execution_count": 28,
   "id": "47d3f228-2b34-49a8-9b31-46489e1a27fc",
   "metadata": {},
   "outputs": [
    {
     "data": {
      "text/html": [
       "<div>\n",
       "<style scoped>\n",
       "    .dataframe tbody tr th:only-of-type {\n",
       "        vertical-align: middle;\n",
       "    }\n",
       "\n",
       "    .dataframe tbody tr th {\n",
       "        vertical-align: top;\n",
       "    }\n",
       "\n",
       "    .dataframe thead th {\n",
       "        text-align: right;\n",
       "    }\n",
       "</style>\n",
       "<table border=\"1\" class=\"dataframe\">\n",
       "  <thead>\n",
       "    <tr style=\"text-align: right;\">\n",
       "      <th></th>\n",
       "      <th>Accuracy</th>\n",
       "      <th>Precision</th>\n",
       "      <th>Recall</th>\n",
       "      <th>F1-Score</th>\n",
       "    </tr>\n",
       "  </thead>\n",
       "  <tbody>\n",
       "    <tr>\n",
       "      <th>Score</th>\n",
       "      <td>0.833333</td>\n",
       "      <td>0.730245</td>\n",
       "      <td>0.924138</td>\n",
       "      <td>0.81583</td>\n",
       "    </tr>\n",
       "  </tbody>\n",
       "</table>\n",
       "</div>"
      ],
      "text/plain": [
       "       Accuracy  Precision    Recall  F1-Score\n",
       "Score  0.833333   0.730245  0.924138   0.81583"
      ]
     },
     "execution_count": 28,
     "metadata": {},
     "output_type": "execute_result"
    }
   ],
   "source": [
    "df_sm_pearson"
   ]
  },
  {
   "cell_type": "markdown",
   "id": "263f9206-abdc-481b-bab4-aac51e713c7d",
   "metadata": {},
   "source": [
    "#### Balance Dataset and Chi-squared"
   ]
  },
  {
   "cell_type": "code",
   "execution_count": 29,
   "id": "feb39a68-bcff-427f-942a-5101e1019306",
   "metadata": {},
   "outputs": [
    {
     "name": "stdout",
     "output_type": "stream",
     "text": [
      "get_balance_data\n",
      "init Loader notebook\n",
      "The shape before feature selection: (3626, 58)\n",
      "Feature Selection using Chi-squared\n",
      "The shape after feature selection: (3626, 19)\n",
      "Optimization terminated successfully.\n",
      "         Current function value: 0.276964\n",
      "         Iterations 14\n",
      "                            Logit Regression Results                           \n",
      "===============================================================================\n",
      "Dep. Variable:     target_spam_nonspam   No. Observations:                 2900\n",
      "Model:                           Logit   Df Residuals:                     2881\n",
      "Method:                            MLE   Df Model:                           18\n",
      "Date:                 Thu, 27 Jul 2023   Pseudo R-squ.:                  0.6004\n",
      "Time:                         23:53:58   Log-Likelihood:                -803.20\n",
      "converged:                        True   LL-Null:                       -2010.1\n",
      "Covariance Type:             nonrobust   LLR p-value:                     0.000\n",
      "==============================================================================================\n",
      "                                 coef    std err          z      P>|z|      [0.025      0.975]\n",
      "----------------------------------------------------------------------------------------------\n",
      "word_freq_our                  0.3684      0.119      3.094      0.002       0.135       0.602\n",
      "word_freq_remove               2.3642      0.421      5.619      0.000       1.540       3.189\n",
      "word_freq_free                 0.9228      0.171      5.390      0.000       0.587       1.258\n",
      "word_freq_business             0.8174      0.236      3.465      0.001       0.355       1.280\n",
      "word_freq_you                 -0.1763      0.033     -5.331      0.000      -0.241      -0.112\n",
      "word_freq_credit               1.2223      0.603      2.026      0.043       0.040       2.405\n",
      "word_freq_your                 0.2259      0.058      3.868      0.000       0.111       0.340\n",
      "word_freq_000                  2.7788      0.537      5.175      0.000       1.726       3.831\n",
      "word_freq_money                1.0032      0.313      3.204      0.001       0.390       1.617\n",
      "word_freq_hp                  -1.9248      0.281     -6.853      0.000      -2.475      -1.374\n",
      "word_freq_hpl                 -1.7664      0.461     -3.834      0.000      -2.669      -0.863\n",
      "word_freq_george             -11.9625      2.190     -5.463      0.000     -16.254      -7.671\n",
      "word_freq_lab                 -4.5310      1.826     -2.481      0.013      -8.110      -0.952\n",
      "word_freq_meeting             -3.4654      0.931     -3.722      0.000      -5.290      -1.640\n",
      "word_freq_edu                 -2.3382      0.343     -6.820      0.000      -3.010      -1.666\n",
      "char_freq_!                    0.1483      0.068      2.171      0.030       0.014       0.282\n",
      "capital_run_length_average    -0.0219      0.007     -3.172      0.002      -0.036      -0.008\n",
      "capital_run_length_longest     0.0126      0.002      5.428      0.000       0.008       0.017\n",
      "capital_run_length_total       0.0002      0.000      1.147      0.252      -0.000       0.000\n",
      "==============================================================================================\n",
      "\n",
      "Possibly complete quasi-separation: A fraction 0.19 of observations can be\n",
      "perfectly predicted. This might indicate that there is complete\n",
      "quasi-separation. In this case some parameters will not be identified.\n",
      "Confusion Matrix\n",
      "[[309  58]\n",
      " [ 19 340]]\n",
      "Confusion Matrix result - TP: 309, TN:340, FP:58, FN: 19\n"
     ]
    },
    {
     "data": {
      "image/png": "[encoded data removed]",
      "text/plain": [
       "<Figure size 432x360 with 2 Axes>"
      ]
     },
     "metadata": {},
     "output_type": "display_data"
    }
   ],
   "source": [
    "spambase_balance = loader.get_balance_dataset()\n",
    "\n",
    "df_sm_chi2 = model_helper.run_statsmodels_logit(spambase_balance, \n",
    "                    feature_selection_type='chi2', verbose=True)"
   ]
  },
  {
   "cell_type": "code",
   "execution_count": 30,
   "id": "590cd5af-a324-4ac5-a6f6-49efd879d75d",
   "metadata": {},
   "outputs": [
    {
     "data": {
      "text/html": [
       "<div>\n",
       "<style scoped>\n",
       "    .dataframe tbody tr th:only-of-type {\n",
       "        vertical-align: middle;\n",
       "    }\n",
       "\n",
       "    .dataframe tbody tr th {\n",
       "        vertical-align: top;\n",
       "    }\n",
       "\n",
       "    .dataframe thead th {\n",
       "        text-align: right;\n",
       "    }\n",
       "</style>\n",
       "<table border=\"1\" class=\"dataframe\">\n",
       "  <thead>\n",
       "    <tr style=\"text-align: right;\">\n",
       "      <th></th>\n",
       "      <th>Accuracy</th>\n",
       "      <th>Precision</th>\n",
       "      <th>Recall</th>\n",
       "      <th>F1-Score</th>\n",
       "    </tr>\n",
       "  </thead>\n",
       "  <tbody>\n",
       "    <tr>\n",
       "      <th>Score</th>\n",
       "      <td>0.893939</td>\n",
       "      <td>0.841962</td>\n",
       "      <td>0.942073</td>\n",
       "      <td>0.889209</td>\n",
       "    </tr>\n",
       "  </tbody>\n",
       "</table>\n",
       "</div>"
      ],
      "text/plain": [
       "       Accuracy  Precision    Recall  F1-Score\n",
       "Score  0.893939   0.841962  0.942073  0.889209"
      ]
     },
     "execution_count": 30,
     "metadata": {},
     "output_type": "execute_result"
    }
   ],
   "source": [
    "df_sm_chi2"
   ]
  },
  {
   "cell_type": "markdown",
   "id": "bfe8fa0c-62b6-4858-88c0-7ae4dd94d95f",
   "metadata": {},
   "source": [
    "#### Balance Dataset without Feature Selection"
   ]
  },
  {
   "cell_type": "code",
   "execution_count": 31,
   "id": "0ce2990b-8373-459e-8953-4cfe20d5bfe3",
   "metadata": {},
   "outputs": [
    {
     "name": "stdout",
     "output_type": "stream",
     "text": [
      "get_balance_data\n",
      "Optimization terminated successfully.\n",
      "         Current function value: 0.209908\n",
      "         Iterations 15\n",
      "                           Logit Regression Results                           \n",
      "==============================================================================\n",
      "Dep. Variable:                      y   No. Observations:                 2900\n",
      "Model:                          Logit   Df Residuals:                     2843\n",
      "Method:                           MLE   Df Model:                           56\n",
      "Date:                Thu, 27 Jul 2023   Pseudo R-squ.:                  0.6972\n",
      "Time:                        23:53:59   Log-Likelihood:                -608.73\n",
      "converged:                       True   LL-Null:                       -2010.1\n",
      "Covariance Type:            nonrobust   LLR p-value:                     0.000\n",
      "==============================================================================\n",
      "                 coef    std err          z      P>|z|      [0.025      0.975]\n",
      "------------------------------------------------------------------------------\n",
      "x1            -0.7281      0.281     -2.594      0.009      -1.278      -0.178\n",
      "x2            -0.2198      0.074     -2.985      0.003      -0.364      -0.075\n",
      "x3            -0.1580      0.139     -1.136      0.256      -0.431       0.115\n",
      "x4             1.5436      1.317      1.172      0.241      -1.037       4.124\n",
      "x5             0.4810      0.138      3.484      0.000       0.210       0.752\n",
      "x6             0.9639      0.341      2.828      0.005       0.296       1.632\n",
      "x7             1.9019      0.382      4.984      0.000       1.154       2.650\n",
      "x8             0.2872      0.153      1.874      0.061      -0.013       0.588\n",
      "x9             1.0453      0.454      2.301      0.021       0.155       1.936\n",
      "x10            0.0544      0.089      0.609      0.543      -0.121       0.230\n",
      "x11            0.0387      0.382      0.101      0.919      -0.711       0.788\n",
      "x12           -0.3710      0.091     -4.060      0.000      -0.550      -0.192\n",
      "x13           -0.3247      0.282     -1.150      0.250      -0.878       0.229\n",
      "x14           -0.0782      0.144     -0.543      0.587      -0.360       0.204\n",
      "x15            2.4827      1.349      1.841      0.066      -0.161       5.126\n",
      "x16            0.8127      0.180      4.526      0.000       0.461       1.165\n",
      "x17            0.9811      0.282      3.479      0.001       0.428       1.534\n",
      "x18           -0.0298      0.129     -0.231      0.818      -0.283       0.223\n",
      "x19           -0.0691      0.040     -1.733      0.083      -0.147       0.009\n",
      "x20            1.7548      0.814      2.156      0.031       0.160       3.350\n",
      "x21            0.2638      0.068      3.899      0.000       0.131       0.396\n",
      "x22            0.1326      0.199      0.666      0.505      -0.258       0.523\n",
      "x23            1.9213      0.556      3.457      0.001       0.832       3.011\n",
      "x24            0.3724      0.232      1.605      0.109      -0.082       0.827\n",
      "x25           -1.7286      0.344     -5.030      0.000      -2.402      -1.055\n",
      "x26           -1.1995      0.510     -2.354      0.019      -2.198      -0.201\n",
      "x27          -15.1760      2.968     -5.113      0.000     -20.994      -9.358\n",
      "x28            0.5071      0.287      1.768      0.077      -0.055       1.069\n",
      "x29           -2.7133      1.708     -1.589      0.112      -6.060       0.633\n",
      "x30           -1.0357      0.473     -2.189      0.029      -1.963      -0.108\n",
      "x31            0.3521      1.376      0.256      0.798      -2.345       3.049\n",
      "x32            0.6633      3.852      0.172      0.863      -6.887       8.214\n",
      "x33           -0.9838      0.325     -3.025      0.002      -1.621      -0.346\n",
      "x34          -17.2634      5.609     -3.078      0.002     -28.256      -6.271\n",
      "x35           -2.6223      0.893     -2.938      0.003      -4.372      -0.873\n",
      "x36            0.3425      0.361      0.948      0.343      -0.365       1.050\n",
      "x37           -0.1700      0.213     -0.797      0.426      -0.588       0.248\n",
      "x38            0.0515      1.455      0.035      0.972      -2.800       2.903\n",
      "x39           -0.8490      0.479     -1.773      0.076      -1.788       0.089\n",
      "x40            0.2059      1.092      0.188      0.851      -1.935       2.347\n",
      "x41          -39.9817     30.637     -1.305      0.192    -100.029      20.065\n",
      "x42           -2.8971      0.924     -3.136      0.002      -4.708      -1.086\n",
      "x43           -2.0934      1.101     -1.902      0.057      -4.251       0.064\n",
      "x44           -2.5105      0.748     -3.357      0.001      -3.976      -1.045\n",
      "x45           -0.9683      0.180     -5.384      0.000      -1.321      -0.616\n",
      "x46           -1.4853      0.305     -4.873      0.000      -2.083      -0.888\n",
      "x47           -3.7907      2.574     -1.473      0.141      -8.836       1.255\n",
      "x48           -3.7425      1.592     -2.350      0.019      -6.864      -0.621\n",
      "x49           -1.2209      0.579     -2.110      0.035      -2.355      -0.087\n",
      "x50           -0.4294      0.332     -1.294      0.196      -1.080       0.221\n",
      "x51           -2.5508      1.412     -1.806      0.071      -5.318       0.217\n",
      "x52            0.1934      0.059      3.293      0.001       0.078       0.309\n",
      "x53            5.5175      0.962      5.735      0.000       3.632       7.403\n",
      "x54            2.1966      1.633      1.345      0.179      -1.005       5.398\n",
      "x55           -0.0155      0.021     -0.753      0.451      -0.056       0.025\n",
      "x56            0.0122      0.003      3.680      0.000       0.006       0.019\n",
      "x57            0.0004      0.000      1.639      0.101   -7.68e-05       0.001\n",
      "==============================================================================\n",
      "\n",
      "Possibly complete quasi-separation: A fraction 0.25 of observations can be\n",
      "perfectly predicted. This might indicate that there is complete\n",
      "quasi-separation. In this case some parameters will not be identified.\n",
      "Confusion Matrix\n",
      "[[335  32]\n",
      " [ 23 336]]\n",
      "Confusion Matrix result - TP: 335, TN:336, FP:32, FN: 23\n"
     ]
    },
    {
     "data": {
      "image/png": "[encoded data removed]",
      "text/plain": [
       "<Figure size 432x360 with 2 Axes>"
      ]
     },
     "metadata": {},
     "output_type": "display_data"
    }
   ],
   "source": [
    "spambase_balance = loader.get_balance_dataset()\n",
    "\n",
    "df_sm_none = model_helper.run_statsmodels_logit(spambase_balance, \n",
    "                    feature_selection_type=None, verbose=True)"
   ]
  },
  {
   "cell_type": "code",
   "execution_count": 32,
   "id": "e9dc24bd-9472-4b4c-8587-fec13bd2f557",
   "metadata": {},
   "outputs": [
    {
     "data": {
      "text/html": [
       "<div>\n",
       "<style scoped>\n",
       "    .dataframe tbody tr th:only-of-type {\n",
       "        vertical-align: middle;\n",
       "    }\n",
       "\n",
       "    .dataframe tbody tr th {\n",
       "        vertical-align: top;\n",
       "    }\n",
       "\n",
       "    .dataframe thead th {\n",
       "        text-align: right;\n",
       "    }\n",
       "</style>\n",
       "<table border=\"1\" class=\"dataframe\">\n",
       "  <thead>\n",
       "    <tr style=\"text-align: right;\">\n",
       "      <th></th>\n",
       "      <th>Accuracy</th>\n",
       "      <th>Precision</th>\n",
       "      <th>Recall</th>\n",
       "      <th>F1-Score</th>\n",
       "    </tr>\n",
       "  </thead>\n",
       "  <tbody>\n",
       "    <tr>\n",
       "      <th>Score</th>\n",
       "      <td>0.924242</td>\n",
       "      <td>0.912807</td>\n",
       "      <td>0.935754</td>\n",
       "      <td>0.924138</td>\n",
       "    </tr>\n",
       "  </tbody>\n",
       "</table>\n",
       "</div>"
      ],
      "text/plain": [
       "       Accuracy  Precision    Recall  F1-Score\n",
       "Score  0.924242   0.912807  0.935754  0.924138"
      ]
     },
     "execution_count": 32,
     "metadata": {},
     "output_type": "execute_result"
    }
   ],
   "source": [
    "df_sm_none"
   ]
  },
  {
   "cell_type": "markdown",
   "id": "b5b64d86-88f7-48fe-af8e-9971304c422e",
   "metadata": {},
   "source": [
    "#### Full Dataset and Backward Elimination Technique"
   ]
  },
  {
   "cell_type": "code",
   "execution_count": 33,
   "id": "03a88ee3-265f-4fac-ab75-af48788b1fdb",
   "metadata": {},
   "outputs": [
    {
     "name": "stdout",
     "output_type": "stream",
     "text": [
      "get_full_dataset\n",
      "init Loader notebook\n",
      "The shape before feature selection: (4601, 58)\n",
      "Feature Selection using Backward Elimination\n",
      "Optimization terminated successfully.\n",
      "         Current function value: 0.197323\n",
      "         Iterations 15\n",
      "Optimization terminated successfully.\n",
      "         Current function value: 0.199514\n",
      "         Iterations 16\n",
      "Optimization terminated successfully.\n",
      "         Current function value: 0.199528\n",
      "         Iterations 16\n",
      "Optimization terminated successfully.\n",
      "         Current function value: 0.199542\n",
      "         Iterations 16\n",
      "Optimization terminated successfully.\n",
      "         Current function value: 0.199576\n",
      "         Iterations 16\n",
      "Optimization terminated successfully.\n",
      "         Current function value: 0.199597\n",
      "         Iterations 16\n",
      "Optimization terminated successfully.\n",
      "         Current function value: 0.199624\n",
      "         Iterations 16\n",
      "Optimization terminated successfully.\n",
      "         Current function value: 0.199674\n",
      "         Iterations 16\n",
      "Optimization terminated successfully.\n",
      "         Current function value: 0.199758\n",
      "         Iterations 16\n",
      "Optimization terminated successfully.\n",
      "         Current function value: 0.199829\n",
      "         Iterations 16\n",
      "Optimization terminated successfully.\n",
      "         Current function value: 0.199902\n",
      "         Iterations 16\n",
      "Optimization terminated successfully.\n",
      "         Current function value: 0.199997\n",
      "         Iterations 16\n",
      "Optimization terminated successfully.\n",
      "         Current function value: 0.200100\n",
      "         Iterations 16\n",
      "Optimization terminated successfully.\n",
      "         Current function value: 0.200192\n",
      "         Iterations 16\n",
      "Optimization terminated successfully.\n",
      "         Current function value: 0.200324\n",
      "         Iterations 16\n",
      "Optimization terminated successfully.\n",
      "         Current function value: 0.202340\n",
      "         Iterations 14\n",
      "Optimization terminated successfully.\n",
      "         Current function value: 0.202761\n",
      "         Iterations 14\n",
      "Optimization terminated successfully.\n",
      "         Current function value: 0.202999\n",
      "         Iterations 14\n",
      "Optimization terminated successfully.\n",
      "         Current function value: 0.203271\n",
      "         Iterations 14\n",
      "Optimization terminated successfully.\n",
      "         Current function value: 0.203670\n",
      "         Iterations 14\n",
      "Optimization terminated successfully.\n",
      "         Current function value: 0.204720\n",
      "         Iterations 13\n",
      "Optimization terminated successfully.\n",
      "         Current function value: 0.205019\n",
      "         Iterations 13\n",
      "Optimization terminated successfully.\n",
      "         Current function value: 0.205606\n",
      "         Iterations 13\n",
      "Optimization terminated successfully.\n",
      "         Current function value: 0.206639\n",
      "         Iterations 13\n",
      "Optimization terminated successfully.\n",
      "         Current function value: 0.207128\n",
      "         Iterations 13\n",
      "Optimization terminated successfully.\n",
      "         Current function value: 0.207569\n",
      "         Iterations 13\n",
      "The shape after feature selection: (4601, 33)\n",
      "Optimization terminated successfully.\n",
      "         Current function value: 0.226653\n",
      "         Iterations 15\n"
     ]
    },
    {
     "data": {
      "text/html": [
       "<div>\n",
       "<style scoped>\n",
       "    .dataframe tbody tr th:only-of-type {\n",
       "        vertical-align: middle;\n",
       "    }\n",
       "\n",
       "    .dataframe tbody tr th {\n",
       "        vertical-align: top;\n",
       "    }\n",
       "\n",
       "    .dataframe thead th {\n",
       "        text-align: right;\n",
       "    }\n",
       "</style>\n",
       "<table border=\"1\" class=\"dataframe\">\n",
       "  <thead>\n",
       "    <tr style=\"text-align: right;\">\n",
       "      <th></th>\n",
       "      <th>Accuracy</th>\n",
       "      <th>Precision</th>\n",
       "      <th>Recall</th>\n",
       "      <th>F1-Score</th>\n",
       "    </tr>\n",
       "  </thead>\n",
       "  <tbody>\n",
       "    <tr>\n",
       "      <th>Score</th>\n",
       "      <td>0.895765</td>\n",
       "      <td>0.86631</td>\n",
       "      <td>0.95858</td>\n",
       "      <td>0.910112</td>\n",
       "    </tr>\n",
       "  </tbody>\n",
       "</table>\n",
       "</div>"
      ],
      "text/plain": [
       "       Accuracy  Precision   Recall  F1-Score\n",
       "Score  0.895765    0.86631  0.95858  0.910112"
      ]
     },
     "execution_count": 33,
     "metadata": {},
     "output_type": "execute_result"
    }
   ],
   "source": [
    "spambase_full = loader.get_full_dataset()\n",
    "\n",
    "df_sm_full_stepwise = model_helper.run_statsmodels_logit(spambase_full, \n",
    "                    feature_selection_type='stepwise_back', verbose=False)\n",
    "df_sm_full_stepwise"
   ]
  },
  {
   "cell_type": "markdown",
   "id": "30029940-e7fc-4535-8bbb-57c08b1cd9fe",
   "metadata": {},
   "source": [
    "#### Full Dataset and Pearson Correlation"
   ]
  },
  {
   "cell_type": "code",
   "execution_count": 34,
   "id": "85450534-f9e0-4079-a6de-599e1e8bbc4c",
   "metadata": {},
   "outputs": [
    {
     "name": "stdout",
     "output_type": "stream",
     "text": [
      "get_full_dataset\n",
      "init Loader notebook\n",
      "The shape before feature selection: (4601, 58)\n",
      "Feature Selection using Person Correlation\n",
      "The shape after feature selection: (4601, 19)\n",
      "Optimization terminated successfully.\n",
      "         Current function value: 0.393265\n",
      "         Iterations 10\n"
     ]
    },
    {
     "data": {
      "text/html": [
       "<div>\n",
       "<style scoped>\n",
       "    .dataframe tbody tr th:only-of-type {\n",
       "        vertical-align: middle;\n",
       "    }\n",
       "\n",
       "    .dataframe tbody tr th {\n",
       "        vertical-align: top;\n",
       "    }\n",
       "\n",
       "    .dataframe thead th {\n",
       "        text-align: right;\n",
       "    }\n",
       "</style>\n",
       "<table border=\"1\" class=\"dataframe\">\n",
       "  <thead>\n",
       "    <tr style=\"text-align: right;\">\n",
       "      <th></th>\n",
       "      <th>Accuracy</th>\n",
       "      <th>Precision</th>\n",
       "      <th>Recall</th>\n",
       "      <th>F1-Score</th>\n",
       "    </tr>\n",
       "  </thead>\n",
       "  <tbody>\n",
       "    <tr>\n",
       "      <th>Score</th>\n",
       "      <td>0.760043</td>\n",
       "      <td>0.672014</td>\n",
       "      <td>0.910628</td>\n",
       "      <td>0.773333</td>\n",
       "    </tr>\n",
       "  </tbody>\n",
       "</table>\n",
       "</div>"
      ],
      "text/plain": [
       "       Accuracy  Precision    Recall  F1-Score\n",
       "Score  0.760043   0.672014  0.910628  0.773333"
      ]
     },
     "execution_count": 34,
     "metadata": {},
     "output_type": "execute_result"
    }
   ],
   "source": [
    "spambase_full = loader.get_full_dataset()\n",
    "\n",
    "df_sm_full_pearson = model_helper.run_statsmodels_logit(spambase_full, \n",
    "                    feature_selection_type='pearson', verbose=False)\n",
    "df_sm_full_pearson"
   ]
  },
  {
   "cell_type": "markdown",
   "id": "4f872afd-253d-46d7-b897-d1266aa2bf55",
   "metadata": {},
   "source": [
    "#### Full Dataset and Chi-squared"
   ]
  },
  {
   "cell_type": "code",
   "execution_count": 35,
   "id": "f1691762-f711-4a05-8718-a2071e44d974",
   "metadata": {},
   "outputs": [
    {
     "name": "stdout",
     "output_type": "stream",
     "text": [
      "get_full_dataset\n",
      "init Loader notebook\n",
      "The shape before feature selection: (4601, 58)\n",
      "Feature Selection using Chi-squared\n",
      "The shape after feature selection: (4601, 19)\n",
      "Optimization terminated successfully.\n",
      "         Current function value: 0.291262\n",
      "         Iterations 15\n"
     ]
    },
    {
     "data": {
      "text/html": [
       "<div>\n",
       "<style scoped>\n",
       "    .dataframe tbody tr th:only-of-type {\n",
       "        vertical-align: middle;\n",
       "    }\n",
       "\n",
       "    .dataframe tbody tr th {\n",
       "        vertical-align: top;\n",
       "    }\n",
       "\n",
       "    .dataframe thead th {\n",
       "        text-align: right;\n",
       "    }\n",
       "</style>\n",
       "<table border=\"1\" class=\"dataframe\">\n",
       "  <thead>\n",
       "    <tr style=\"text-align: right;\">\n",
       "      <th></th>\n",
       "      <th>Accuracy</th>\n",
       "      <th>Precision</th>\n",
       "      <th>Recall</th>\n",
       "      <th>F1-Score</th>\n",
       "    </tr>\n",
       "  </thead>\n",
       "  <tbody>\n",
       "    <tr>\n",
       "      <th>Score</th>\n",
       "      <td>0.863192</td>\n",
       "      <td>0.819964</td>\n",
       "      <td>0.948454</td>\n",
       "      <td>0.879541</td>\n",
       "    </tr>\n",
       "  </tbody>\n",
       "</table>\n",
       "</div>"
      ],
      "text/plain": [
       "       Accuracy  Precision    Recall  F1-Score\n",
       "Score  0.863192   0.819964  0.948454  0.879541"
      ]
     },
     "execution_count": 35,
     "metadata": {},
     "output_type": "execute_result"
    }
   ],
   "source": [
    "spambase_full = loader.get_full_dataset()\n",
    "\n",
    "df_sm_full_chi2 = model_helper.run_statsmodels_logit(spambase_full, \n",
    "                    feature_selection_type='chi2', verbose=False)\n",
    "df_sm_full_chi2"
   ]
  },
  {
   "cell_type": "markdown",
   "id": "c794b072-9e83-4dd4-813e-91b3179a5fe1",
   "metadata": {},
   "source": [
    "#### Full Dataset without Feature Selection"
   ]
  },
  {
   "cell_type": "code",
   "execution_count": 36,
   "id": "74a7788d-56d1-4a7b-a930-29e9e7f4a22c",
   "metadata": {},
   "outputs": [
    {
     "name": "stdout",
     "output_type": "stream",
     "text": [
      "get_full_dataset\n",
      "Warning: Maximum number of iterations has been exceeded.\n",
      "         Current function value: 0.208535\n",
      "         Iterations: 35\n"
     ]
    },
    {
     "name": "stderr",
     "output_type": "stream",
     "text": [
      "D:\\x-20a\\anaconda3\\lib\\site-packages\\statsmodels\\base\\model.py:566: ConvergenceWarning: Maximum Likelihood optimization failed to converge. Check mle_retvals\n",
      "  warnings.warn(\"Maximum Likelihood optimization failed to \"\n"
     ]
    },
    {
     "data": {
      "text/html": [
       "<div>\n",
       "<style scoped>\n",
       "    .dataframe tbody tr th:only-of-type {\n",
       "        vertical-align: middle;\n",
       "    }\n",
       "\n",
       "    .dataframe tbody tr th {\n",
       "        vertical-align: top;\n",
       "    }\n",
       "\n",
       "    .dataframe thead th {\n",
       "        text-align: right;\n",
       "    }\n",
       "</style>\n",
       "<table border=\"1\" class=\"dataframe\">\n",
       "  <thead>\n",
       "    <tr style=\"text-align: right;\">\n",
       "      <th></th>\n",
       "      <th>Accuracy</th>\n",
       "      <th>Precision</th>\n",
       "      <th>Recall</th>\n",
       "      <th>F1-Score</th>\n",
       "    </tr>\n",
       "  </thead>\n",
       "  <tbody>\n",
       "    <tr>\n",
       "      <th>Score</th>\n",
       "      <td>0.916395</td>\n",
       "      <td>0.912656</td>\n",
       "      <td>0.948148</td>\n",
       "      <td>0.930064</td>\n",
       "    </tr>\n",
       "  </tbody>\n",
       "</table>\n",
       "</div>"
      ],
      "text/plain": [
       "       Accuracy  Precision    Recall  F1-Score\n",
       "Score  0.916395   0.912656  0.948148  0.930064"
      ]
     },
     "execution_count": 36,
     "metadata": {},
     "output_type": "execute_result"
    }
   ],
   "source": [
    "spambase_full = loader.get_full_dataset()\n",
    "\n",
    "df_sm_full_none = model_helper.run_statsmodels_logit(spambase_full, \n",
    "                    feature_selection_type=None, verbose=False)\n",
    "df_sm_full_none"
   ]
  },
  {
   "cell_type": "markdown",
   "id": "b2471975-0619-4dbb-bb7c-cc4575ad2563",
   "metadata": {},
   "source": [
    "### SkLearn"
   ]
  },
  {
   "cell_type": "markdown",
   "id": "8d63e809-f53b-481b-81d3-30ac96292a95",
   "metadata": {},
   "source": [
    "#### Balance Dataset and Backward Elimination Technique"
   ]
  },
  {
   "cell_type": "code",
   "execution_count": 37,
   "id": "5529e448-f035-4662-a086-572567faa1ee",
   "metadata": {},
   "outputs": [
    {
     "name": "stdout",
     "output_type": "stream",
     "text": [
      "get_balance_data\n",
      "init Loader notebook\n",
      "The shape before feature selection: (3626, 58)\n",
      "Feature Selection using Backward Elimination\n",
      "Optimization terminated successfully.\n",
      "         Current function value: 0.198765\n",
      "         Iterations 15\n",
      "Optimization terminated successfully.\n",
      "         Current function value: 0.200934\n",
      "         Iterations 16\n",
      "Optimization terminated successfully.\n",
      "         Current function value: 0.200936\n",
      "         Iterations 16\n",
      "Optimization terminated successfully.\n",
      "         Current function value: 0.200939\n",
      "         Iterations 16\n",
      "Optimization terminated successfully.\n",
      "         Current function value: 0.200946\n",
      "         Iterations 16\n",
      "Optimization terminated successfully.\n",
      "         Current function value: 0.200953\n",
      "         Iterations 16\n",
      "Optimization terminated successfully.\n",
      "         Current function value: 0.200964\n",
      "         Iterations 16\n",
      "Optimization terminated successfully.\n",
      "         Current function value: 0.200981\n",
      "         Iterations 16\n",
      "Optimization terminated successfully.\n",
      "         Current function value: 0.201007\n",
      "         Iterations 16\n",
      "Optimization terminated successfully.\n",
      "         Current function value: 0.201046\n",
      "         Iterations 16\n",
      "Optimization terminated successfully.\n",
      "         Current function value: 0.201083\n",
      "         Iterations 16\n",
      "Optimization terminated successfully.\n",
      "         Current function value: 0.201128\n",
      "         Iterations 16\n",
      "Optimization terminated successfully.\n",
      "         Current function value: 0.201181\n",
      "         Iterations 16\n",
      "Optimization terminated successfully.\n",
      "         Current function value: 0.201260\n",
      "         Iterations 16\n",
      "Optimization terminated successfully.\n",
      "         Current function value: 0.201376\n",
      "         Iterations 16\n",
      "Optimization terminated successfully.\n",
      "         Current function value: 0.201630\n",
      "         Iterations 16\n",
      "Optimization terminated successfully.\n",
      "         Current function value: 0.203659\n",
      "         Iterations 15\n",
      "Optimization terminated successfully.\n",
      "         Current function value: 0.203808\n",
      "         Iterations 13\n",
      "Optimization terminated successfully.\n",
      "         Current function value: 0.203999\n",
      "         Iterations 13\n",
      "Optimization terminated successfully.\n",
      "         Current function value: 0.204877\n",
      "         Iterations 13\n",
      "Optimization terminated successfully.\n",
      "         Current function value: 0.205651\n",
      "         Iterations 13\n",
      "Optimization terminated successfully.\n",
      "         Current function value: 0.205951\n",
      "         Iterations 13\n",
      "Optimization terminated successfully.\n",
      "         Current function value: 0.206650\n",
      "         Iterations 13\n",
      "Optimization terminated successfully.\n",
      "         Current function value: 0.207035\n",
      "         Iterations 13\n",
      "Optimization terminated successfully.\n",
      "         Current function value: 0.208347\n",
      "         Iterations 13\n",
      "The shape after feature selection: (3626, 34)\n"
     ]
    },
    {
     "data": {
      "text/html": [
       "<div>\n",
       "<style scoped>\n",
       "    .dataframe tbody tr th:only-of-type {\n",
       "        vertical-align: middle;\n",
       "    }\n",
       "\n",
       "    .dataframe tbody tr th {\n",
       "        vertical-align: top;\n",
       "    }\n",
       "\n",
       "    .dataframe thead th {\n",
       "        text-align: right;\n",
       "    }\n",
       "</style>\n",
       "<table border=\"1\" class=\"dataframe\">\n",
       "  <thead>\n",
       "    <tr style=\"text-align: right;\">\n",
       "      <th></th>\n",
       "      <th>Accuracy</th>\n",
       "      <th>Precision</th>\n",
       "      <th>Recall</th>\n",
       "      <th>F1-Score</th>\n",
       "    </tr>\n",
       "  </thead>\n",
       "  <tbody>\n",
       "    <tr>\n",
       "      <th>Score</th>\n",
       "      <td>0.932507</td>\n",
       "      <td>0.950581</td>\n",
       "      <td>0.910864</td>\n",
       "      <td>0.930299</td>\n",
       "    </tr>\n",
       "  </tbody>\n",
       "</table>\n",
       "</div>"
      ],
      "text/plain": [
       "       Accuracy  Precision    Recall  F1-Score\n",
       "Score  0.932507   0.950581  0.910864  0.930299"
      ]
     },
     "execution_count": 37,
     "metadata": {},
     "output_type": "execute_result"
    }
   ],
   "source": [
    "spambase_balance = loader.get_balance_dataset()\n",
    "\n",
    "df_sk_stepwise_back = model_helper.run_sklearn_log_reg(spambase_balance, \n",
    "                    feature_selection_type='stepwise_back')\n",
    "df_sk_stepwise_back"
   ]
  },
  {
   "cell_type": "markdown",
   "id": "0510e8f6-9399-47f9-bae8-4eded63e7820",
   "metadata": {},
   "source": [
    "#### Balance Dataset and Pearson Correlation"
   ]
  },
  {
   "cell_type": "code",
   "execution_count": 38,
   "id": "f7339caf-0d20-47ac-bb84-81255663324d",
   "metadata": {},
   "outputs": [
    {
     "name": "stdout",
     "output_type": "stream",
     "text": [
      "get_balance_data\n",
      "init Loader notebook\n",
      "The shape before feature selection: (3626, 58)\n",
      "Feature Selection using Person Correlation\n",
      "The shape after feature selection: (3626, 19)\n"
     ]
    },
    {
     "data": {
      "text/html": [
       "<div>\n",
       "<style scoped>\n",
       "    .dataframe tbody tr th:only-of-type {\n",
       "        vertical-align: middle;\n",
       "    }\n",
       "\n",
       "    .dataframe tbody tr th {\n",
       "        vertical-align: top;\n",
       "    }\n",
       "\n",
       "    .dataframe thead th {\n",
       "        text-align: right;\n",
       "    }\n",
       "</style>\n",
       "<table border=\"1\" class=\"dataframe\">\n",
       "  <thead>\n",
       "    <tr style=\"text-align: right;\">\n",
       "      <th></th>\n",
       "      <th>Accuracy</th>\n",
       "      <th>Precision</th>\n",
       "      <th>Recall</th>\n",
       "      <th>F1-Score</th>\n",
       "    </tr>\n",
       "  </thead>\n",
       "  <tbody>\n",
       "    <tr>\n",
       "      <th>Score</th>\n",
       "      <td>0.906336</td>\n",
       "      <td>0.929204</td>\n",
       "      <td>0.877437</td>\n",
       "      <td>0.902579</td>\n",
       "    </tr>\n",
       "  </tbody>\n",
       "</table>\n",
       "</div>"
      ],
      "text/plain": [
       "       Accuracy  Precision    Recall  F1-Score\n",
       "Score  0.906336   0.929204  0.877437  0.902579"
      ]
     },
     "execution_count": 38,
     "metadata": {},
     "output_type": "execute_result"
    }
   ],
   "source": [
    "spambase_balance = loader.get_balance_dataset()\n",
    "\n",
    "df_sk_pearson = model_helper.run_sklearn_log_reg(spambase_balance, \n",
    "                    feature_selection_type='pearson')\n",
    "df_sk_pearson"
   ]
  },
  {
   "cell_type": "markdown",
   "id": "ad7177fc-a043-418d-ad74-fde872e9d03c",
   "metadata": {},
   "source": [
    "#### Balance Dataset and Chi-squared"
   ]
  },
  {
   "cell_type": "code",
   "execution_count": 39,
   "id": "d07746cb-c104-4911-befe-0761d4c69d0d",
   "metadata": {},
   "outputs": [
    {
     "name": "stdout",
     "output_type": "stream",
     "text": [
      "get_balance_data\n",
      "init Loader notebook\n",
      "The shape before feature selection: (3626, 58)\n",
      "Feature Selection using Chi-squared\n",
      "The shape after feature selection: (3626, 19)\n"
     ]
    },
    {
     "data": {
      "text/html": [
       "<div>\n",
       "<style scoped>\n",
       "    .dataframe tbody tr th:only-of-type {\n",
       "        vertical-align: middle;\n",
       "    }\n",
       "\n",
       "    .dataframe tbody tr th {\n",
       "        vertical-align: top;\n",
       "    }\n",
       "\n",
       "    .dataframe thead th {\n",
       "        text-align: right;\n",
       "    }\n",
       "</style>\n",
       "<table border=\"1\" class=\"dataframe\">\n",
       "  <thead>\n",
       "    <tr style=\"text-align: right;\">\n",
       "      <th></th>\n",
       "      <th>Accuracy</th>\n",
       "      <th>Precision</th>\n",
       "      <th>Recall</th>\n",
       "      <th>F1-Score</th>\n",
       "    </tr>\n",
       "  </thead>\n",
       "  <tbody>\n",
       "    <tr>\n",
       "      <th>Score</th>\n",
       "      <td>0.909091</td>\n",
       "      <td>0.929619</td>\n",
       "      <td>0.883008</td>\n",
       "      <td>0.905714</td>\n",
       "    </tr>\n",
       "  </tbody>\n",
       "</table>\n",
       "</div>"
      ],
      "text/plain": [
       "       Accuracy  Precision    Recall  F1-Score\n",
       "Score  0.909091   0.929619  0.883008  0.905714"
      ]
     },
     "execution_count": 39,
     "metadata": {},
     "output_type": "execute_result"
    }
   ],
   "source": [
    "spambase_balance = loader.get_balance_dataset()\n",
    "\n",
    "df_sk_chi2 = model_helper.run_sklearn_log_reg(spambase_balance, \n",
    "                    feature_selection_type='chi2')\n",
    "df_sk_chi2"
   ]
  },
  {
   "cell_type": "markdown",
   "id": "b7a420e5-2bb7-40f2-a4d8-ad90c95fe9fb",
   "metadata": {},
   "source": [
    "#### Balance Dataset without Feature Selection"
   ]
  },
  {
   "cell_type": "code",
   "execution_count": 40,
   "id": "e1aab105-ee17-4530-885a-c037469c5a7c",
   "metadata": {},
   "outputs": [
    {
     "name": "stdout",
     "output_type": "stream",
     "text": [
      "get_balance_data\n"
     ]
    },
    {
     "data": {
      "text/html": [
       "<div>\n",
       "<style scoped>\n",
       "    .dataframe tbody tr th:only-of-type {\n",
       "        vertical-align: middle;\n",
       "    }\n",
       "\n",
       "    .dataframe tbody tr th {\n",
       "        vertical-align: top;\n",
       "    }\n",
       "\n",
       "    .dataframe thead th {\n",
       "        text-align: right;\n",
       "    }\n",
       "</style>\n",
       "<table border=\"1\" class=\"dataframe\">\n",
       "  <thead>\n",
       "    <tr style=\"text-align: right;\">\n",
       "      <th></th>\n",
       "      <th>Accuracy</th>\n",
       "      <th>Precision</th>\n",
       "      <th>Recall</th>\n",
       "      <th>F1-Score</th>\n",
       "    </tr>\n",
       "  </thead>\n",
       "  <tbody>\n",
       "    <tr>\n",
       "      <th>Score</th>\n",
       "      <td>0.935262</td>\n",
       "      <td>0.948276</td>\n",
       "      <td>0.91922</td>\n",
       "      <td>0.933522</td>\n",
       "    </tr>\n",
       "  </tbody>\n",
       "</table>\n",
       "</div>"
      ],
      "text/plain": [
       "       Accuracy  Precision   Recall  F1-Score\n",
       "Score  0.935262   0.948276  0.91922  0.933522"
      ]
     },
     "execution_count": 40,
     "metadata": {},
     "output_type": "execute_result"
    }
   ],
   "source": [
    "spambase_balance = loader.get_balance_dataset()\n",
    "\n",
    "df_sk_none = model_helper.run_sklearn_log_reg(spambase_balance, \n",
    "                    feature_selection_type=None)\n",
    "df_sk_none"
   ]
  },
  {
   "cell_type": "markdown",
   "id": "f8ae8dba-0f79-4492-8214-7c7153f74560",
   "metadata": {},
   "source": [
    "### Result"
   ]
  },
  {
   "cell_type": "code",
   "execution_count": 41,
   "id": "7de22d9c-0014-4837-b9f9-043b377a52d2",
   "metadata": {},
   "outputs": [],
   "source": [
    "df_bal_sm_merged = pd.concat([df_sm_stepwise_back, df_sm_pearson, df_sm_chi2, df_sm_none])\n",
    "\n",
    "as_bal_list = df_bal_sm_merged.index.tolist()\n",
    "\n",
    "as_bal_list[0] = 'Balance dataset and Backward Elimination'\n",
    "as_bal_list[1] = 'Balance dataset and Pearson Correlation'\n",
    "as_bal_list[2] = 'Balance dataset and Chi-squared'\n",
    "as_bal_list[3] = 'Balance dataset without Feature Selection'\n",
    "df_bal_sm_merged.index = as_bal_list"
   ]
  },
  {
   "cell_type": "code",
   "execution_count": 42,
   "id": "57a50ecd-41ee-496b-b02c-43cdac39b3aa",
   "metadata": {},
   "outputs": [],
   "source": [
    "df_full_sm_merged = pd.concat([df_sm_full_stepwise, df_sm_full_pearson, df_sm_full_chi2, df_sm_full_none])\n",
    "\n",
    "as_full_list = df_full_sm_merged.index.tolist()\n",
    "\n",
    "as_full_list[0] = 'Full dataset and Backward Elimination'\n",
    "as_full_list[1] = 'Full dataset and Pearson Correlation'\n",
    "as_full_list[2] = 'Full dataset and Chi-squared'\n",
    "as_full_list[3] = 'Full dataset without Feature Selection'\n",
    "df_full_sm_merged.index = as_full_list"
   ]
  },
  {
   "cell_type": "markdown",
   "id": "2c649276-2556-418e-8a0f-f7a21ae76717",
   "metadata": {},
   "source": [
    "#### Balance Dataset"
   ]
  },
  {
   "cell_type": "code",
   "execution_count": 43,
   "id": "7f597888-37e1-46e6-91fd-6ada10b3331a",
   "metadata": {},
   "outputs": [
    {
     "data": {
      "text/html": [
       "<div>\n",
       "<style scoped>\n",
       "    .dataframe tbody tr th:only-of-type {\n",
       "        vertical-align: middle;\n",
       "    }\n",
       "\n",
       "    .dataframe tbody tr th {\n",
       "        vertical-align: top;\n",
       "    }\n",
       "\n",
       "    .dataframe thead th {\n",
       "        text-align: right;\n",
       "    }\n",
       "</style>\n",
       "<table border=\"1\" class=\"dataframe\">\n",
       "  <thead>\n",
       "    <tr style=\"text-align: right;\">\n",
       "      <th></th>\n",
       "      <th>Accuracy</th>\n",
       "      <th>Precision</th>\n",
       "      <th>Recall</th>\n",
       "      <th>F1-Score</th>\n",
       "    </tr>\n",
       "  </thead>\n",
       "  <tbody>\n",
       "    <tr>\n",
       "      <th>Balance dataset and Backward Elimination</th>\n",
       "      <td>0.911846</td>\n",
       "      <td>0.866485</td>\n",
       "      <td>0.954955</td>\n",
       "      <td>0.908571</td>\n",
       "    </tr>\n",
       "    <tr>\n",
       "      <th>Balance dataset and Pearson Correlation</th>\n",
       "      <td>0.833333</td>\n",
       "      <td>0.730245</td>\n",
       "      <td>0.924138</td>\n",
       "      <td>0.815830</td>\n",
       "    </tr>\n",
       "    <tr>\n",
       "      <th>Balance dataset and Chi-squared</th>\n",
       "      <td>0.893939</td>\n",
       "      <td>0.841962</td>\n",
       "      <td>0.942073</td>\n",
       "      <td>0.889209</td>\n",
       "    </tr>\n",
       "    <tr>\n",
       "      <th>Balance dataset without Feature Selection</th>\n",
       "      <td>0.924242</td>\n",
       "      <td>0.912807</td>\n",
       "      <td>0.935754</td>\n",
       "      <td>0.924138</td>\n",
       "    </tr>\n",
       "  </tbody>\n",
       "</table>\n",
       "</div>"
      ],
      "text/plain": [
       "                                           Accuracy  Precision    Recall  \\\n",
       "Balance dataset and Backward Elimination   0.911846   0.866485  0.954955   \n",
       "Balance dataset and Pearson Correlation    0.833333   0.730245  0.924138   \n",
       "Balance dataset and Chi-squared            0.893939   0.841962  0.942073   \n",
       "Balance dataset without Feature Selection  0.924242   0.912807  0.935754   \n",
       "\n",
       "                                           F1-Score  \n",
       "Balance dataset and Backward Elimination   0.908571  \n",
       "Balance dataset and Pearson Correlation    0.815830  \n",
       "Balance dataset and Chi-squared            0.889209  \n",
       "Balance dataset without Feature Selection  0.924138  "
      ]
     },
     "execution_count": 43,
     "metadata": {},
     "output_type": "execute_result"
    }
   ],
   "source": [
    "df_bal_sm_merged"
   ]
  },
  {
   "cell_type": "markdown",
   "id": "ddc767f8-8144-42fe-b5d9-0ee15bea8dc5",
   "metadata": {},
   "source": [
    "#### Full Dataset"
   ]
  },
  {
   "cell_type": "code",
   "execution_count": 44,
   "id": "ec6788de-012e-4ba8-a871-0ccee80c0a75",
   "metadata": {},
   "outputs": [
    {
     "data": {
      "text/html": [
       "<div>\n",
       "<style scoped>\n",
       "    .dataframe tbody tr th:only-of-type {\n",
       "        vertical-align: middle;\n",
       "    }\n",
       "\n",
       "    .dataframe tbody tr th {\n",
       "        vertical-align: top;\n",
       "    }\n",
       "\n",
       "    .dataframe thead th {\n",
       "        text-align: right;\n",
       "    }\n",
       "</style>\n",
       "<table border=\"1\" class=\"dataframe\">\n",
       "  <thead>\n",
       "    <tr style=\"text-align: right;\">\n",
       "      <th></th>\n",
       "      <th>Accuracy</th>\n",
       "      <th>Precision</th>\n",
       "      <th>Recall</th>\n",
       "      <th>F1-Score</th>\n",
       "    </tr>\n",
       "  </thead>\n",
       "  <tbody>\n",
       "    <tr>\n",
       "      <th>Full dataset and Backward Elimination</th>\n",
       "      <td>0.895765</td>\n",
       "      <td>0.866310</td>\n",
       "      <td>0.958580</td>\n",
       "      <td>0.910112</td>\n",
       "    </tr>\n",
       "    <tr>\n",
       "      <th>Full dataset and Pearson Correlation</th>\n",
       "      <td>0.760043</td>\n",
       "      <td>0.672014</td>\n",
       "      <td>0.910628</td>\n",
       "      <td>0.773333</td>\n",
       "    </tr>\n",
       "    <tr>\n",
       "      <th>Full dataset and Chi-squared</th>\n",
       "      <td>0.863192</td>\n",
       "      <td>0.819964</td>\n",
       "      <td>0.948454</td>\n",
       "      <td>0.879541</td>\n",
       "    </tr>\n",
       "    <tr>\n",
       "      <th>Full dataset without Feature Selection</th>\n",
       "      <td>0.916395</td>\n",
       "      <td>0.912656</td>\n",
       "      <td>0.948148</td>\n",
       "      <td>0.930064</td>\n",
       "    </tr>\n",
       "  </tbody>\n",
       "</table>\n",
       "</div>"
      ],
      "text/plain": [
       "                                        Accuracy  Precision    Recall  \\\n",
       "Full dataset and Backward Elimination   0.895765   0.866310  0.958580   \n",
       "Full dataset and Pearson Correlation    0.760043   0.672014  0.910628   \n",
       "Full dataset and Chi-squared            0.863192   0.819964  0.948454   \n",
       "Full dataset without Feature Selection  0.916395   0.912656  0.948148   \n",
       "\n",
       "                                        F1-Score  \n",
       "Full dataset and Backward Elimination   0.910112  \n",
       "Full dataset and Pearson Correlation    0.773333  \n",
       "Full dataset and Chi-squared            0.879541  \n",
       "Full dataset without Feature Selection  0.930064  "
      ]
     },
     "execution_count": 44,
     "metadata": {},
     "output_type": "execute_result"
    }
   ],
   "source": [
    "df_full_sm_merged"
   ]
  },
  {
   "cell_type": "markdown",
   "id": "eaee912a-56a9-4010-acc2-aed290c8b58d",
   "metadata": {},
   "source": [
    "### Sklearn"
   ]
  },
  {
   "cell_type": "code",
   "execution_count": 45,
   "id": "e5f4be0d-7826-4be4-813f-76129d442ef9",
   "metadata": {},
   "outputs": [],
   "source": [
    "df_sk_merged = pd.concat([df_sk_stepwise_back, df_sk_pearson, df_sk_chi2, df_sk_none])\n",
    "\n",
    "as_sk_list = df_sk_merged.index.tolist()\n",
    "\n",
    "as_sk_list[0] = 'Balance dataset and Backward Elimination'\n",
    "as_sk_list[1] = 'Balance dataset and Pearson Correlation'\n",
    "as_sk_list[2] = 'Balance dataset and Chi-squared'\n",
    "as_sk_list[3] = 'Balance dataset without Feature Selection'\n",
    "df_sk_merged.index = as_sk_list"
   ]
  },
  {
   "cell_type": "code",
   "execution_count": 46,
   "id": "a074d329-6484-44b8-806f-70bdcfe27b08",
   "metadata": {},
   "outputs": [
    {
     "data": {
      "text/html": [
       "<div>\n",
       "<style scoped>\n",
       "    .dataframe tbody tr th:only-of-type {\n",
       "        vertical-align: middle;\n",
       "    }\n",
       "\n",
       "    .dataframe tbody tr th {\n",
       "        vertical-align: top;\n",
       "    }\n",
       "\n",
       "    .dataframe thead th {\n",
       "        text-align: right;\n",
       "    }\n",
       "</style>\n",
       "<table border=\"1\" class=\"dataframe\">\n",
       "  <thead>\n",
       "    <tr style=\"text-align: right;\">\n",
       "      <th></th>\n",
       "      <th>Accuracy</th>\n",
       "      <th>Precision</th>\n",
       "      <th>Recall</th>\n",
       "      <th>F1-Score</th>\n",
       "    </tr>\n",
       "  </thead>\n",
       "  <tbody>\n",
       "    <tr>\n",
       "      <th>Balance dataset and Backward Elimination</th>\n",
       "      <td>0.932507</td>\n",
       "      <td>0.950581</td>\n",
       "      <td>0.910864</td>\n",
       "      <td>0.930299</td>\n",
       "    </tr>\n",
       "    <tr>\n",
       "      <th>Balance dataset and Pearson Correlation</th>\n",
       "      <td>0.906336</td>\n",
       "      <td>0.929204</td>\n",
       "      <td>0.877437</td>\n",
       "      <td>0.902579</td>\n",
       "    </tr>\n",
       "    <tr>\n",
       "      <th>Balance dataset and Chi-squared</th>\n",
       "      <td>0.909091</td>\n",
       "      <td>0.929619</td>\n",
       "      <td>0.883008</td>\n",
       "      <td>0.905714</td>\n",
       "    </tr>\n",
       "    <tr>\n",
       "      <th>Balance dataset without Feature Selection</th>\n",
       "      <td>0.935262</td>\n",
       "      <td>0.948276</td>\n",
       "      <td>0.919220</td>\n",
       "      <td>0.933522</td>\n",
       "    </tr>\n",
       "  </tbody>\n",
       "</table>\n",
       "</div>"
      ],
      "text/plain": [
       "                                           Accuracy  Precision    Recall  \\\n",
       "Balance dataset and Backward Elimination   0.932507   0.950581  0.910864   \n",
       "Balance dataset and Pearson Correlation    0.906336   0.929204  0.877437   \n",
       "Balance dataset and Chi-squared            0.909091   0.929619  0.883008   \n",
       "Balance dataset without Feature Selection  0.935262   0.948276  0.919220   \n",
       "\n",
       "                                           F1-Score  \n",
       "Balance dataset and Backward Elimination   0.930299  \n",
       "Balance dataset and Pearson Correlation    0.902579  \n",
       "Balance dataset and Chi-squared            0.905714  \n",
       "Balance dataset without Feature Selection  0.933522  "
      ]
     },
     "execution_count": 46,
     "metadata": {},
     "output_type": "execute_result"
    }
   ],
   "source": [
    "df_sk_merged"
   ]
  },
  {
   "cell_type": "markdown",
   "id": "b5706eeb-99f8-40ca-b41f-ddcdfd55c59d",
   "metadata": {},
   "source": [
    "## Conclusion"
   ]
  },
  {
   "cell_type": "markdown",
   "id": "3ce7b6b0-1cdc-45c8-8146-c656bc0becc7",
   "metadata": {},
   "source": [
    "The balance dataset without feature selection produce better result compared to other models."
   ]
  },
  {
   "cell_type": "code",
   "execution_count": null,
   "id": "9e3137bf-7a1b-44f7-9303-4dc5041ab920",
   "metadata": {},
   "outputs": [],
   "source": []
  }
 ],
 "metadata": {
  "kernelspec": {
   "display_name": "Python 3",
   "language": "python",
   "name": "python3"
  },
  "language_info": {
   "codemirror_mode": {
    "name": "ipython",
    "version": 3
   },
   "file_extension": ".py",
   "mimetype": "text/x-python",
   "name": "python",
   "nbconvert_exporter": "python",
   "pygments_lexer": "ipython3",
   "version": "3.8.8"
  }
 },
 "nbformat": 4,
 "nbformat_minor": 5
}
