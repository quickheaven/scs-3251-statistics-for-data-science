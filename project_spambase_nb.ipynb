{
 "cells": [
  {
   "cell_type": "markdown",
   "id": "dd86f395-7a74-4184-b4ff-dc5350bb1f0a",
   "metadata": {},
   "source": [
    "# Spam Email Classification"
   ]
  },
  {
   "cell_type": "code",
   "execution_count": null,
   "id": "66433742-5b72-4787-9b4d-a337ab9c9842",
   "metadata": {},
   "outputs": [],
   "source": []
  },
  {
   "cell_type": "code",
   "execution_count": 1,
   "id": "290c8bb2-7740-4a0d-9085-0e4e211fb5ef",
   "metadata": {},
   "outputs": [
    {
     "name": "stdout",
     "output_type": "stream",
     "text": [
      "Requirement already satisfied: ipynb in d:\\x-20a\\anaconda3\\lib\\site-packages (0.5.1)\n",
      "Requirement already satisfied: nbimporter in d:\\x-20a\\anaconda3\\lib\\site-packages (0.3.4)\n"
     ]
    }
   ],
   "source": [
    "# Importing an ipynb file from another ipynb file\n",
    "!pip install ipynb\n",
    "\n",
    "# Importing functions from another jupyter notebook\n",
    "!pip install nbimporter"
   ]
  },
  {
   "cell_type": "code",
   "execution_count": 2,
   "id": "d49edc60-917d-4ab7-be7c-71181b92ca6b",
   "metadata": {},
   "outputs": [],
   "source": [
    "import numpy as np\n",
    "import pandas as pd\n",
    "import matplotlib.pyplot as plt\n",
    "%matplotlib inline\n",
    "\n",
    "import seaborn as sns\n",
    "\n",
    "import warnings\n",
    "warnings.filterwarnings('ignore')\n",
    "\n",
    "import nbimporter\n",
    "import spambase_dataset_loader_nb\n",
    "import spambase_model_helper_nb"
   ]
  },
  {
   "cell_type": "markdown",
   "id": "f054fc12-09b5-40f9-a40f-32c60724b5a4",
   "metadata": {},
   "source": [
    "## Data Preparation:"
   ]
  },
  {
   "cell_type": "markdown",
   "id": "65e65633-ed95-4cf1-87aa-101403691576",
   "metadata": {},
   "source": [
    "### Load the datasets:"
   ]
  },
  {
   "cell_type": "code",
   "execution_count": 3,
   "id": "03635cd0-e3ef-4deb-87f0-4de7ec23db33",
   "metadata": {},
   "outputs": [
    {
     "name": "stdout",
     "output_type": "stream",
     "text": [
      "init Loader notebook\n"
     ]
    }
   ],
   "source": [
    "loader = spambase_dataset_loader_nb.SpambaseDatasetLoader()"
   ]
  },
  {
   "cell_type": "code",
   "execution_count": 4,
   "id": "a1ac5d7d-572c-41f8-ae5c-489def335664",
   "metadata": {},
   "outputs": [
    {
     "name": "stdout",
     "output_type": "stream",
     "text": [
      "Help on method load_dataset in module spambase_dataset_loader_nb:\n",
      "\n",
      "load_dataset(url='https://archive.ics.uci.edu/ml/machine-learning-databases/spambase/spambase.data') method of spambase_dataset_loader_nb.SpambaseDatasetLoader instance\n",
      "    (string) --> None\n",
      "    \n",
      "    This function retrieves the spambase.data from University of California Irvine (UCI) - Dataset Repository\n",
      "    and save into two files:\n",
      "    \n",
      "    1. spambase_all.csv - The CSV file that contain all the rows from spambase.data.\n",
      "    2. spambase_balance.csv - The CSV file that rows balance between spam and not spam records.\n",
      "\n"
     ]
    }
   ],
   "source": [
    "help(loader.load_dataset)"
   ]
  },
  {
   "cell_type": "code",
   "execution_count": 5,
   "id": "e74fa363-c80b-48a9-a61c-e217a3127195",
   "metadata": {},
   "outputs": [
    {
     "name": "stdout",
     "output_type": "stream",
     "text": [
      "Loading dataset.\n",
      "Loading spambase_all.csv completed.\n",
      "Loading spambase_balance.csv completed.\n"
     ]
    }
   ],
   "source": [
    "loader.load_dataset()"
   ]
  },
  {
   "cell_type": "code",
   "execution_count": 6,
   "id": "e366c64c-afd0-4d59-a1c6-68f2ebcdca1f",
   "metadata": {},
   "outputs": [
    {
     "name": "stdout",
     "output_type": "stream",
     "text": [
      "get_full_dataset\n"
     ]
    }
   ],
   "source": [
    "spambase_all = loader.get_full_dataset()"
   ]
  },
  {
   "cell_type": "markdown",
   "id": "9d69e135-6fa9-4f75-ac93-fb6d9e940bb6",
   "metadata": {},
   "source": [
    "### Data Exploration\n",
    "\n",
    "#### Explore the data using info() and describe() and head()"
   ]
  },
  {
   "cell_type": "code",
   "execution_count": 7,
   "id": "732bab3e-f50b-4c7e-aab8-445bc728640c",
   "metadata": {},
   "outputs": [
    {
     "name": "stdout",
     "output_type": "stream",
     "text": [
      "<class 'pandas.core.frame.DataFrame'>\n",
      "RangeIndex: 4601 entries, 0 to 4600\n",
      "Data columns (total 58 columns):\n",
      " #   Column                      Non-Null Count  Dtype  \n",
      "---  ------                      --------------  -----  \n",
      " 0   target_spam_nonspam         4601 non-null   int64  \n",
      " 1   word_freq_make              4601 non-null   float64\n",
      " 2   word_freq_address           4601 non-null   float64\n",
      " 3   word_freq_all               4601 non-null   float64\n",
      " 4   word_freq_3d                4601 non-null   float64\n",
      " 5   word_freq_our               4601 non-null   float64\n",
      " 6   word_freq_over              4601 non-null   float64\n",
      " 7   word_freq_remove            4601 non-null   float64\n",
      " 8   word_freq_internet          4601 non-null   float64\n",
      " 9   word_freq_order             4601 non-null   float64\n",
      " 10  word_freq_mail              4601 non-null   float64\n",
      " 11  word_freq_receive           4601 non-null   float64\n",
      " 12  word_freq_will              4601 non-null   float64\n",
      " 13  word_freq_people            4601 non-null   float64\n",
      " 14  word_freq_report            4601 non-null   float64\n",
      " 15  word_freq_addresses         4601 non-null   float64\n",
      " 16  word_freq_free              4601 non-null   float64\n",
      " 17  word_freq_business          4601 non-null   float64\n",
      " 18  word_freq_email             4601 non-null   float64\n",
      " 19  word_freq_you               4601 non-null   float64\n",
      " 20  word_freq_credit            4601 non-null   float64\n",
      " 21  word_freq_your              4601 non-null   float64\n",
      " 22  word_freq_font              4601 non-null   float64\n",
      " 23  word_freq_000               4601 non-null   float64\n",
      " 24  word_freq_money             4601 non-null   float64\n",
      " 25  word_freq_hp                4601 non-null   float64\n",
      " 26  word_freq_hpl               4601 non-null   float64\n",
      " 27  word_freq_george            4601 non-null   float64\n",
      " 28  word_freq_650               4601 non-null   float64\n",
      " 29  word_freq_lab               4601 non-null   float64\n",
      " 30  word_freq_labs              4601 non-null   float64\n",
      " 31  word_freq_telnet            4601 non-null   float64\n",
      " 32  word_freq_857               4601 non-null   float64\n",
      " 33  word_freq_data              4601 non-null   float64\n",
      " 34  word_freq_415               4601 non-null   float64\n",
      " 35  word_freq_85                4601 non-null   float64\n",
      " 36  word_freq_technology        4601 non-null   float64\n",
      " 37  word_freq_1999              4601 non-null   float64\n",
      " 38  word_freq_parts             4601 non-null   float64\n",
      " 39  word_freq_pm                4601 non-null   float64\n",
      " 40  word_freq_direct            4601 non-null   float64\n",
      " 41  word_freq_cs                4601 non-null   float64\n",
      " 42  word_freq_meeting           4601 non-null   float64\n",
      " 43  word_freq_original          4601 non-null   float64\n",
      " 44  word_freq_project           4601 non-null   float64\n",
      " 45  word_freq_re                4601 non-null   float64\n",
      " 46  word_freq_edu               4601 non-null   float64\n",
      " 47  word_freq_table             4601 non-null   float64\n",
      " 48  word_freq_conference        4601 non-null   float64\n",
      " 49  char_freq_;                 4601 non-null   float64\n",
      " 50  char_freq_(                 4601 non-null   float64\n",
      " 51  char_freq_[                 4601 non-null   float64\n",
      " 52  char_freq_!                 4601 non-null   float64\n",
      " 53  char_freq_$                 4601 non-null   float64\n",
      " 54  char_freq_#                 4601 non-null   float64\n",
      " 55  capital_run_length_average  4601 non-null   float64\n",
      " 56  capital_run_length_longest  4601 non-null   int64  \n",
      " 57  capital_run_length_total    4601 non-null   int64  \n",
      "dtypes: float64(55), int64(3)\n",
      "memory usage: 2.0 MB\n"
     ]
    }
   ],
   "source": [
    "spambase_all.info()"
   ]
  },
  {
   "cell_type": "code",
   "execution_count": 8,
   "id": "6e5557b9-3646-46d0-bc69-e4a9217b8933",
   "metadata": {},
   "outputs": [
    {
     "data": {
      "text/html": [
       "<div>\n",
       "<style scoped>\n",
       "    .dataframe tbody tr th:only-of-type {\n",
       "        vertical-align: middle;\n",
       "    }\n",
       "\n",
       "    .dataframe tbody tr th {\n",
       "        vertical-align: top;\n",
       "    }\n",
       "\n",
       "    .dataframe thead th {\n",
       "        text-align: right;\n",
       "    }\n",
       "</style>\n",
       "<table border=\"1\" class=\"dataframe\">\n",
       "  <thead>\n",
       "    <tr style=\"text-align: right;\">\n",
       "      <th></th>\n",
       "      <th>target_spam_nonspam</th>\n",
       "      <th>word_freq_make</th>\n",
       "      <th>word_freq_address</th>\n",
       "      <th>word_freq_all</th>\n",
       "      <th>word_freq_3d</th>\n",
       "      <th>word_freq_our</th>\n",
       "      <th>word_freq_over</th>\n",
       "      <th>word_freq_remove</th>\n",
       "      <th>word_freq_internet</th>\n",
       "      <th>word_freq_order</th>\n",
       "      <th>...</th>\n",
       "      <th>word_freq_conference</th>\n",
       "      <th>char_freq_;</th>\n",
       "      <th>char_freq_(</th>\n",
       "      <th>char_freq_[</th>\n",
       "      <th>char_freq_!</th>\n",
       "      <th>char_freq_$</th>\n",
       "      <th>char_freq_#</th>\n",
       "      <th>capital_run_length_average</th>\n",
       "      <th>capital_run_length_longest</th>\n",
       "      <th>capital_run_length_total</th>\n",
       "    </tr>\n",
       "  </thead>\n",
       "  <tbody>\n",
       "    <tr>\n",
       "      <th>count</th>\n",
       "      <td>4601.000000</td>\n",
       "      <td>4601.000000</td>\n",
       "      <td>4601.000000</td>\n",
       "      <td>4601.000000</td>\n",
       "      <td>4601.000000</td>\n",
       "      <td>4601.000000</td>\n",
       "      <td>4601.000000</td>\n",
       "      <td>4601.000000</td>\n",
       "      <td>4601.000000</td>\n",
       "      <td>4601.000000</td>\n",
       "      <td>...</td>\n",
       "      <td>4601.000000</td>\n",
       "      <td>4601.000000</td>\n",
       "      <td>4601.000000</td>\n",
       "      <td>4601.000000</td>\n",
       "      <td>4601.000000</td>\n",
       "      <td>4601.000000</td>\n",
       "      <td>4601.000000</td>\n",
       "      <td>4601.000000</td>\n",
       "      <td>4601.000000</td>\n",
       "      <td>4601.000000</td>\n",
       "    </tr>\n",
       "    <tr>\n",
       "      <th>mean</th>\n",
       "      <td>0.394045</td>\n",
       "      <td>0.104553</td>\n",
       "      <td>0.213015</td>\n",
       "      <td>0.280656</td>\n",
       "      <td>0.065425</td>\n",
       "      <td>0.312223</td>\n",
       "      <td>0.095901</td>\n",
       "      <td>0.114208</td>\n",
       "      <td>0.105295</td>\n",
       "      <td>0.090067</td>\n",
       "      <td>...</td>\n",
       "      <td>0.031869</td>\n",
       "      <td>0.038575</td>\n",
       "      <td>0.139030</td>\n",
       "      <td>0.016976</td>\n",
       "      <td>0.269071</td>\n",
       "      <td>0.075811</td>\n",
       "      <td>0.044238</td>\n",
       "      <td>5.191515</td>\n",
       "      <td>52.172789</td>\n",
       "      <td>283.289285</td>\n",
       "    </tr>\n",
       "    <tr>\n",
       "      <th>std</th>\n",
       "      <td>0.488698</td>\n",
       "      <td>0.305358</td>\n",
       "      <td>1.290575</td>\n",
       "      <td>0.504143</td>\n",
       "      <td>1.395151</td>\n",
       "      <td>0.672513</td>\n",
       "      <td>0.273824</td>\n",
       "      <td>0.391441</td>\n",
       "      <td>0.401071</td>\n",
       "      <td>0.278616</td>\n",
       "      <td>...</td>\n",
       "      <td>0.285735</td>\n",
       "      <td>0.243471</td>\n",
       "      <td>0.270355</td>\n",
       "      <td>0.109394</td>\n",
       "      <td>0.815672</td>\n",
       "      <td>0.245882</td>\n",
       "      <td>0.429342</td>\n",
       "      <td>31.729449</td>\n",
       "      <td>194.891310</td>\n",
       "      <td>606.347851</td>\n",
       "    </tr>\n",
       "    <tr>\n",
       "      <th>min</th>\n",
       "      <td>0.000000</td>\n",
       "      <td>0.000000</td>\n",
       "      <td>0.000000</td>\n",
       "      <td>0.000000</td>\n",
       "      <td>0.000000</td>\n",
       "      <td>0.000000</td>\n",
       "      <td>0.000000</td>\n",
       "      <td>0.000000</td>\n",
       "      <td>0.000000</td>\n",
       "      <td>0.000000</td>\n",
       "      <td>...</td>\n",
       "      <td>0.000000</td>\n",
       "      <td>0.000000</td>\n",
       "      <td>0.000000</td>\n",
       "      <td>0.000000</td>\n",
       "      <td>0.000000</td>\n",
       "      <td>0.000000</td>\n",
       "      <td>0.000000</td>\n",
       "      <td>1.000000</td>\n",
       "      <td>1.000000</td>\n",
       "      <td>1.000000</td>\n",
       "    </tr>\n",
       "    <tr>\n",
       "      <th>25%</th>\n",
       "      <td>0.000000</td>\n",
       "      <td>0.000000</td>\n",
       "      <td>0.000000</td>\n",
       "      <td>0.000000</td>\n",
       "      <td>0.000000</td>\n",
       "      <td>0.000000</td>\n",
       "      <td>0.000000</td>\n",
       "      <td>0.000000</td>\n",
       "      <td>0.000000</td>\n",
       "      <td>0.000000</td>\n",
       "      <td>...</td>\n",
       "      <td>0.000000</td>\n",
       "      <td>0.000000</td>\n",
       "      <td>0.000000</td>\n",
       "      <td>0.000000</td>\n",
       "      <td>0.000000</td>\n",
       "      <td>0.000000</td>\n",
       "      <td>0.000000</td>\n",
       "      <td>1.588000</td>\n",
       "      <td>6.000000</td>\n",
       "      <td>35.000000</td>\n",
       "    </tr>\n",
       "    <tr>\n",
       "      <th>50%</th>\n",
       "      <td>0.000000</td>\n",
       "      <td>0.000000</td>\n",
       "      <td>0.000000</td>\n",
       "      <td>0.000000</td>\n",
       "      <td>0.000000</td>\n",
       "      <td>0.000000</td>\n",
       "      <td>0.000000</td>\n",
       "      <td>0.000000</td>\n",
       "      <td>0.000000</td>\n",
       "      <td>0.000000</td>\n",
       "      <td>...</td>\n",
       "      <td>0.000000</td>\n",
       "      <td>0.000000</td>\n",
       "      <td>0.065000</td>\n",
       "      <td>0.000000</td>\n",
       "      <td>0.000000</td>\n",
       "      <td>0.000000</td>\n",
       "      <td>0.000000</td>\n",
       "      <td>2.276000</td>\n",
       "      <td>15.000000</td>\n",
       "      <td>95.000000</td>\n",
       "    </tr>\n",
       "    <tr>\n",
       "      <th>75%</th>\n",
       "      <td>1.000000</td>\n",
       "      <td>0.000000</td>\n",
       "      <td>0.000000</td>\n",
       "      <td>0.420000</td>\n",
       "      <td>0.000000</td>\n",
       "      <td>0.380000</td>\n",
       "      <td>0.000000</td>\n",
       "      <td>0.000000</td>\n",
       "      <td>0.000000</td>\n",
       "      <td>0.000000</td>\n",
       "      <td>...</td>\n",
       "      <td>0.000000</td>\n",
       "      <td>0.000000</td>\n",
       "      <td>0.188000</td>\n",
       "      <td>0.000000</td>\n",
       "      <td>0.315000</td>\n",
       "      <td>0.052000</td>\n",
       "      <td>0.000000</td>\n",
       "      <td>3.706000</td>\n",
       "      <td>43.000000</td>\n",
       "      <td>266.000000</td>\n",
       "    </tr>\n",
       "    <tr>\n",
       "      <th>max</th>\n",
       "      <td>1.000000</td>\n",
       "      <td>4.540000</td>\n",
       "      <td>14.280000</td>\n",
       "      <td>5.100000</td>\n",
       "      <td>42.810000</td>\n",
       "      <td>10.000000</td>\n",
       "      <td>5.880000</td>\n",
       "      <td>7.270000</td>\n",
       "      <td>11.110000</td>\n",
       "      <td>5.260000</td>\n",
       "      <td>...</td>\n",
       "      <td>10.000000</td>\n",
       "      <td>4.385000</td>\n",
       "      <td>9.752000</td>\n",
       "      <td>4.081000</td>\n",
       "      <td>32.478000</td>\n",
       "      <td>6.003000</td>\n",
       "      <td>19.829000</td>\n",
       "      <td>1102.500000</td>\n",
       "      <td>9989.000000</td>\n",
       "      <td>15841.000000</td>\n",
       "    </tr>\n",
       "  </tbody>\n",
       "</table>\n",
       "<p>8 rows × 58 columns</p>\n",
       "</div>"
      ],
      "text/plain": [
       "       target_spam_nonspam  word_freq_make  word_freq_address  word_freq_all  \\\n",
       "count          4601.000000     4601.000000        4601.000000    4601.000000   \n",
       "mean              0.394045        0.104553           0.213015       0.280656   \n",
       "std               0.488698        0.305358           1.290575       0.504143   \n",
       "min               0.000000        0.000000           0.000000       0.000000   \n",
       "25%               0.000000        0.000000           0.000000       0.000000   \n",
       "50%               0.000000        0.000000           0.000000       0.000000   \n",
       "75%               1.000000        0.000000           0.000000       0.420000   \n",
       "max               1.000000        4.540000          14.280000       5.100000   \n",
       "\n",
       "       word_freq_3d  word_freq_our  word_freq_over  word_freq_remove  \\\n",
       "count   4601.000000    4601.000000     4601.000000       4601.000000   \n",
       "mean       0.065425       0.312223        0.095901          0.114208   \n",
       "std        1.395151       0.672513        0.273824          0.391441   \n",
       "min        0.000000       0.000000        0.000000          0.000000   \n",
       "25%        0.000000       0.000000        0.000000          0.000000   \n",
       "50%        0.000000       0.000000        0.000000          0.000000   \n",
       "75%        0.000000       0.380000        0.000000          0.000000   \n",
       "max       42.810000      10.000000        5.880000          7.270000   \n",
       "\n",
       "       word_freq_internet  word_freq_order  ...  word_freq_conference  \\\n",
       "count         4601.000000      4601.000000  ...           4601.000000   \n",
       "mean             0.105295         0.090067  ...              0.031869   \n",
       "std              0.401071         0.278616  ...              0.285735   \n",
       "min              0.000000         0.000000  ...              0.000000   \n",
       "25%              0.000000         0.000000  ...              0.000000   \n",
       "50%              0.000000         0.000000  ...              0.000000   \n",
       "75%              0.000000         0.000000  ...              0.000000   \n",
       "max             11.110000         5.260000  ...             10.000000   \n",
       "\n",
       "       char_freq_;  char_freq_(  char_freq_[  char_freq_!  char_freq_$  \\\n",
       "count  4601.000000  4601.000000  4601.000000  4601.000000  4601.000000   \n",
       "mean      0.038575     0.139030     0.016976     0.269071     0.075811   \n",
       "std       0.243471     0.270355     0.109394     0.815672     0.245882   \n",
       "min       0.000000     0.000000     0.000000     0.000000     0.000000   \n",
       "25%       0.000000     0.000000     0.000000     0.000000     0.000000   \n",
       "50%       0.000000     0.065000     0.000000     0.000000     0.000000   \n",
       "75%       0.000000     0.188000     0.000000     0.315000     0.052000   \n",
       "max       4.385000     9.752000     4.081000    32.478000     6.003000   \n",
       "\n",
       "       char_freq_#  capital_run_length_average  capital_run_length_longest  \\\n",
       "count  4601.000000                 4601.000000                 4601.000000   \n",
       "mean      0.044238                    5.191515                   52.172789   \n",
       "std       0.429342                   31.729449                  194.891310   \n",
       "min       0.000000                    1.000000                    1.000000   \n",
       "25%       0.000000                    1.588000                    6.000000   \n",
       "50%       0.000000                    2.276000                   15.000000   \n",
       "75%       0.000000                    3.706000                   43.000000   \n",
       "max      19.829000                 1102.500000                 9989.000000   \n",
       "\n",
       "       capital_run_length_total  \n",
       "count               4601.000000  \n",
       "mean                 283.289285  \n",
       "std                  606.347851  \n",
       "min                    1.000000  \n",
       "25%                   35.000000  \n",
       "50%                   95.000000  \n",
       "75%                  266.000000  \n",
       "max                15841.000000  \n",
       "\n",
       "[8 rows x 58 columns]"
      ]
     },
     "execution_count": 8,
     "metadata": {},
     "output_type": "execute_result"
    }
   ],
   "source": [
    "spambase_all.describe()"
   ]
  },
  {
   "cell_type": "code",
   "execution_count": 9,
   "id": "4fd5d235-2696-4089-a086-fb95bd554f64",
   "metadata": {},
   "outputs": [
    {
     "data": {
      "text/html": [
       "<div>\n",
       "<style scoped>\n",
       "    .dataframe tbody tr th:only-of-type {\n",
       "        vertical-align: middle;\n",
       "    }\n",
       "\n",
       "    .dataframe tbody tr th {\n",
       "        vertical-align: top;\n",
       "    }\n",
       "\n",
       "    .dataframe thead th {\n",
       "        text-align: right;\n",
       "    }\n",
       "</style>\n",
       "<table border=\"1\" class=\"dataframe\">\n",
       "  <thead>\n",
       "    <tr style=\"text-align: right;\">\n",
       "      <th></th>\n",
       "      <th>target_spam_nonspam</th>\n",
       "      <th>word_freq_make</th>\n",
       "      <th>word_freq_address</th>\n",
       "      <th>word_freq_all</th>\n",
       "      <th>word_freq_3d</th>\n",
       "      <th>word_freq_our</th>\n",
       "      <th>word_freq_over</th>\n",
       "      <th>word_freq_remove</th>\n",
       "      <th>word_freq_internet</th>\n",
       "      <th>word_freq_order</th>\n",
       "      <th>...</th>\n",
       "      <th>word_freq_conference</th>\n",
       "      <th>char_freq_;</th>\n",
       "      <th>char_freq_(</th>\n",
       "      <th>char_freq_[</th>\n",
       "      <th>char_freq_!</th>\n",
       "      <th>char_freq_$</th>\n",
       "      <th>char_freq_#</th>\n",
       "      <th>capital_run_length_average</th>\n",
       "      <th>capital_run_length_longest</th>\n",
       "      <th>capital_run_length_total</th>\n",
       "    </tr>\n",
       "  </thead>\n",
       "  <tbody>\n",
       "    <tr>\n",
       "      <th>0</th>\n",
       "      <td>1</td>\n",
       "      <td>0.00</td>\n",
       "      <td>0.64</td>\n",
       "      <td>0.64</td>\n",
       "      <td>0.0</td>\n",
       "      <td>0.32</td>\n",
       "      <td>0.00</td>\n",
       "      <td>0.00</td>\n",
       "      <td>0.00</td>\n",
       "      <td>0.00</td>\n",
       "      <td>...</td>\n",
       "      <td>0.0</td>\n",
       "      <td>0.00</td>\n",
       "      <td>0.000</td>\n",
       "      <td>0.0</td>\n",
       "      <td>0.778</td>\n",
       "      <td>0.000</td>\n",
       "      <td>0.000</td>\n",
       "      <td>3.756</td>\n",
       "      <td>61</td>\n",
       "      <td>278</td>\n",
       "    </tr>\n",
       "    <tr>\n",
       "      <th>1</th>\n",
       "      <td>1</td>\n",
       "      <td>0.21</td>\n",
       "      <td>0.28</td>\n",
       "      <td>0.50</td>\n",
       "      <td>0.0</td>\n",
       "      <td>0.14</td>\n",
       "      <td>0.28</td>\n",
       "      <td>0.21</td>\n",
       "      <td>0.07</td>\n",
       "      <td>0.00</td>\n",
       "      <td>...</td>\n",
       "      <td>0.0</td>\n",
       "      <td>0.00</td>\n",
       "      <td>0.132</td>\n",
       "      <td>0.0</td>\n",
       "      <td>0.372</td>\n",
       "      <td>0.180</td>\n",
       "      <td>0.048</td>\n",
       "      <td>5.114</td>\n",
       "      <td>101</td>\n",
       "      <td>1028</td>\n",
       "    </tr>\n",
       "    <tr>\n",
       "      <th>2</th>\n",
       "      <td>1</td>\n",
       "      <td>0.06</td>\n",
       "      <td>0.00</td>\n",
       "      <td>0.71</td>\n",
       "      <td>0.0</td>\n",
       "      <td>1.23</td>\n",
       "      <td>0.19</td>\n",
       "      <td>0.19</td>\n",
       "      <td>0.12</td>\n",
       "      <td>0.64</td>\n",
       "      <td>...</td>\n",
       "      <td>0.0</td>\n",
       "      <td>0.01</td>\n",
       "      <td>0.143</td>\n",
       "      <td>0.0</td>\n",
       "      <td>0.276</td>\n",
       "      <td>0.184</td>\n",
       "      <td>0.010</td>\n",
       "      <td>9.821</td>\n",
       "      <td>485</td>\n",
       "      <td>2259</td>\n",
       "    </tr>\n",
       "    <tr>\n",
       "      <th>3</th>\n",
       "      <td>1</td>\n",
       "      <td>0.00</td>\n",
       "      <td>0.00</td>\n",
       "      <td>0.00</td>\n",
       "      <td>0.0</td>\n",
       "      <td>0.63</td>\n",
       "      <td>0.00</td>\n",
       "      <td>0.31</td>\n",
       "      <td>0.63</td>\n",
       "      <td>0.31</td>\n",
       "      <td>...</td>\n",
       "      <td>0.0</td>\n",
       "      <td>0.00</td>\n",
       "      <td>0.137</td>\n",
       "      <td>0.0</td>\n",
       "      <td>0.137</td>\n",
       "      <td>0.000</td>\n",
       "      <td>0.000</td>\n",
       "      <td>3.537</td>\n",
       "      <td>40</td>\n",
       "      <td>191</td>\n",
       "    </tr>\n",
       "    <tr>\n",
       "      <th>4</th>\n",
       "      <td>1</td>\n",
       "      <td>0.00</td>\n",
       "      <td>0.00</td>\n",
       "      <td>0.00</td>\n",
       "      <td>0.0</td>\n",
       "      <td>0.63</td>\n",
       "      <td>0.00</td>\n",
       "      <td>0.31</td>\n",
       "      <td>0.63</td>\n",
       "      <td>0.31</td>\n",
       "      <td>...</td>\n",
       "      <td>0.0</td>\n",
       "      <td>0.00</td>\n",
       "      <td>0.135</td>\n",
       "      <td>0.0</td>\n",
       "      <td>0.135</td>\n",
       "      <td>0.000</td>\n",
       "      <td>0.000</td>\n",
       "      <td>3.537</td>\n",
       "      <td>40</td>\n",
       "      <td>191</td>\n",
       "    </tr>\n",
       "  </tbody>\n",
       "</table>\n",
       "<p>5 rows × 58 columns</p>\n",
       "</div>"
      ],
      "text/plain": [
       "   target_spam_nonspam  word_freq_make  word_freq_address  word_freq_all  \\\n",
       "0                    1            0.00               0.64           0.64   \n",
       "1                    1            0.21               0.28           0.50   \n",
       "2                    1            0.06               0.00           0.71   \n",
       "3                    1            0.00               0.00           0.00   \n",
       "4                    1            0.00               0.00           0.00   \n",
       "\n",
       "   word_freq_3d  word_freq_our  word_freq_over  word_freq_remove  \\\n",
       "0           0.0           0.32            0.00              0.00   \n",
       "1           0.0           0.14            0.28              0.21   \n",
       "2           0.0           1.23            0.19              0.19   \n",
       "3           0.0           0.63            0.00              0.31   \n",
       "4           0.0           0.63            0.00              0.31   \n",
       "\n",
       "   word_freq_internet  word_freq_order  ...  word_freq_conference  \\\n",
       "0                0.00             0.00  ...                   0.0   \n",
       "1                0.07             0.00  ...                   0.0   \n",
       "2                0.12             0.64  ...                   0.0   \n",
       "3                0.63             0.31  ...                   0.0   \n",
       "4                0.63             0.31  ...                   0.0   \n",
       "\n",
       "   char_freq_;  char_freq_(  char_freq_[  char_freq_!  char_freq_$  \\\n",
       "0         0.00        0.000          0.0        0.778        0.000   \n",
       "1         0.00        0.132          0.0        0.372        0.180   \n",
       "2         0.01        0.143          0.0        0.276        0.184   \n",
       "3         0.00        0.137          0.0        0.137        0.000   \n",
       "4         0.00        0.135          0.0        0.135        0.000   \n",
       "\n",
       "   char_freq_#  capital_run_length_average  capital_run_length_longest  \\\n",
       "0        0.000                       3.756                          61   \n",
       "1        0.048                       5.114                         101   \n",
       "2        0.010                       9.821                         485   \n",
       "3        0.000                       3.537                          40   \n",
       "4        0.000                       3.537                          40   \n",
       "\n",
       "   capital_run_length_total  \n",
       "0                       278  \n",
       "1                      1028  \n",
       "2                      2259  \n",
       "3                       191  \n",
       "4                       191  \n",
       "\n",
       "[5 rows x 58 columns]"
      ]
     },
     "execution_count": 9,
     "metadata": {},
     "output_type": "execute_result"
    }
   ],
   "source": [
    "spambase_all.head(5)"
   ]
  },
  {
   "cell_type": "markdown",
   "id": "2e12377f-69d9-4852-b937-907cca4dd578",
   "metadata": {},
   "source": [
    "#### Check for null values."
   ]
  },
  {
   "cell_type": "code",
   "execution_count": 10,
   "id": "e766e561-f7a6-47d5-9033-c74b325c1041",
   "metadata": {},
   "outputs": [
    {
     "data": {
      "text/plain": [
       "<AxesSubplot:>"
      ]
     },
     "execution_count": 10,
     "metadata": {},
     "output_type": "execute_result"
    },
    {
     "data": {
      "image/png": "[encoded data removed]",
      "text/plain": [
       "<Figure size 720x576 with 1 Axes>"
      ]
     },
     "metadata": {
      "needs_background": "light"
     },
     "output_type": "display_data"
    }
   ],
   "source": [
    "plt.figure(figsize=(10, 8))\n",
    "\n",
    "ax = plt.axes()\n",
    "sns.heatmap(spambase_all.isnull(), ax=ax, yticklabels=False, cbar=False, cmap=\"cividis\")\n"
   ]
  },
  {
   "cell_type": "markdown",
   "id": "62cd69ae-5ac0-4c2d-94ff-1bdf027f253f",
   "metadata": {},
   "source": [
    "#### Check for na"
   ]
  },
  {
   "cell_type": "code",
   "execution_count": 11,
   "id": "32586cd3-8526-4c50-8c0c-bf9b4dab9a98",
   "metadata": {},
   "outputs": [
    {
     "data": {
      "text/plain": [
       "target_spam_nonspam           False\n",
       "word_freq_make                False\n",
       "word_freq_address             False\n",
       "word_freq_all                 False\n",
       "word_freq_3d                  False\n",
       "word_freq_our                 False\n",
       "word_freq_over                False\n",
       "word_freq_remove              False\n",
       "word_freq_internet            False\n",
       "word_freq_order               False\n",
       "word_freq_mail                False\n",
       "word_freq_receive             False\n",
       "word_freq_will                False\n",
       "word_freq_people              False\n",
       "word_freq_report              False\n",
       "word_freq_addresses           False\n",
       "word_freq_free                False\n",
       "word_freq_business            False\n",
       "word_freq_email               False\n",
       "word_freq_you                 False\n",
       "word_freq_credit              False\n",
       "word_freq_your                False\n",
       "word_freq_font                False\n",
       "word_freq_000                 False\n",
       "word_freq_money               False\n",
       "word_freq_hp                  False\n",
       "word_freq_hpl                 False\n",
       "word_freq_george              False\n",
       "word_freq_650                 False\n",
       "word_freq_lab                 False\n",
       "word_freq_labs                False\n",
       "word_freq_telnet              False\n",
       "word_freq_857                 False\n",
       "word_freq_data                False\n",
       "word_freq_415                 False\n",
       "word_freq_85                  False\n",
       "word_freq_technology          False\n",
       "word_freq_1999                False\n",
       "word_freq_parts               False\n",
       "word_freq_pm                  False\n",
       "word_freq_direct              False\n",
       "word_freq_cs                  False\n",
       "word_freq_meeting             False\n",
       "word_freq_original            False\n",
       "word_freq_project             False\n",
       "word_freq_re                  False\n",
       "word_freq_edu                 False\n",
       "word_freq_table               False\n",
       "word_freq_conference          False\n",
       "char_freq_;                   False\n",
       "char_freq_(                   False\n",
       "char_freq_[                   False\n",
       "char_freq_!                   False\n",
       "char_freq_$                   False\n",
       "char_freq_#                   False\n",
       "capital_run_length_average    False\n",
       "capital_run_length_longest    False\n",
       "capital_run_length_total      False\n",
       "dtype: bool"
      ]
     },
     "execution_count": 11,
     "metadata": {},
     "output_type": "execute_result"
    }
   ],
   "source": [
    "spambase_all.isna().any()"
   ]
  },
  {
   "cell_type": "markdown",
   "id": "74b9ce96-36e2-45e0-9b06-ad6f4c61b81f",
   "metadata": {},
   "source": [
    "#### Check for data imbalance"
   ]
  },
  {
   "cell_type": "code",
   "execution_count": 12,
   "id": "ea52ff96-200d-4f11-8a4f-c7e85d28abe6",
   "metadata": {},
   "outputs": [
    {
     "data": {
      "text/plain": [
       "[Text(0.5, 0, 'Spam or not')]"
      ]
     },
     "execution_count": 12,
     "metadata": {},
     "output_type": "execute_result"
    },
    {
     "data": {
      "image/png": "[encoded data removed]",
      "text/plain": [
       "<Figure size 432x360 with 1 Axes>"
      ]
     },
     "metadata": {},
     "output_type": "display_data"
    }
   ],
   "source": [
    "sns.set(rc={\"figure.figsize\":(6, 5)})\n",
    "sns.set_style('white')\n",
    "\n",
    "spambase_all_exp = spambase_all.copy()\n",
    "spambase_all_exp[\"target_spam_nonspam\"] = spambase_all_exp[\"target_spam_nonspam\"].astype(bool)\n",
    "\n",
    "ax = sns.countplot(x='target_spam_nonspam', data=spambase_all_exp) \n",
    "ax.set(xlabel='Spam or not')"
   ]
  },
  {
   "cell_type": "markdown",
   "id": "c4905585-c236-45bc-be3b-4f279e2f367d",
   "metadata": {},
   "source": [
    "#### Explore for Correlations\n",
    "The large number of features makes it difficult to determine the correlations."
   ]
  },
  {
   "cell_type": "code",
   "execution_count": 13,
   "id": "cad2ff48-347b-448d-9e34-ee717d3f51d8",
   "metadata": {},
   "outputs": [
    {
     "data": {
      "text/plain": [
       "<AxesSubplot:>"
      ]
     },
     "execution_count": 13,
     "metadata": {},
     "output_type": "execute_result"
    },
    {
     "data": {
      "image/png": "[encoded data removed]",
      "text/plain": [
       "<Figure size 720x576 with 2 Axes>"
      ]
     },
     "metadata": {},
     "output_type": "display_data"
    }
   ],
   "source": [
    "sns.set(rc={\"figure.figsize\":(10, 8)})\n",
    "sns.heatmap(spambase_all_exp.corr(), cmap='viridis')"
   ]
  },
  {
   "cell_type": "markdown",
   "id": "afa0faf1-cd25-45ed-a8c0-ba3d87ca99db",
   "metadata": {},
   "source": [
    "### Challenges\n",
    "* Imbalance Binary Classification\n",
    "* Large number of features"
   ]
  },
  {
   "cell_type": "markdown",
   "id": "bc58c53e-2ebd-45c2-97b3-0e6950942cda",
   "metadata": {},
   "source": [
    "### Solutions"
   ]
  },
  {
   "cell_type": "markdown",
   "id": "349bf3f4-b023-4210-87a4-2643c4310bc8",
   "metadata": {},
   "source": [
    "#### Pandas Undersampling for Imbalanced Binary Classification"
   ]
  },
  {
   "cell_type": "code",
   "execution_count": 14,
   "id": "11047aad-593f-42db-8b8c-1539a502e735",
   "metadata": {},
   "outputs": [
    {
     "name": "stdout",
     "output_type": "stream",
     "text": [
      "get_balance_data\n"
     ]
    }
   ],
   "source": [
    "spam = spambase_all[spambase_all['target_spam_nonspam']==1]\n",
    "non_spam = spambase_all[spambase_all['target_spam_nonspam']==0]\n",
    "non_spam = non_spam.sample(n=len(spam), random_state=101)\n",
    "spambase_balance = pd.concat([spam, non_spam],axis=0)  \n",
    "\n",
    "# an alternative is simply use the loader.get_balance_dataset()\n",
    "# since SpambaseDatasetLoader already handled the undersampling during load.\n",
    "\n",
    "spambase_balance = loader.get_balance_dataset()"
   ]
  },
  {
   "cell_type": "code",
   "execution_count": 15,
   "id": "e6dd524b-bb2a-41b0-a1f3-d16f439a98be",
   "metadata": {},
   "outputs": [
    {
     "data": {
      "text/plain": [
       "[Text(0.5, 0, 'Spam or not')]"
      ]
     },
     "execution_count": 15,
     "metadata": {},
     "output_type": "execute_result"
    },
    {
     "data": {
      "image/png": "[encoded data removed]",
      "text/plain": [
       "<Figure size 432x360 with 1 Axes>"
      ]
     },
     "metadata": {},
     "output_type": "display_data"
    }
   ],
   "source": [
    "spambase_balance_exp = spambase_balance.copy()\n",
    "spambase_balance_exp[\"target_spam_nonspam\"] = spambase_balance_exp[\"target_spam_nonspam\"].astype(bool)\n",
    "\n",
    "sns.set(rc={\"figure.figsize\":(6, 5)})\n",
    "sns.set_style('white')\n",
    "ax = sns.countplot(x='target_spam_nonspam', data=spambase_balance_exp) \n",
    "ax.set(xlabel='Spam or not')"
   ]
  },
  {
   "cell_type": "markdown",
   "id": "89e360ec-65d6-484c-8575-5bcaf86c487a",
   "metadata": {},
   "source": [
    "#### Feature Selection using P value"
   ]
  },
  {
   "cell_type": "code",
   "execution_count": 16,
   "id": "0e4fbec8-3992-48ec-ab6e-48b1c4242928",
   "metadata": {},
   "outputs": [
    {
     "name": "stdout",
     "output_type": "stream",
     "text": [
      "Help on method perform_feature_selection in module spambase_dataset_loader_nb:\n",
      "\n",
      "perform_feature_selection(data, threshold=0.05) method of spambase_dataset_loader_nb.SpambaseDatasetLoader instance\n",
      "    (DataFrame, float) --> Dataframe\n",
      "    \n",
      "    \n",
      "    This function performs feature selection using backward elimination technique.        \n",
      "            \n",
      "    Parameters\n",
      "    ----------\n",
      "    data: Dataframe that will be use in feature selection.\n",
      "    \n",
      "    threshold: If the p-value is higher than the threshold, we discard the combinations of features.\n",
      "    \n",
      "    Returns\n",
      "    ----------        \n",
      "    DataFrame : The DataFrame without after performing feature selection.\n",
      "\n"
     ]
    }
   ],
   "source": [
    "help(loader.perform_feature_selection)"
   ]
  },
  {
   "cell_type": "code",
   "execution_count": 17,
   "id": "cbf7f2f4-af31-4d19-a8fa-2e4de812d5e8",
   "metadata": {},
   "outputs": [
    {
     "name": "stdout",
     "output_type": "stream",
     "text": [
      "The shape before feature selection: (3626, 58)\n",
      "The shape after feature selection: (3626, 37)\n"
     ]
    }
   ],
   "source": [
    "result = loader.perform_feature_selection(data=spambase_balance, threshold=0.05)"
   ]
  },
  {
   "cell_type": "code",
   "execution_count": 18,
   "id": "50c5980b-b2aa-4d8f-bbe5-3dc161176e1b",
   "metadata": {},
   "outputs": [],
   "source": [
    "# defining the dependent and independent variables\n",
    "X = result[0]\n",
    "y = result[1]"
   ]
  },
  {
   "cell_type": "markdown",
   "id": "c1d4f6c5-1284-4e87-9bca-27c733e04bbe",
   "metadata": {},
   "source": [
    "## Model"
   ]
  },
  {
   "cell_type": "markdown",
   "id": "48a7a0ed-f657-4e1f-abba-3317e2b26d04",
   "metadata": {},
   "source": [
    "### Split the data"
   ]
  },
  {
   "cell_type": "code",
   "execution_count": 19,
   "id": "961856db-640f-43a5-a943-e10722eded4c",
   "metadata": {},
   "outputs": [
    {
     "name": "stdout",
     "output_type": "stream",
     "text": [
      "The X_train: (2900, 37), y_train shape: (2900, 1)\n",
      "The X_test:  (726, 37), y_test  shape: (726, 1)\n"
     ]
    }
   ],
   "source": [
    "from sklearn.model_selection import train_test_split\n",
    "\n",
    "X_train, X_test, y_train, y_test = train_test_split(X, y, test_size = 0.2, random_state=101)\n",
    "\n",
    "print('The X_train: {}, y_train shape: {}'.format(X_train.shape, y_train.shape))\n",
    "print('The X_test:  {}, y_test  shape: {}'.format(X_test.shape, y_test.shape))\n",
    "\n",
    "# create a backup for later use.\n",
    "X_train_bak = X_train.copy()\n",
    "X_test_bak = X_test.copy()\n",
    "y_train_bak = y_train.copy()\n",
    "y_test_bak = y_test.copy()"
   ]
  },
  {
   "cell_type": "markdown",
   "id": "423e102c-176d-40ff-9c28-e14baa04192e",
   "metadata": {},
   "source": [
    "### Statsmodels\n",
    "The study introduced a model helper for running the test.\n",
    "For the initial run with \"Balance dataset with feature selection\", the test was manually conducted to show the steps how the test is performed. However, the succeeding test will use the model helper so there is no need to repeat the code."
   ]
  },
  {
   "cell_type": "code",
   "execution_count": 20,
   "id": "4a624c2d-c7c9-4da9-a1d7-d6c7fa565cf2",
   "metadata": {},
   "outputs": [
    {
     "name": "stdout",
     "output_type": "stream",
     "text": [
      "init Model Helper notebook\n"
     ]
    }
   ],
   "source": [
    "model_helper = spambase_model_helper_nb.SpambaseModelHelper()"
   ]
  },
  {
   "cell_type": "code",
   "execution_count": 21,
   "id": "e16b0e58-e453-4eb5-bda9-d6478d35469f",
   "metadata": {},
   "outputs": [
    {
     "name": "stdout",
     "output_type": "stream",
     "text": [
      "Help on method run_statsmodels_logit in module spambase_model_helper_nb:\n",
      "\n",
      "run_statsmodels_logit(data, is_feature_selection=False, verbose=False) method of spambase_model_helper_nb.SpambaseModelHelper instance\n",
      "    This function run logistic regression based from stats models.\n",
      "    \n",
      "    (DataFrame, boolean, boolean) --> DataFrame\n",
      "    \n",
      "    Parameters\n",
      "    ----------\n",
      "    data: Dataframe that will be use in running the model.\n",
      "    \n",
      "    is_feature_selection: True to run feature selection otherwise False.\n",
      "    verbose: True to display statsmodels summary, confusion matrix and its heatmap otherwise false.\n",
      "    \n",
      "    Returns\n",
      "    ----------        \n",
      "    DataFrame : The DataFrame of statsmodels scores.\n",
      "\n"
     ]
    }
   ],
   "source": [
    "help(model_helper.run_statsmodels_logit)"
   ]
  },
  {
   "cell_type": "markdown",
   "id": "6cd1f63a-6a54-4401-9619-ad8876648b10",
   "metadata": {},
   "source": [
    "#### Balance dataset with feature selection"
   ]
  },
  {
   "cell_type": "code",
   "execution_count": 22,
   "id": "af172fa1-588e-4b32-bce7-296e5d841a5c",
   "metadata": {},
   "outputs": [
    {
     "name": "stdout",
     "output_type": "stream",
     "text": [
      "Optimization terminated successfully.\n",
      "         Current function value: 0.281660\n",
      "         Iterations 12\n",
      "                            Logit Regression Results                           \n",
      "===============================================================================\n",
      "Dep. Variable:     target_spam_nonspam   No. Observations:                 2900\n",
      "Model:                           Logit   Df Residuals:                     2863\n",
      "Method:                            MLE   Df Model:                           36\n",
      "Date:                 Wed, 26 Jul 2023   Pseudo R-squ.:                  0.5936\n",
      "Time:                         23:48:40   Log-Likelihood:                -816.81\n",
      "converged:                        True   LL-Null:                       -2010.1\n",
      "Covariance Type:             nonrobust   LLR p-value:                     0.000\n",
      "==============================================================================================\n",
      "                                 coef    std err          z      P>|z|      [0.025      0.975]\n",
      "----------------------------------------------------------------------------------------------\n",
      "word_freq_make                -0.7245      0.243     -2.987      0.003      -1.200      -0.249\n",
      "word_freq_all                 -0.1770      0.123     -1.442      0.149      -0.417       0.064\n",
      "word_freq_3d                   1.6219      1.306      1.241      0.214      -0.939       4.182\n",
      "word_freq_our                  0.5516      0.132      4.191      0.000       0.294       0.810\n",
      "word_freq_over                 0.6387      0.288      2.220      0.026       0.075       1.203\n",
      "word_freq_remove               2.1860      0.387      5.650      0.000       1.428       2.944\n",
      "word_freq_internet             0.3060      0.141      2.178      0.029       0.031       0.581\n",
      "word_freq_order                0.7552      0.329      2.295      0.022       0.110       1.400\n",
      "word_freq_mail                 0.0018      0.078      0.023      0.982      -0.150       0.154\n",
      "word_freq_people              -0.3204      0.226     -1.420      0.156      -0.763       0.122\n",
      "word_freq_free                 1.0005      0.179      5.580      0.000       0.649       1.352\n",
      "word_freq_business             0.6923      0.234      2.954      0.003       0.233       1.152\n",
      "word_freq_email                0.0720      0.125      0.576      0.564      -0.173       0.317\n",
      "word_freq_you                 -0.1251      0.036     -3.429      0.001      -0.197      -0.054\n",
      "word_freq_credit               2.5712      0.772      3.331      0.001       1.058       4.084\n",
      "word_freq_your                 0.1891      0.057      3.322      0.001       0.078       0.301\n",
      "word_freq_font                 0.3975      0.182      2.188      0.029       0.041       0.754\n",
      "word_freq_000                  2.3639      0.591      4.002      0.000       1.206       3.521\n",
      "word_freq_money                0.6746      0.308      2.192      0.028       0.071       1.278\n",
      "word_freq_hp                  -1.7100      0.306     -5.587      0.000      -2.310      -1.110\n",
      "word_freq_hpl                 -1.7390      0.499     -3.482      0.000      -2.718      -0.760\n",
      "word_freq_labs                -1.1186      0.574     -1.948      0.051      -2.244       0.007\n",
      "word_freq_85                  -2.6742      0.782     -3.419      0.001      -4.207      -1.141\n",
      "word_freq_technology           0.4471      0.357      1.251      0.211      -0.253       1.147\n",
      "word_freq_pm                  -1.1640      0.416     -2.800      0.005      -1.979      -0.349\n",
      "word_freq_meeting             -3.0444      0.862     -3.531      0.000      -4.734      -1.354\n",
      "word_freq_project             -3.2420      0.754     -4.298      0.000      -4.720      -1.764\n",
      "word_freq_re                  -0.9546      0.155     -6.147      0.000      -1.259      -0.650\n",
      "word_freq_edu                 -1.5982      0.299     -5.343      0.000      -2.185      -1.012\n",
      "word_freq_table               -4.4683      2.409     -1.855      0.064      -9.189       0.253\n",
      "char_freq_;                   -1.6124      0.603     -2.672      0.008      -2.795      -0.430\n",
      "char_freq_(                   -1.0116      0.333     -3.042      0.002      -1.663      -0.360\n",
      "char_freq_!                    0.2304      0.056      4.107      0.000       0.120       0.340\n",
      "char_freq_$                    6.1477      0.940      6.540      0.000       4.305       7.990\n",
      "capital_run_length_average    -0.0068      0.004     -1.525      0.127      -0.015       0.002\n",
      "capital_run_length_longest     0.0021      0.001      1.545      0.122      -0.001       0.005\n",
      "capital_run_length_total       0.0002      0.000      1.555      0.120   -5.67e-05       0.000\n",
      "==============================================================================================\n",
      "\n",
      "Possibly complete quasi-separation: A fraction 0.12 of observations can be\n",
      "perfectly predicted. This might indicate that there is complete\n",
      "quasi-separation. In this case some parameters will not be identified.\n"
     ]
    }
   ],
   "source": [
    "import statsmodels.api as sm\n",
    "\n",
    "# building the model and fit the model using the training data\n",
    "statsmodels_lr = sm.Logit(y_train, X_train).fit()\n",
    "\n",
    "print(statsmodels_lr.summary())"
   ]
  },
  {
   "cell_type": "code",
   "execution_count": 23,
   "id": "f8560d1a-783d-438e-9ce5-16eef7bddd6e",
   "metadata": {},
   "outputs": [
    {
     "name": "stdout",
     "output_type": "stream",
     "text": [
      "Confusion Matrix\n",
      "[[325  42]\n",
      " [ 25 334]]\n"
     ]
    }
   ],
   "source": [
    "# performing predictions on the test dataset\n",
    "yhat = statsmodels_lr.predict(X_test)\n",
    "\n",
    "y_pred_statsmodels = list(map(round, yhat))\n",
    "\n",
    "from sklearn.metrics import confusion_matrix\n",
    "cf_matrix = confusion_matrix(y_test, y_pred_statsmodels) \n",
    "print('Confusion Matrix')\n",
    "print(cf_matrix)"
   ]
  },
  {
   "cell_type": "code",
   "execution_count": 24,
   "id": "75087427-812f-4d0a-b108-b474dea9cab9",
   "metadata": {},
   "outputs": [
    {
     "data": {
      "text/plain": [
       "<AxesSubplot:>"
      ]
     },
     "execution_count": 24,
     "metadata": {},
     "output_type": "execute_result"
    },
    {
     "data": {
      "image/png": "[encoded data removed]",
      "text/plain": [
       "<Figure size 432x360 with 2 Axes>"
      ]
     },
     "metadata": {},
     "output_type": "display_data"
    }
   ],
   "source": [
    "sns.heatmap(cf_matrix / np.sum(cf_matrix), annot=True, fmt='.2%', cmap='Blues')"
   ]
  },
  {
   "cell_type": "code",
   "execution_count": 25,
   "id": "ef3a3259-cce6-4cfc-89c5-c8b76190cb37",
   "metadata": {},
   "outputs": [
    {
     "name": "stdout",
     "output_type": "stream",
     "text": [
      "Confusion Matrix result - TP: 325, TN:334, FP:42, FN: 25\n"
     ]
    },
    {
     "data": {
      "text/html": [
       "<div>\n",
       "<style scoped>\n",
       "    .dataframe tbody tr th:only-of-type {\n",
       "        vertical-align: middle;\n",
       "    }\n",
       "\n",
       "    .dataframe tbody tr th {\n",
       "        vertical-align: top;\n",
       "    }\n",
       "\n",
       "    .dataframe thead th {\n",
       "        text-align: right;\n",
       "    }\n",
       "</style>\n",
       "<table border=\"1\" class=\"dataframe\">\n",
       "  <thead>\n",
       "    <tr style=\"text-align: right;\">\n",
       "      <th></th>\n",
       "      <th>Accuracy</th>\n",
       "      <th>Precision</th>\n",
       "      <th>Recall</th>\n",
       "      <th>F1-Score</th>\n",
       "    </tr>\n",
       "  </thead>\n",
       "  <tbody>\n",
       "    <tr>\n",
       "      <th>Score</th>\n",
       "      <td>0.907713</td>\n",
       "      <td>0.885559</td>\n",
       "      <td>0.928571</td>\n",
       "      <td>0.906555</td>\n",
       "    </tr>\n",
       "  </tbody>\n",
       "</table>\n",
       "</div>"
      ],
      "text/plain": [
       "       Accuracy  Precision    Recall  F1-Score\n",
       "Score  0.907713   0.885559  0.928571  0.906555"
      ]
     },
     "execution_count": 25,
     "metadata": {},
     "output_type": "execute_result"
    }
   ],
   "source": [
    "TP = cf_matrix[0][0]\n",
    "TN = cf_matrix[1][1]\n",
    "FP = cf_matrix[0][1]\n",
    "FN = cf_matrix[1][0]\n",
    "\n",
    "print('Confusion Matrix result - TP: {}, TN:{}, FP:{}, FN: {}'\n",
    "      .format(TP, TN, FP, FN))\n",
    "\n",
    "acc = (TP + TN) / np.sum(cf_matrix)\n",
    "precision = TP / (TP + FP)\n",
    "recall = TP / (TP + FN)\n",
    "f1_score = (2 * (precision * recall)) / (precision + recall)\n",
    "\n",
    "statsmodels_scores_df = pd.DataFrame([[acc, precision, recall, f1_score]], \n",
    "        ['Score'], ['Accuracy', 'Precision', 'Recall', 'F1-Score'])\n",
    "statsmodels_scores_df"
   ]
  },
  {
   "cell_type": "markdown",
   "id": "88b6c22f-fdf0-4db7-be35-9befefe82cb1",
   "metadata": {},
   "source": [
    "##### The use of model helper will produce the same result.\n",
    "*(For the succeeding run, we will reuse the model helper to avoid repeating the same code.)*"
   ]
  },
  {
   "cell_type": "code",
   "execution_count": 26,
   "id": "98384d76-62e2-4168-96a6-40c87f34633c",
   "metadata": {},
   "outputs": [
    {
     "name": "stdout",
     "output_type": "stream",
     "text": [
      "init Loader notebook\n",
      "The shape before feature selection: (3626, 58)\n",
      "The shape after feature selection: (3626, 37)\n",
      "Optimization terminated successfully.\n",
      "         Current function value: 0.281660\n",
      "         Iterations 12\n",
      "                            Logit Regression Results                           \n",
      "===============================================================================\n",
      "Dep. Variable:     target_spam_nonspam   No. Observations:                 2900\n",
      "Model:                           Logit   Df Residuals:                     2863\n",
      "Method:                            MLE   Df Model:                           36\n",
      "Date:                 Wed, 26 Jul 2023   Pseudo R-squ.:                  0.5936\n",
      "Time:                         23:48:42   Log-Likelihood:                -816.81\n",
      "converged:                        True   LL-Null:                       -2010.1\n",
      "Covariance Type:             nonrobust   LLR p-value:                     0.000\n",
      "==============================================================================================\n",
      "                                 coef    std err          z      P>|z|      [0.025      0.975]\n",
      "----------------------------------------------------------------------------------------------\n",
      "word_freq_make                -0.7245      0.243     -2.987      0.003      -1.200      -0.249\n",
      "word_freq_all                 -0.1770      0.123     -1.442      0.149      -0.417       0.064\n",
      "word_freq_3d                   1.6219      1.306      1.241      0.214      -0.939       4.182\n",
      "word_freq_our                  0.5516      0.132      4.191      0.000       0.294       0.810\n",
      "word_freq_over                 0.6387      0.288      2.220      0.026       0.075       1.203\n",
      "word_freq_remove               2.1860      0.387      5.650      0.000       1.428       2.944\n",
      "word_freq_internet             0.3060      0.141      2.178      0.029       0.031       0.581\n",
      "word_freq_order                0.7552      0.329      2.295      0.022       0.110       1.400\n",
      "word_freq_mail                 0.0018      0.078      0.023      0.982      -0.150       0.154\n",
      "word_freq_people              -0.3204      0.226     -1.420      0.156      -0.763       0.122\n",
      "word_freq_free                 1.0005      0.179      5.580      0.000       0.649       1.352\n",
      "word_freq_business             0.6923      0.234      2.954      0.003       0.233       1.152\n",
      "word_freq_email                0.0720      0.125      0.576      0.564      -0.173       0.317\n",
      "word_freq_you                 -0.1251      0.036     -3.429      0.001      -0.197      -0.054\n",
      "word_freq_credit               2.5712      0.772      3.331      0.001       1.058       4.084\n",
      "word_freq_your                 0.1891      0.057      3.322      0.001       0.078       0.301\n",
      "word_freq_font                 0.3975      0.182      2.188      0.029       0.041       0.754\n",
      "word_freq_000                  2.3639      0.591      4.002      0.000       1.206       3.521\n",
      "word_freq_money                0.6746      0.308      2.192      0.028       0.071       1.278\n",
      "word_freq_hp                  -1.7100      0.306     -5.587      0.000      -2.310      -1.110\n",
      "word_freq_hpl                 -1.7390      0.499     -3.482      0.000      -2.718      -0.760\n",
      "word_freq_labs                -1.1186      0.574     -1.948      0.051      -2.244       0.007\n",
      "word_freq_85                  -2.6742      0.782     -3.419      0.001      -4.207      -1.141\n",
      "word_freq_technology           0.4471      0.357      1.251      0.211      -0.253       1.147\n",
      "word_freq_pm                  -1.1640      0.416     -2.800      0.005      -1.979      -0.349\n",
      "word_freq_meeting             -3.0444      0.862     -3.531      0.000      -4.734      -1.354\n",
      "word_freq_project             -3.2420      0.754     -4.298      0.000      -4.720      -1.764\n",
      "word_freq_re                  -0.9546      0.155     -6.147      0.000      -1.259      -0.650\n",
      "word_freq_edu                 -1.5982      0.299     -5.343      0.000      -2.185      -1.012\n",
      "word_freq_table               -4.4683      2.409     -1.855      0.064      -9.189       0.253\n",
      "char_freq_;                   -1.6124      0.603     -2.672      0.008      -2.795      -0.430\n",
      "char_freq_(                   -1.0116      0.333     -3.042      0.002      -1.663      -0.360\n",
      "char_freq_!                    0.2304      0.056      4.107      0.000       0.120       0.340\n",
      "char_freq_$                    6.1477      0.940      6.540      0.000       4.305       7.990\n",
      "capital_run_length_average    -0.0068      0.004     -1.525      0.127      -0.015       0.002\n",
      "capital_run_length_longest     0.0021      0.001      1.545      0.122      -0.001       0.005\n",
      "capital_run_length_total       0.0002      0.000      1.555      0.120   -5.67e-05       0.000\n",
      "==============================================================================================\n",
      "\n",
      "Possibly complete quasi-separation: A fraction 0.12 of observations can be\n",
      "perfectly predicted. This might indicate that there is complete\n",
      "quasi-separation. In this case some parameters will not be identified.\n",
      "Confusion Matrix\n",
      "[[325  42]\n",
      " [ 25 334]]\n",
      "Confusion Matrix result - TP: 325, TN:334, FP:42, FN: 25\n"
     ]
    },
    {
     "data": {
      "image/png": "[encoded data removed]",
      "text/plain": [
       "<Figure size 432x360 with 2 Axes>"
      ]
     },
     "metadata": {},
     "output_type": "display_data"
    }
   ],
   "source": [
    "df_sm_result1 = model_helper.run_statsmodels_logit(spambase_balance, is_feature_selection=True, \n",
    "                    verbose=True)"
   ]
  },
  {
   "cell_type": "code",
   "execution_count": 27,
   "id": "fcf39a36-f60b-43b1-b356-23f251525cc6",
   "metadata": {},
   "outputs": [
    {
     "data": {
      "text/html": [
       "<div>\n",
       "<style scoped>\n",
       "    .dataframe tbody tr th:only-of-type {\n",
       "        vertical-align: middle;\n",
       "    }\n",
       "\n",
       "    .dataframe tbody tr th {\n",
       "        vertical-align: top;\n",
       "    }\n",
       "\n",
       "    .dataframe thead th {\n",
       "        text-align: right;\n",
       "    }\n",
       "</style>\n",
       "<table border=\"1\" class=\"dataframe\">\n",
       "  <thead>\n",
       "    <tr style=\"text-align: right;\">\n",
       "      <th></th>\n",
       "      <th>Accuracy</th>\n",
       "      <th>Precision</th>\n",
       "      <th>Recall</th>\n",
       "      <th>F1-Score</th>\n",
       "    </tr>\n",
       "  </thead>\n",
       "  <tbody>\n",
       "    <tr>\n",
       "      <th>Score</th>\n",
       "      <td>0.907713</td>\n",
       "      <td>0.885559</td>\n",
       "      <td>0.928571</td>\n",
       "      <td>0.906555</td>\n",
       "    </tr>\n",
       "  </tbody>\n",
       "</table>\n",
       "</div>"
      ],
      "text/plain": [
       "       Accuracy  Precision    Recall  F1-Score\n",
       "Score  0.907713   0.885559  0.928571  0.906555"
      ]
     },
     "execution_count": 27,
     "metadata": {},
     "output_type": "execute_result"
    }
   ],
   "source": [
    "df_sm_result1"
   ]
  },
  {
   "cell_type": "markdown",
   "id": "f756f813-e1f8-48b6-b3af-bffe1b2dbc73",
   "metadata": {},
   "source": [
    "#### Balance dataset but without feature selection"
   ]
  },
  {
   "cell_type": "code",
   "execution_count": 28,
   "id": "44c562b6-df2f-40ef-9323-3d8e794aa95d",
   "metadata": {},
   "outputs": [
    {
     "name": "stdout",
     "output_type": "stream",
     "text": [
      "get_balance_data\n",
      "Optimization terminated successfully.\n",
      "         Current function value: 0.209908\n",
      "         Iterations 15\n",
      "                           Logit Regression Results                           \n",
      "==============================================================================\n",
      "Dep. Variable:                      y   No. Observations:                 2900\n",
      "Model:                          Logit   Df Residuals:                     2843\n",
      "Method:                           MLE   Df Model:                           56\n",
      "Date:                Wed, 26 Jul 2023   Pseudo R-squ.:                  0.6972\n",
      "Time:                        23:48:43   Log-Likelihood:                -608.73\n",
      "converged:                       True   LL-Null:                       -2010.1\n",
      "Covariance Type:            nonrobust   LLR p-value:                     0.000\n",
      "==============================================================================\n",
      "                 coef    std err          z      P>|z|      [0.025      0.975]\n",
      "------------------------------------------------------------------------------\n",
      "x1            -0.7281      0.281     -2.594      0.009      -1.278      -0.178\n",
      "x2            -0.2198      0.074     -2.985      0.003      -0.364      -0.075\n",
      "x3            -0.1580      0.139     -1.136      0.256      -0.431       0.115\n",
      "x4             1.5436      1.317      1.172      0.241      -1.037       4.124\n",
      "x5             0.4810      0.138      3.484      0.000       0.210       0.752\n",
      "x6             0.9639      0.341      2.828      0.005       0.296       1.632\n",
      "x7             1.9019      0.382      4.984      0.000       1.154       2.650\n",
      "x8             0.2872      0.153      1.874      0.061      -0.013       0.588\n",
      "x9             1.0453      0.454      2.301      0.021       0.155       1.936\n",
      "x10            0.0544      0.089      0.609      0.543      -0.121       0.230\n",
      "x11            0.0387      0.382      0.101      0.919      -0.711       0.788\n",
      "x12           -0.3710      0.091     -4.060      0.000      -0.550      -0.192\n",
      "x13           -0.3247      0.282     -1.150      0.250      -0.878       0.229\n",
      "x14           -0.0782      0.144     -0.543      0.587      -0.360       0.204\n",
      "x15            2.4827      1.349      1.841      0.066      -0.161       5.126\n",
      "x16            0.8127      0.180      4.526      0.000       0.461       1.165\n",
      "x17            0.9811      0.282      3.479      0.001       0.428       1.534\n",
      "x18           -0.0298      0.129     -0.231      0.818      -0.283       0.223\n",
      "x19           -0.0691      0.040     -1.733      0.083      -0.147       0.009\n",
      "x20            1.7548      0.814      2.156      0.031       0.160       3.350\n",
      "x21            0.2638      0.068      3.899      0.000       0.131       0.396\n",
      "x22            0.1326      0.199      0.666      0.505      -0.258       0.523\n",
      "x23            1.9213      0.556      3.457      0.001       0.832       3.011\n",
      "x24            0.3724      0.232      1.605      0.109      -0.082       0.827\n",
      "x25           -1.7286      0.344     -5.030      0.000      -2.402      -1.055\n",
      "x26           -1.1995      0.510     -2.354      0.019      -2.198      -0.201\n",
      "x27          -15.1760      2.968     -5.113      0.000     -20.994      -9.358\n",
      "x28            0.5071      0.287      1.768      0.077      -0.055       1.069\n",
      "x29           -2.7133      1.708     -1.589      0.112      -6.060       0.633\n",
      "x30           -1.0357      0.473     -2.189      0.029      -1.963      -0.108\n",
      "x31            0.3521      1.376      0.256      0.798      -2.345       3.049\n",
      "x32            0.6633      3.852      0.172      0.863      -6.887       8.214\n",
      "x33           -0.9838      0.325     -3.025      0.002      -1.621      -0.346\n",
      "x34          -17.2634      5.609     -3.078      0.002     -28.256      -6.271\n",
      "x35           -2.6223      0.893     -2.938      0.003      -4.372      -0.873\n",
      "x36            0.3425      0.361      0.948      0.343      -0.365       1.050\n",
      "x37           -0.1700      0.213     -0.797      0.426      -0.588       0.248\n",
      "x38            0.0515      1.455      0.035      0.972      -2.800       2.903\n",
      "x39           -0.8490      0.479     -1.773      0.076      -1.788       0.089\n",
      "x40            0.2059      1.092      0.188      0.851      -1.935       2.347\n",
      "x41          -39.9817     30.637     -1.305      0.192    -100.029      20.065\n",
      "x42           -2.8971      0.924     -3.136      0.002      -4.708      -1.086\n",
      "x43           -2.0934      1.101     -1.902      0.057      -4.251       0.064\n",
      "x44           -2.5105      0.748     -3.357      0.001      -3.976      -1.045\n",
      "x45           -0.9683      0.180     -5.384      0.000      -1.321      -0.616\n",
      "x46           -1.4853      0.305     -4.873      0.000      -2.083      -0.888\n",
      "x47           -3.7907      2.574     -1.473      0.141      -8.836       1.255\n",
      "x48           -3.7425      1.592     -2.350      0.019      -6.864      -0.621\n",
      "x49           -1.2209      0.579     -2.110      0.035      -2.355      -0.087\n",
      "x50           -0.4294      0.332     -1.294      0.196      -1.080       0.221\n",
      "x51           -2.5508      1.412     -1.806      0.071      -5.318       0.217\n",
      "x52            0.1934      0.059      3.293      0.001       0.078       0.309\n",
      "x53            5.5175      0.962      5.735      0.000       3.632       7.403\n",
      "x54            2.1966      1.633      1.345      0.179      -1.005       5.398\n",
      "x55           -0.0155      0.021     -0.753      0.451      -0.056       0.025\n",
      "x56            0.0122      0.003      3.680      0.000       0.006       0.019\n",
      "x57            0.0004      0.000      1.639      0.101   -7.68e-05       0.001\n",
      "==============================================================================\n",
      "\n",
      "Possibly complete quasi-separation: A fraction 0.25 of observations can be\n",
      "perfectly predicted. This might indicate that there is complete\n",
      "quasi-separation. In this case some parameters will not be identified.\n",
      "Confusion Matrix\n",
      "[[335  32]\n",
      " [ 23 336]]\n",
      "Confusion Matrix result - TP: 335, TN:336, FP:32, FN: 23\n"
     ]
    },
    {
     "data": {
      "image/png": "[encoded data removed]",
      "text/plain": [
       "<Figure size 432x360 with 2 Axes>"
      ]
     },
     "metadata": {},
     "output_type": "display_data"
    }
   ],
   "source": [
    "spambase_balance = loader.get_balance_dataset()\n",
    "\n",
    "df_sm_result2 = model_helper.run_statsmodels_logit(spambase_balance, is_feature_selection=False,\n",
    "                    verbose=True)"
   ]
  },
  {
   "cell_type": "code",
   "execution_count": 29,
   "id": "47d3f228-2b34-49a8-9b31-46489e1a27fc",
   "metadata": {},
   "outputs": [
    {
     "data": {
      "text/html": [
       "<div>\n",
       "<style scoped>\n",
       "    .dataframe tbody tr th:only-of-type {\n",
       "        vertical-align: middle;\n",
       "    }\n",
       "\n",
       "    .dataframe tbody tr th {\n",
       "        vertical-align: top;\n",
       "    }\n",
       "\n",
       "    .dataframe thead th {\n",
       "        text-align: right;\n",
       "    }\n",
       "</style>\n",
       "<table border=\"1\" class=\"dataframe\">\n",
       "  <thead>\n",
       "    <tr style=\"text-align: right;\">\n",
       "      <th></th>\n",
       "      <th>Accuracy</th>\n",
       "      <th>Precision</th>\n",
       "      <th>Recall</th>\n",
       "      <th>F1-Score</th>\n",
       "    </tr>\n",
       "  </thead>\n",
       "  <tbody>\n",
       "    <tr>\n",
       "      <th>Score</th>\n",
       "      <td>0.924242</td>\n",
       "      <td>0.912807</td>\n",
       "      <td>0.935754</td>\n",
       "      <td>0.924138</td>\n",
       "    </tr>\n",
       "  </tbody>\n",
       "</table>\n",
       "</div>"
      ],
      "text/plain": [
       "       Accuracy  Precision    Recall  F1-Score\n",
       "Score  0.924242   0.912807  0.935754  0.924138"
      ]
     },
     "execution_count": 29,
     "metadata": {},
     "output_type": "execute_result"
    }
   ],
   "source": [
    "df_sm_result2"
   ]
  },
  {
   "cell_type": "markdown",
   "id": "263f9206-abdc-481b-bab4-aac51e713c7d",
   "metadata": {},
   "source": [
    "#### Full dataset and with feature selection"
   ]
  },
  {
   "cell_type": "code",
   "execution_count": 30,
   "id": "feb39a68-bcff-427f-942a-5101e1019306",
   "metadata": {},
   "outputs": [
    {
     "name": "stdout",
     "output_type": "stream",
     "text": [
      "get_full_dataset\n",
      "init Loader notebook\n",
      "The shape before feature selection: (4601, 58)\n",
      "The shape after feature selection: (4601, 37)\n",
      "Optimization terminated successfully.\n",
      "         Current function value: 0.241117\n",
      "         Iterations 15\n",
      "                            Logit Regression Results                           \n",
      "===============================================================================\n",
      "Dep. Variable:     target_spam_nonspam   No. Observations:                 3680\n",
      "Model:                           Logit   Df Residuals:                     3643\n",
      "Method:                            MLE   Df Model:                           36\n",
      "Date:                 Wed, 26 Jul 2023   Pseudo R-squ.:                  0.6406\n",
      "Time:                         23:48:45   Log-Likelihood:                -887.31\n",
      "converged:                        True   LL-Null:                       -2468.8\n",
      "Covariance Type:             nonrobust   LLR p-value:                     0.000\n",
      "==============================================================================================\n",
      "                                 coef    std err          z      P>|z|      [0.025      0.975]\n",
      "----------------------------------------------------------------------------------------------\n",
      "word_freq_all                 -0.1033      0.117     -0.884      0.377      -0.332       0.126\n",
      "word_freq_3d                   2.3768      1.870      1.271      0.204      -1.288       6.042\n",
      "word_freq_our                  0.3096      0.108      2.865      0.004       0.098       0.521\n",
      "word_freq_over                 1.1264      0.299      3.771      0.000       0.541       1.712\n",
      "word_freq_remove               2.1346      0.354      6.031      0.000       1.441       2.828\n",
      "word_freq_internet             0.3758      0.146      2.566      0.010       0.089       0.663\n",
      "word_freq_order                0.6986      0.304      2.297      0.022       0.103       1.295\n",
      "word_freq_mail                 0.0959      0.103      0.934      0.350      -0.105       0.297\n",
      "word_freq_people              -0.3827      0.221     -1.730      0.084      -0.816       0.051\n",
      "word_freq_free                 0.8612      0.157      5.479      0.000       0.553       1.169\n",
      "word_freq_business             0.7700      0.241      3.196      0.001       0.298       1.242\n",
      "word_freq_email                0.0475      0.113      0.419      0.675      -0.175       0.270\n",
      "word_freq_you                 -0.1100      0.034     -3.227      0.001      -0.177      -0.043\n",
      "word_freq_credit               1.6105      0.699      2.303      0.021       0.240       2.981\n",
      "word_freq_your                 0.0604      0.047      1.280      0.200      -0.032       0.153\n",
      "word_freq_font                 0.3225      0.187      1.727      0.084      -0.044       0.689\n",
      "word_freq_000                  2.0100      0.460      4.366      0.000       1.108       2.912\n",
      "word_freq_money                0.3884      0.153      2.542      0.011       0.089       0.688\n",
      "word_freq_hp                  -2.3126      0.336     -6.893      0.000      -2.970      -1.655\n",
      "word_freq_hpl                 -1.6747      0.518     -3.233      0.001      -2.690      -0.659\n",
      "word_freq_george             -13.7567      3.015     -4.562      0.000     -19.667      -7.847\n",
      "word_freq_labs                -1.1459      0.551     -2.079      0.038      -2.226      -0.066\n",
      "word_freq_data                -1.1711      0.304     -3.856      0.000      -1.766      -0.576\n",
      "word_freq_technology           0.0421      0.293      0.144      0.886      -0.533       0.617\n",
      "word_freq_parts               -0.7609      0.467     -1.629      0.103      -1.676       0.155\n",
      "word_freq_meeting             -3.4811      0.973     -3.577      0.000      -5.389      -1.574\n",
      "word_freq_original            -1.6187      0.803     -2.015      0.044      -3.193      -0.045\n",
      "word_freq_re                  -0.9547      0.150     -6.359      0.000      -1.249      -0.660\n",
      "word_freq_edu                 -2.3055      0.328     -7.025      0.000      -2.949      -1.662\n",
      "word_freq_table               -3.4874      1.942     -1.796      0.073      -7.294       0.319\n",
      "char_freq_;                   -1.7592      0.573     -3.068      0.002      -2.883      -0.635\n",
      "char_freq_(                   -1.6115      0.325     -4.958      0.000      -2.249      -0.975\n",
      "char_freq_!                    0.2327      0.057      4.087      0.000       0.121       0.344\n",
      "char_freq_$                    6.1476      0.839      7.328      0.000       4.503       7.792\n",
      "char_freq_#                    0.7649      0.717      1.067      0.286      -0.640       2.170\n",
      "capital_run_length_average     0.0143      0.014      1.002      0.316      -0.014       0.042\n",
      "capital_run_length_total       0.0004      0.000      2.694      0.007       0.000       0.001\n",
      "==============================================================================================\n",
      "\n",
      "Possibly complete quasi-separation: A fraction 0.23 of observations can be\n",
      "perfectly predicted. This might indicate that there is complete\n",
      "quasi-separation. In this case some parameters will not be identified.\n",
      "Confusion Matrix\n",
      "[[476  85]\n",
      " [ 25 335]]\n",
      "Confusion Matrix result - TP: 476, TN:335, FP:85, FN: 25\n"
     ]
    },
    {
     "data": {
      "image/png": "[encoded data removed]",
      "text/plain": [
       "<Figure size 432x360 with 2 Axes>"
      ]
     },
     "metadata": {},
     "output_type": "display_data"
    }
   ],
   "source": [
    "spambase_full = loader.get_full_dataset()\n",
    "\n",
    "df_sm_result3 = model_helper.run_statsmodels_logit(spambase_full, is_feature_selection=True,\n",
    "                    verbose=True)"
   ]
  },
  {
   "cell_type": "code",
   "execution_count": 31,
   "id": "590cd5af-a324-4ac5-a6f6-49efd879d75d",
   "metadata": {},
   "outputs": [
    {
     "data": {
      "text/html": [
       "<div>\n",
       "<style scoped>\n",
       "    .dataframe tbody tr th:only-of-type {\n",
       "        vertical-align: middle;\n",
       "    }\n",
       "\n",
       "    .dataframe tbody tr th {\n",
       "        vertical-align: top;\n",
       "    }\n",
       "\n",
       "    .dataframe thead th {\n",
       "        text-align: right;\n",
       "    }\n",
       "</style>\n",
       "<table border=\"1\" class=\"dataframe\">\n",
       "  <thead>\n",
       "    <tr style=\"text-align: right;\">\n",
       "      <th></th>\n",
       "      <th>Accuracy</th>\n",
       "      <th>Precision</th>\n",
       "      <th>Recall</th>\n",
       "      <th>F1-Score</th>\n",
       "    </tr>\n",
       "  </thead>\n",
       "  <tbody>\n",
       "    <tr>\n",
       "      <th>Score</th>\n",
       "      <td>0.880565</td>\n",
       "      <td>0.848485</td>\n",
       "      <td>0.9501</td>\n",
       "      <td>0.896422</td>\n",
       "    </tr>\n",
       "  </tbody>\n",
       "</table>\n",
       "</div>"
      ],
      "text/plain": [
       "       Accuracy  Precision  Recall  F1-Score\n",
       "Score  0.880565   0.848485  0.9501  0.896422"
      ]
     },
     "execution_count": 31,
     "metadata": {},
     "output_type": "execute_result"
    }
   ],
   "source": [
    "df_sm_result3"
   ]
  },
  {
   "cell_type": "markdown",
   "id": "6bd86e7b-8f0d-484e-8356-d18a66877c78",
   "metadata": {},
   "source": [
    "#### Full dataset and without feature selection"
   ]
  },
  {
   "cell_type": "code",
   "execution_count": 32,
   "id": "f2b6e187-9bc5-4585-8e0c-02164cb2a21e",
   "metadata": {},
   "outputs": [
    {
     "name": "stdout",
     "output_type": "stream",
     "text": [
      "get_full_dataset\n",
      "Warning: Maximum number of iterations has been exceeded.\n",
      "         Current function value: 0.208535\n",
      "         Iterations: 35\n",
      "                           Logit Regression Results                           \n",
      "==============================================================================\n",
      "Dep. Variable:                      y   No. Observations:                 3680\n",
      "Model:                          Logit   Df Residuals:                     3623\n",
      "Method:                           MLE   Df Model:                           56\n",
      "Date:                Wed, 26 Jul 2023   Pseudo R-squ.:                  0.6892\n",
      "Time:                        23:48:46   Log-Likelihood:                -767.41\n",
      "converged:                      False   LL-Null:                       -2468.8\n",
      "Covariance Type:            nonrobust   LLR p-value:                     0.000\n",
      "==============================================================================\n",
      "                 coef    std err          z      P>|z|      [0.025      0.975]\n",
      "------------------------------------------------------------------------------\n",
      "x1            -0.6947      0.244     -2.846      0.004      -1.173      -0.216\n",
      "x2            -0.2399      0.072     -3.336      0.001      -0.381      -0.099\n",
      "x3            -0.0838      0.124     -0.678      0.498      -0.326       0.158\n",
      "x4             1.9316      1.741      1.109      0.267      -1.481       5.344\n",
      "x5             0.3495      0.116      3.020      0.003       0.123       0.576\n",
      "x6             1.1361      0.317      3.580      0.000       0.514       1.758\n",
      "x7             1.8993      0.343      5.544      0.000       1.228       2.571\n",
      "x8             0.3343      0.147      2.276      0.023       0.046       0.622\n",
      "x9             0.4081      0.316      1.293      0.196      -0.210       1.027\n",
      "x10            0.2192      0.115      1.898      0.058      -0.007       0.446\n",
      "x11           -0.0627      0.322     -0.195      0.846      -0.694       0.568\n",
      "x12           -0.3289      0.081     -4.039      0.000      -0.489      -0.169\n",
      "x13           -0.3876      0.245     -1.579      0.114      -0.868       0.093\n",
      "x14           -0.0837      0.144     -0.581      0.561      -0.366       0.198\n",
      "x15            1.1286      0.754      1.497      0.134      -0.349       2.606\n",
      "x16            0.8169      0.159      5.139      0.000       0.505       1.128\n",
      "x17            0.8216      0.266      3.090      0.002       0.301       1.343\n",
      "x18           -0.0341      0.116     -0.293      0.769      -0.262       0.194\n",
      "x19           -0.0764      0.036     -2.134      0.033      -0.147      -0.006\n",
      "x20            1.3826      0.754      1.833      0.067      -0.096       2.861\n",
      "x21            0.1495      0.057      2.617      0.009       0.038       0.262\n",
      "x22            0.1958      0.207      0.948      0.343      -0.209       0.601\n",
      "x23            1.8665      0.470      3.973      0.000       0.946       2.787\n",
      "x24            0.3344      0.144      2.323      0.020       0.052       0.617\n",
      "x25           -2.2364      0.357     -6.258      0.000      -2.937      -1.536\n",
      "x26           -1.4215      0.540     -2.632      0.008      -2.480      -0.363\n",
      "x27          -13.2825      2.882     -4.608      0.000     -18.932      -7.633\n",
      "x28            0.3945      0.241      1.640      0.101      -0.077       0.866\n",
      "x29           -3.3365      1.832     -1.821      0.069      -6.927       0.254\n",
      "x30           -0.9548      0.500     -1.911      0.056      -1.934       0.024\n",
      "x31           -0.2817      0.459     -0.614      0.539      -1.181       0.618\n",
      "x32            1.7313      3.673      0.471      0.637      -5.469       8.931\n",
      "x33           -0.8597      0.290     -2.967      0.003      -1.428      -0.292\n",
      "x34           -6.4849     12.423     -0.522      0.602     -30.833      17.864\n",
      "x35           -1.9436      0.926     -2.100      0.036      -3.758      -0.129\n",
      "x36            0.4895      0.328      1.494      0.135      -0.153       1.132\n",
      "x37           -0.0095      0.183     -0.052      0.959      -0.369       0.350\n",
      "x38           -0.7230      0.463     -1.563      0.118      -1.630       0.184\n",
      "x39           -0.9618      0.422     -2.280      0.023      -1.789      -0.135\n",
      "x40           -0.5833      0.381     -1.529      0.126      -1.331       0.164\n",
      "x41         -261.9695   3089.506     -0.085      0.932   -6317.291    5793.352\n",
      "x42           -3.1174      0.962     -3.240      0.001      -5.003      -1.232\n",
      "x43           -1.5140      0.916     -1.654      0.098      -3.308       0.280\n",
      "x44           -2.4138      0.804     -3.003      0.003      -3.989      -0.838\n",
      "x45           -0.9842      0.161     -6.111      0.000      -1.300      -0.669\n",
      "x46           -2.0184      0.326     -6.195      0.000      -2.657      -1.380\n",
      "x47           -2.7400      2.139     -1.281      0.200      -6.932       1.452\n",
      "x48           -3.6989      1.318     -2.807      0.005      -6.282      -1.116\n",
      "x49           -1.6261      0.561     -2.899      0.004      -2.726      -0.527\n",
      "x50           -1.5195      0.389     -3.906      0.000      -2.282      -0.757\n",
      "x51           -1.4533      1.037     -1.401      0.161      -3.487       0.580\n",
      "x52            0.2233      0.057      3.891      0.000       0.111       0.336\n",
      "x53            5.4467      0.799      6.813      0.000       3.880       7.013\n",
      "x54            2.1014      1.413      1.487      0.137      -0.668       4.871\n",
      "x55           -0.0167      0.018     -0.926      0.354      -0.052       0.019\n",
      "x56            0.0123      0.003      4.337      0.000       0.007       0.018\n",
      "x57            0.0003      0.000      1.292      0.197      -0.000       0.001\n",
      "==============================================================================\n",
      "\n",
      "Possibly complete quasi-separation: A fraction 0.29 of observations can be\n",
      "perfectly predicted. This might indicate that there is complete\n",
      "quasi-separation. In this case some parameters will not be identified.\n",
      "Confusion Matrix\n",
      "[[512  49]\n",
      " [ 28 332]]\n",
      "Confusion Matrix result - TP: 512, TN:332, FP:49, FN: 28\n"
     ]
    },
    {
     "name": "stderr",
     "output_type": "stream",
     "text": [
      "D:\\x-20a\\anaconda3\\lib\\site-packages\\statsmodels\\base\\model.py:566: ConvergenceWarning: Maximum Likelihood optimization failed to converge. Check mle_retvals\n",
      "  warnings.warn(\"Maximum Likelihood optimization failed to \"\n"
     ]
    },
    {
     "data": {
      "image/png": "[encoded data removed]",
      "text/plain": [
       "<Figure size 432x360 with 2 Axes>"
      ]
     },
     "metadata": {},
     "output_type": "display_data"
    }
   ],
   "source": [
    "spambase_full = loader.get_full_dataset()\n",
    "\n",
    "df_sm_result4 = model_helper.run_statsmodels_logit(spambase_full, is_feature_selection=False,\n",
    "                        verbose=True)"
   ]
  },
  {
   "cell_type": "code",
   "execution_count": 33,
   "id": "c84bf704-499b-4bce-beea-36270f8d6878",
   "metadata": {},
   "outputs": [
    {
     "data": {
      "text/html": [
       "<div>\n",
       "<style scoped>\n",
       "    .dataframe tbody tr th:only-of-type {\n",
       "        vertical-align: middle;\n",
       "    }\n",
       "\n",
       "    .dataframe tbody tr th {\n",
       "        vertical-align: top;\n",
       "    }\n",
       "\n",
       "    .dataframe thead th {\n",
       "        text-align: right;\n",
       "    }\n",
       "</style>\n",
       "<table border=\"1\" class=\"dataframe\">\n",
       "  <thead>\n",
       "    <tr style=\"text-align: right;\">\n",
       "      <th></th>\n",
       "      <th>Accuracy</th>\n",
       "      <th>Precision</th>\n",
       "      <th>Recall</th>\n",
       "      <th>F1-Score</th>\n",
       "    </tr>\n",
       "  </thead>\n",
       "  <tbody>\n",
       "    <tr>\n",
       "      <th>Score</th>\n",
       "      <td>0.916395</td>\n",
       "      <td>0.912656</td>\n",
       "      <td>0.948148</td>\n",
       "      <td>0.930064</td>\n",
       "    </tr>\n",
       "  </tbody>\n",
       "</table>\n",
       "</div>"
      ],
      "text/plain": [
       "       Accuracy  Precision    Recall  F1-Score\n",
       "Score  0.916395   0.912656  0.948148  0.930064"
      ]
     },
     "execution_count": 33,
     "metadata": {},
     "output_type": "execute_result"
    }
   ],
   "source": [
    "df_sm_result4"
   ]
  },
  {
   "cell_type": "markdown",
   "id": "be18d3d8-be50-4e45-8ac7-88604323e437",
   "metadata": {},
   "source": [
    "### Sklearn"
   ]
  },
  {
   "cell_type": "code",
   "execution_count": 34,
   "id": "78ef27f0-140b-4f68-b639-eaa99c0477ec",
   "metadata": {},
   "outputs": [
    {
     "name": "stdout",
     "output_type": "stream",
     "text": [
      "get_full_dataset\n",
      "              precision    recall  f1-score   support\n",
      "\n",
      "           0       0.94      0.95      0.94       561\n",
      "           1       0.92      0.90      0.91       360\n",
      "\n",
      "    accuracy                           0.93       921\n",
      "   macro avg       0.93      0.92      0.93       921\n",
      "weighted avg       0.93      0.93      0.93       921\n",
      "\n"
     ]
    }
   ],
   "source": [
    "from sklearn.linear_model import LogisticRegression\n",
    "from sklearn.metrics import accuracy_score, classification_report, f1_score, precision_score, recall_score\n",
    "\n",
    "spambase_full = loader.get_full_dataset()\n",
    "\n",
    "X = spambase_full.iloc[:,1:].values\n",
    "y = spambase_full.iloc[:,0].values\n",
    "\n",
    "X_train, X_test, y_train, y_test = train_test_split(X, y, test_size = 0.2, random_state=101)\n",
    "\n",
    "# instantiate the model\n",
    "sklearn_lr = LogisticRegression(max_iter=10000)\n",
    "\n",
    "# fit the model using the training data\n",
    "sklearn_lr.fit(X_train, y_train)\n",
    "\n",
    "# use model to make predictions on test data\n",
    "y_pred_sklearn = sklearn_lr.predict(X_test)\n",
    "\n",
    "# calculate the accuracy, precision, recall and f1-score\n",
    "acc = accuracy_score(y_test, y_pred_sklearn)\n",
    "precision = precision_score(y_test, y_pred_sklearn)\n",
    "recall = recall_score(y_test, y_pred_sklearn)\n",
    "f1 = f1_score(y_test, y_pred_sklearn)\n",
    "\n",
    "# print classification report for model\n",
    "print(classification_report(y_test, y_pred_sklearn))"
   ]
  },
  {
   "cell_type": "code",
   "execution_count": 35,
   "id": "505a9f64-dc52-4acc-a2b9-2902ab382400",
   "metadata": {},
   "outputs": [
    {
     "data": {
      "text/html": [
       "<div>\n",
       "<style scoped>\n",
       "    .dataframe tbody tr th:only-of-type {\n",
       "        vertical-align: middle;\n",
       "    }\n",
       "\n",
       "    .dataframe tbody tr th {\n",
       "        vertical-align: top;\n",
       "    }\n",
       "\n",
       "    .dataframe thead th {\n",
       "        text-align: right;\n",
       "    }\n",
       "</style>\n",
       "<table border=\"1\" class=\"dataframe\">\n",
       "  <thead>\n",
       "    <tr style=\"text-align: right;\">\n",
       "      <th></th>\n",
       "      <th>Accuracy</th>\n",
       "      <th>Precision</th>\n",
       "      <th>Recall</th>\n",
       "      <th>F1-Score</th>\n",
       "    </tr>\n",
       "  </thead>\n",
       "  <tbody>\n",
       "    <tr>\n",
       "      <th>SkLearn full dataset without feature selection</th>\n",
       "      <td>0.93051</td>\n",
       "      <td>0.922857</td>\n",
       "      <td>0.897222</td>\n",
       "      <td>0.909859</td>\n",
       "    </tr>\n",
       "  </tbody>\n",
       "</table>\n",
       "</div>"
      ],
      "text/plain": [
       "                                                Accuracy  Precision    Recall  \\\n",
       "SkLearn full dataset without feature selection   0.93051   0.922857  0.897222   \n",
       "\n",
       "                                                F1-Score  \n",
       "SkLearn full dataset without feature selection  0.909859  "
      ]
     },
     "execution_count": 35,
     "metadata": {},
     "output_type": "execute_result"
    }
   ],
   "source": [
    "sklearn_scores_df = pd.DataFrame([[acc, precision, recall, f1]],\n",
    "        ['SkLearn full dataset without feature selection'], ['Accuracy', 'Precision', 'Recall', 'F1-Score'])\n",
    "sklearn_scores_df"
   ]
  },
  {
   "cell_type": "markdown",
   "id": "c58a07d5-03f9-4173-9c6f-126fbfdf13bf",
   "metadata": {},
   "source": [
    "#### Balance dataset with feature selection"
   ]
  },
  {
   "cell_type": "code",
   "execution_count": 36,
   "id": "db6721c9-07b2-4fcd-88de-4d1b97bf97ee",
   "metadata": {},
   "outputs": [
    {
     "name": "stdout",
     "output_type": "stream",
     "text": [
      "get_balance_data\n",
      "init Loader notebook\n",
      "The shape before feature selection: (3626, 58)\n",
      "The shape after feature selection: (3626, 37)\n"
     ]
    },
    {
     "data": {
      "text/html": [
       "<div>\n",
       "<style scoped>\n",
       "    .dataframe tbody tr th:only-of-type {\n",
       "        vertical-align: middle;\n",
       "    }\n",
       "\n",
       "    .dataframe tbody tr th {\n",
       "        vertical-align: top;\n",
       "    }\n",
       "\n",
       "    .dataframe thead th {\n",
       "        text-align: right;\n",
       "    }\n",
       "</style>\n",
       "<table border=\"1\" class=\"dataframe\">\n",
       "  <thead>\n",
       "    <tr style=\"text-align: right;\">\n",
       "      <th></th>\n",
       "      <th>Accuracy</th>\n",
       "      <th>Precision</th>\n",
       "      <th>Recall</th>\n",
       "      <th>F1-Score</th>\n",
       "    </tr>\n",
       "  </thead>\n",
       "  <tbody>\n",
       "    <tr>\n",
       "      <th>Score</th>\n",
       "      <td>0.917355</td>\n",
       "      <td>0.938416</td>\n",
       "      <td>0.891365</td>\n",
       "      <td>0.914286</td>\n",
       "    </tr>\n",
       "  </tbody>\n",
       "</table>\n",
       "</div>"
      ],
      "text/plain": [
       "       Accuracy  Precision    Recall  F1-Score\n",
       "Score  0.917355   0.938416  0.891365  0.914286"
      ]
     },
     "execution_count": 36,
     "metadata": {},
     "output_type": "execute_result"
    }
   ],
   "source": [
    "spambase_balance = loader.get_balance_dataset()\n",
    "\n",
    "df_sk_result1 = model_helper.run_sklearn_log_reg(spambase_balance, is_feature_selection=True)\n",
    "df_sk_result1"
   ]
  },
  {
   "cell_type": "markdown",
   "id": "4f3a6e14-6404-466f-9493-b146c002de72",
   "metadata": {},
   "source": [
    "#### Balance dataset but without feature selection"
   ]
  },
  {
   "cell_type": "code",
   "execution_count": 37,
   "id": "d910c7c6-f5a9-4568-b9c2-c8b157580665",
   "metadata": {},
   "outputs": [
    {
     "name": "stdout",
     "output_type": "stream",
     "text": [
      "get_balance_data\n"
     ]
    },
    {
     "data": {
      "text/html": [
       "<div>\n",
       "<style scoped>\n",
       "    .dataframe tbody tr th:only-of-type {\n",
       "        vertical-align: middle;\n",
       "    }\n",
       "\n",
       "    .dataframe tbody tr th {\n",
       "        vertical-align: top;\n",
       "    }\n",
       "\n",
       "    .dataframe thead th {\n",
       "        text-align: right;\n",
       "    }\n",
       "</style>\n",
       "<table border=\"1\" class=\"dataframe\">\n",
       "  <thead>\n",
       "    <tr style=\"text-align: right;\">\n",
       "      <th></th>\n",
       "      <th>Accuracy</th>\n",
       "      <th>Precision</th>\n",
       "      <th>Recall</th>\n",
       "      <th>F1-Score</th>\n",
       "    </tr>\n",
       "  </thead>\n",
       "  <tbody>\n",
       "    <tr>\n",
       "      <th>Score</th>\n",
       "      <td>0.935262</td>\n",
       "      <td>0.948276</td>\n",
       "      <td>0.91922</td>\n",
       "      <td>0.933522</td>\n",
       "    </tr>\n",
       "  </tbody>\n",
       "</table>\n",
       "</div>"
      ],
      "text/plain": [
       "       Accuracy  Precision   Recall  F1-Score\n",
       "Score  0.935262   0.948276  0.91922  0.933522"
      ]
     },
     "execution_count": 37,
     "metadata": {},
     "output_type": "execute_result"
    }
   ],
   "source": [
    "spambase_balance = loader.get_balance_dataset()\n",
    "\n",
    "df_sk_result2 = model_helper.run_sklearn_log_reg(spambase_balance, is_feature_selection=False)\n",
    "df_sk_result2"
   ]
  },
  {
   "cell_type": "markdown",
   "id": "ed85cedd-6b61-4e05-8c7a-a4e0a818c2d1",
   "metadata": {},
   "source": [
    "#### Full dataset and without feature selection"
   ]
  },
  {
   "cell_type": "code",
   "execution_count": 38,
   "id": "e09aa1fa-a972-4272-abaa-29716d3c5065",
   "metadata": {},
   "outputs": [
    {
     "name": "stdout",
     "output_type": "stream",
     "text": [
      "get_full_dataset\n",
      "init Loader notebook\n",
      "The shape before feature selection: (4601, 58)\n",
      "The shape after feature selection: (4601, 37)\n"
     ]
    },
    {
     "data": {
      "text/html": [
       "<div>\n",
       "<style scoped>\n",
       "    .dataframe tbody tr th:only-of-type {\n",
       "        vertical-align: middle;\n",
       "    }\n",
       "\n",
       "    .dataframe tbody tr th {\n",
       "        vertical-align: top;\n",
       "    }\n",
       "\n",
       "    .dataframe thead th {\n",
       "        text-align: right;\n",
       "    }\n",
       "</style>\n",
       "<table border=\"1\" class=\"dataframe\">\n",
       "  <thead>\n",
       "    <tr style=\"text-align: right;\">\n",
       "      <th></th>\n",
       "      <th>Accuracy</th>\n",
       "      <th>Precision</th>\n",
       "      <th>Recall</th>\n",
       "      <th>F1-Score</th>\n",
       "    </tr>\n",
       "  </thead>\n",
       "  <tbody>\n",
       "    <tr>\n",
       "      <th>Score</th>\n",
       "      <td>0.927253</td>\n",
       "      <td>0.917379</td>\n",
       "      <td>0.894444</td>\n",
       "      <td>0.905767</td>\n",
       "    </tr>\n",
       "  </tbody>\n",
       "</table>\n",
       "</div>"
      ],
      "text/plain": [
       "       Accuracy  Precision    Recall  F1-Score\n",
       "Score  0.927253   0.917379  0.894444  0.905767"
      ]
     },
     "execution_count": 38,
     "metadata": {},
     "output_type": "execute_result"
    }
   ],
   "source": [
    "spambase_full = loader.get_full_dataset()\n",
    "\n",
    "df_sk_result3 = model_helper.run_sklearn_log_reg(spambase_full, is_feature_selection=True)\n",
    "df_sk_result3"
   ]
  },
  {
   "cell_type": "markdown",
   "id": "77410177-13f1-4dbd-bfb2-814108563e55",
   "metadata": {},
   "source": [
    "#### Full dataset and without feature selection"
   ]
  },
  {
   "cell_type": "code",
   "execution_count": 39,
   "id": "b6248d45-34fc-47ba-bc13-eeced2a16abc",
   "metadata": {},
   "outputs": [
    {
     "name": "stdout",
     "output_type": "stream",
     "text": [
      "get_full_dataset\n"
     ]
    },
    {
     "data": {
      "text/html": [
       "<div>\n",
       "<style scoped>\n",
       "    .dataframe tbody tr th:only-of-type {\n",
       "        vertical-align: middle;\n",
       "    }\n",
       "\n",
       "    .dataframe tbody tr th {\n",
       "        vertical-align: top;\n",
       "    }\n",
       "\n",
       "    .dataframe thead th {\n",
       "        text-align: right;\n",
       "    }\n",
       "</style>\n",
       "<table border=\"1\" class=\"dataframe\">\n",
       "  <thead>\n",
       "    <tr style=\"text-align: right;\">\n",
       "      <th></th>\n",
       "      <th>Accuracy</th>\n",
       "      <th>Precision</th>\n",
       "      <th>Recall</th>\n",
       "      <th>F1-Score</th>\n",
       "    </tr>\n",
       "  </thead>\n",
       "  <tbody>\n",
       "    <tr>\n",
       "      <th>Score</th>\n",
       "      <td>0.93051</td>\n",
       "      <td>0.922857</td>\n",
       "      <td>0.897222</td>\n",
       "      <td>0.909859</td>\n",
       "    </tr>\n",
       "  </tbody>\n",
       "</table>\n",
       "</div>"
      ],
      "text/plain": [
       "       Accuracy  Precision    Recall  F1-Score\n",
       "Score   0.93051   0.922857  0.897222  0.909859"
      ]
     },
     "execution_count": 39,
     "metadata": {},
     "output_type": "execute_result"
    }
   ],
   "source": [
    "spambase_full = loader.get_full_dataset()\n",
    "\n",
    "df_sk_result4 = model_helper.run_sklearn_log_reg(spambase_full, is_feature_selection=False)\n",
    "df_sk_result4"
   ]
  },
  {
   "cell_type": "markdown",
   "id": "f8ae8dba-0f79-4492-8214-7c7153f74560",
   "metadata": {},
   "source": [
    "## Result"
   ]
  },
  {
   "cell_type": "code",
   "execution_count": 40,
   "id": "7de22d9c-0014-4837-b9f9-043b377a52d2",
   "metadata": {},
   "outputs": [],
   "source": [
    "df_bal_sm_merged = pd.concat([df_sm_result1, df_sm_result2])\n",
    "\n",
    "as_list = df_bal_sm_merged.index.tolist()\n",
    "\n",
    "as_list[0] = 'Balance dataset with feature selection'\n",
    "as_list[1] = 'Balance dataset without feature selection'\n",
    "df_bal_sm_merged.index = as_list"
   ]
  },
  {
   "cell_type": "code",
   "execution_count": 41,
   "id": "57a50ecd-41ee-496b-b02c-43cdac39b3aa",
   "metadata": {},
   "outputs": [],
   "source": [
    "df_full_sm_merged = pd.concat([df_sm_result3, df_sm_result4])\n",
    "\n",
    "as_list = df_full_sm_merged.index.tolist()\n",
    "\n",
    "as_list[0] = 'Full dataset with feature selection'\n",
    "as_list[1] = 'Full dataset without feature selection'\n",
    "df_full_sm_merged.index = as_list"
   ]
  },
  {
   "cell_type": "markdown",
   "id": "2c649276-2556-418e-8a0f-f7a21ae76717",
   "metadata": {},
   "source": [
    "### StatsModels"
   ]
  },
  {
   "cell_type": "code",
   "execution_count": 42,
   "id": "7f597888-37e1-46e6-91fd-6ada10b3331a",
   "metadata": {},
   "outputs": [
    {
     "data": {
      "text/html": [
       "<div>\n",
       "<style scoped>\n",
       "    .dataframe tbody tr th:only-of-type {\n",
       "        vertical-align: middle;\n",
       "    }\n",
       "\n",
       "    .dataframe tbody tr th {\n",
       "        vertical-align: top;\n",
       "    }\n",
       "\n",
       "    .dataframe thead th {\n",
       "        text-align: right;\n",
       "    }\n",
       "</style>\n",
       "<table border=\"1\" class=\"dataframe\">\n",
       "  <thead>\n",
       "    <tr style=\"text-align: right;\">\n",
       "      <th></th>\n",
       "      <th>Accuracy</th>\n",
       "      <th>Precision</th>\n",
       "      <th>Recall</th>\n",
       "      <th>F1-Score</th>\n",
       "    </tr>\n",
       "  </thead>\n",
       "  <tbody>\n",
       "    <tr>\n",
       "      <th>Balance dataset with feature selection</th>\n",
       "      <td>0.907713</td>\n",
       "      <td>0.885559</td>\n",
       "      <td>0.928571</td>\n",
       "      <td>0.906555</td>\n",
       "    </tr>\n",
       "    <tr>\n",
       "      <th>Balance dataset without feature selection</th>\n",
       "      <td>0.924242</td>\n",
       "      <td>0.912807</td>\n",
       "      <td>0.935754</td>\n",
       "      <td>0.924138</td>\n",
       "    </tr>\n",
       "  </tbody>\n",
       "</table>\n",
       "</div>"
      ],
      "text/plain": [
       "                                           Accuracy  Precision    Recall  \\\n",
       "Balance dataset with feature selection     0.907713   0.885559  0.928571   \n",
       "Balance dataset without feature selection  0.924242   0.912807  0.935754   \n",
       "\n",
       "                                           F1-Score  \n",
       "Balance dataset with feature selection     0.906555  \n",
       "Balance dataset without feature selection  0.924138  "
      ]
     },
     "execution_count": 42,
     "metadata": {},
     "output_type": "execute_result"
    }
   ],
   "source": [
    "df_bal_sm_merged"
   ]
  },
  {
   "cell_type": "code",
   "execution_count": 43,
   "id": "ec6788de-012e-4ba8-a871-0ccee80c0a75",
   "metadata": {},
   "outputs": [
    {
     "data": {
      "text/html": [
       "<div>\n",
       "<style scoped>\n",
       "    .dataframe tbody tr th:only-of-type {\n",
       "        vertical-align: middle;\n",
       "    }\n",
       "\n",
       "    .dataframe tbody tr th {\n",
       "        vertical-align: top;\n",
       "    }\n",
       "\n",
       "    .dataframe thead th {\n",
       "        text-align: right;\n",
       "    }\n",
       "</style>\n",
       "<table border=\"1\" class=\"dataframe\">\n",
       "  <thead>\n",
       "    <tr style=\"text-align: right;\">\n",
       "      <th></th>\n",
       "      <th>Accuracy</th>\n",
       "      <th>Precision</th>\n",
       "      <th>Recall</th>\n",
       "      <th>F1-Score</th>\n",
       "    </tr>\n",
       "  </thead>\n",
       "  <tbody>\n",
       "    <tr>\n",
       "      <th>Full dataset with feature selection</th>\n",
       "      <td>0.880565</td>\n",
       "      <td>0.848485</td>\n",
       "      <td>0.950100</td>\n",
       "      <td>0.896422</td>\n",
       "    </tr>\n",
       "    <tr>\n",
       "      <th>Full dataset without feature selection</th>\n",
       "      <td>0.916395</td>\n",
       "      <td>0.912656</td>\n",
       "      <td>0.948148</td>\n",
       "      <td>0.930064</td>\n",
       "    </tr>\n",
       "  </tbody>\n",
       "</table>\n",
       "</div>"
      ],
      "text/plain": [
       "                                        Accuracy  Precision    Recall  \\\n",
       "Full dataset with feature selection     0.880565   0.848485  0.950100   \n",
       "Full dataset without feature selection  0.916395   0.912656  0.948148   \n",
       "\n",
       "                                        F1-Score  \n",
       "Full dataset with feature selection     0.896422  \n",
       "Full dataset without feature selection  0.930064  "
      ]
     },
     "execution_count": 43,
     "metadata": {},
     "output_type": "execute_result"
    }
   ],
   "source": [
    "df_full_sm_merged"
   ]
  },
  {
   "cell_type": "code",
   "execution_count": 44,
   "id": "68185c02-8c10-49ad-9530-f7bb4b2e3a4e",
   "metadata": {},
   "outputs": [],
   "source": [
    "df_sk_merged = pd.concat([df_sk_result1, df_sk_result2, df_sk_result3, df_sk_result4])\n",
    "\n",
    "as_list = df_sk_merged.index.tolist()\n",
    "\n",
    "as_list[0] = 'Balance dataset with feature selection'\n",
    "as_list[1] = 'Balance dataset without feature selection'\n",
    "as_list[2] = 'Full dataset with feature selection'\n",
    "as_list[3] = 'Full dataset without feature selection'\n",
    "df_sk_merged.index = as_list"
   ]
  },
  {
   "cell_type": "markdown",
   "id": "eaee912a-56a9-4010-acc2-aed290c8b58d",
   "metadata": {},
   "source": [
    "### Sklearn"
   ]
  },
  {
   "cell_type": "code",
   "execution_count": 45,
   "id": "e5f4be0d-7826-4be4-813f-76129d442ef9",
   "metadata": {},
   "outputs": [
    {
     "data": {
      "text/html": [
       "<div>\n",
       "<style scoped>\n",
       "    .dataframe tbody tr th:only-of-type {\n",
       "        vertical-align: middle;\n",
       "    }\n",
       "\n",
       "    .dataframe tbody tr th {\n",
       "        vertical-align: top;\n",
       "    }\n",
       "\n",
       "    .dataframe thead th {\n",
       "        text-align: right;\n",
       "    }\n",
       "</style>\n",
       "<table border=\"1\" class=\"dataframe\">\n",
       "  <thead>\n",
       "    <tr style=\"text-align: right;\">\n",
       "      <th></th>\n",
       "      <th>Accuracy</th>\n",
       "      <th>Precision</th>\n",
       "      <th>Recall</th>\n",
       "      <th>F1-Score</th>\n",
       "    </tr>\n",
       "  </thead>\n",
       "  <tbody>\n",
       "    <tr>\n",
       "      <th>Balance dataset with feature selection</th>\n",
       "      <td>0.917355</td>\n",
       "      <td>0.938416</td>\n",
       "      <td>0.891365</td>\n",
       "      <td>0.914286</td>\n",
       "    </tr>\n",
       "    <tr>\n",
       "      <th>Balance dataset without feature selection</th>\n",
       "      <td>0.935262</td>\n",
       "      <td>0.948276</td>\n",
       "      <td>0.919220</td>\n",
       "      <td>0.933522</td>\n",
       "    </tr>\n",
       "    <tr>\n",
       "      <th>Full dataset with feature selection</th>\n",
       "      <td>0.927253</td>\n",
       "      <td>0.917379</td>\n",
       "      <td>0.894444</td>\n",
       "      <td>0.905767</td>\n",
       "    </tr>\n",
       "    <tr>\n",
       "      <th>Full dataset without feature selection</th>\n",
       "      <td>0.930510</td>\n",
       "      <td>0.922857</td>\n",
       "      <td>0.897222</td>\n",
       "      <td>0.909859</td>\n",
       "    </tr>\n",
       "  </tbody>\n",
       "</table>\n",
       "</div>"
      ],
      "text/plain": [
       "                                           Accuracy  Precision    Recall  \\\n",
       "Balance dataset with feature selection     0.917355   0.938416  0.891365   \n",
       "Balance dataset without feature selection  0.935262   0.948276  0.919220   \n",
       "Full dataset with feature selection        0.927253   0.917379  0.894444   \n",
       "Full dataset without feature selection     0.930510   0.922857  0.897222   \n",
       "\n",
       "                                           F1-Score  \n",
       "Balance dataset with feature selection     0.914286  \n",
       "Balance dataset without feature selection  0.933522  \n",
       "Full dataset with feature selection        0.905767  \n",
       "Full dataset without feature selection     0.909859  "
      ]
     },
     "execution_count": 45,
     "metadata": {},
     "output_type": "execute_result"
    }
   ],
   "source": [
    "df_sk_merged"
   ]
  },
  {
   "cell_type": "markdown",
   "id": "b5706eeb-99f8-40ca-b41f-ddcdfd55c59d",
   "metadata": {},
   "source": [
    "## Conclusion"
   ]
  },
  {
   "cell_type": "code",
   "execution_count": null,
   "id": "afa10370-1018-4333-a68a-f2f850cd26cd",
   "metadata": {},
   "outputs": [],
   "source": []
  },
  {
   "cell_type": "code",
   "execution_count": null,
   "id": "9e3137bf-7a1b-44f7-9303-4dc5041ab920",
   "metadata": {},
   "outputs": [],
   "source": []
  }
 ],
 "metadata": {
  "kernelspec": {
   "display_name": "Python 3",
   "language": "python",
   "name": "python3"
  },
  "language_info": {
   "codemirror_mode": {
    "name": "ipython",
    "version": 3
   },
   "file_extension": ".py",
   "mimetype": "text/x-python",
   "name": "python",
   "nbconvert_exporter": "python",
   "pygments_lexer": "ipython3",
   "version": "3.8.8"
  }
 },
 "nbformat": 4,
 "nbformat_minor": 5
}
