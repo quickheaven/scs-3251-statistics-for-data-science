{
 "cells": [
  {
   "cell_type": "markdown",
   "id": "dd86f395-7a74-4184-b4ff-dc5350bb1f0a",
   "metadata": {},
   "source": [
    "# Spam Email Classification"
   ]
  },
  {
   "cell_type": "code",
   "execution_count": null,
   "id": "66433742-5b72-4787-9b4d-a337ab9c9842",
   "metadata": {},
   "outputs": [],
   "source": []
  },
  {
   "cell_type": "code",
   "execution_count": 1,
   "id": "290c8bb2-7740-4a0d-9085-0e4e211fb5ef",
   "metadata": {},
   "outputs": [
    {
     "name": "stdout",
     "output_type": "stream",
     "text": [
      "Requirement already satisfied: ipynb in d:\\x-20a\\anaconda3\\lib\\site-packages (0.5.1)\n",
      "Requirement already satisfied: nbimporter in d:\\x-20a\\anaconda3\\lib\\site-packages (0.3.4)\n"
     ]
    }
   ],
   "source": [
    "# Importing an ipynb file from another ipynb file\n",
    "!pip install ipynb\n",
    "\n",
    "# Importing functions from another jupyter notebook\n",
    "!pip install nbimporter"
   ]
  },
  {
   "cell_type": "code",
   "execution_count": 2,
   "id": "d49edc60-917d-4ab7-be7c-71181b92ca6b",
   "metadata": {},
   "outputs": [],
   "source": [
    "import numpy as np\n",
    "import pandas as pd\n",
    "import matplotlib.pyplot as plt\n",
    "%matplotlib inline\n",
    "\n",
    "import seaborn as sns\n",
    "\n",
    "import warnings\n",
    "warnings.filterwarnings('ignore')\n",
    "\n",
    "import nbimporter\n",
    "import spambase_dataset_loader_nb\n",
    "import spambase_model_helper_nb"
   ]
  },
  {
   "cell_type": "markdown",
   "id": "f054fc12-09b5-40f9-a40f-32c60724b5a4",
   "metadata": {},
   "source": [
    "## Data Preparation:"
   ]
  },
  {
   "cell_type": "markdown",
   "id": "65e65633-ed95-4cf1-87aa-101403691576",
   "metadata": {},
   "source": [
    "### Load the datasets:"
   ]
  },
  {
   "cell_type": "code",
   "execution_count": 3,
   "id": "03635cd0-e3ef-4deb-87f0-4de7ec23db33",
   "metadata": {},
   "outputs": [
    {
     "name": "stdout",
     "output_type": "stream",
     "text": [
      "init Loader notebook\n"
     ]
    }
   ],
   "source": [
    "loader = spambase_dataset_loader_nb.SpambaseDatasetLoader()"
   ]
  },
  {
   "cell_type": "code",
   "execution_count": 4,
   "id": "a1ac5d7d-572c-41f8-ae5c-489def335664",
   "metadata": {},
   "outputs": [
    {
     "name": "stdout",
     "output_type": "stream",
     "text": [
      "Help on method load_dataset in module spambase_dataset_loader_nb:\n",
      "\n",
      "load_dataset(url='https://archive.ics.uci.edu/ml/machine-learning-databases/spambase/spambase.data') method of spambase_dataset_loader_nb.SpambaseDatasetLoader instance\n",
      "    (string) --> None\n",
      "    \n",
      "    This function retrieves the spambase.data from University of California Irvine (UCI) - Dataset Repository\n",
      "    and save into two files:\n",
      "    \n",
      "    1. spambase_all.csv - The CSV file that contain all the rows from spambase.data.\n",
      "    2. spambase_balance.csv - The CSV file that rows balance between spam and not spam records.\n",
      "\n"
     ]
    }
   ],
   "source": [
    "help(loader.load_dataset)"
   ]
  },
  {
   "cell_type": "code",
   "execution_count": 5,
   "id": "e74fa363-c80b-48a9-a61c-e217a3127195",
   "metadata": {},
   "outputs": [
    {
     "name": "stdout",
     "output_type": "stream",
     "text": [
      "Loading dataset.\n",
      "Loading spambase_all.csv completed.\n",
      "Loading spambase_balance.csv completed.\n"
     ]
    }
   ],
   "source": [
    "loader.load_dataset()"
   ]
  },
  {
   "cell_type": "code",
   "execution_count": 6,
   "id": "e366c64c-afd0-4d59-a1c6-68f2ebcdca1f",
   "metadata": {},
   "outputs": [
    {
     "name": "stdout",
     "output_type": "stream",
     "text": [
      "get_full_dataset\n"
     ]
    }
   ],
   "source": [
    "spambase_all = loader.get_full_dataset()"
   ]
  },
  {
   "cell_type": "markdown",
   "id": "9d69e135-6fa9-4f75-ac93-fb6d9e940bb6",
   "metadata": {},
   "source": [
    "### Data Exploration\n",
    "\n",
    "#### Explore the data using info() and describe() and head()"
   ]
  },
  {
   "cell_type": "code",
   "execution_count": 7,
   "id": "732bab3e-f50b-4c7e-aab8-445bc728640c",
   "metadata": {},
   "outputs": [
    {
     "name": "stdout",
     "output_type": "stream",
     "text": [
      "<class 'pandas.core.frame.DataFrame'>\n",
      "RangeIndex: 4601 entries, 0 to 4600\n",
      "Data columns (total 58 columns):\n",
      " #   Column                      Non-Null Count  Dtype  \n",
      "---  ------                      --------------  -----  \n",
      " 0   target_spam_nonspam         4601 non-null   int64  \n",
      " 1   word_freq_make              4601 non-null   float64\n",
      " 2   word_freq_address           4601 non-null   float64\n",
      " 3   word_freq_all               4601 non-null   float64\n",
      " 4   word_freq_3d                4601 non-null   float64\n",
      " 5   word_freq_our               4601 non-null   float64\n",
      " 6   word_freq_over              4601 non-null   float64\n",
      " 7   word_freq_remove            4601 non-null   float64\n",
      " 8   word_freq_internet          4601 non-null   float64\n",
      " 9   word_freq_order             4601 non-null   float64\n",
      " 10  word_freq_mail              4601 non-null   float64\n",
      " 11  word_freq_receive           4601 non-null   float64\n",
      " 12  word_freq_will              4601 non-null   float64\n",
      " 13  word_freq_people            4601 non-null   float64\n",
      " 14  word_freq_report            4601 non-null   float64\n",
      " 15  word_freq_addresses         4601 non-null   float64\n",
      " 16  word_freq_free              4601 non-null   float64\n",
      " 17  word_freq_business          4601 non-null   float64\n",
      " 18  word_freq_email             4601 non-null   float64\n",
      " 19  word_freq_you               4601 non-null   float64\n",
      " 20  word_freq_credit            4601 non-null   float64\n",
      " 21  word_freq_your              4601 non-null   float64\n",
      " 22  word_freq_font              4601 non-null   float64\n",
      " 23  word_freq_000               4601 non-null   float64\n",
      " 24  word_freq_money             4601 non-null   float64\n",
      " 25  word_freq_hp                4601 non-null   float64\n",
      " 26  word_freq_hpl               4601 non-null   float64\n",
      " 27  word_freq_george            4601 non-null   float64\n",
      " 28  word_freq_650               4601 non-null   float64\n",
      " 29  word_freq_lab               4601 non-null   float64\n",
      " 30  word_freq_labs              4601 non-null   float64\n",
      " 31  word_freq_telnet            4601 non-null   float64\n",
      " 32  word_freq_857               4601 non-null   float64\n",
      " 33  word_freq_data              4601 non-null   float64\n",
      " 34  word_freq_415               4601 non-null   float64\n",
      " 35  word_freq_85                4601 non-null   float64\n",
      " 36  word_freq_technology        4601 non-null   float64\n",
      " 37  word_freq_1999              4601 non-null   float64\n",
      " 38  word_freq_parts             4601 non-null   float64\n",
      " 39  word_freq_pm                4601 non-null   float64\n",
      " 40  word_freq_direct            4601 non-null   float64\n",
      " 41  word_freq_cs                4601 non-null   float64\n",
      " 42  word_freq_meeting           4601 non-null   float64\n",
      " 43  word_freq_original          4601 non-null   float64\n",
      " 44  word_freq_project           4601 non-null   float64\n",
      " 45  word_freq_re                4601 non-null   float64\n",
      " 46  word_freq_edu               4601 non-null   float64\n",
      " 47  word_freq_table             4601 non-null   float64\n",
      " 48  word_freq_conference        4601 non-null   float64\n",
      " 49  char_freq_;                 4601 non-null   float64\n",
      " 50  char_freq_(                 4601 non-null   float64\n",
      " 51  char_freq_[                 4601 non-null   float64\n",
      " 52  char_freq_!                 4601 non-null   float64\n",
      " 53  char_freq_$                 4601 non-null   float64\n",
      " 54  char_freq_#                 4601 non-null   float64\n",
      " 55  capital_run_length_average  4601 non-null   float64\n",
      " 56  capital_run_length_longest  4601 non-null   int64  \n",
      " 57  capital_run_length_total    4601 non-null   int64  \n",
      "dtypes: float64(55), int64(3)\n",
      "memory usage: 2.0 MB\n"
     ]
    }
   ],
   "source": [
    "spambase_all.info()"
   ]
  },
  {
   "cell_type": "code",
   "execution_count": 8,
   "id": "6e5557b9-3646-46d0-bc69-e4a9217b8933",
   "metadata": {},
   "outputs": [
    {
     "data": {
      "text/html": [
       "<div>\n",
       "<style scoped>\n",
       "    .dataframe tbody tr th:only-of-type {\n",
       "        vertical-align: middle;\n",
       "    }\n",
       "\n",
       "    .dataframe tbody tr th {\n",
       "        vertical-align: top;\n",
       "    }\n",
       "\n",
       "    .dataframe thead th {\n",
       "        text-align: right;\n",
       "    }\n",
       "</style>\n",
       "<table border=\"1\" class=\"dataframe\">\n",
       "  <thead>\n",
       "    <tr style=\"text-align: right;\">\n",
       "      <th></th>\n",
       "      <th>target_spam_nonspam</th>\n",
       "      <th>word_freq_make</th>\n",
       "      <th>word_freq_address</th>\n",
       "      <th>word_freq_all</th>\n",
       "      <th>word_freq_3d</th>\n",
       "      <th>word_freq_our</th>\n",
       "      <th>word_freq_over</th>\n",
       "      <th>word_freq_remove</th>\n",
       "      <th>word_freq_internet</th>\n",
       "      <th>word_freq_order</th>\n",
       "      <th>...</th>\n",
       "      <th>word_freq_conference</th>\n",
       "      <th>char_freq_;</th>\n",
       "      <th>char_freq_(</th>\n",
       "      <th>char_freq_[</th>\n",
       "      <th>char_freq_!</th>\n",
       "      <th>char_freq_$</th>\n",
       "      <th>char_freq_#</th>\n",
       "      <th>capital_run_length_average</th>\n",
       "      <th>capital_run_length_longest</th>\n",
       "      <th>capital_run_length_total</th>\n",
       "    </tr>\n",
       "  </thead>\n",
       "  <tbody>\n",
       "    <tr>\n",
       "      <th>count</th>\n",
       "      <td>4601.000000</td>\n",
       "      <td>4601.000000</td>\n",
       "      <td>4601.000000</td>\n",
       "      <td>4601.000000</td>\n",
       "      <td>4601.000000</td>\n",
       "      <td>4601.000000</td>\n",
       "      <td>4601.000000</td>\n",
       "      <td>4601.000000</td>\n",
       "      <td>4601.000000</td>\n",
       "      <td>4601.000000</td>\n",
       "      <td>...</td>\n",
       "      <td>4601.000000</td>\n",
       "      <td>4601.000000</td>\n",
       "      <td>4601.000000</td>\n",
       "      <td>4601.000000</td>\n",
       "      <td>4601.000000</td>\n",
       "      <td>4601.000000</td>\n",
       "      <td>4601.000000</td>\n",
       "      <td>4601.000000</td>\n",
       "      <td>4601.000000</td>\n",
       "      <td>4601.000000</td>\n",
       "    </tr>\n",
       "    <tr>\n",
       "      <th>mean</th>\n",
       "      <td>0.394045</td>\n",
       "      <td>0.104553</td>\n",
       "      <td>0.213015</td>\n",
       "      <td>0.280656</td>\n",
       "      <td>0.065425</td>\n",
       "      <td>0.312223</td>\n",
       "      <td>0.095901</td>\n",
       "      <td>0.114208</td>\n",
       "      <td>0.105295</td>\n",
       "      <td>0.090067</td>\n",
       "      <td>...</td>\n",
       "      <td>0.031869</td>\n",
       "      <td>0.038575</td>\n",
       "      <td>0.139030</td>\n",
       "      <td>0.016976</td>\n",
       "      <td>0.269071</td>\n",
       "      <td>0.075811</td>\n",
       "      <td>0.044238</td>\n",
       "      <td>5.191515</td>\n",
       "      <td>52.172789</td>\n",
       "      <td>283.289285</td>\n",
       "    </tr>\n",
       "    <tr>\n",
       "      <th>std</th>\n",
       "      <td>0.488698</td>\n",
       "      <td>0.305358</td>\n",
       "      <td>1.290575</td>\n",
       "      <td>0.504143</td>\n",
       "      <td>1.395151</td>\n",
       "      <td>0.672513</td>\n",
       "      <td>0.273824</td>\n",
       "      <td>0.391441</td>\n",
       "      <td>0.401071</td>\n",
       "      <td>0.278616</td>\n",
       "      <td>...</td>\n",
       "      <td>0.285735</td>\n",
       "      <td>0.243471</td>\n",
       "      <td>0.270355</td>\n",
       "      <td>0.109394</td>\n",
       "      <td>0.815672</td>\n",
       "      <td>0.245882</td>\n",
       "      <td>0.429342</td>\n",
       "      <td>31.729449</td>\n",
       "      <td>194.891310</td>\n",
       "      <td>606.347851</td>\n",
       "    </tr>\n",
       "    <tr>\n",
       "      <th>min</th>\n",
       "      <td>0.000000</td>\n",
       "      <td>0.000000</td>\n",
       "      <td>0.000000</td>\n",
       "      <td>0.000000</td>\n",
       "      <td>0.000000</td>\n",
       "      <td>0.000000</td>\n",
       "      <td>0.000000</td>\n",
       "      <td>0.000000</td>\n",
       "      <td>0.000000</td>\n",
       "      <td>0.000000</td>\n",
       "      <td>...</td>\n",
       "      <td>0.000000</td>\n",
       "      <td>0.000000</td>\n",
       "      <td>0.000000</td>\n",
       "      <td>0.000000</td>\n",
       "      <td>0.000000</td>\n",
       "      <td>0.000000</td>\n",
       "      <td>0.000000</td>\n",
       "      <td>1.000000</td>\n",
       "      <td>1.000000</td>\n",
       "      <td>1.000000</td>\n",
       "    </tr>\n",
       "    <tr>\n",
       "      <th>25%</th>\n",
       "      <td>0.000000</td>\n",
       "      <td>0.000000</td>\n",
       "      <td>0.000000</td>\n",
       "      <td>0.000000</td>\n",
       "      <td>0.000000</td>\n",
       "      <td>0.000000</td>\n",
       "      <td>0.000000</td>\n",
       "      <td>0.000000</td>\n",
       "      <td>0.000000</td>\n",
       "      <td>0.000000</td>\n",
       "      <td>...</td>\n",
       "      <td>0.000000</td>\n",
       "      <td>0.000000</td>\n",
       "      <td>0.000000</td>\n",
       "      <td>0.000000</td>\n",
       "      <td>0.000000</td>\n",
       "      <td>0.000000</td>\n",
       "      <td>0.000000</td>\n",
       "      <td>1.588000</td>\n",
       "      <td>6.000000</td>\n",
       "      <td>35.000000</td>\n",
       "    </tr>\n",
       "    <tr>\n",
       "      <th>50%</th>\n",
       "      <td>0.000000</td>\n",
       "      <td>0.000000</td>\n",
       "      <td>0.000000</td>\n",
       "      <td>0.000000</td>\n",
       "      <td>0.000000</td>\n",
       "      <td>0.000000</td>\n",
       "      <td>0.000000</td>\n",
       "      <td>0.000000</td>\n",
       "      <td>0.000000</td>\n",
       "      <td>0.000000</td>\n",
       "      <td>...</td>\n",
       "      <td>0.000000</td>\n",
       "      <td>0.000000</td>\n",
       "      <td>0.065000</td>\n",
       "      <td>0.000000</td>\n",
       "      <td>0.000000</td>\n",
       "      <td>0.000000</td>\n",
       "      <td>0.000000</td>\n",
       "      <td>2.276000</td>\n",
       "      <td>15.000000</td>\n",
       "      <td>95.000000</td>\n",
       "    </tr>\n",
       "    <tr>\n",
       "      <th>75%</th>\n",
       "      <td>1.000000</td>\n",
       "      <td>0.000000</td>\n",
       "      <td>0.000000</td>\n",
       "      <td>0.420000</td>\n",
       "      <td>0.000000</td>\n",
       "      <td>0.380000</td>\n",
       "      <td>0.000000</td>\n",
       "      <td>0.000000</td>\n",
       "      <td>0.000000</td>\n",
       "      <td>0.000000</td>\n",
       "      <td>...</td>\n",
       "      <td>0.000000</td>\n",
       "      <td>0.000000</td>\n",
       "      <td>0.188000</td>\n",
       "      <td>0.000000</td>\n",
       "      <td>0.315000</td>\n",
       "      <td>0.052000</td>\n",
       "      <td>0.000000</td>\n",
       "      <td>3.706000</td>\n",
       "      <td>43.000000</td>\n",
       "      <td>266.000000</td>\n",
       "    </tr>\n",
       "    <tr>\n",
       "      <th>max</th>\n",
       "      <td>1.000000</td>\n",
       "      <td>4.540000</td>\n",
       "      <td>14.280000</td>\n",
       "      <td>5.100000</td>\n",
       "      <td>42.810000</td>\n",
       "      <td>10.000000</td>\n",
       "      <td>5.880000</td>\n",
       "      <td>7.270000</td>\n",
       "      <td>11.110000</td>\n",
       "      <td>5.260000</td>\n",
       "      <td>...</td>\n",
       "      <td>10.000000</td>\n",
       "      <td>4.385000</td>\n",
       "      <td>9.752000</td>\n",
       "      <td>4.081000</td>\n",
       "      <td>32.478000</td>\n",
       "      <td>6.003000</td>\n",
       "      <td>19.829000</td>\n",
       "      <td>1102.500000</td>\n",
       "      <td>9989.000000</td>\n",
       "      <td>15841.000000</td>\n",
       "    </tr>\n",
       "  </tbody>\n",
       "</table>\n",
       "<p>8 rows × 58 columns</p>\n",
       "</div>"
      ],
      "text/plain": [
       "       target_spam_nonspam  word_freq_make  word_freq_address  word_freq_all  \\\n",
       "count          4601.000000     4601.000000        4601.000000    4601.000000   \n",
       "mean              0.394045        0.104553           0.213015       0.280656   \n",
       "std               0.488698        0.305358           1.290575       0.504143   \n",
       "min               0.000000        0.000000           0.000000       0.000000   \n",
       "25%               0.000000        0.000000           0.000000       0.000000   \n",
       "50%               0.000000        0.000000           0.000000       0.000000   \n",
       "75%               1.000000        0.000000           0.000000       0.420000   \n",
       "max               1.000000        4.540000          14.280000       5.100000   \n",
       "\n",
       "       word_freq_3d  word_freq_our  word_freq_over  word_freq_remove  \\\n",
       "count   4601.000000    4601.000000     4601.000000       4601.000000   \n",
       "mean       0.065425       0.312223        0.095901          0.114208   \n",
       "std        1.395151       0.672513        0.273824          0.391441   \n",
       "min        0.000000       0.000000        0.000000          0.000000   \n",
       "25%        0.000000       0.000000        0.000000          0.000000   \n",
       "50%        0.000000       0.000000        0.000000          0.000000   \n",
       "75%        0.000000       0.380000        0.000000          0.000000   \n",
       "max       42.810000      10.000000        5.880000          7.270000   \n",
       "\n",
       "       word_freq_internet  word_freq_order  ...  word_freq_conference  \\\n",
       "count         4601.000000      4601.000000  ...           4601.000000   \n",
       "mean             0.105295         0.090067  ...              0.031869   \n",
       "std              0.401071         0.278616  ...              0.285735   \n",
       "min              0.000000         0.000000  ...              0.000000   \n",
       "25%              0.000000         0.000000  ...              0.000000   \n",
       "50%              0.000000         0.000000  ...              0.000000   \n",
       "75%              0.000000         0.000000  ...              0.000000   \n",
       "max             11.110000         5.260000  ...             10.000000   \n",
       "\n",
       "       char_freq_;  char_freq_(  char_freq_[  char_freq_!  char_freq_$  \\\n",
       "count  4601.000000  4601.000000  4601.000000  4601.000000  4601.000000   \n",
       "mean      0.038575     0.139030     0.016976     0.269071     0.075811   \n",
       "std       0.243471     0.270355     0.109394     0.815672     0.245882   \n",
       "min       0.000000     0.000000     0.000000     0.000000     0.000000   \n",
       "25%       0.000000     0.000000     0.000000     0.000000     0.000000   \n",
       "50%       0.000000     0.065000     0.000000     0.000000     0.000000   \n",
       "75%       0.000000     0.188000     0.000000     0.315000     0.052000   \n",
       "max       4.385000     9.752000     4.081000    32.478000     6.003000   \n",
       "\n",
       "       char_freq_#  capital_run_length_average  capital_run_length_longest  \\\n",
       "count  4601.000000                 4601.000000                 4601.000000   \n",
       "mean      0.044238                    5.191515                   52.172789   \n",
       "std       0.429342                   31.729449                  194.891310   \n",
       "min       0.000000                    1.000000                    1.000000   \n",
       "25%       0.000000                    1.588000                    6.000000   \n",
       "50%       0.000000                    2.276000                   15.000000   \n",
       "75%       0.000000                    3.706000                   43.000000   \n",
       "max      19.829000                 1102.500000                 9989.000000   \n",
       "\n",
       "       capital_run_length_total  \n",
       "count               4601.000000  \n",
       "mean                 283.289285  \n",
       "std                  606.347851  \n",
       "min                    1.000000  \n",
       "25%                   35.000000  \n",
       "50%                   95.000000  \n",
       "75%                  266.000000  \n",
       "max                15841.000000  \n",
       "\n",
       "[8 rows x 58 columns]"
      ]
     },
     "execution_count": 8,
     "metadata": {},
     "output_type": "execute_result"
    }
   ],
   "source": [
    "spambase_all.describe()"
   ]
  },
  {
   "cell_type": "code",
   "execution_count": 9,
   "id": "4fd5d235-2696-4089-a086-fb95bd554f64",
   "metadata": {},
   "outputs": [
    {
     "data": {
      "text/html": [
       "<div>\n",
       "<style scoped>\n",
       "    .dataframe tbody tr th:only-of-type {\n",
       "        vertical-align: middle;\n",
       "    }\n",
       "\n",
       "    .dataframe tbody tr th {\n",
       "        vertical-align: top;\n",
       "    }\n",
       "\n",
       "    .dataframe thead th {\n",
       "        text-align: right;\n",
       "    }\n",
       "</style>\n",
       "<table border=\"1\" class=\"dataframe\">\n",
       "  <thead>\n",
       "    <tr style=\"text-align: right;\">\n",
       "      <th></th>\n",
       "      <th>target_spam_nonspam</th>\n",
       "      <th>word_freq_make</th>\n",
       "      <th>word_freq_address</th>\n",
       "      <th>word_freq_all</th>\n",
       "      <th>word_freq_3d</th>\n",
       "      <th>word_freq_our</th>\n",
       "      <th>word_freq_over</th>\n",
       "      <th>word_freq_remove</th>\n",
       "      <th>word_freq_internet</th>\n",
       "      <th>word_freq_order</th>\n",
       "      <th>...</th>\n",
       "      <th>word_freq_conference</th>\n",
       "      <th>char_freq_;</th>\n",
       "      <th>char_freq_(</th>\n",
       "      <th>char_freq_[</th>\n",
       "      <th>char_freq_!</th>\n",
       "      <th>char_freq_$</th>\n",
       "      <th>char_freq_#</th>\n",
       "      <th>capital_run_length_average</th>\n",
       "      <th>capital_run_length_longest</th>\n",
       "      <th>capital_run_length_total</th>\n",
       "    </tr>\n",
       "  </thead>\n",
       "  <tbody>\n",
       "    <tr>\n",
       "      <th>0</th>\n",
       "      <td>1</td>\n",
       "      <td>0.00</td>\n",
       "      <td>0.64</td>\n",
       "      <td>0.64</td>\n",
       "      <td>0.0</td>\n",
       "      <td>0.32</td>\n",
       "      <td>0.00</td>\n",
       "      <td>0.00</td>\n",
       "      <td>0.00</td>\n",
       "      <td>0.00</td>\n",
       "      <td>...</td>\n",
       "      <td>0.0</td>\n",
       "      <td>0.00</td>\n",
       "      <td>0.000</td>\n",
       "      <td>0.0</td>\n",
       "      <td>0.778</td>\n",
       "      <td>0.000</td>\n",
       "      <td>0.000</td>\n",
       "      <td>3.756</td>\n",
       "      <td>61</td>\n",
       "      <td>278</td>\n",
       "    </tr>\n",
       "    <tr>\n",
       "      <th>1</th>\n",
       "      <td>1</td>\n",
       "      <td>0.21</td>\n",
       "      <td>0.28</td>\n",
       "      <td>0.50</td>\n",
       "      <td>0.0</td>\n",
       "      <td>0.14</td>\n",
       "      <td>0.28</td>\n",
       "      <td>0.21</td>\n",
       "      <td>0.07</td>\n",
       "      <td>0.00</td>\n",
       "      <td>...</td>\n",
       "      <td>0.0</td>\n",
       "      <td>0.00</td>\n",
       "      <td>0.132</td>\n",
       "      <td>0.0</td>\n",
       "      <td>0.372</td>\n",
       "      <td>0.180</td>\n",
       "      <td>0.048</td>\n",
       "      <td>5.114</td>\n",
       "      <td>101</td>\n",
       "      <td>1028</td>\n",
       "    </tr>\n",
       "    <tr>\n",
       "      <th>2</th>\n",
       "      <td>1</td>\n",
       "      <td>0.06</td>\n",
       "      <td>0.00</td>\n",
       "      <td>0.71</td>\n",
       "      <td>0.0</td>\n",
       "      <td>1.23</td>\n",
       "      <td>0.19</td>\n",
       "      <td>0.19</td>\n",
       "      <td>0.12</td>\n",
       "      <td>0.64</td>\n",
       "      <td>...</td>\n",
       "      <td>0.0</td>\n",
       "      <td>0.01</td>\n",
       "      <td>0.143</td>\n",
       "      <td>0.0</td>\n",
       "      <td>0.276</td>\n",
       "      <td>0.184</td>\n",
       "      <td>0.010</td>\n",
       "      <td>9.821</td>\n",
       "      <td>485</td>\n",
       "      <td>2259</td>\n",
       "    </tr>\n",
       "    <tr>\n",
       "      <th>3</th>\n",
       "      <td>1</td>\n",
       "      <td>0.00</td>\n",
       "      <td>0.00</td>\n",
       "      <td>0.00</td>\n",
       "      <td>0.0</td>\n",
       "      <td>0.63</td>\n",
       "      <td>0.00</td>\n",
       "      <td>0.31</td>\n",
       "      <td>0.63</td>\n",
       "      <td>0.31</td>\n",
       "      <td>...</td>\n",
       "      <td>0.0</td>\n",
       "      <td>0.00</td>\n",
       "      <td>0.137</td>\n",
       "      <td>0.0</td>\n",
       "      <td>0.137</td>\n",
       "      <td>0.000</td>\n",
       "      <td>0.000</td>\n",
       "      <td>3.537</td>\n",
       "      <td>40</td>\n",
       "      <td>191</td>\n",
       "    </tr>\n",
       "    <tr>\n",
       "      <th>4</th>\n",
       "      <td>1</td>\n",
       "      <td>0.00</td>\n",
       "      <td>0.00</td>\n",
       "      <td>0.00</td>\n",
       "      <td>0.0</td>\n",
       "      <td>0.63</td>\n",
       "      <td>0.00</td>\n",
       "      <td>0.31</td>\n",
       "      <td>0.63</td>\n",
       "      <td>0.31</td>\n",
       "      <td>...</td>\n",
       "      <td>0.0</td>\n",
       "      <td>0.00</td>\n",
       "      <td>0.135</td>\n",
       "      <td>0.0</td>\n",
       "      <td>0.135</td>\n",
       "      <td>0.000</td>\n",
       "      <td>0.000</td>\n",
       "      <td>3.537</td>\n",
       "      <td>40</td>\n",
       "      <td>191</td>\n",
       "    </tr>\n",
       "  </tbody>\n",
       "</table>\n",
       "<p>5 rows × 58 columns</p>\n",
       "</div>"
      ],
      "text/plain": [
       "   target_spam_nonspam  word_freq_make  word_freq_address  word_freq_all  \\\n",
       "0                    1            0.00               0.64           0.64   \n",
       "1                    1            0.21               0.28           0.50   \n",
       "2                    1            0.06               0.00           0.71   \n",
       "3                    1            0.00               0.00           0.00   \n",
       "4                    1            0.00               0.00           0.00   \n",
       "\n",
       "   word_freq_3d  word_freq_our  word_freq_over  word_freq_remove  \\\n",
       "0           0.0           0.32            0.00              0.00   \n",
       "1           0.0           0.14            0.28              0.21   \n",
       "2           0.0           1.23            0.19              0.19   \n",
       "3           0.0           0.63            0.00              0.31   \n",
       "4           0.0           0.63            0.00              0.31   \n",
       "\n",
       "   word_freq_internet  word_freq_order  ...  word_freq_conference  \\\n",
       "0                0.00             0.00  ...                   0.0   \n",
       "1                0.07             0.00  ...                   0.0   \n",
       "2                0.12             0.64  ...                   0.0   \n",
       "3                0.63             0.31  ...                   0.0   \n",
       "4                0.63             0.31  ...                   0.0   \n",
       "\n",
       "   char_freq_;  char_freq_(  char_freq_[  char_freq_!  char_freq_$  \\\n",
       "0         0.00        0.000          0.0        0.778        0.000   \n",
       "1         0.00        0.132          0.0        0.372        0.180   \n",
       "2         0.01        0.143          0.0        0.276        0.184   \n",
       "3         0.00        0.137          0.0        0.137        0.000   \n",
       "4         0.00        0.135          0.0        0.135        0.000   \n",
       "\n",
       "   char_freq_#  capital_run_length_average  capital_run_length_longest  \\\n",
       "0        0.000                       3.756                          61   \n",
       "1        0.048                       5.114                         101   \n",
       "2        0.010                       9.821                         485   \n",
       "3        0.000                       3.537                          40   \n",
       "4        0.000                       3.537                          40   \n",
       "\n",
       "   capital_run_length_total  \n",
       "0                       278  \n",
       "1                      1028  \n",
       "2                      2259  \n",
       "3                       191  \n",
       "4                       191  \n",
       "\n",
       "[5 rows x 58 columns]"
      ]
     },
     "execution_count": 9,
     "metadata": {},
     "output_type": "execute_result"
    }
   ],
   "source": [
    "spambase_all.head(5)"
   ]
  },
  {
   "cell_type": "markdown",
   "id": "2e12377f-69d9-4852-b937-907cca4dd578",
   "metadata": {},
   "source": [
    "#### Check for null values."
   ]
  },
  {
   "cell_type": "code",
   "execution_count": 10,
   "id": "e766e561-f7a6-47d5-9033-c74b325c1041",
   "metadata": {},
   "outputs": [
    {
     "data": {
      "text/plain": [
       "<AxesSubplot:>"
      ]
     },
     "execution_count": 10,
     "metadata": {},
     "output_type": "execute_result"
    },
    {
     "data": {
      "image/png": "[encoded data removed]",
      "text/plain": [
       "<Figure size 720x576 with 1 Axes>"
      ]
     },
     "metadata": {
      "needs_background": "light"
     },
     "output_type": "display_data"
    }
   ],
   "source": [
    "plt.figure(figsize=(10, 8))\n",
    "\n",
    "ax = plt.axes()\n",
    "sns.heatmap(spambase_all.isnull(), ax=ax, yticklabels=False, cbar=False, cmap=\"cividis\")\n"
   ]
  },
  {
   "cell_type": "markdown",
   "id": "62cd69ae-5ac0-4c2d-94ff-1bdf027f253f",
   "metadata": {},
   "source": [
    "#### Check for na"
   ]
  },
  {
   "cell_type": "code",
   "execution_count": 11,
   "id": "32586cd3-8526-4c50-8c0c-bf9b4dab9a98",
   "metadata": {},
   "outputs": [
    {
     "data": {
      "text/plain": [
       "target_spam_nonspam           False\n",
       "word_freq_make                False\n",
       "word_freq_address             False\n",
       "word_freq_all                 False\n",
       "word_freq_3d                  False\n",
       "word_freq_our                 False\n",
       "word_freq_over                False\n",
       "word_freq_remove              False\n",
       "word_freq_internet            False\n",
       "word_freq_order               False\n",
       "word_freq_mail                False\n",
       "word_freq_receive             False\n",
       "word_freq_will                False\n",
       "word_freq_people              False\n",
       "word_freq_report              False\n",
       "word_freq_addresses           False\n",
       "word_freq_free                False\n",
       "word_freq_business            False\n",
       "word_freq_email               False\n",
       "word_freq_you                 False\n",
       "word_freq_credit              False\n",
       "word_freq_your                False\n",
       "word_freq_font                False\n",
       "word_freq_000                 False\n",
       "word_freq_money               False\n",
       "word_freq_hp                  False\n",
       "word_freq_hpl                 False\n",
       "word_freq_george              False\n",
       "word_freq_650                 False\n",
       "word_freq_lab                 False\n",
       "word_freq_labs                False\n",
       "word_freq_telnet              False\n",
       "word_freq_857                 False\n",
       "word_freq_data                False\n",
       "word_freq_415                 False\n",
       "word_freq_85                  False\n",
       "word_freq_technology          False\n",
       "word_freq_1999                False\n",
       "word_freq_parts               False\n",
       "word_freq_pm                  False\n",
       "word_freq_direct              False\n",
       "word_freq_cs                  False\n",
       "word_freq_meeting             False\n",
       "word_freq_original            False\n",
       "word_freq_project             False\n",
       "word_freq_re                  False\n",
       "word_freq_edu                 False\n",
       "word_freq_table               False\n",
       "word_freq_conference          False\n",
       "char_freq_;                   False\n",
       "char_freq_(                   False\n",
       "char_freq_[                   False\n",
       "char_freq_!                   False\n",
       "char_freq_$                   False\n",
       "char_freq_#                   False\n",
       "capital_run_length_average    False\n",
       "capital_run_length_longest    False\n",
       "capital_run_length_total      False\n",
       "dtype: bool"
      ]
     },
     "execution_count": 11,
     "metadata": {},
     "output_type": "execute_result"
    }
   ],
   "source": [
    "spambase_all.isna().any()"
   ]
  },
  {
   "cell_type": "markdown",
   "id": "74b9ce96-36e2-45e0-9b06-ad6f4c61b81f",
   "metadata": {},
   "source": [
    "#### Check for data imbalance"
   ]
  },
  {
   "cell_type": "code",
   "execution_count": 12,
   "id": "ea52ff96-200d-4f11-8a4f-c7e85d28abe6",
   "metadata": {},
   "outputs": [
    {
     "data": {
      "text/plain": [
       "[Text(0.5, 0, 'Spam or not')]"
      ]
     },
     "execution_count": 12,
     "metadata": {},
     "output_type": "execute_result"
    },
    {
     "data": {
      "image/png": "[encoded data removed]",
      "text/plain": [
       "<Figure size 432x360 with 1 Axes>"
      ]
     },
     "metadata": {},
     "output_type": "display_data"
    }
   ],
   "source": [
    "sns.set(rc={\"figure.figsize\":(6, 5)})\n",
    "sns.set_style('white')\n",
    "\n",
    "spambase_all_exp = spambase_all.copy()\n",
    "spambase_all_exp[\"target_spam_nonspam\"] = spambase_all_exp[\"target_spam_nonspam\"].astype(bool)\n",
    "\n",
    "ax = sns.countplot(x='target_spam_nonspam', data=spambase_all_exp) \n",
    "ax.set(xlabel='Spam or not')"
   ]
  },
  {
   "cell_type": "markdown",
   "id": "c4905585-c236-45bc-be3b-4f279e2f367d",
   "metadata": {},
   "source": [
    "#### Explore for Correlations\n",
    "The large number of features makes it difficult to determine the correlations."
   ]
  },
  {
   "cell_type": "code",
   "execution_count": 13,
   "id": "cad2ff48-347b-448d-9e34-ee717d3f51d8",
   "metadata": {},
   "outputs": [
    {
     "data": {
      "text/plain": [
       "<AxesSubplot:>"
      ]
     },
     "execution_count": 13,
     "metadata": {},
     "output_type": "execute_result"
    },
    {
     "data": {
      "image/png": "[encoded data removed]",
      "text/plain": [
       "<Figure size 720x576 with 2 Axes>"
      ]
     },
     "metadata": {},
     "output_type": "display_data"
    }
   ],
   "source": [
    "sns.set(rc={\"figure.figsize\":(10, 8)})\n",
    "sns.heatmap(spambase_all_exp.corr(), cmap='viridis')"
   ]
  },
  {
   "cell_type": "markdown",
   "id": "afa0faf1-cd25-45ed-a8c0-ba3d87ca99db",
   "metadata": {},
   "source": [
    "### Challenges\n",
    "* Imbalance Binary Classification\n",
    "* Large number of features"
   ]
  },
  {
   "cell_type": "markdown",
   "id": "bc58c53e-2ebd-45c2-97b3-0e6950942cda",
   "metadata": {},
   "source": [
    "### Solutions"
   ]
  },
  {
   "cell_type": "markdown",
   "id": "349bf3f4-b023-4210-87a4-2643c4310bc8",
   "metadata": {},
   "source": [
    "#### Pandas Undersampling for Imbalanced Binary Classification"
   ]
  },
  {
   "cell_type": "code",
   "execution_count": 14,
   "id": "11047aad-593f-42db-8b8c-1539a502e735",
   "metadata": {},
   "outputs": [
    {
     "name": "stdout",
     "output_type": "stream",
     "text": [
      "get_balance_data\n"
     ]
    }
   ],
   "source": [
    "spam = spambase_all[spambase_all['target_spam_nonspam']==1]\n",
    "non_spam = spambase_all[spambase_all['target_spam_nonspam']==0]\n",
    "non_spam = non_spam.sample(n=len(spam), random_state=101)\n",
    "spambase_balance = pd.concat([spam, non_spam],axis=0)  \n",
    "\n",
    "# an alternative is simply use the loader.get_balance_dataset()\n",
    "# since SpambaseDatasetLoader already handled the undersampling during load.\n",
    "\n",
    "spambase_balance = loader.get_balance_dataset()"
   ]
  },
  {
   "cell_type": "code",
   "execution_count": 15,
   "id": "e6dd524b-bb2a-41b0-a1f3-d16f439a98be",
   "metadata": {},
   "outputs": [
    {
     "data": {
      "text/plain": [
       "[Text(0.5, 0, 'Spam or not')]"
      ]
     },
     "execution_count": 15,
     "metadata": {},
     "output_type": "execute_result"
    },
    {
     "data": {
      "image/png": "[encoded data removed]",
      "text/plain": [
       "<Figure size 432x360 with 1 Axes>"
      ]
     },
     "metadata": {},
     "output_type": "display_data"
    }
   ],
   "source": [
    "spambase_balance_exp = spambase_balance.copy()\n",
    "spambase_balance_exp[\"target_spam_nonspam\"] = spambase_balance_exp[\"target_spam_nonspam\"].astype(bool)\n",
    "\n",
    "sns.set(rc={\"figure.figsize\":(6, 5)})\n",
    "sns.set_style('white')\n",
    "ax = sns.countplot(x='target_spam_nonspam', data=spambase_balance_exp) \n",
    "ax.set(xlabel='Spam or not')"
   ]
  },
  {
   "cell_type": "markdown",
   "id": "89e360ec-65d6-484c-8575-5bcaf86c487a",
   "metadata": {},
   "source": [
    "#### Feature Selection"
   ]
  },
  {
   "cell_type": "code",
   "execution_count": 16,
   "id": "0e4fbec8-3992-48ec-ab6e-48b1c4242928",
   "metadata": {},
   "outputs": [
    {
     "name": "stdout",
     "output_type": "stream",
     "text": [
      "Help on method perform_feature_selection in module spambase_dataset_loader_nb:\n",
      "\n",
      "perform_feature_selection(data, feature_selection_type) method of spambase_dataset_loader_nb.SpambaseDatasetLoader instance\n",
      "    (DataFrame, float) --> Dataframe\n",
      "    \n",
      "    \n",
      "    This function performs feature selection based on provided feature selection type.        \n",
      "            \n",
      "    Parameters\n",
      "    ----------\n",
      "    data: Dataframe that will be use in feature selection.\n",
      "    \n",
      "    threshold: If the p-value is higher than the threshold, we discard the combinations of features.\n",
      "    \n",
      "    Returns\n",
      "    ----------        \n",
      "    DataFrame : The DataFrame after performing feature selection.\n",
      "\n"
     ]
    }
   ],
   "source": [
    "help(loader.perform_feature_selection)"
   ]
  },
  {
   "cell_type": "code",
   "execution_count": 17,
   "id": "cbf7f2f4-af31-4d19-a8fa-2e4de812d5e8",
   "metadata": {},
   "outputs": [
    {
     "name": "stdout",
     "output_type": "stream",
     "text": [
      "The shape before feature selection: (3626, 58)\n",
      "Feature Selection using Backward Elimination\n",
      "Optimization terminated successfully.\n",
      "         Current function value: 0.198765\n",
      "         Iterations 15\n",
      "Optimization terminated successfully.\n",
      "         Current function value: 0.200934\n",
      "         Iterations 16\n",
      "Optimization terminated successfully.\n",
      "         Current function value: 0.200936\n",
      "         Iterations 16\n",
      "Optimization terminated successfully.\n",
      "         Current function value: 0.200939\n",
      "         Iterations 16\n",
      "Optimization terminated successfully.\n",
      "         Current function value: 0.200946\n",
      "         Iterations 16\n",
      "Optimization terminated successfully.\n",
      "         Current function value: 0.200953\n",
      "         Iterations 16\n",
      "Optimization terminated successfully.\n",
      "         Current function value: 0.200964\n",
      "         Iterations 16\n",
      "Optimization terminated successfully.\n",
      "         Current function value: 0.200981\n",
      "         Iterations 16\n",
      "Optimization terminated successfully.\n",
      "         Current function value: 0.201007\n",
      "         Iterations 16\n",
      "Optimization terminated successfully.\n",
      "         Current function value: 0.201046\n",
      "         Iterations 16\n",
      "Optimization terminated successfully.\n",
      "         Current function value: 0.201083\n",
      "         Iterations 16\n",
      "Optimization terminated successfully.\n",
      "         Current function value: 0.201128\n",
      "         Iterations 16\n",
      "Optimization terminated successfully.\n",
      "         Current function value: 0.201181\n",
      "         Iterations 16\n",
      "Optimization terminated successfully.\n",
      "         Current function value: 0.201260\n",
      "         Iterations 16\n",
      "Optimization terminated successfully.\n",
      "         Current function value: 0.201376\n",
      "         Iterations 16\n",
      "Optimization terminated successfully.\n",
      "         Current function value: 0.201630\n",
      "         Iterations 16\n",
      "Optimization terminated successfully.\n",
      "         Current function value: 0.203659\n",
      "         Iterations 15\n",
      "Optimization terminated successfully.\n",
      "         Current function value: 0.203808\n",
      "         Iterations 13\n",
      "Optimization terminated successfully.\n",
      "         Current function value: 0.203999\n",
      "         Iterations 13\n",
      "Optimization terminated successfully.\n",
      "         Current function value: 0.204877\n",
      "         Iterations 13\n",
      "Optimization terminated successfully.\n",
      "         Current function value: 0.205651\n",
      "         Iterations 13\n",
      "Optimization terminated successfully.\n",
      "         Current function value: 0.205951\n",
      "         Iterations 13\n",
      "Optimization terminated successfully.\n",
      "         Current function value: 0.206650\n",
      "         Iterations 13\n",
      "Optimization terminated successfully.\n",
      "         Current function value: 0.207035\n",
      "         Iterations 13\n",
      "Optimization terminated successfully.\n",
      "         Current function value: 0.208347\n",
      "         Iterations 13\n",
      "The shape after feature selection: (3626, 34)\n"
     ]
    }
   ],
   "source": [
    "stepwise_result = loader.perform_feature_selection(data=spambase_balance, feature_selection_type='stepwise_back')"
   ]
  },
  {
   "cell_type": "code",
   "execution_count": null,
   "id": "b01a8d00-9557-4c13-808f-5d8474b889ac",
   "metadata": {},
   "outputs": [],
   "source": []
  },
  {
   "cell_type": "code",
   "execution_count": 18,
   "id": "d8a3fa10-7968-44fe-bf8e-dfdc8c3630ae",
   "metadata": {},
   "outputs": [
    {
     "name": "stdout",
     "output_type": "stream",
     "text": [
      "The shape before feature selection: (3626, 58)\n",
      "Feature Selection using Person Correlation\n",
      "The shape after feature selection: (3626, 19)\n"
     ]
    }
   ],
   "source": [
    "pearson_result = loader.perform_feature_selection(data=spambase_balance, feature_selection_type='pearson')"
   ]
  },
  {
   "cell_type": "code",
   "execution_count": 19,
   "id": "8302564d-4ccf-4c5d-bbb3-2b4a80e03824",
   "metadata": {},
   "outputs": [
    {
     "name": "stdout",
     "output_type": "stream",
     "text": [
      "The shape before feature selection: (3626, 58)\n",
      "Feature Selection using Chi-squared\n",
      "The shape after feature selection: (3626, 19)\n"
     ]
    }
   ],
   "source": [
    "chi2_result = loader.perform_feature_selection(data=spambase_balance, feature_selection_type='chi2')"
   ]
  },
  {
   "cell_type": "code",
   "execution_count": 20,
   "id": "da957ab4-9dc0-431f-8976-f1901528dabe",
   "metadata": {},
   "outputs": [
    {
     "name": "stdout",
     "output_type": "stream",
     "text": [
      "Index(['word_freq_make', 'word_freq_address', 'word_freq_our',\n",
      "       'word_freq_over', 'word_freq_remove', 'word_freq_internet',\n",
      "       'word_freq_order', 'word_freq_will', 'word_freq_addresses',\n",
      "       'word_freq_free', 'word_freq_business', 'word_freq_credit',\n",
      "       'word_freq_your', 'word_freq_000', 'word_freq_money', 'word_freq_hp',\n",
      "       'word_freq_hpl', 'word_freq_george', 'word_freq_650', 'word_freq_data',\n",
      "       'word_freq_85', 'word_freq_technology', 'word_freq_pm',\n",
      "       'word_freq_meeting', 'word_freq_project', 'word_freq_re',\n",
      "       'word_freq_edu', 'word_freq_conference', 'char_freq_;', 'char_freq_!',\n",
      "       'char_freq_$', 'char_freq_#', 'capital_run_length_longest',\n",
      "       'capital_run_length_total'],\n",
      "      dtype='object')\n"
     ]
    }
   ],
   "source": [
    "print(stepwise_result[0].columns)"
   ]
  },
  {
   "cell_type": "code",
   "execution_count": 21,
   "id": "a5e3d5fc-8593-4c56-b46f-ec082d587a10",
   "metadata": {},
   "outputs": [
    {
     "name": "stdout",
     "output_type": "stream",
     "text": [
      "Index(['word_freq_all', 'word_freq_our', 'word_freq_over', 'word_freq_remove',\n",
      "       'word_freq_order', 'word_freq_receive', 'word_freq_free',\n",
      "       'word_freq_business', 'word_freq_email', 'word_freq_you',\n",
      "       'word_freq_your', 'word_freq_000', 'word_freq_money', 'word_freq_hp',\n",
      "       'word_freq_hpl', 'word_freq_george', 'char_freq_!', 'char_freq_$',\n",
      "       'capital_run_length_total'],\n",
      "      dtype='object')\n"
     ]
    }
   ],
   "source": [
    "print(pearson_result[0].columns)"
   ]
  },
  {
   "cell_type": "code",
   "execution_count": 22,
   "id": "56c1a7bd-b84b-4dfe-a30b-6f3b3e186c05",
   "metadata": {},
   "outputs": [
    {
     "name": "stdout",
     "output_type": "stream",
     "text": [
      "Index(['word_freq_our', 'word_freq_remove', 'word_freq_free',\n",
      "       'word_freq_business', 'word_freq_you', 'word_freq_credit',\n",
      "       'word_freq_your', 'word_freq_000', 'word_freq_money', 'word_freq_hp',\n",
      "       'word_freq_hpl', 'word_freq_george', 'word_freq_lab',\n",
      "       'word_freq_meeting', 'word_freq_edu', 'char_freq_!',\n",
      "       'capital_run_length_average', 'capital_run_length_longest',\n",
      "       'capital_run_length_total'],\n",
      "      dtype='object')\n"
     ]
    }
   ],
   "source": [
    "print(chi2_result[0].columns)"
   ]
  },
  {
   "cell_type": "markdown",
   "id": "c1d4f6c5-1284-4e87-9bca-27c733e04bbe",
   "metadata": {},
   "source": [
    "## Model"
   ]
  },
  {
   "cell_type": "markdown",
   "id": "423e102c-176d-40ff-9c28-e14baa04192e",
   "metadata": {},
   "source": [
    "### Statsmodels\n",
    "The study introduced a model helper for running the test."
   ]
  },
  {
   "cell_type": "code",
   "execution_count": 23,
   "id": "4a624c2d-c7c9-4da9-a1d7-d6c7fa565cf2",
   "metadata": {},
   "outputs": [
    {
     "name": "stdout",
     "output_type": "stream",
     "text": [
      "init Model Helper notebook\n"
     ]
    }
   ],
   "source": [
    "model_helper = spambase_model_helper_nb.SpambaseModelHelper()"
   ]
  },
  {
   "cell_type": "code",
   "execution_count": 24,
   "id": "e16b0e58-e453-4eb5-bda9-d6478d35469f",
   "metadata": {},
   "outputs": [
    {
     "name": "stdout",
     "output_type": "stream",
     "text": [
      "Help on method run_statsmodels_logit in module spambase_model_helper_nb:\n",
      "\n",
      "run_statsmodels_logit(data, feature_selection_type=None, verbose=False) method of spambase_model_helper_nb.SpambaseModelHelper instance\n",
      "    This function run logistic regression based from stats models.\n",
      "    \n",
      "    (DataFrame, boolean, boolean) --> DataFrame\n",
      "    \n",
      "    Parameters\n",
      "    ----------\n",
      "    data: Dataframe that will be use in running the model.\n",
      "    \n",
      "    feature_selection_type: Type of Feature Selection to use. Available options are stepwise_back, pearson and chi2.\n",
      "    verbose: True to display statsmodels summary, confusion matrix and its heatmap otherwise false.\n",
      "    \n",
      "    Returns\n",
      "    ----------        \n",
      "    DataFrame : The DataFrame of statsmodels scores.\n",
      "\n"
     ]
    }
   ],
   "source": [
    "help(model_helper.run_statsmodels_logit)"
   ]
  },
  {
   "cell_type": "markdown",
   "id": "6cd1f63a-6a54-4401-9619-ad8876648b10",
   "metadata": {},
   "source": [
    "#### Balance Dataset and Backward Elimination Technique"
   ]
  },
  {
   "cell_type": "code",
   "execution_count": 25,
   "id": "98384d76-62e2-4168-96a6-40c87f34633c",
   "metadata": {},
   "outputs": [
    {
     "name": "stdout",
     "output_type": "stream",
     "text": [
      "get_balance_data\n",
      "init Loader notebook\n",
      "The shape before feature selection: (3626, 58)\n",
      "Feature Selection using Backward Elimination\n",
      "Optimization terminated successfully.\n",
      "         Current function value: 0.198765\n",
      "         Iterations 15\n",
      "Optimization terminated successfully.\n",
      "         Current function value: 0.200934\n",
      "         Iterations 16\n",
      "Optimization terminated successfully.\n",
      "         Current function value: 0.200936\n",
      "         Iterations 16\n",
      "Optimization terminated successfully.\n",
      "         Current function value: 0.200939\n",
      "         Iterations 16\n",
      "Optimization terminated successfully.\n",
      "         Current function value: 0.200946\n",
      "         Iterations 16\n",
      "Optimization terminated successfully.\n",
      "         Current function value: 0.200953\n",
      "         Iterations 16\n",
      "Optimization terminated successfully.\n",
      "         Current function value: 0.200964\n",
      "         Iterations 16\n",
      "Optimization terminated successfully.\n",
      "         Current function value: 0.200981\n",
      "         Iterations 16\n",
      "Optimization terminated successfully.\n",
      "         Current function value: 0.201007\n",
      "         Iterations 16\n",
      "Optimization terminated successfully.\n",
      "         Current function value: 0.201046\n",
      "         Iterations 16\n",
      "Optimization terminated successfully.\n",
      "         Current function value: 0.201083\n",
      "         Iterations 16\n",
      "Optimization terminated successfully.\n",
      "         Current function value: 0.201128\n",
      "         Iterations 16\n",
      "Optimization terminated successfully.\n",
      "         Current function value: 0.201181\n",
      "         Iterations 16\n",
      "Optimization terminated successfully.\n",
      "         Current function value: 0.201260\n",
      "         Iterations 16\n",
      "Optimization terminated successfully.\n",
      "         Current function value: 0.201376\n",
      "         Iterations 16\n",
      "Optimization terminated successfully.\n",
      "         Current function value: 0.201630\n",
      "         Iterations 16\n",
      "Optimization terminated successfully.\n",
      "         Current function value: 0.203659\n",
      "         Iterations 15\n",
      "Optimization terminated successfully.\n",
      "         Current function value: 0.203808\n",
      "         Iterations 13\n",
      "Optimization terminated successfully.\n",
      "         Current function value: 0.203999\n",
      "         Iterations 13\n",
      "Optimization terminated successfully.\n",
      "         Current function value: 0.204877\n",
      "         Iterations 13\n",
      "Optimization terminated successfully.\n",
      "         Current function value: 0.205651\n",
      "         Iterations 13\n",
      "Optimization terminated successfully.\n",
      "         Current function value: 0.205951\n",
      "         Iterations 13\n",
      "Optimization terminated successfully.\n",
      "         Current function value: 0.206650\n",
      "         Iterations 13\n",
      "Optimization terminated successfully.\n",
      "         Current function value: 0.207035\n",
      "         Iterations 13\n",
      "Optimization terminated successfully.\n",
      "         Current function value: 0.208347\n",
      "         Iterations 13\n",
      "The shape after feature selection: (3626, 34)\n",
      "Optimization terminated successfully.\n",
      "         Current function value: 0.211650\n",
      "         Iterations 14\n",
      "                            Logit Regression Results                           \n",
      "===============================================================================\n",
      "Dep. Variable:     target_spam_nonspam   No. Observations:                 2900\n",
      "Model:                           Logit   Df Residuals:                     2865\n",
      "Method:                            MLE   Df Model:                           34\n",
      "Date:                 Fri, 28 Jul 2023   Pseudo R-squ.:                  0.6947\n",
      "Time:                         14:59:27   Log-Likelihood:                -613.78\n",
      "converged:                        True   LL-Null:                       -2010.1\n",
      "Covariance Type:             nonrobust   LLR p-value:                     0.000\n",
      "==============================================================================================\n",
      "                                 coef    std err          z      P>|z|      [0.025      0.975]\n",
      "----------------------------------------------------------------------------------------------\n",
      "const                         -1.1334      0.138     -8.200      0.000      -1.404      -0.862\n",
      "word_freq_make                -0.6895      0.281     -2.456      0.014      -1.240      -0.139\n",
      "word_freq_address             -0.1362      0.071     -1.916      0.055      -0.275       0.003\n",
      "word_freq_our                  0.7089      0.144      4.924      0.000       0.427       0.991\n",
      "word_freq_over                 1.1924      0.329      3.620      0.000       0.547       1.838\n",
      "word_freq_remove               2.1662      0.397      5.451      0.000       1.387       2.945\n",
      "word_freq_internet             0.3860      0.159      2.426      0.015       0.074       0.698\n",
      "word_freq_order                1.1309      0.425      2.659      0.008       0.297       1.965\n",
      "word_freq_will                -0.1952      0.090     -2.170      0.030      -0.371      -0.019\n",
      "word_freq_addresses            1.7607      1.099      1.603      0.109      -0.393       3.914\n",
      "word_freq_free                 1.0159      0.182      5.592      0.000       0.660       1.372\n",
      "word_freq_business             0.9559      0.254      3.757      0.000       0.457       1.455\n",
      "word_freq_credit               1.8183      0.764      2.380      0.017       0.321       3.316\n",
      "word_freq_your                 0.3062      0.062      4.963      0.000       0.185       0.427\n",
      "word_freq_000                  2.0768      0.542      3.831      0.000       1.014       3.139\n",
      "word_freq_money                0.5631      0.271      2.080      0.038       0.032       1.094\n",
      "word_freq_hp                  -1.6858      0.304     -5.537      0.000      -2.283      -1.089\n",
      "word_freq_hpl                 -1.2124      0.490     -2.476      0.013      -2.172      -0.253\n",
      "word_freq_george             -16.0712      2.400     -6.697      0.000     -20.775     -11.368\n",
      "word_freq_650                  0.6702      0.300      2.233      0.026       0.082       1.259\n",
      "word_freq_data                -0.8431      0.326     -2.584      0.010      -1.483      -0.204\n",
      "word_freq_85                  -2.4049      0.876     -2.746      0.006      -4.121      -0.688\n",
      "word_freq_technology           0.7379      0.374      1.974      0.048       0.005       1.470\n",
      "word_freq_pm                  -0.8429      0.482     -1.747      0.081      -1.788       0.103\n",
      "word_freq_meeting             -2.9390      0.937     -3.137      0.002      -4.775      -1.103\n",
      "word_freq_project             -2.4142      0.713     -3.388      0.001      -3.811      -1.017\n",
      "word_freq_re                  -0.7563      0.177     -4.276      0.000      -1.103      -0.410\n",
      "word_freq_edu                 -1.4416      0.302     -4.774      0.000      -2.033      -0.850\n",
      "word_freq_conference          -4.3789      1.894     -2.312      0.021      -8.092      -0.666\n",
      "char_freq_;                   -0.6352      0.330     -1.923      0.055      -1.283       0.012\n",
      "char_freq_!                    0.2405      0.065      3.702      0.000       0.113       0.368\n",
      "char_freq_$                    5.7986      0.957      6.060      0.000       3.923       7.674\n",
      "char_freq_#                    2.8186      0.716      3.939      0.000       1.416       4.221\n",
      "capital_run_length_longest     0.0140      0.002      5.895      0.000       0.009       0.019\n",
      "capital_run_length_total       0.0005      0.000      2.282      0.023    7.29e-05       0.001\n",
      "==============================================================================================\n",
      "\n",
      "Possibly complete quasi-separation: A fraction 0.24 of observations can be\n",
      "perfectly predicted. This might indicate that there is complete\n",
      "quasi-separation. In this case some parameters will not be identified.\n",
      "Confusion Matrix\n",
      "[[353  14]\n",
      " [ 31 328]]\n",
      "Confusion Matrix result - TP: 353, TN:328, FP:14, FN: 31\n"
     ]
    },
    {
     "data": {
      "image/png": "[encoded data removed]",
      "text/plain": [
       "<Figure size 432x360 with 2 Axes>"
      ]
     },
     "metadata": {},
     "output_type": "display_data"
    }
   ],
   "source": [
    "spambase_balance = loader.get_balance_dataset()\n",
    "\n",
    "df_sm_stepwise_back = model_helper.run_statsmodels_logit(spambase_balance, \n",
    "                    feature_selection_type='stepwise_back', verbose=True)"
   ]
  },
  {
   "cell_type": "code",
   "execution_count": 26,
   "id": "fcf39a36-f60b-43b1-b356-23f251525cc6",
   "metadata": {},
   "outputs": [
    {
     "data": {
      "text/html": [
       "<div>\n",
       "<style scoped>\n",
       "    .dataframe tbody tr th:only-of-type {\n",
       "        vertical-align: middle;\n",
       "    }\n",
       "\n",
       "    .dataframe tbody tr th {\n",
       "        vertical-align: top;\n",
       "    }\n",
       "\n",
       "    .dataframe thead th {\n",
       "        text-align: right;\n",
       "    }\n",
       "</style>\n",
       "<table border=\"1\" class=\"dataframe\">\n",
       "  <thead>\n",
       "    <tr style=\"text-align: right;\">\n",
       "      <th></th>\n",
       "      <th>Accuracy</th>\n",
       "      <th>Precision</th>\n",
       "      <th>Recall</th>\n",
       "      <th>F1-Score</th>\n",
       "    </tr>\n",
       "  </thead>\n",
       "  <tbody>\n",
       "    <tr>\n",
       "      <th>Score</th>\n",
       "      <td>0.938017</td>\n",
       "      <td>0.961853</td>\n",
       "      <td>0.919271</td>\n",
       "      <td>0.94008</td>\n",
       "    </tr>\n",
       "  </tbody>\n",
       "</table>\n",
       "</div>"
      ],
      "text/plain": [
       "       Accuracy  Precision    Recall  F1-Score\n",
       "Score  0.938017   0.961853  0.919271   0.94008"
      ]
     },
     "execution_count": 26,
     "metadata": {},
     "output_type": "execute_result"
    }
   ],
   "source": [
    "df_sm_stepwise_back"
   ]
  },
  {
   "cell_type": "markdown",
   "id": "f756f813-e1f8-48b6-b3af-bffe1b2dbc73",
   "metadata": {},
   "source": [
    "#### Balance Dataset and Pearson Correlation"
   ]
  },
  {
   "cell_type": "code",
   "execution_count": 27,
   "id": "44c562b6-df2f-40ef-9323-3d8e794aa95d",
   "metadata": {},
   "outputs": [
    {
     "name": "stdout",
     "output_type": "stream",
     "text": [
      "get_balance_data\n",
      "init Loader notebook\n",
      "The shape before feature selection: (3626, 58)\n",
      "Feature Selection using Person Correlation\n",
      "The shape after feature selection: (3626, 19)\n",
      "Optimization terminated successfully.\n",
      "         Current function value: 0.270555\n",
      "         Iterations 14\n",
      "                            Logit Regression Results                           \n",
      "===============================================================================\n",
      "Dep. Variable:     target_spam_nonspam   No. Observations:                 2900\n",
      "Model:                           Logit   Df Residuals:                     2880\n",
      "Method:                            MLE   Df Model:                           19\n",
      "Date:                 Fri, 28 Jul 2023   Pseudo R-squ.:                  0.6097\n",
      "Time:                         14:59:27   Log-Likelihood:                -784.61\n",
      "converged:                        True   LL-Null:                       -2010.1\n",
      "Covariance Type:             nonrobust   LLR p-value:                     0.000\n",
      "============================================================================================\n",
      "                               coef    std err          z      P>|z|      [0.025      0.975]\n",
      "--------------------------------------------------------------------------------------------\n",
      "const                       -1.8312      0.121    -15.145      0.000      -2.068      -1.594\n",
      "word_freq_all                0.1417      0.126      1.128      0.259      -0.104       0.388\n",
      "word_freq_our                0.5874      0.101      5.814      0.000       0.389       0.785\n",
      "word_freq_over               1.3171      0.284      4.643      0.000       0.761       1.873\n",
      "word_freq_remove             3.0495      0.452      6.746      0.000       2.164       3.935\n",
      "word_freq_order              1.8773      0.400      4.694      0.000       1.093       2.661\n",
      "word_freq_receive            0.1043      0.350      0.298      0.766      -0.582       0.791\n",
      "word_freq_free               1.2005      0.169      7.115      0.000       0.870       1.531\n",
      "word_freq_business           1.1723      0.248      4.726      0.000       0.686       1.658\n",
      "word_freq_email              0.3444      0.130      2.657      0.008       0.090       0.598\n",
      "word_freq_you                0.0098      0.037      0.268      0.789      -0.062       0.082\n",
      "word_freq_your               0.3478      0.058      6.005      0.000       0.234       0.461\n",
      "word_freq_000                2.9013      0.570      5.089      0.000       1.784       4.019\n",
      "word_freq_money              0.7718      0.271      2.845      0.004       0.240       1.303\n",
      "word_freq_hp                -1.4906      0.299     -4.989      0.000      -2.076      -0.905\n",
      "word_freq_hpl               -1.5563      0.495     -3.146      0.002      -2.526      -0.587\n",
      "word_freq_george           -14.6271      3.271     -4.471      0.000     -21.039      -8.216\n",
      "char_freq_!                  0.3693      0.093      3.975      0.000       0.187       0.551\n",
      "char_freq_$                  5.3150      0.814      6.533      0.000       3.720       6.910\n",
      "capital_run_length_total     0.0012      0.000      6.244      0.000       0.001       0.002\n",
      "============================================================================================\n",
      "\n",
      "Possibly complete quasi-separation: A fraction 0.17 of observations can be\n",
      "perfectly predicted. This might indicate that there is complete\n",
      "quasi-separation. In this case some parameters will not be identified.\n",
      "Confusion Matrix\n",
      "[[342  25]\n",
      " [ 43 316]]\n",
      "Confusion Matrix result - TP: 342, TN:316, FP:25, FN: 43\n"
     ]
    },
    {
     "data": {
      "image/png": "[encoded data removed]",
      "text/plain": [
       "<Figure size 432x360 with 2 Axes>"
      ]
     },
     "metadata": {},
     "output_type": "display_data"
    }
   ],
   "source": [
    "spambase_balance = loader.get_balance_dataset()\n",
    "\n",
    "df_sm_pearson = model_helper.run_statsmodels_logit(spambase_balance, \n",
    "                    feature_selection_type='pearson', verbose=True)"
   ]
  },
  {
   "cell_type": "code",
   "execution_count": 28,
   "id": "47d3f228-2b34-49a8-9b31-46489e1a27fc",
   "metadata": {},
   "outputs": [
    {
     "data": {
      "text/html": [
       "<div>\n",
       "<style scoped>\n",
       "    .dataframe tbody tr th:only-of-type {\n",
       "        vertical-align: middle;\n",
       "    }\n",
       "\n",
       "    .dataframe tbody tr th {\n",
       "        vertical-align: top;\n",
       "    }\n",
       "\n",
       "    .dataframe thead th {\n",
       "        text-align: right;\n",
       "    }\n",
       "</style>\n",
       "<table border=\"1\" class=\"dataframe\">\n",
       "  <thead>\n",
       "    <tr style=\"text-align: right;\">\n",
       "      <th></th>\n",
       "      <th>Accuracy</th>\n",
       "      <th>Precision</th>\n",
       "      <th>Recall</th>\n",
       "      <th>F1-Score</th>\n",
       "    </tr>\n",
       "  </thead>\n",
       "  <tbody>\n",
       "    <tr>\n",
       "      <th>Score</th>\n",
       "      <td>0.906336</td>\n",
       "      <td>0.93188</td>\n",
       "      <td>0.888312</td>\n",
       "      <td>0.909574</td>\n",
       "    </tr>\n",
       "  </tbody>\n",
       "</table>\n",
       "</div>"
      ],
      "text/plain": [
       "       Accuracy  Precision    Recall  F1-Score\n",
       "Score  0.906336    0.93188  0.888312  0.909574"
      ]
     },
     "execution_count": 28,
     "metadata": {},
     "output_type": "execute_result"
    }
   ],
   "source": [
    "df_sm_pearson"
   ]
  },
  {
   "cell_type": "markdown",
   "id": "263f9206-abdc-481b-bab4-aac51e713c7d",
   "metadata": {},
   "source": [
    "#### Balance Dataset and Chi-squared"
   ]
  },
  {
   "cell_type": "code",
   "execution_count": 29,
   "id": "feb39a68-bcff-427f-942a-5101e1019306",
   "metadata": {},
   "outputs": [
    {
     "name": "stdout",
     "output_type": "stream",
     "text": [
      "get_balance_data\n",
      "init Loader notebook\n",
      "The shape before feature selection: (3626, 58)\n",
      "Feature Selection using Chi-squared\n",
      "The shape after feature selection: (3626, 19)\n",
      "Optimization terminated successfully.\n",
      "         Current function value: 0.254574\n",
      "         Iterations 14\n",
      "                            Logit Regression Results                           \n",
      "===============================================================================\n",
      "Dep. Variable:     target_spam_nonspam   No. Observations:                 2900\n",
      "Model:                           Logit   Df Residuals:                     2880\n",
      "Method:                            MLE   Df Model:                           19\n",
      "Date:                 Fri, 28 Jul 2023   Pseudo R-squ.:                  0.6327\n",
      "Time:                         14:59:28   Log-Likelihood:                -738.27\n",
      "converged:                        True   LL-Null:                       -2010.1\n",
      "Covariance Type:             nonrobust   LLR p-value:                     0.000\n",
      "==============================================================================================\n",
      "                                 coef    std err          z      P>|z|      [0.025      0.975]\n",
      "----------------------------------------------------------------------------------------------\n",
      "const                         -1.3129      0.123    -10.675      0.000      -1.554      -1.072\n",
      "word_freq_our                  0.6396      0.130      4.931      0.000       0.385       0.894\n",
      "word_freq_remove               2.6880      0.434      6.199      0.000       1.838       3.538\n",
      "word_freq_free                 1.0940      0.173      6.333      0.000       0.755       1.433\n",
      "word_freq_business             1.1303      0.253      4.475      0.000       0.635       1.625\n",
      "word_freq_you                 -0.0031      0.036     -0.086      0.931      -0.074       0.068\n",
      "word_freq_credit               1.1573      0.610      1.897      0.058      -0.038       2.353\n",
      "word_freq_your                 0.3264      0.060      5.461      0.000       0.209       0.444\n",
      "word_freq_000                  3.2666      0.568      5.749      0.000       2.153       4.380\n",
      "word_freq_money                1.0977      0.308      3.565      0.000       0.494       1.701\n",
      "word_freq_hp                  -1.5544      0.275     -5.642      0.000      -2.094      -1.014\n",
      "word_freq_hpl                 -1.2441      0.449     -2.770      0.006      -2.124      -0.364\n",
      "word_freq_george             -18.3510      2.740     -6.697      0.000     -23.721     -12.981\n",
      "word_freq_lab                 -3.2725      1.615     -2.027      0.043      -6.437      -0.108\n",
      "word_freq_meeting             -3.0557      0.961     -3.179      0.001      -4.940      -1.172\n",
      "word_freq_edu                 -1.6748      0.323     -5.188      0.000      -2.307      -1.042\n",
      "char_freq_!                    0.3087      0.087      3.545      0.000       0.138       0.479\n",
      "capital_run_length_average     0.0070      0.020      0.346      0.729      -0.033       0.047\n",
      "capital_run_length_longest     0.0167      0.003      5.785      0.000       0.011       0.022\n",
      "capital_run_length_total       0.0006      0.000      2.689      0.007       0.000       0.001\n",
      "==============================================================================================\n",
      "\n",
      "Possibly complete quasi-separation: A fraction 0.21 of observations can be\n",
      "perfectly predicted. This might indicate that there is complete\n",
      "quasi-separation. In this case some parameters will not be identified.\n",
      "Confusion Matrix\n",
      "[[347  20]\n",
      " [ 41 318]]\n",
      "Confusion Matrix result - TP: 347, TN:318, FP:20, FN: 41\n"
     ]
    },
    {
     "data": {
      "image/png": "[encoded data removed]",
      "text/plain": [
       "<Figure size 432x360 with 2 Axes>"
      ]
     },
     "metadata": {},
     "output_type": "display_data"
    }
   ],
   "source": [
    "spambase_balance = loader.get_balance_dataset()\n",
    "\n",
    "df_sm_chi2 = model_helper.run_statsmodels_logit(spambase_balance, \n",
    "                    feature_selection_type='chi2', verbose=True)"
   ]
  },
  {
   "cell_type": "code",
   "execution_count": 30,
   "id": "590cd5af-a324-4ac5-a6f6-49efd879d75d",
   "metadata": {},
   "outputs": [
    {
     "data": {
      "text/html": [
       "<div>\n",
       "<style scoped>\n",
       "    .dataframe tbody tr th:only-of-type {\n",
       "        vertical-align: middle;\n",
       "    }\n",
       "\n",
       "    .dataframe tbody tr th {\n",
       "        vertical-align: top;\n",
       "    }\n",
       "\n",
       "    .dataframe thead th {\n",
       "        text-align: right;\n",
       "    }\n",
       "</style>\n",
       "<table border=\"1\" class=\"dataframe\">\n",
       "  <thead>\n",
       "    <tr style=\"text-align: right;\">\n",
       "      <th></th>\n",
       "      <th>Accuracy</th>\n",
       "      <th>Precision</th>\n",
       "      <th>Recall</th>\n",
       "      <th>F1-Score</th>\n",
       "    </tr>\n",
       "  </thead>\n",
       "  <tbody>\n",
       "    <tr>\n",
       "      <th>Score</th>\n",
       "      <td>0.915978</td>\n",
       "      <td>0.945504</td>\n",
       "      <td>0.89433</td>\n",
       "      <td>0.919205</td>\n",
       "    </tr>\n",
       "  </tbody>\n",
       "</table>\n",
       "</div>"
      ],
      "text/plain": [
       "       Accuracy  Precision   Recall  F1-Score\n",
       "Score  0.915978   0.945504  0.89433  0.919205"
      ]
     },
     "execution_count": 30,
     "metadata": {},
     "output_type": "execute_result"
    }
   ],
   "source": [
    "df_sm_chi2"
   ]
  },
  {
   "cell_type": "markdown",
   "id": "bfe8fa0c-62b6-4858-88c0-7ae4dd94d95f",
   "metadata": {},
   "source": [
    "#### Balance Dataset without Feature Selection"
   ]
  },
  {
   "cell_type": "code",
   "execution_count": 31,
   "id": "0ce2990b-8373-459e-8953-4cfe20d5bfe3",
   "metadata": {},
   "outputs": [
    {
     "name": "stdout",
     "output_type": "stream",
     "text": [
      "get_balance_data\n",
      "Optimization terminated successfully.\n",
      "         Current function value: 0.200946\n",
      "         Iterations 15\n",
      "                           Logit Regression Results                           \n",
      "==============================================================================\n",
      "Dep. Variable:                      y   No. Observations:                 2900\n",
      "Model:                          Logit   Df Residuals:                     2842\n",
      "Method:                           MLE   Df Model:                           57\n",
      "Date:                Fri, 28 Jul 2023   Pseudo R-squ.:                  0.7101\n",
      "Time:                        14:59:28   Log-Likelihood:                -582.74\n",
      "converged:                       True   LL-Null:                       -2010.1\n",
      "Covariance Type:            nonrobust   LLR p-value:                     0.000\n",
      "==============================================================================\n",
      "                 coef    std err          z      P>|z|      [0.025      0.975]\n",
      "------------------------------------------------------------------------------\n",
      "const         -1.2212      0.177     -6.912      0.000      -1.567      -0.875\n",
      "x1            -0.6867      0.305     -2.251      0.024      -1.285      -0.089\n",
      "x2            -0.1454      0.077     -1.880      0.060      -0.297       0.006\n",
      "x3             0.0306      0.144      0.213      0.832      -0.252       0.313\n",
      "x4             1.6498      1.362      1.211      0.226      -1.020       4.320\n",
      "x5             0.6578      0.145      4.550      0.000       0.374       0.941\n",
      "x6             1.2704      0.349      3.639      0.000       0.586       1.955\n",
      "x7             2.0182      0.390      5.172      0.000       1.253       2.783\n",
      "x8             0.4023      0.166      2.428      0.015       0.078       0.727\n",
      "x9             1.3133      0.467      2.815      0.005       0.399       2.228\n",
      "x10            0.1112      0.097      1.147      0.251      -0.079       0.301\n",
      "x11           -0.0780      0.383     -0.204      0.839      -0.828       0.672\n",
      "x12           -0.2336      0.094     -2.484      0.013      -0.418      -0.049\n",
      "x13           -0.1332      0.297     -0.448      0.654      -0.716       0.450\n",
      "x14            0.0572      0.144      0.398      0.691      -0.225       0.339\n",
      "x15            2.2060      1.402      1.574      0.116      -0.541       4.953\n",
      "x16            0.9560      0.185      5.178      0.000       0.594       1.318\n",
      "x17            1.0764      0.283      3.797      0.000       0.521       1.632\n",
      "x18            0.0750      0.138      0.543      0.587      -0.196       0.346\n",
      "x19            0.0612      0.044      1.384      0.166      -0.025       0.148\n",
      "x20            1.6784      0.801      2.095      0.036       0.109       3.248\n",
      "x21            0.3265      0.069      4.722      0.000       0.191       0.462\n",
      "x22            0.1395      0.186      0.751      0.453      -0.225       0.504\n",
      "x23            2.1051      0.570      3.692      0.000       0.988       3.223\n",
      "x24            0.3488      0.234      1.493      0.135      -0.109       0.807\n",
      "x25           -1.5649      0.346     -4.520      0.000      -2.243      -0.886\n",
      "x26           -1.1597      0.517     -2.244      0.025      -2.173      -0.147\n",
      "x27          -17.2049      2.738     -6.284      0.000     -22.571     -11.838\n",
      "x28            0.5492      0.285      1.928      0.054      -0.009       1.108\n",
      "x29           -2.1617      1.483     -1.457      0.145      -5.069       0.746\n",
      "x30           -0.9228      0.470     -1.962      0.050      -1.845      -0.001\n",
      "x31            0.6337      1.240      0.511      0.609      -1.797       3.064\n",
      "x32            1.3374      3.746      0.357      0.721      -6.005       8.679\n",
      "x33           -0.7775      0.339     -2.294      0.022      -1.442      -0.113\n",
      "x34          -18.7836      5.727     -3.280      0.001     -30.009      -7.558\n",
      "x35           -2.4404      0.938     -2.602      0.009      -4.278      -0.602\n",
      "x36            0.7722      0.368      2.100      0.036       0.051       1.493\n",
      "x37            0.0366      0.221      0.166      0.868      -0.396       0.470\n",
      "x38            0.5716      1.282      0.446      0.656      -1.942       3.085\n",
      "x39           -0.6771      0.484     -1.399      0.162      -1.626       0.272\n",
      "x40            0.3589      1.118      0.321      0.748      -1.832       2.550\n",
      "x41          -42.8453     40.118     -1.068      0.286    -121.475      35.785\n",
      "x42           -2.7829      0.942     -2.954      0.003      -4.629      -0.937\n",
      "x43           -1.7003      1.085     -1.567      0.117      -3.827       0.426\n",
      "x44           -2.1665      0.732     -2.959      0.003      -3.602      -0.731\n",
      "x45           -0.8614      0.182     -4.726      0.000      -1.219      -0.504\n",
      "x46           -1.1842      0.288     -4.109      0.000      -1.749      -0.619\n",
      "x47           -3.7920      2.585     -1.467      0.142      -8.859       1.275\n",
      "x48           -3.9483      1.961     -2.014      0.044      -7.792      -0.105\n",
      "x49           -1.0017      0.531     -1.885      0.059      -2.043       0.040\n",
      "x50            0.1509      0.349      0.433      0.665      -0.532       0.834\n",
      "x51           -1.8605      1.480     -1.257      0.209      -4.760       1.039\n",
      "x52            0.2281      0.060      3.797      0.000       0.110       0.346\n",
      "x53            5.9557      0.963      6.186      0.000       4.069       7.843\n",
      "x54            2.3343      1.608      1.452      0.147      -0.817       5.486\n",
      "x55            0.0204      0.025      0.812      0.417      -0.029       0.070\n",
      "x56            0.0119      0.004      3.376      0.001       0.005       0.019\n",
      "x57            0.0007      0.000      2.525      0.012       0.000       0.001\n",
      "==============================================================================\n",
      "\n",
      "Possibly complete quasi-separation: A fraction 0.26 of observations can be\n",
      "perfectly predicted. This might indicate that there is complete\n",
      "quasi-separation. In this case some parameters will not be identified.\n",
      "Confusion Matrix\n",
      "[[348  19]\n",
      " [ 32 327]]\n",
      "Confusion Matrix result - TP: 348, TN:327, FP:19, FN: 32\n"
     ]
    },
    {
     "data": {
      "image/png": "[encoded data removed]",
      "text/plain": [
       "<Figure size 432x360 with 2 Axes>"
      ]
     },
     "metadata": {},
     "output_type": "display_data"
    }
   ],
   "source": [
    "spambase_balance = loader.get_balance_dataset()\n",
    "\n",
    "df_sm_none = model_helper.run_statsmodels_logit(spambase_balance, \n",
    "                    feature_selection_type=None, verbose=True)"
   ]
  },
  {
   "cell_type": "code",
   "execution_count": 32,
   "id": "e9dc24bd-9472-4b4c-8587-fec13bd2f557",
   "metadata": {},
   "outputs": [
    {
     "data": {
      "text/html": [
       "<div>\n",
       "<style scoped>\n",
       "    .dataframe tbody tr th:only-of-type {\n",
       "        vertical-align: middle;\n",
       "    }\n",
       "\n",
       "    .dataframe tbody tr th {\n",
       "        vertical-align: top;\n",
       "    }\n",
       "\n",
       "    .dataframe thead th {\n",
       "        text-align: right;\n",
       "    }\n",
       "</style>\n",
       "<table border=\"1\" class=\"dataframe\">\n",
       "  <thead>\n",
       "    <tr style=\"text-align: right;\">\n",
       "      <th></th>\n",
       "      <th>Accuracy</th>\n",
       "      <th>Precision</th>\n",
       "      <th>Recall</th>\n",
       "      <th>F1-Score</th>\n",
       "    </tr>\n",
       "  </thead>\n",
       "  <tbody>\n",
       "    <tr>\n",
       "      <th>Score</th>\n",
       "      <td>0.929752</td>\n",
       "      <td>0.948229</td>\n",
       "      <td>0.915789</td>\n",
       "      <td>0.931727</td>\n",
       "    </tr>\n",
       "  </tbody>\n",
       "</table>\n",
       "</div>"
      ],
      "text/plain": [
       "       Accuracy  Precision    Recall  F1-Score\n",
       "Score  0.929752   0.948229  0.915789  0.931727"
      ]
     },
     "execution_count": 32,
     "metadata": {},
     "output_type": "execute_result"
    }
   ],
   "source": [
    "df_sm_none"
   ]
  },
  {
   "cell_type": "markdown",
   "id": "b5b64d86-88f7-48fe-af8e-9971304c422e",
   "metadata": {},
   "source": [
    "#### Full Dataset and Backward Elimination Technique"
   ]
  },
  {
   "cell_type": "code",
   "execution_count": 33,
   "id": "03a88ee3-265f-4fac-ab75-af48788b1fdb",
   "metadata": {},
   "outputs": [
    {
     "name": "stdout",
     "output_type": "stream",
     "text": [
      "get_full_dataset\n",
      "init Loader notebook\n",
      "The shape before feature selection: (4601, 58)\n",
      "Feature Selection using Backward Elimination\n",
      "Optimization terminated successfully.\n",
      "         Current function value: 0.197323\n",
      "         Iterations 15\n",
      "Optimization terminated successfully.\n",
      "         Current function value: 0.199514\n",
      "         Iterations 16\n",
      "Optimization terminated successfully.\n",
      "         Current function value: 0.199528\n",
      "         Iterations 16\n",
      "Optimization terminated successfully.\n",
      "         Current function value: 0.199542\n",
      "         Iterations 16\n",
      "Optimization terminated successfully.\n",
      "         Current function value: 0.199576\n",
      "         Iterations 16\n",
      "Optimization terminated successfully.\n",
      "         Current function value: 0.199597\n",
      "         Iterations 16\n",
      "Optimization terminated successfully.\n",
      "         Current function value: 0.199624\n",
      "         Iterations 16\n",
      "Optimization terminated successfully.\n",
      "         Current function value: 0.199674\n",
      "         Iterations 16\n",
      "Optimization terminated successfully.\n",
      "         Current function value: 0.199758\n",
      "         Iterations 16\n",
      "Optimization terminated successfully.\n",
      "         Current function value: 0.199829\n",
      "         Iterations 16\n",
      "Optimization terminated successfully.\n",
      "         Current function value: 0.199902\n",
      "         Iterations 16\n",
      "Optimization terminated successfully.\n",
      "         Current function value: 0.199997\n",
      "         Iterations 16\n",
      "Optimization terminated successfully.\n",
      "         Current function value: 0.200100\n",
      "         Iterations 16\n",
      "Optimization terminated successfully.\n",
      "         Current function value: 0.200192\n",
      "         Iterations 16\n",
      "Optimization terminated successfully.\n",
      "         Current function value: 0.200324\n",
      "         Iterations 16\n",
      "Optimization terminated successfully.\n",
      "         Current function value: 0.202340\n",
      "         Iterations 14\n",
      "Optimization terminated successfully.\n",
      "         Current function value: 0.202761\n",
      "         Iterations 14\n",
      "Optimization terminated successfully.\n",
      "         Current function value: 0.202999\n",
      "         Iterations 14\n",
      "Optimization terminated successfully.\n",
      "         Current function value: 0.203271\n",
      "         Iterations 14\n",
      "Optimization terminated successfully.\n",
      "         Current function value: 0.203670\n",
      "         Iterations 14\n",
      "Optimization terminated successfully.\n",
      "         Current function value: 0.204720\n",
      "         Iterations 13\n",
      "Optimization terminated successfully.\n",
      "         Current function value: 0.205019\n",
      "         Iterations 13\n",
      "Optimization terminated successfully.\n",
      "         Current function value: 0.205606\n",
      "         Iterations 13\n",
      "Optimization terminated successfully.\n",
      "         Current function value: 0.206639\n",
      "         Iterations 13\n",
      "Optimization terminated successfully.\n",
      "         Current function value: 0.207128\n",
      "         Iterations 13\n",
      "Optimization terminated successfully.\n",
      "         Current function value: 0.207569\n",
      "         Iterations 13\n",
      "The shape after feature selection: (4601, 33)\n",
      "Optimization terminated successfully.\n",
      "         Current function value: 0.201443\n",
      "         Iterations 14\n"
     ]
    },
    {
     "data": {
      "text/html": [
       "<div>\n",
       "<style scoped>\n",
       "    .dataframe tbody tr th:only-of-type {\n",
       "        vertical-align: middle;\n",
       "    }\n",
       "\n",
       "    .dataframe tbody tr th {\n",
       "        vertical-align: top;\n",
       "    }\n",
       "\n",
       "    .dataframe thead th {\n",
       "        text-align: right;\n",
       "    }\n",
       "</style>\n",
       "<table border=\"1\" class=\"dataframe\">\n",
       "  <thead>\n",
       "    <tr style=\"text-align: right;\">\n",
       "      <th></th>\n",
       "      <th>Accuracy</th>\n",
       "      <th>Precision</th>\n",
       "      <th>Recall</th>\n",
       "      <th>F1-Score</th>\n",
       "    </tr>\n",
       "  </thead>\n",
       "  <tbody>\n",
       "    <tr>\n",
       "      <th>Score</th>\n",
       "      <td>0.932682</td>\n",
       "      <td>0.955437</td>\n",
       "      <td>0.935428</td>\n",
       "      <td>0.945326</td>\n",
       "    </tr>\n",
       "  </tbody>\n",
       "</table>\n",
       "</div>"
      ],
      "text/plain": [
       "       Accuracy  Precision    Recall  F1-Score\n",
       "Score  0.932682   0.955437  0.935428  0.945326"
      ]
     },
     "execution_count": 33,
     "metadata": {},
     "output_type": "execute_result"
    }
   ],
   "source": [
    "spambase_full = loader.get_full_dataset()\n",
    "\n",
    "df_sm_full_stepwise = model_helper.run_statsmodels_logit(spambase_full, \n",
    "                    feature_selection_type='stepwise_back', verbose=False)\n",
    "df_sm_full_stepwise"
   ]
  },
  {
   "cell_type": "markdown",
   "id": "30029940-e7fc-4535-8bbb-57c08b1cd9fe",
   "metadata": {},
   "source": [
    "#### Full Dataset and Pearson Correlation"
   ]
  },
  {
   "cell_type": "code",
   "execution_count": 34,
   "id": "85450534-f9e0-4079-a6de-599e1e8bbc4c",
   "metadata": {},
   "outputs": [
    {
     "name": "stdout",
     "output_type": "stream",
     "text": [
      "get_full_dataset\n",
      "init Loader notebook\n",
      "The shape before feature selection: (4601, 58)\n",
      "Feature Selection using Person Correlation\n",
      "The shape after feature selection: (4601, 19)\n",
      "Optimization terminated successfully.\n",
      "         Current function value: 0.279534\n",
      "         Iterations 10\n"
     ]
    },
    {
     "data": {
      "text/html": [
       "<div>\n",
       "<style scoped>\n",
       "    .dataframe tbody tr th:only-of-type {\n",
       "        vertical-align: middle;\n",
       "    }\n",
       "\n",
       "    .dataframe tbody tr th {\n",
       "        vertical-align: top;\n",
       "    }\n",
       "\n",
       "    .dataframe thead th {\n",
       "        text-align: right;\n",
       "    }\n",
       "</style>\n",
       "<table border=\"1\" class=\"dataframe\">\n",
       "  <thead>\n",
       "    <tr style=\"text-align: right;\">\n",
       "      <th></th>\n",
       "      <th>Accuracy</th>\n",
       "      <th>Precision</th>\n",
       "      <th>Recall</th>\n",
       "      <th>F1-Score</th>\n",
       "    </tr>\n",
       "  </thead>\n",
       "  <tbody>\n",
       "    <tr>\n",
       "      <th>Score</th>\n",
       "      <td>0.892508</td>\n",
       "      <td>0.948307</td>\n",
       "      <td>0.883721</td>\n",
       "      <td>0.914875</td>\n",
       "    </tr>\n",
       "  </tbody>\n",
       "</table>\n",
       "</div>"
      ],
      "text/plain": [
       "       Accuracy  Precision    Recall  F1-Score\n",
       "Score  0.892508   0.948307  0.883721  0.914875"
      ]
     },
     "execution_count": 34,
     "metadata": {},
     "output_type": "execute_result"
    }
   ],
   "source": [
    "spambase_full = loader.get_full_dataset()\n",
    "\n",
    "df_sm_full_pearson = model_helper.run_statsmodels_logit(spambase_full, \n",
    "                    feature_selection_type='pearson', verbose=False)\n",
    "df_sm_full_pearson"
   ]
  },
  {
   "cell_type": "markdown",
   "id": "4f872afd-253d-46d7-b897-d1266aa2bf55",
   "metadata": {},
   "source": [
    "#### Full Dataset and Chi-squared"
   ]
  },
  {
   "cell_type": "code",
   "execution_count": 35,
   "id": "f1691762-f711-4a05-8718-a2071e44d974",
   "metadata": {},
   "outputs": [
    {
     "name": "stdout",
     "output_type": "stream",
     "text": [
      "get_full_dataset\n",
      "init Loader notebook\n",
      "The shape before feature selection: (4601, 58)\n",
      "Feature Selection using Chi-squared\n",
      "The shape after feature selection: (4601, 19)\n",
      "Optimization terminated successfully.\n",
      "         Current function value: 0.237301\n",
      "         Iterations 15\n"
     ]
    },
    {
     "data": {
      "text/html": [
       "<div>\n",
       "<style scoped>\n",
       "    .dataframe tbody tr th:only-of-type {\n",
       "        vertical-align: middle;\n",
       "    }\n",
       "\n",
       "    .dataframe tbody tr th {\n",
       "        vertical-align: top;\n",
       "    }\n",
       "\n",
       "    .dataframe thead th {\n",
       "        text-align: right;\n",
       "    }\n",
       "</style>\n",
       "<table border=\"1\" class=\"dataframe\">\n",
       "  <thead>\n",
       "    <tr style=\"text-align: right;\">\n",
       "      <th></th>\n",
       "      <th>Accuracy</th>\n",
       "      <th>Precision</th>\n",
       "      <th>Recall</th>\n",
       "      <th>F1-Score</th>\n",
       "    </tr>\n",
       "  </thead>\n",
       "  <tbody>\n",
       "    <tr>\n",
       "      <th>Score</th>\n",
       "      <td>0.919653</td>\n",
       "      <td>0.948307</td>\n",
       "      <td>0.92201</td>\n",
       "      <td>0.934974</td>\n",
       "    </tr>\n",
       "  </tbody>\n",
       "</table>\n",
       "</div>"
      ],
      "text/plain": [
       "       Accuracy  Precision   Recall  F1-Score\n",
       "Score  0.919653   0.948307  0.92201  0.934974"
      ]
     },
     "execution_count": 35,
     "metadata": {},
     "output_type": "execute_result"
    }
   ],
   "source": [
    "spambase_full = loader.get_full_dataset()\n",
    "\n",
    "df_sm_full_chi2 = model_helper.run_statsmodels_logit(spambase_full, \n",
    "                    feature_selection_type='chi2', verbose=False)\n",
    "df_sm_full_chi2"
   ]
  },
  {
   "cell_type": "markdown",
   "id": "c794b072-9e83-4dd4-813e-91b3179a5fe1",
   "metadata": {},
   "source": [
    "#### Full Dataset without Feature Selection"
   ]
  },
  {
   "cell_type": "code",
   "execution_count": 36,
   "id": "74a7788d-56d1-4a7b-a930-29e9e7f4a22c",
   "metadata": {},
   "outputs": [
    {
     "name": "stdout",
     "output_type": "stream",
     "text": [
      "get_full_dataset\n",
      "Warning: Maximum number of iterations has been exceeded.\n",
      "         Current function value: 0.191737\n",
      "         Iterations: 35\n"
     ]
    },
    {
     "name": "stderr",
     "output_type": "stream",
     "text": [
      "D:\\x-20a\\anaconda3\\lib\\site-packages\\statsmodels\\base\\model.py:566: ConvergenceWarning: Maximum Likelihood optimization failed to converge. Check mle_retvals\n",
      "  warnings.warn(\"Maximum Likelihood optimization failed to \"\n"
     ]
    },
    {
     "data": {
      "text/html": [
       "<div>\n",
       "<style scoped>\n",
       "    .dataframe tbody tr th:only-of-type {\n",
       "        vertical-align: middle;\n",
       "    }\n",
       "\n",
       "    .dataframe tbody tr th {\n",
       "        vertical-align: top;\n",
       "    }\n",
       "\n",
       "    .dataframe thead th {\n",
       "        text-align: right;\n",
       "    }\n",
       "</style>\n",
       "<table border=\"1\" class=\"dataframe\">\n",
       "  <thead>\n",
       "    <tr style=\"text-align: right;\">\n",
       "      <th></th>\n",
       "      <th>Accuracy</th>\n",
       "      <th>Precision</th>\n",
       "      <th>Recall</th>\n",
       "      <th>F1-Score</th>\n",
       "    </tr>\n",
       "  </thead>\n",
       "  <tbody>\n",
       "    <tr>\n",
       "      <th>Score</th>\n",
       "      <td>0.926167</td>\n",
       "      <td>0.942959</td>\n",
       "      <td>0.936283</td>\n",
       "      <td>0.939609</td>\n",
       "    </tr>\n",
       "  </tbody>\n",
       "</table>\n",
       "</div>"
      ],
      "text/plain": [
       "       Accuracy  Precision    Recall  F1-Score\n",
       "Score  0.926167   0.942959  0.936283  0.939609"
      ]
     },
     "execution_count": 36,
     "metadata": {},
     "output_type": "execute_result"
    }
   ],
   "source": [
    "spambase_full = loader.get_full_dataset()\n",
    "\n",
    "df_sm_full_none = model_helper.run_statsmodels_logit(spambase_full, \n",
    "                    feature_selection_type=None, verbose=False)\n",
    "df_sm_full_none"
   ]
  },
  {
   "cell_type": "markdown",
   "id": "f8ae8dba-0f79-4492-8214-7c7153f74560",
   "metadata": {},
   "source": [
    "### Result"
   ]
  },
  {
   "cell_type": "code",
   "execution_count": 37,
   "id": "7de22d9c-0014-4837-b9f9-043b377a52d2",
   "metadata": {},
   "outputs": [],
   "source": [
    "df_bal_sm_merged = pd.concat([df_sm_stepwise_back, df_sm_pearson, df_sm_chi2, df_sm_none])\n",
    "\n",
    "as_bal_list = df_bal_sm_merged.index.tolist()\n",
    "\n",
    "as_bal_list[0] = 'Balance dataset and Backward Elimination'\n",
    "as_bal_list[1] = 'Balance dataset and Pearson Correlation'\n",
    "as_bal_list[2] = 'Balance dataset and Chi-squared'\n",
    "as_bal_list[3] = 'Balance dataset without Feature Selection'\n",
    "df_bal_sm_merged.index = as_bal_list"
   ]
  },
  {
   "cell_type": "code",
   "execution_count": 38,
   "id": "57a50ecd-41ee-496b-b02c-43cdac39b3aa",
   "metadata": {},
   "outputs": [],
   "source": [
    "df_full_sm_merged = pd.concat([df_sm_full_stepwise, df_sm_full_pearson, df_sm_full_chi2, df_sm_full_none])\n",
    "\n",
    "as_full_list = df_full_sm_merged.index.tolist()\n",
    "\n",
    "as_full_list[0] = 'Full dataset and Backward Elimination'\n",
    "as_full_list[1] = 'Full dataset and Pearson Correlation'\n",
    "as_full_list[2] = 'Full dataset and Chi-squared'\n",
    "as_full_list[3] = 'Full dataset without Feature Selection'\n",
    "df_full_sm_merged.index = as_full_list"
   ]
  },
  {
   "cell_type": "markdown",
   "id": "2c649276-2556-418e-8a0f-f7a21ae76717",
   "metadata": {},
   "source": [
    "#### Balance Dataset"
   ]
  },
  {
   "cell_type": "code",
   "execution_count": 39,
   "id": "7f597888-37e1-46e6-91fd-6ada10b3331a",
   "metadata": {},
   "outputs": [
    {
     "data": {
      "text/html": [
       "<div>\n",
       "<style scoped>\n",
       "    .dataframe tbody tr th:only-of-type {\n",
       "        vertical-align: middle;\n",
       "    }\n",
       "\n",
       "    .dataframe tbody tr th {\n",
       "        vertical-align: top;\n",
       "    }\n",
       "\n",
       "    .dataframe thead th {\n",
       "        text-align: right;\n",
       "    }\n",
       "</style>\n",
       "<table border=\"1\" class=\"dataframe\">\n",
       "  <thead>\n",
       "    <tr style=\"text-align: right;\">\n",
       "      <th></th>\n",
       "      <th>Accuracy</th>\n",
       "      <th>Precision</th>\n",
       "      <th>Recall</th>\n",
       "      <th>F1-Score</th>\n",
       "    </tr>\n",
       "  </thead>\n",
       "  <tbody>\n",
       "    <tr>\n",
       "      <th>Balance dataset and Backward Elimination</th>\n",
       "      <td>0.938017</td>\n",
       "      <td>0.961853</td>\n",
       "      <td>0.919271</td>\n",
       "      <td>0.940080</td>\n",
       "    </tr>\n",
       "    <tr>\n",
       "      <th>Balance dataset without Feature Selection</th>\n",
       "      <td>0.929752</td>\n",
       "      <td>0.948229</td>\n",
       "      <td>0.915789</td>\n",
       "      <td>0.931727</td>\n",
       "    </tr>\n",
       "    <tr>\n",
       "      <th>Balance dataset and Chi-squared</th>\n",
       "      <td>0.915978</td>\n",
       "      <td>0.945504</td>\n",
       "      <td>0.894330</td>\n",
       "      <td>0.919205</td>\n",
       "    </tr>\n",
       "    <tr>\n",
       "      <th>Balance dataset and Pearson Correlation</th>\n",
       "      <td>0.906336</td>\n",
       "      <td>0.931880</td>\n",
       "      <td>0.888312</td>\n",
       "      <td>0.909574</td>\n",
       "    </tr>\n",
       "  </tbody>\n",
       "</table>\n",
       "</div>"
      ],
      "text/plain": [
       "                                           Accuracy  Precision    Recall  \\\n",
       "Balance dataset and Backward Elimination   0.938017   0.961853  0.919271   \n",
       "Balance dataset without Feature Selection  0.929752   0.948229  0.915789   \n",
       "Balance dataset and Chi-squared            0.915978   0.945504  0.894330   \n",
       "Balance dataset and Pearson Correlation    0.906336   0.931880  0.888312   \n",
       "\n",
       "                                           F1-Score  \n",
       "Balance dataset and Backward Elimination   0.940080  \n",
       "Balance dataset without Feature Selection  0.931727  \n",
       "Balance dataset and Chi-squared            0.919205  \n",
       "Balance dataset and Pearson Correlation    0.909574  "
      ]
     },
     "execution_count": 39,
     "metadata": {},
     "output_type": "execute_result"
    }
   ],
   "source": [
    "df_bal_sm_merged = df_bal_sm_merged.sort_values('F1-Score', ascending=False)\n",
    "df_bal_sm_merged"
   ]
  },
  {
   "cell_type": "markdown",
   "id": "ddc767f8-8144-42fe-b5d9-0ee15bea8dc5",
   "metadata": {},
   "source": [
    "#### Full Dataset"
   ]
  },
  {
   "cell_type": "code",
   "execution_count": 40,
   "id": "ec6788de-012e-4ba8-a871-0ccee80c0a75",
   "metadata": {},
   "outputs": [
    {
     "data": {
      "text/html": [
       "<div>\n",
       "<style scoped>\n",
       "    .dataframe tbody tr th:only-of-type {\n",
       "        vertical-align: middle;\n",
       "    }\n",
       "\n",
       "    .dataframe tbody tr th {\n",
       "        vertical-align: top;\n",
       "    }\n",
       "\n",
       "    .dataframe thead th {\n",
       "        text-align: right;\n",
       "    }\n",
       "</style>\n",
       "<table border=\"1\" class=\"dataframe\">\n",
       "  <thead>\n",
       "    <tr style=\"text-align: right;\">\n",
       "      <th></th>\n",
       "      <th>Accuracy</th>\n",
       "      <th>Precision</th>\n",
       "      <th>Recall</th>\n",
       "      <th>F1-Score</th>\n",
       "    </tr>\n",
       "  </thead>\n",
       "  <tbody>\n",
       "    <tr>\n",
       "      <th>Full dataset and Backward Elimination</th>\n",
       "      <td>0.932682</td>\n",
       "      <td>0.955437</td>\n",
       "      <td>0.935428</td>\n",
       "      <td>0.945326</td>\n",
       "    </tr>\n",
       "    <tr>\n",
       "      <th>Full dataset without Feature Selection</th>\n",
       "      <td>0.926167</td>\n",
       "      <td>0.942959</td>\n",
       "      <td>0.936283</td>\n",
       "      <td>0.939609</td>\n",
       "    </tr>\n",
       "    <tr>\n",
       "      <th>Full dataset and Chi-squared</th>\n",
       "      <td>0.919653</td>\n",
       "      <td>0.948307</td>\n",
       "      <td>0.922010</td>\n",
       "      <td>0.934974</td>\n",
       "    </tr>\n",
       "    <tr>\n",
       "      <th>Full dataset and Pearson Correlation</th>\n",
       "      <td>0.892508</td>\n",
       "      <td>0.948307</td>\n",
       "      <td>0.883721</td>\n",
       "      <td>0.914875</td>\n",
       "    </tr>\n",
       "  </tbody>\n",
       "</table>\n",
       "</div>"
      ],
      "text/plain": [
       "                                        Accuracy  Precision    Recall  \\\n",
       "Full dataset and Backward Elimination   0.932682   0.955437  0.935428   \n",
       "Full dataset without Feature Selection  0.926167   0.942959  0.936283   \n",
       "Full dataset and Chi-squared            0.919653   0.948307  0.922010   \n",
       "Full dataset and Pearson Correlation    0.892508   0.948307  0.883721   \n",
       "\n",
       "                                        F1-Score  \n",
       "Full dataset and Backward Elimination   0.945326  \n",
       "Full dataset without Feature Selection  0.939609  \n",
       "Full dataset and Chi-squared            0.934974  \n",
       "Full dataset and Pearson Correlation    0.914875  "
      ]
     },
     "execution_count": 40,
     "metadata": {},
     "output_type": "execute_result"
    }
   ],
   "source": [
    "df_full_sm_merged = df_full_sm_merged.sort_values('F1-Score', ascending=False)\n",
    "df_full_sm_merged"
   ]
  },
  {
   "cell_type": "markdown",
   "id": "b5706eeb-99f8-40ca-b41f-ddcdfd55c59d",
   "metadata": {},
   "source": [
    "## Conclusion"
   ]
  },
  {
   "cell_type": "markdown",
   "id": "3ce7b6b0-1cdc-45c8-8146-c656bc0becc7",
   "metadata": {},
   "source": [
    "The balance dataset without feature selection produce better result compared to other models."
   ]
  },
  {
   "cell_type": "code",
   "execution_count": null,
   "id": "9e3137bf-7a1b-44f7-9303-4dc5041ab920",
   "metadata": {},
   "outputs": [],
   "source": []
  }
 ],
 "metadata": {
  "kernelspec": {
   "display_name": "Python 3",
   "language": "python",
   "name": "python3"
  },
  "language_info": {
   "codemirror_mode": {
    "name": "ipython",
    "version": 3
   },
   "file_extension": ".py",
   "mimetype": "text/x-python",
   "name": "python",
   "nbconvert_exporter": "python",
   "pygments_lexer": "ipython3",
   "version": "3.8.8"
  }
 },
 "nbformat": 4,
 "nbformat_minor": 5
}
